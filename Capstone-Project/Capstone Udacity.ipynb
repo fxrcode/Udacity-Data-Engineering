{
 "cells": [
  {
   "cell_type": "markdown",
   "metadata": {
    "editable": true
   },
   "source": [
    "# Project Title\n",
    "### Data Engineering Capstone Project\n",
    "\n",
    "#### Project Summary\n",
    "--describe your project at a high level--\n",
    "\n",
    "The project follows the follow steps:\n",
    "* Step 1: Scope the Project and Gather Data\n",
    "* Step 2: Explore and Assess the Data\n",
    "* Step 3: Define the Data Model\n",
    "* Step 4: Run ETL to Model the Data\n",
    "* Step 5: Complete Project Write Up"
   ]
  },
  {
   "cell_type": "code",
   "execution_count": 1,
   "metadata": {
    "editable": true
   },
   "outputs": [],
   "source": [
    "# Do all imports and installs here\n",
    "import logging\n",
    "import numpy as np\n",
    "import pandas as pd\n",
    "import psycopg2\n",
    "from pprint import pprint\n",
    "import configparser\n",
    "import psycopg2\n",
    "import pandas as pd\n",
    "pd.set_option('display.max_columns', None)\n",
    "import os\n",
    "from pyspark.sql import SparkSession, DataFrame\n",
    "from pyspark.sql.types import StructType as R, StructField as Fld, DoubleType as Dbl, StringType as Str, IntegerType as Int, DateType as Date\n",
    "from collections import OrderedDict \n",
    "from datetime import datetime, timedelta\n",
    "\n",
    "logging.basicConfig(level=logging.INFO, format='%(asctime)s %(levelname)s  [%(name)s] %(message)s')\n",
    "LOG = logging.getLogger('etl')"
   ]
  },
  {
   "cell_type": "markdown",
   "metadata": {
    "editable": true
   },
   "source": [
    "### Step 1: Scope the Project and Gather Data\n",
    "\n",
    "#### Scope \n",
    "Explain what you plan to do in the project in more detail. What data do you use? What is your end solution look like? What tools did you use? etc>\n",
    "\n",
    "#### Describe and Gather Data \n",
    "Describe the data sets you're using. Where did it come from? What type of information is included? "
   ]
  },
  {
   "cell_type": "code",
   "execution_count": 2,
   "metadata": {
    "editable": true
   },
   "outputs": [
    {
     "name": "stdout",
     "output_type": "stream",
     "text": [
      "['cicid',\n",
      " 'i94yr',\n",
      " 'i94mon',\n",
      " 'i94cit',\n",
      " 'i94res',\n",
      " 'i94port',\n",
      " 'arrdate',\n",
      " 'i94mode',\n",
      " 'i94addr',\n",
      " 'depdate',\n",
      " 'i94bir',\n",
      " 'i94visa',\n",
      " 'count',\n",
      " 'dtadfile',\n",
      " 'visapost',\n",
      " 'occup',\n",
      " 'entdepa',\n",
      " 'entdepd',\n",
      " 'entdepu',\n",
      " 'matflag',\n",
      " 'biryear',\n",
      " 'dtaddto',\n",
      " 'gender',\n",
      " 'insnum',\n",
      " 'airline',\n",
      " 'admnum',\n",
      " 'fltno',\n",
      " 'visatype']\n"
     ]
    }
   ],
   "source": [
    "# Read in the data here\n",
    "imm_sample = pd.read_csv('./immigration_data_sample.csv')\n",
    "imm_sample.head()\n",
    "imm_header = list(imm_sample.head(0))\n",
    "imm_header = imm_header[1:]\n",
    "pprint(imm_header)"
   ]
  },
  {
   "cell_type": "code",
   "execution_count": 3,
   "metadata": {
    "editable": true
   },
   "outputs": [],
   "source": [
    "# .config(\"spark.jars.packages\",\"org.apache.hadoop:hadoop-aws:2.7.0\") \\\n",
    "from pyspark.sql import SparkSession\n",
    "spark = SparkSession.builder \\\n",
    "                     .config(\"spark.jars.packages\", \"saurfang:spark-sas7bdat:3.0.0-s_2.12\") \\\n",
    "                    .enableHiveSupport() \\\n",
    "                    .getOrCreate()\n",
    "# df_spark =spark.read.format('com.github.saurfang.sas.spark').load('../../data/18-83510-I94-Data-2016/i94_apr16_sub.sas7bdat')"
   ]
  },
  {
   "cell_type": "code",
   "execution_count": 4,
   "metadata": {
    "editable": true
   },
   "outputs": [],
   "source": [
    "#write to parquet\n",
    "# df_spark.write.parquet(\"sas_data\")\n",
    "# df_spark=spark.read.parquet(\"sas_data\")"
   ]
  },
  {
   "cell_type": "markdown",
   "metadata": {
    "editable": true
   },
   "source": [
    "### Step 2: Explore and Assess the Data\n",
    "#### Explore the Data \n",
    "Identify data quality issues, like missing values, duplicate data, etc.\n",
    "\n",
    "#### Cleaning Steps\n",
    "Document steps necessary to clean the data"
   ]
  },
  {
   "cell_type": "markdown",
   "metadata": {
    "editable": true
   },
   "source": [
    "# Performing cleaning tasks here\n",
    "* Checkout i94 2016 data\n",
    "* Checkout demographics data\n",
    "* Checkout airport data\n",
    "* Checkout temperature data"
   ]
  },
  {
   "cell_type": "markdown",
   "metadata": {
    "editable": true
   },
   "source": [
    "## i94 data"
   ]
  },
  {
   "cell_type": "code",
   "execution_count": 5,
   "metadata": {
    "editable": true
   },
   "outputs": [],
   "source": [
    "i94_fnames=['./data/18-83510-I94-Data-2016/i94_jan16_sub.sas7bdat',\n",
    "            './data/18-83510-I94-Data-2016/i94_feb16_sub.sas7bdat',\n",
    "            './data/18-83510-I94-Data-2016/i94_mar16_sub.sas7bdat',\n",
    "            './data/18-83510-I94-Data-2016/i94_apr16_sub.sas7bdat',\n",
    "            './data/18-83510-I94-Data-2016/i94_may16_sub.sas7bdat',\n",
    "            './data/18-83510-I94-Data-2016/i94_jun16_sub.sas7bdat',\n",
    "            './data/18-83510-I94-Data-2016/i94_jul16_sub.sas7bdat',\n",
    "            './data/18-83510-I94-Data-2016/i94_aug16_sub.sas7bdat',\n",
    "            './data/18-83510-I94-Data-2016/i94_sep16_sub.sas7bdat',\n",
    "            './data/18-83510-I94-Data-2016/i94_oct16_sub.sas7bdat',\n",
    "            './data/18-83510-I94-Data-2016/i94_nov16_sub.sas7bdat',\n",
    "            './data/18-83510-I94-Data-2016/i94_dec16_sub.sas7bdat']"
   ]
  },
  {
   "cell_type": "code",
   "execution_count": 6,
   "metadata": {
    "editable": true
   },
   "outputs": [
    {
     "name": "stdout",
     "output_type": "stream",
     "text": [
      "i94_jan16_sub.sas7bdat\n",
      "i94_feb16_sub.sas7bdat\n",
      "i94_mar16_sub.sas7bdat\n",
      "i94_apr16_sub.sas7bdat\n",
      "i94_may16_sub.sas7bdat\n",
      "i94_jun16_sub.sas7bdat\n",
      "i94_jul16_sub.sas7bdat\n",
      "i94_aug16_sub.sas7bdat\n",
      "i94_sep16_sub.sas7bdat\n",
      "i94_oct16_sub.sas7bdat\n",
      "i94_nov16_sub.sas7bdat\n",
      "i94_dec16_sub.sas7bdat\n"
     ]
    }
   ],
   "source": [
    "# Examine i94 data\n",
    "df_i94s = OrderedDict() \n",
    "for f in i94_fnames:\n",
    "    fname = os.path.basename(f)\n",
    "    print(fname)\n",
    "    d = spark.read.format('com.github.saurfang.sas.spark').load(f)\n",
    "    df_i94s[fname] = d\n",
    "#     df_i.printSchema()\n",
    "#     df_i.show(1)"
   ]
  },
  {
   "cell_type": "code",
   "execution_count": 7,
   "metadata": {
    "collapsed": true,
    "editable": true,
    "jupyter": {
     "outputs_hidden": true
    }
   },
   "outputs": [
    {
     "name": "stderr",
     "output_type": "stream",
     "text": [
      "2020-09-29 23:53:19,117 INFO  [etl] i94 fname: i94_jan16_sub.sas7bdat, df: DataFrame[cicid: double, i94yr: double, i94mon: double, i94cit: double, i94res: double, i94port: string, arrdate: double, i94mode: double, i94addr: string, depdate: double, i94bir: double, i94visa: double, count: double, dtadfile: string, visapost: string, occup: string, entdepa: string, entdepd: string, entdepu: string, matflag: string, biryear: double, dtaddto: string, gender: string, insnum: string, airline: string, admnum: double, fltno: string, visatype: string]\n",
      "2020-09-29 23:53:19,140 INFO  [etl] i94 fname: i94_feb16_sub.sas7bdat, df: DataFrame[cicid: double, i94yr: double, i94mon: double, i94cit: double, i94res: double, i94port: string, arrdate: double, i94mode: double, i94addr: string, depdate: double, i94bir: double, i94visa: double, count: double, dtadfile: string, visapost: string, occup: string, entdepa: string, entdepd: string, entdepu: string, matflag: string, biryear: double, dtaddto: string, gender: string, insnum: string, airline: string, admnum: double, fltno: string, visatype: string]\n",
      "2020-09-29 23:53:19,150 INFO  [etl] i94 fname: i94_mar16_sub.sas7bdat, df: DataFrame[cicid: double, i94yr: double, i94mon: double, i94cit: double, i94res: double, i94port: string, arrdate: double, i94mode: double, i94addr: string, depdate: double, i94bir: double, i94visa: double, count: double, dtadfile: string, visapost: string, occup: string, entdepa: string, entdepd: string, entdepu: string, matflag: string, biryear: double, dtaddto: string, gender: string, insnum: string, airline: string, admnum: double, fltno: string, visatype: string]\n",
      "2020-09-29 23:53:19,162 INFO  [etl] i94 fname: i94_apr16_sub.sas7bdat, df: DataFrame[cicid: double, i94yr: double, i94mon: double, i94cit: double, i94res: double, i94port: string, arrdate: double, i94mode: double, i94addr: string, depdate: double, i94bir: double, i94visa: double, count: double, dtadfile: string, visapost: string, occup: string, entdepa: string, entdepd: string, entdepu: string, matflag: string, biryear: double, dtaddto: string, gender: string, insnum: string, airline: string, admnum: double, fltno: string, visatype: string]\n",
      "2020-09-29 23:53:19,170 INFO  [etl] i94 fname: i94_may16_sub.sas7bdat, df: DataFrame[cicid: double, i94yr: double, i94mon: double, i94cit: double, i94res: double, i94port: string, arrdate: double, i94mode: double, i94addr: string, depdate: double, i94bir: double, i94visa: double, count: double, dtadfile: string, visapost: string, occup: string, entdepa: string, entdepd: string, entdepu: string, matflag: string, biryear: double, dtaddto: string, gender: string, insnum: string, airline: string, admnum: double, fltno: string, visatype: string]\n",
      "2020-09-29 23:53:19,178 INFO  [etl] i94 fname: i94_jun16_sub.sas7bdat, df: DataFrame[cicid: double, i94yr: double, i94mon: double, i94cit: double, i94res: double, i94port: string, arrdate: double, i94mode: double, i94addr: string, depdate: double, i94bir: double, i94visa: double, count: double, validres: double, delete_days: double, delete_mexl: double, delete_dup: double, delete_visa: double, delete_recdup: double, dtadfile: string, visapost: string, occup: string, entdepa: string, entdepd: string, entdepu: string, matflag: string, biryear: double, dtaddto: string, gender: string, insnum: string, airline: string, admnum: double, fltno: string, visatype: string]\n",
      "2020-09-29 23:53:19,183 INFO  [etl] i94 fname: i94_jul16_sub.sas7bdat, df: DataFrame[cicid: double, i94yr: double, i94mon: double, i94cit: double, i94res: double, i94port: string, arrdate: double, i94mode: double, i94addr: string, depdate: double, i94bir: double, i94visa: double, count: double, dtadfile: string, visapost: string, occup: string, entdepa: string, entdepd: string, entdepu: string, matflag: string, biryear: double, dtaddto: string, gender: string, insnum: string, airline: string, admnum: double, fltno: string, visatype: string]\n",
      "2020-09-29 23:53:19,186 INFO  [etl] i94 fname: i94_aug16_sub.sas7bdat, df: DataFrame[cicid: double, i94yr: double, i94mon: double, i94cit: double, i94res: double, i94port: string, arrdate: double, i94mode: double, i94addr: string, depdate: double, i94bir: double, i94visa: double, count: double, dtadfile: string, visapost: string, occup: string, entdepa: string, entdepd: string, entdepu: string, matflag: string, biryear: double, dtaddto: string, gender: string, insnum: string, airline: string, admnum: double, fltno: string, visatype: string]\n",
      "2020-09-29 23:53:19,194 INFO  [etl] i94 fname: i94_sep16_sub.sas7bdat, df: DataFrame[cicid: double, i94yr: double, i94mon: double, i94cit: double, i94res: double, i94port: string, arrdate: double, i94mode: double, i94addr: string, depdate: double, i94bir: double, i94visa: double, count: double, dtadfile: string, visapost: string, occup: string, entdepa: string, entdepd: string, entdepu: string, matflag: string, biryear: double, dtaddto: string, gender: string, insnum: string, airline: string, admnum: double, fltno: string, visatype: string]\n",
      "2020-09-29 23:53:19,201 INFO  [etl] i94 fname: i94_oct16_sub.sas7bdat, df: DataFrame[cicid: double, i94yr: double, i94mon: double, i94cit: double, i94res: double, i94port: string, arrdate: double, i94mode: double, i94addr: string, depdate: double, i94bir: double, i94visa: double, count: double, dtadfile: string, visapost: string, occup: string, entdepa: string, entdepd: string, entdepu: string, matflag: string, biryear: double, dtaddto: string, gender: string, insnum: string, airline: string, admnum: double, fltno: string, visatype: string]\n",
      "2020-09-29 23:53:19,207 INFO  [etl] i94 fname: i94_nov16_sub.sas7bdat, df: DataFrame[cicid: double, i94yr: double, i94mon: double, i94cit: double, i94res: double, i94port: string, arrdate: double, i94mode: double, i94addr: string, depdate: double, i94bir: double, i94visa: double, count: double, dtadfile: string, visapost: string, occup: string, entdepa: string, entdepd: string, entdepu: string, matflag: string, biryear: double, dtaddto: string, gender: string, insnum: string, airline: string, admnum: double, fltno: string, visatype: string]\n",
      "2020-09-29 23:53:19,210 INFO  [etl] i94 fname: i94_dec16_sub.sas7bdat, df: DataFrame[cicid: double, i94yr: double, i94mon: double, i94cit: double, i94res: double, i94port: string, arrdate: double, i94mode: double, i94addr: string, depdate: double, i94bir: double, i94visa: double, count: double, dtadfile: string, visapost: string, occup: string, entdepa: string, entdepd: string, entdepu: string, matflag: string, biryear: double, dtaddto: string, gender: string, insnum: string, airline: string, admnum: double, fltno: string, visatype: string]\n"
     ]
    }
   ],
   "source": [
    "for k, v in df_i94s.items():\n",
    "#     df.printSchema()\n",
    "    LOG.info(f\"i94 fname: {k}, df: {v}\")\n",
    "# DataFrame[cicid: double, i94yr: double, i94mon: double, i94cit: double, i94res: double, i94port: string, arrdate: double, i94mode: double, i94addr: string, depdate: double, i94bir: double, i94visa: double, count: double, dtadfile: string, visapost: string, occup: string, entdepa: string, entdepd: string, entdepu: string, matflag: string, biryear: double, dtaddto: string, gender: string, insnum: string, airline: string, admnum: double, fltno: string, visatype: string]"
   ]
  },
  {
   "cell_type": "code",
   "execution_count": 8,
   "metadata": {
    "collapsed": true,
    "editable": true,
    "jupyter": {
     "outputs_hidden": true
    }
   },
   "outputs": [
    {
     "name": "stdout",
     "output_type": "stream",
     "text": [
      "root\n",
      " |-- cicid: double (nullable = true)\n",
      " |-- i94yr: double (nullable = true)\n",
      " |-- i94mon: double (nullable = true)\n",
      " |-- i94cit: double (nullable = true)\n",
      " |-- i94res: double (nullable = true)\n",
      " |-- i94port: string (nullable = true)\n",
      " |-- arrdate: double (nullable = true)\n",
      " |-- i94mode: double (nullable = true)\n",
      " |-- i94addr: string (nullable = true)\n",
      " |-- depdate: double (nullable = true)\n",
      " |-- i94bir: double (nullable = true)\n",
      " |-- i94visa: double (nullable = true)\n",
      " |-- count: double (nullable = true)\n",
      " |-- validres: double (nullable = true)\n",
      " |-- delete_days: double (nullable = true)\n",
      " |-- delete_mexl: double (nullable = true)\n",
      " |-- delete_dup: double (nullable = true)\n",
      " |-- delete_visa: double (nullable = true)\n",
      " |-- delete_recdup: double (nullable = true)\n",
      " |-- dtadfile: string (nullable = true)\n",
      " |-- visapost: string (nullable = true)\n",
      " |-- occup: string (nullable = true)\n",
      " |-- entdepa: string (nullable = true)\n",
      " |-- entdepd: string (nullable = true)\n",
      " |-- entdepu: string (nullable = true)\n",
      " |-- matflag: string (nullable = true)\n",
      " |-- biryear: double (nullable = true)\n",
      " |-- dtaddto: string (nullable = true)\n",
      " |-- gender: string (nullable = true)\n",
      " |-- insnum: string (nullable = true)\n",
      " |-- airline: string (nullable = true)\n",
      " |-- admnum: double (nullable = true)\n",
      " |-- fltno: string (nullable = true)\n",
      " |-- visatype: string (nullable = true)\n",
      "\n",
      "+-----+------+------+------+------+-------+-------+-------+-------+-------+------+-------+-----+--------+-----------+-----------+----------+-----------+-------------+--------+--------+-----+-------+-------+-------+-------+-------+--------+------+------+-------+---------------+-----+--------+\n",
      "|cicid| i94yr|i94mon|i94cit|i94res|i94port|arrdate|i94mode|i94addr|depdate|i94bir|i94visa|count|validres|delete_days|delete_mexl|delete_dup|delete_visa|delete_recdup|dtadfile|visapost|occup|entdepa|entdepd|entdepu|matflag|biryear| dtaddto|gender|insnum|airline|         admnum|fltno|visatype|\n",
      "+-----+------+------+------+------+-------+-------+-------+-------+-------+------+-------+-----+--------+-----------+-----------+----------+-----------+-------------+--------+--------+-----+-------+-------+-------+-------+-------+--------+------+------+-------+---------------+-----+--------+\n",
      "|  4.0|2016.0|   6.0| 135.0| 135.0|    XXX|20612.0|   null|   null|   null|  59.0|    2.0|  1.0|     1.0|        0.0|        0.0|       0.0|        0.0|          0.0|    null|    null| null|      Z|   null|      U|   null| 1957.0|10032016|  null|  null|   null|1.4938462027E10| null|      WT|\n",
      "|  5.0|2016.0|   6.0| 135.0| 135.0|    XXX|20612.0|   null|   null|   null|  50.0|    2.0|  1.0|     1.0|        0.0|        0.0|       0.0|        0.0|          0.0|    null|    null| null|      Z|   null|      U|   null| 1966.0|10032016|  null|  null|   null|1.7460063727E10| null|      WT|\n",
      "+-----+------+------+------+------+-------+-------+-------+-------+-------+------+-------+-----+--------+-----------+-----------+----------+-----------+-------------+--------+--------+-----+-------+-------+-------+-------+-------+--------+------+------+-------+---------------+-----+--------+\n",
      "only showing top 2 rows\n",
      "\n",
      "root\n",
      " |-- cicid: double (nullable = true)\n",
      " |-- i94yr: double (nullable = true)\n",
      " |-- i94mon: double (nullable = true)\n",
      " |-- i94cit: double (nullable = true)\n",
      " |-- i94res: double (nullable = true)\n",
      " |-- i94port: string (nullable = true)\n",
      " |-- arrdate: double (nullable = true)\n",
      " |-- i94mode: double (nullable = true)\n",
      " |-- i94addr: string (nullable = true)\n",
      " |-- depdate: double (nullable = true)\n",
      " |-- i94bir: double (nullable = true)\n",
      " |-- i94visa: double (nullable = true)\n",
      " |-- count: double (nullable = true)\n",
      " |-- dtadfile: string (nullable = true)\n",
      " |-- visapost: string (nullable = true)\n",
      " |-- occup: string (nullable = true)\n",
      " |-- entdepa: string (nullable = true)\n",
      " |-- entdepd: string (nullable = true)\n",
      " |-- entdepu: string (nullable = true)\n",
      " |-- matflag: string (nullable = true)\n",
      " |-- biryear: double (nullable = true)\n",
      " |-- dtaddto: string (nullable = true)\n",
      " |-- gender: string (nullable = true)\n",
      " |-- insnum: string (nullable = true)\n",
      " |-- airline: string (nullable = true)\n",
      " |-- admnum: double (nullable = true)\n",
      " |-- fltno: string (nullable = true)\n",
      " |-- visatype: string (nullable = true)\n",
      "\n",
      "+-----+------+------+------+------+-------+-------+-------+-------+-------+------+-------+-----+--------+--------+-----+-------+-------+-------+-------+-------+--------+------+------+-------+---------------+-----+--------+\n",
      "|cicid| i94yr|i94mon|i94cit|i94res|i94port|arrdate|i94mode|i94addr|depdate|i94bir|i94visa|count|dtadfile|visapost|occup|entdepa|entdepd|entdepu|matflag|biryear| dtaddto|gender|insnum|airline|         admnum|fltno|visatype|\n",
      "+-----+------+------+------+------+-------+-------+-------+-------+-------+------+-------+-----+--------+--------+-----+-------+-------+-------+-------+-------+--------+------+------+-------+---------------+-----+--------+\n",
      "|  4.0|2016.0|   6.0| 135.0| 135.0|    XXX|20612.0|   null|   null|   null|  59.0|    2.0|  1.0|    null|    null| null|      Z|   null|      U|   null| 1957.0|10032016|  null|  null|   null|1.4938462027E10| null|      WT|\n",
      "|  5.0|2016.0|   6.0| 135.0| 135.0|    XXX|20612.0|   null|   null|   null|  50.0|    2.0|  1.0|    null|    null| null|      Z|   null|      U|   null| 1966.0|10032016|  null|  null|   null|1.7460063727E10| null|      WT|\n",
      "+-----+------+------+------+------+-------+-------+-------+-------+-------+------+-------+-----+--------+--------+-----+-------+-------+-------+-------+-------+--------+------+------+-------+---------------+-----+--------+\n",
      "only showing top 2 rows\n",
      "\n"
     ]
    }
   ],
   "source": [
    "# Clean i94 data: Drop extra columns from jun i94: validres, delete_days, delete_mexl, delete_dup, delete_visa\n",
    "tmp = df_i94s['i94_jun16_sub.sas7bdat']\n",
    "tmp.printSchema()\n",
    "tmp.show(2)\n",
    "columns_to_drop = ['validres', 'delete_days', 'delete_mexl', 'delete_dup', 'delete_visa', 'delete_recdup']\n",
    "df_i94s['i94_jun16_sub.sas7bdat'] = tmp.drop(*columns_to_drop)\n",
    "df_i94s['i94_jun16_sub.sas7bdat'].printSchema()\n",
    "df_i94s['i94_jun16_sub.sas7bdat'].show(2)"
   ]
  },
  {
   "cell_type": "code",
   "execution_count": 9,
   "metadata": {
    "collapsed": true,
    "editable": true,
    "jupyter": {
     "outputs_hidden": true
    }
   },
   "outputs": [
    {
     "name": "stdout",
     "output_type": "stream",
     "text": [
      "i94_jan16_sub.sas7bdat\n",
      "+-----+------+------+------+------+-------+-------+-------+-------+-------+------+-------+-----+--------+--------+-----+-------+-------+-------+-------+-------+--------+------+------+-------+------------+-----+--------+\n",
      "|cicid| i94yr|i94mon|i94cit|i94res|i94port|arrdate|i94mode|i94addr|depdate|i94bir|i94visa|count|dtadfile|visapost|occup|entdepa|entdepd|entdepu|matflag|biryear| dtaddto|gender|insnum|airline|      admnum|fltno|visatype|\n",
      "+-----+------+------+------+------+-------+-------+-------+-------+-------+------+-------+-----+--------+--------+-----+-------+-------+-------+-------+-------+--------+------+------+-------+------------+-----+--------+\n",
      "|  7.0|2016.0|   1.0| 101.0| 101.0|    BOS|20465.0|    1.0|     MA|   null|  20.0|    3.0|  1.0|    null|    null| null|      T|   null|   null|   null| 1996.0|     D/S|     M|  null|     LH|3.46608285E8|  424|      F1|\n",
      "|  8.0|2016.0|   1.0| 101.0| 101.0|    BOS|20465.0|    1.0|     MA|   null|  20.0|    3.0|  1.0|    null|    null| null|      T|   null|   null|   null| 1996.0|     D/S|     M|  null|     LH|3.46627585E8|  424|      F1|\n",
      "|  9.0|2016.0|   1.0| 101.0| 101.0|    BOS|20469.0|    1.0|     CT|20480.0|  17.0|    2.0|  1.0|    null|    null| null|      T|      N|   null|      M| 1999.0|07152016|     F|  null|     AF|3.81092385E8|  338|      B2|\n",
      "| 10.0|2016.0|   1.0| 101.0| 101.0|    BOS|20469.0|    1.0|     CT|20499.0|  45.0|    2.0|  1.0|    null|    null| null|      T|      N|   null|      M| 1971.0|07152016|     F|  null|     AF|3.81087885E8|  338|      B2|\n",
      "| 11.0|2016.0|   1.0| 101.0| 101.0|    BOS|20469.0|    1.0|     CT|20499.0|  12.0|    2.0|  1.0|    null|    null| null|      T|      N|   null|      M| 2004.0|07152016|     M|  null|     AF|3.81078685E8|  338|      B2|\n",
      "+-----+------+------+------+------+-------+-------+-------+-------+-------+------+-------+-----+--------+--------+-----+-------+-------+-------+-------+-------+--------+------+------+-------+------------+-----+--------+\n",
      "only showing top 5 rows\n",
      "\n",
      "i94_feb16_sub.sas7bdat\n",
      "+-----+------+------+------+------+-------+-------+-------+-------+-------+------+-------+-----+--------+--------+-----+-------+-------+-------+-------+-------+--------+------+------+-------+------------+-----+--------+\n",
      "|cicid| i94yr|i94mon|i94cit|i94res|i94port|arrdate|i94mode|i94addr|depdate|i94bir|i94visa|count|dtadfile|visapost|occup|entdepa|entdepd|entdepu|matflag|biryear| dtaddto|gender|insnum|airline|      admnum|fltno|visatype|\n",
      "+-----+------+------+------+------+-------+-------+-------+-------+-------+------+-------+-----+--------+--------+-----+-------+-------+-------+-------+-------+--------+------+------+-------+------------+-----+--------+\n",
      "|  2.0|2016.0|   2.0| 101.0| 101.0|    ATL|20498.0|    1.0|     MI|   null|  21.0|    3.0|  1.0|    null|    null| null|      T|   null|   null|   null| 1995.0|     D/S|     F|  null|     DL|4.91319785E8|  241|      F1|\n",
      "|  5.0|2016.0|   2.0| 101.0| 101.0|    CHI|20492.0|    1.0|     IL|   null|  55.0|    2.0|  1.0|    null|    null| null|      T|   null|   null|   null| 1961.0|08072016|     F|  null|     TK|4.70581085E8|    5|      B2|\n",
      "|  6.0|2016.0|   2.0| 101.0| 101.0|    CHI|20492.0|    1.0|     IL|   null|   6.0|    2.0|  1.0|    null|    null| null|      T|   null|   null|   null| 2010.0|08072016|     M|  null|     TK|4.70572885E8|    5|      B2|\n",
      "|  7.0|2016.0|   2.0| 101.0| 101.0|    CHI|20500.0|    1.0|     AZ|20527.0|  38.0|    2.0|  1.0|    null|    null| null|      T|      N|   null|      M| 1978.0|08152016|     F|  null|     LH|4.97400985E8|  434|      B2|\n",
      "|  8.0|2016.0|   2.0| 101.0| 101.0|    CHI|20503.0|    1.0|     IL|20518.0|  37.0|    2.0|  1.0|    null|    null| null|      T|      O|   null|      M| 1979.0|08182016|     M|  null|     AA|5.07772085E8|   87|      B2|\n",
      "+-----+------+------+------+------+-------+-------+-------+-------+-------+------+-------+-----+--------+--------+-----+-------+-------+-------+-------+-------+--------+------+------+-------+------------+-----+--------+\n",
      "only showing top 5 rows\n",
      "\n",
      "i94_mar16_sub.sas7bdat\n",
      "+-----+------+------+------+------+-------+-------+-------+-------+-------+------+-------+-----+--------+--------+-----+-------+-------+-------+-------+-------+--------+------+------+-------+--------------+-----+--------+\n",
      "|cicid| i94yr|i94mon|i94cit|i94res|i94port|arrdate|i94mode|i94addr|depdate|i94bir|i94visa|count|dtadfile|visapost|occup|entdepa|entdepd|entdepu|matflag|biryear| dtaddto|gender|insnum|airline|        admnum|fltno|visatype|\n",
      "+-----+------+------+------+------+-------+-------+-------+-------+-------+------+-------+-----+--------+--------+-----+-------+-------+-------+-------+-------+--------+------+------+-------+--------------+-----+--------+\n",
      "|  2.0|2016.0|   3.0| 213.0| 213.0|    XXX|20543.0|   null|   null|   null|  64.0|    2.0|  1.0|    null|    null| null|      T|   null|      U|   null| 1952.0|09292016|  null|  null|   null| 1.140199685E9| null|      B2|\n",
      "|  3.0|2016.0|   3.0| 245.0| 245.0|    XXX|20524.0|   null|   null|   null|  60.0|    2.0|  1.0|    null|    null| null|      T|   null|      U|   null| 1956.0|09102016|  null|  null|   null| 1.697294685E9| null|      B2|\n",
      "|  7.0|2016.0|   3.0| 260.0| 260.0|    SFR|20514.0|    1.0|     CA|20640.0|  28.0|    2.0|  1.0|20150912|     MNL| null|      G|      O|      U|      M| 1988.0|08312016|     F|  null|     PR|7.391006613E10|00104|      B2|\n",
      "|  9.0|2016.0|   3.0| 691.0| 691.0|    FTL|20533.0|    1.0|     FL|   null|  82.0|    3.0|  1.0|20160114|     BGT| null|      G|   null|   null|   null| 1934.0|     D/S|     M|  null|    *GA|8.539318803E10|N900J|      F1|\n",
      "| 11.0|2016.0|   3.0| 258.0| 258.0|    XXX|20514.0|    1.0|     NY|20533.0|  36.0|    1.0|  1.0|20160229|     PRS| null|      G|      O|      U|      M| 1980.0|08282016|     M|  null|     AA|8.937569953E10|   45|      B1|\n",
      "+-----+------+------+------+------+-------+-------+-------+-------+-------+------+-------+-----+--------+--------+-----+-------+-------+-------+-------+-------+--------+------+------+-------+--------------+-----+--------+\n",
      "only showing top 5 rows\n",
      "\n",
      "i94_apr16_sub.sas7bdat\n",
      "+-----+------+------+------+------+-------+-------+-------+-------+-------+------+-------+-----+--------+--------+-----+-------+-------+-------+-------+-------+--------+------+------+-------+--------------+-----+--------+\n",
      "|cicid| i94yr|i94mon|i94cit|i94res|i94port|arrdate|i94mode|i94addr|depdate|i94bir|i94visa|count|dtadfile|visapost|occup|entdepa|entdepd|entdepu|matflag|biryear| dtaddto|gender|insnum|airline|        admnum|fltno|visatype|\n",
      "+-----+------+------+------+------+-------+-------+-------+-------+-------+------+-------+-----+--------+--------+-----+-------+-------+-------+-------+-------+--------+------+------+-------+--------------+-----+--------+\n",
      "|  6.0|2016.0|   4.0| 692.0| 692.0|    XXX|20573.0|   null|   null|   null|  37.0|    2.0|  1.0|    null|    null| null|      T|   null|      U|   null| 1979.0|10282016|  null|  null|   null| 1.897628485E9| null|      B2|\n",
      "|  7.0|2016.0|   4.0| 254.0| 276.0|    ATL|20551.0|    1.0|     AL|   null|  25.0|    3.0|  1.0|20130811|     SEO| null|      G|   null|      Y|   null| 1991.0|     D/S|     M|  null|   null|  3.73679633E9|00296|      F1|\n",
      "| 15.0|2016.0|   4.0| 101.0| 101.0|    WAS|20545.0|    1.0|     MI|20691.0|  55.0|    2.0|  1.0|20160401|    null| null|      T|      O|   null|      M| 1961.0|09302016|     M|  null|     OS|  6.66643185E8|   93|      B2|\n",
      "| 16.0|2016.0|   4.0| 101.0| 101.0|    NYC|20545.0|    1.0|     MA|20567.0|  28.0|    2.0|  1.0|20160401|    null| null|      O|      O|   null|      M| 1988.0|09302016|  null|  null|     AA|9.246846133E10|00199|      B2|\n",
      "| 17.0|2016.0|   4.0| 101.0| 101.0|    NYC|20545.0|    1.0|     MA|20567.0|   4.0|    2.0|  1.0|20160401|    null| null|      O|      O|   null|      M| 2012.0|09302016|  null|  null|     AA|9.246846313E10|00199|      B2|\n",
      "+-----+------+------+------+------+-------+-------+-------+-------+-------+------+-------+-----+--------+--------+-----+-------+-------+-------+-------+-------+--------+------+------+-------+--------------+-----+--------+\n",
      "only showing top 5 rows\n",
      "\n",
      "i94_may16_sub.sas7bdat\n",
      "+-----+------+------+------+------+-------+-------+-------+-------+-------+------+-------+-----+--------+--------+-----+-------+-------+-------+-------+-------+--------+------+------+-------+--------------+-----+--------+\n",
      "|cicid| i94yr|i94mon|i94cit|i94res|i94port|arrdate|i94mode|i94addr|depdate|i94bir|i94visa|count|dtadfile|visapost|occup|entdepa|entdepd|entdepu|matflag|biryear| dtaddto|gender|insnum|airline|        admnum|fltno|visatype|\n",
      "+-----+------+------+------+------+-------+-------+-------+-------+-------+------+-------+-----+--------+--------+-----+-------+-------+-------+-------+-------+--------+------+------+-------+--------------+-----+--------+\n",
      "|  2.0|2016.0|   5.0| 207.0| 207.0|    XXX|20605.0|   null|   null|   null|  27.0|    3.0|  1.0|    null|    null| null|      T|   null|      U|   null| 1989.0|     D/S|  null|  null|   null| 1.141634185E9| null|      F1|\n",
      "|  3.0|2016.0|   5.0| 209.0| 209.0|    XXX|20598.0|   null|   null|   null|  27.0|    1.0|  1.0|    null|    null| null|      T|   null|      U|   null| 1989.0|05232018|  null|  null|   null| 1.863211285E9| null|      E2|\n",
      "|  4.0|2016.0|   5.0| 213.0| 213.0|    XXX|20578.0|   null|   null|   null|  78.0|    2.0|  1.0|    null|    null| null|      T|   null|      U|   null| 1938.0|11032016|  null|  null|   null| 4.696371285E9| null|      B2|\n",
      "|  5.0|2016.0|   5.0| 213.0| 213.0|    XXX|20601.0|   null|   null|   null|  29.0|    3.0|  1.0|    null|    null| null|      T|   null|      U|   null| 1987.0|     D/S|  null|  null|   null| 1.141260185E9| null|      F1|\n",
      "| 13.0|2016.0|   5.0| 213.0| 213.0|    CHI|20577.0|    1.0|     IL|20270.0|  29.0|    3.0|  1.0|20150619|    null| null|      T|      O|   null|      M| 1987.0|     D/S|     F|  null|     EK|6.479287483E10|00235|      F1|\n",
      "+-----+------+------+------+------+-------+-------+-------+-------+-------+------+-------+-----+--------+--------+-----+-------+-------+-------+-------+-------+--------+------+------+-------+--------------+-----+--------+\n",
      "only showing top 5 rows\n",
      "\n",
      "i94_jun16_sub.sas7bdat\n",
      "+-----+------+------+------+------+-------+-------+-------+-------+-------+------+-------+-----+--------+--------+-----+-------+-------+-------+-------+-------+--------+------+------+-------+---------------+-----+--------+\n",
      "|cicid| i94yr|i94mon|i94cit|i94res|i94port|arrdate|i94mode|i94addr|depdate|i94bir|i94visa|count|dtadfile|visapost|occup|entdepa|entdepd|entdepu|matflag|biryear| dtaddto|gender|insnum|airline|         admnum|fltno|visatype|\n",
      "+-----+------+------+------+------+-------+-------+-------+-------+-------+------+-------+-----+--------+--------+-----+-------+-------+-------+-------+-------+--------+------+------+-------+---------------+-----+--------+\n",
      "|  4.0|2016.0|   6.0| 135.0| 135.0|    XXX|20612.0|   null|   null|   null|  59.0|    2.0|  1.0|    null|    null| null|      Z|   null|      U|   null| 1957.0|10032016|  null|  null|   null|1.4938462027E10| null|      WT|\n",
      "|  5.0|2016.0|   6.0| 135.0| 135.0|    XXX|20612.0|   null|   null|   null|  50.0|    2.0|  1.0|    null|    null| null|      Z|   null|      U|   null| 1966.0|10032016|  null|  null|   null|1.7460063727E10| null|      WT|\n",
      "|  6.0|2016.0|   6.0| 213.0| 213.0|    XXX|20609.0|   null|   null|   null|  27.0|    3.0|  1.0|    null|    null| null|      T|   null|      U|   null| 1989.0|     D/S|  null|  null|   null|  1.679297785E9| null|      F1|\n",
      "|  7.0|2016.0|   6.0| 213.0| 213.0|    XXX|20611.0|   null|   null|   null|  23.0|    3.0|  1.0|    null|    null| null|      T|   null|      U|   null| 1993.0|     D/S|  null|  null|   null|  1.140963185E9| null|      F1|\n",
      "| 16.0|2016.0|   6.0| 245.0| 245.0|    XXX|20632.0|   null|   null|   null|  24.0|    3.0|  1.0|    null|    null| null|      T|   null|      U|   null| 1992.0|     D/S|  null|  null|   null|  1.934535285E9| null|      F1|\n",
      "+-----+------+------+------+------+-------+-------+-------+-------+-------+------+-------+-----+--------+--------+-----+-------+-------+-------+-------+-------+--------+------+------+-------+---------------+-----+--------+\n",
      "only showing top 5 rows\n",
      "\n",
      "i94_jul16_sub.sas7bdat\n",
      "+-----+------+------+------+------+-------+-------+-------+-------+-------+------+-------+-----+--------+--------+-----+-------+-------+-------+-------+-------+--------+------+------+-------+---------------+-----+--------+\n",
      "|cicid| i94yr|i94mon|i94cit|i94res|i94port|arrdate|i94mode|i94addr|depdate|i94bir|i94visa|count|dtadfile|visapost|occup|entdepa|entdepd|entdepu|matflag|biryear| dtaddto|gender|insnum|airline|         admnum|fltno|visatype|\n",
      "+-----+------+------+------+------+-------+-------+-------+-------+-------+------+-------+-----+--------+--------+-----+-------+-------+-------+-------+-------+--------+------+------+-------+---------------+-----+--------+\n",
      "|  1.0|2016.0|   7.0| 254.0| 276.0|    LOS|20636.0|    1.0|     CA|20640.0|  38.0|    2.0|  1.0|20160701|    null| null|      G|      O|   null|      M| 1978.0|09282016|     M|  null|     OZ|6.3092898033E10|00202|      WT|\n",
      "|  2.0|2016.0|   7.0| 140.0| 140.0|    NYC|20636.0|    1.0|     NY|20657.0|  45.0|    2.0|  1.0|20160701|    null| null|      G|      O|   null|      M| 1971.0|09282016|     F|  null|     DL|6.3092899033E10|09858|      WT|\n",
      "|  3.0|2016.0|   7.0| 135.0| 135.0|    ORL|20636.0|    1.0|     FL|20657.0|  10.0|    2.0|  1.0|20160701|    null| null|      G|      O|   null|      M| 2006.0|09282016|     M|  null|     VS|6.3092900933E10|00071|      WT|\n",
      "|  4.0|2016.0|   7.0| 124.0| 124.0|    TAM|20636.0|    1.0|     FL|20645.0|  17.0|    2.0|  1.0|20160701|    null| null|      G|      O|   null|      M| 1999.0|09282016|     M|  null|     LH|6.3092901833E10|00482|      WT|\n",
      "|  5.0|2016.0|   7.0| 130.0| 130.0|    LOS|20636.0|    1.0|     CA|20662.0|   1.0|    2.0|  1.0|20160701|    null| null|      G|      K|   null|      M| 2015.0|09282016|     M|  null|     SU|6.3092902733E10|00106|      WT|\n",
      "+-----+------+------+------+------+-------+-------+-------+-------+-------+------+-------+-----+--------+--------+-----+-------+-------+-------+-------+-------+--------+------+------+-------+---------------+-----+--------+\n",
      "only showing top 5 rows\n",
      "\n",
      "i94_aug16_sub.sas7bdat\n",
      "+-----+------+------+------+------+-------+-------+-------+-------+-------+------+-------+-----+--------+--------+-----+-------+-------+-------+-------+-------+--------+------+------+-------+---------------+-----+--------+\n",
      "|cicid| i94yr|i94mon|i94cit|i94res|i94port|arrdate|i94mode|i94addr|depdate|i94bir|i94visa|count|dtadfile|visapost|occup|entdepa|entdepd|entdepu|matflag|biryear| dtaddto|gender|insnum|airline|         admnum|fltno|visatype|\n",
      "+-----+------+------+------+------+-------+-------+-------+-------+-------+------+-------+-----+--------+--------+-----+-------+-------+-------+-------+-------+--------+------+------+-------+---------------+-----+--------+\n",
      "| 22.0|2016.0|   8.0| 323.0| 323.0|    NYC|20667.0|    1.0|     FL|   null|  23.0|    3.0|  1.0|20160801|     RID| null|      U|   null|   null|   null| 1993.0|     D/S|     M|  null|     EK| 6.451049563E10|  201|      F1|\n",
      "| 55.0|2016.0|   8.0| 209.0| 209.0|    AGA|20667.0|    1.0|     CA|   null|  41.0|    2.0|  1.0|20160801|    null| null|      A|   null|   null|   null| 1975.0|09142016|     M|  3955|     JL|5.7571868933E10|00941|     GMT|\n",
      "| 56.0|2016.0|   8.0| 209.0| 209.0|    AGA|20667.0|    1.0|     GU|   null|  24.0|    2.0|  1.0|20160801|    null| null|      A|   null|   null|   null| 1992.0|09152016|     F|  3661|     UA|5.7571894533E10|00874|     GMT|\n",
      "| 61.0|2016.0|   8.0| 213.0| 213.0|    CHI|20667.0|    1.0|     WA|20774.0|  27.0|    3.0|  1.0|20160801|     BMB| null|      U|      O|   null|      M| 1989.0|     D/S|     M|  null|     UA| 5.905919443E10|  906|      F1|\n",
      "| 64.0|2016.0|   8.0| 111.0| 111.0|    BOS|20667.0|    1.0|     MS|20670.0|  34.0|    2.0|  1.0|20160804|    null| null|      G|      O|   null|      M| 1982.0|08242016|     F| 32572|     QK|6.1043089333E10| 8456|      WT|\n",
      "+-----+------+------+------+------+-------+-------+-------+-------+-------+------+-------+-----+--------+--------+-----+-------+-------+-------+-------+-------+--------+------+------+-------+---------------+-----+--------+\n",
      "only showing top 5 rows\n",
      "\n",
      "i94_sep16_sub.sas7bdat\n",
      "+------+------+------+------+------+-------+-------+-------+-------+-------+------+-------+-----+--------+--------+-----+-------+-------+-------+-------+-------+--------+------+------+-------+--------------+-----+--------+\n",
      "| cicid| i94yr|i94mon|i94cit|i94res|i94port|arrdate|i94mode|i94addr|depdate|i94bir|i94visa|count|dtadfile|visapost|occup|entdepa|entdepd|entdepu|matflag|biryear| dtaddto|gender|insnum|airline|        admnum|fltno|visatype|\n",
      "+------+------+------+------+------+-------+-------+-------+-------+-------+------+-------+-----+--------+--------+-----+-------+-------+-------+-------+-------+--------+------+------+-------+--------------+-----+--------+\n",
      "| 687.0|2016.0|   9.0| 213.0| 213.0|    HOU|20698.0|    1.0|     TX|20725.0|  27.0|    1.0|  1.0|20160901|    null| null|      H|      O|   null|      M| 1989.0|11022016|     M|  null|     QK|9.527938853E10| 8111|      B1|\n",
      "| 799.0|2016.0|   9.0| 369.0| 369.0|    WAS|20698.0|    1.0|     VA|20725.0|  71.0|    2.0|  1.0|20160901|     ADD| null|      U|      O|   null|      M| 1945.0|11032016|     M|  null|     KL|9.531093473E10|  651|      B2|\n",
      "|1001.0|2016.0|   9.0| 582.0| 582.0|    LVG|20698.0|    1.0|     NV|20702.0|  25.0|    2.0|  1.0|20160901|     MTR| null|      H|      O|   null|      M| 1991.0|10312016|     M|  null|     4O|9.507647983E10|  970|      B2|\n",
      "|1044.0|2016.0|   9.0| 691.0| 582.0|    MIA|20698.0|    1.0|     FL|20702.0|  50.0|    1.0|  1.0|20160901|     MEX| null|      H|      O|   null|      M| 1966.0|11032016|     M|  null|     AM|9.532965493E10|  428|      B1|\n",
      "|1183.0|2016.0|   9.0| 266.0| 266.0|    CHI|20698.0|    1.0|     WI|20714.0|  34.0|    3.0|  1.0|20160901|     HAN| null|      U|      O|   null|      M| 1982.0|     D/S|     F|  null|     UA|9.465593503E10| 5959|      F1|\n",
      "+------+------+------+------+------+-------+-------+-------+-------+-------+------+-------+-----+--------+--------+-----+-------+-------+-------+-------+-------+--------+------+------+-------+--------------+-----+--------+\n",
      "only showing top 5 rows\n",
      "\n",
      "i94_oct16_sub.sas7bdat\n",
      "+-----+------+------+------+------+-------+-------+-------+-------+-------+------+-------+-----+--------+--------+-----+-------+-------+-------+-------+-------+--------+------+------+-------+---------------+-----+--------+\n",
      "|cicid| i94yr|i94mon|i94cit|i94res|i94port|arrdate|i94mode|i94addr|depdate|i94bir|i94visa|count|dtadfile|visapost|occup|entdepa|entdepd|entdepu|matflag|biryear| dtaddto|gender|insnum|airline|         admnum|fltno|visatype|\n",
      "+-----+------+------+------+------+-------+-------+-------+-------+-------+------+-------+-----+--------+--------+-----+-------+-------+-------+-------+-------+--------+------+------+-------+---------------+-----+--------+\n",
      "|  8.0|2016.0|  10.0| 111.0| 111.0|    CHM|20728.0|    1.0|     HI|   null|  70.0|    2.0|  1.0|20161001|    null| null|      A|   null|   null|   null| 1946.0|12292016|     F|  5245|     AF|6.7011135827E10|00342|      WT|\n",
      "| 68.0|2016.0|  10.0| 209.0| 209.0|    AGA|20728.0|    1.0|     GU|20731.0|  63.0|    2.0|  1.0|20161001|    null| null|      A|      D|   null|      M| 1953.0|11142016|     F|  3938|     UA|7.9058646527E10|00136|     GMT|\n",
      "|100.0|2016.0|  10.0| 268.0| 268.0|    AGA|20728.0|    1.0|     NY|20732.0|  25.0|    2.0|  1.0|20161001|    null| null|      A|      D|   null|      M| 1991.0|11142016|     M|  3942|     CI|8.7663527026E10|00026|     GMT|\n",
      "|101.0|2016.0|  10.0| 268.0| 268.0|    AGA|20728.0|    1.0|     NY|   null|  24.0|    2.0|  1.0|20161001|    null| null|      A|   null|   null|   null| 1992.0|11142016|     F|  3935|     CI|8.7663527926E10|00026|     GMT|\n",
      "|102.0|2016.0|  10.0| 268.0| 268.0|    AGA|20728.0|    1.0|     NY|20732.0|  30.0|    2.0|  1.0|20161001|    null| null|      A|      D|   null|      M| 1986.0|11142016|     M|  3934|     CI|8.7663528826E10|00026|     GMT|\n",
      "+-----+------+------+------+------+-------+-------+-------+-------+-------+------+-------+-----+--------+--------+-----+-------+-------+-------+-------+-------+--------+------+------+-------+---------------+-----+--------+\n",
      "only showing top 5 rows\n",
      "\n",
      "i94_nov16_sub.sas7bdat\n",
      "+-----+------+------+------+------+-------+-------+-------+-------+-------+------+-------+-----+--------+--------+-----+-------+-------+-------+-------+-------+--------+------+------+-------+---------------+-----+--------+\n",
      "|cicid| i94yr|i94mon|i94cit|i94res|i94port|arrdate|i94mode|i94addr|depdate|i94bir|i94visa|count|dtadfile|visapost|occup|entdepa|entdepd|entdepu|matflag|biryear| dtaddto|gender|insnum|airline|         admnum|fltno|visatype|\n",
      "+-----+------+------+------+------+-------+-------+-------+-------+-------+------+-------+-----+--------+--------+-----+-------+-------+-------+-------+-------+--------+------+------+-------+---------------+-----+--------+\n",
      "|  8.0|2016.0|  11.0| 126.0| 689.0|    CHA|20759.0|    2.0|   null|   null|  62.0|    2.0|  1.0|20161101|    null| null|      A|   null|   null|   null| 1954.0|02082017|     F|  2771|   null|1.3295810024E10| null|      WT|\n",
      "| 18.0|2016.0|  11.0| 582.0| 582.0|    NOG|20759.0|    9.0|     FL|   null|  47.0|    2.0|  1.0|20161101|    null| null|      P|      W|   null|      M| 1969.0|11222016|     M|  1163|   null|1.3616911029E10| null|      CP|\n",
      "| 19.0|2016.0|  11.0| 582.0| 582.0|    NOG|20759.0|    9.0|     CA|   null|  34.0|    2.0|  1.0|20161101|    null| null|      P|      W|   null|      M| 1982.0|03032017|     M|  1442|   null|1.3642684029E10| null|      CP|\n",
      "| 65.0|2016.0|  11.0| 213.0| 213.0|    NEW|20759.0|    1.0|     CA|   null|  26.0|    3.0|  1.0|20161101|     BMB| null|      T|   null|   null|   null| 1990.0|     D/S|     M|  null|     UA|1.2924805885E10|   49|      F1|\n",
      "| 67.0|2016.0|  11.0| 687.0| 687.0|    ATL|20759.0|    1.0|     AL|   null|  23.0|    3.0|  1.0|20161101|     BNS| null|      T|   null|   null|   null| 1993.0|     D/S|     M|  null|     DL|1.2924807685E10|  110|      F1|\n",
      "+-----+------+------+------+------+-------+-------+-------+-------+-------+------+-------+-----+--------+--------+-----+-------+-------+-------+-------+-------+--------+------+------+-------+---------------+-----+--------+\n",
      "only showing top 5 rows\n",
      "\n",
      "i94_dec16_sub.sas7bdat\n",
      "+-----+------+------+------+------+-------+-------+-------+-------+-------+------+-------+-----+--------+--------+-----+-------+-------+-------+-------+-------+--------+------+------+-------+---------------+-----+--------+\n",
      "|cicid| i94yr|i94mon|i94cit|i94res|i94port|arrdate|i94mode|i94addr|depdate|i94bir|i94visa|count|dtadfile|visapost|occup|entdepa|entdepd|entdepu|matflag|biryear| dtaddto|gender|insnum|airline|         admnum|fltno|visatype|\n",
      "+-----+------+------+------+------+-------+-------+-------+-------+-------+------+-------+-----+--------+--------+-----+-------+-------+-------+-------+-------+--------+------+------+-------+---------------+-----+--------+\n",
      "| 46.0|2016.0|  12.0| 129.0| 129.0|    HOU|20789.0|    1.0|     TX|20802.0|  46.0|    1.0|  1.0|20161201|     MDD| null|      H|      O|   null|      M| 1970.0|05262018|     M|  null|     RS| 9.755413803E10| 7715|      E2|\n",
      "| 56.0|2016.0|  12.0| 245.0| 245.0|    NEW|20789.0|    1.0|     OH|20835.0|  28.0|    3.0|  1.0|20161201|     BEJ| null|      U|      O|   null|      M| 1988.0|     D/S|     F|  null|     CA| 9.062371823E10|  819|      F1|\n",
      "| 67.0|2016.0|  12.0| 512.0| 512.0|    PEV|20789.0|    2.0|     MD|20794.0|  48.0|    2.0|  1.0|20161201|     NAS| null|      A|      D|   null|      M| 1968.0|06012017|     M|  5920|   null|8.0105031527E10| null|      B2|\n",
      "| 68.0|2016.0|  12.0| 512.0| 512.0|    PEV|20789.0|    2.0|     FL|20792.0|  46.0|    2.0|  1.0|20161201|     NAS| null|      A|      D|   null|      M| 1970.0|06012017|     F|  5920|   null|8.0105106727E10| null|      B2|\n",
      "| 69.0|2016.0|  12.0| 512.0| 512.0|    PEV|20789.0|    2.0|     HI|20792.0|  48.0|    2.0|  1.0|20161201|     NAS| null|      A|      D|   null|      M| 1968.0|06012017|     M|  5920|   null|8.0105107627E10| null|      B2|\n",
      "+-----+------+------+------+------+-------+-------+-------+-------+-------+------+-------+-----+--------+--------+-----+-------+-------+-------+-------+-------+--------+------+------+-------+---------------+-----+--------+\n",
      "only showing top 5 rows\n",
      "\n"
     ]
    }
   ],
   "source": [
    "# double check after data clean\n",
    "for k, v in df_i94s.items():\n",
    "#     LOG.info(f\"i94 fname: {k}, df: {v}\")\n",
    "    print(k)\n",
    "    v.show(5)"
   ]
  },
  {
   "cell_type": "code",
   "execution_count": 10,
   "metadata": {
    "editable": true
   },
   "outputs": [],
   "source": [
    "# define sample rate so that each month got same # of rows in union i94 df.\n",
    "## get file size of each month i94 by ../../data/18-83510-I94-Data-2016/\n",
    "# i94_filesizes = [415, 374, 459, 451, 501, 684, 620, 597, 543, 531, 424, 500]\n",
    "# i94_samplerate = []\n",
    "# N = 5\n",
    "# for i in i94_filesizes:\n",
    "#     i94_samplerate.append(N/i)\n",
    "# print(i94_samplerate)\n",
    "\n",
    "# i94_samplerate_dict = {}\n",
    "# i = 0\n",
    "# for k in df_i94s.keys():\n",
    "#     i94_samplerate_dict[k] = i94_samplerate[i]\n",
    "#     i = i+1\n",
    "# pprint(i94_samplerate_dict)"
   ]
  },
  {
   "cell_type": "code",
   "execution_count": 36,
   "metadata": {
    "editable": true
   },
   "outputs": [
    {
     "name": "stdout",
     "output_type": "stream",
     "text": [
      "12\n",
      "root\n",
      " |-- cicid: double (nullable = true)\n",
      " |-- i94yr: double (nullable = true)\n",
      " |-- i94mon: double (nullable = true)\n",
      " |-- i94cit: double (nullable = true)\n",
      " |-- i94res: double (nullable = true)\n",
      " |-- i94port: string (nullable = true)\n",
      " |-- arrdate: double (nullable = true)\n",
      " |-- i94mode: double (nullable = true)\n",
      " |-- i94addr: string (nullable = true)\n",
      " |-- depdate: double (nullable = true)\n",
      " |-- i94bir: double (nullable = true)\n",
      " |-- i94visa: double (nullable = true)\n",
      " |-- count: double (nullable = true)\n",
      " |-- dtadfile: string (nullable = true)\n",
      " |-- visapost: string (nullable = true)\n",
      " |-- occup: string (nullable = true)\n",
      " |-- entdepa: string (nullable = true)\n",
      " |-- entdepd: string (nullable = true)\n",
      " |-- entdepu: string (nullable = true)\n",
      " |-- matflag: string (nullable = true)\n",
      " |-- biryear: double (nullable = true)\n",
      " |-- dtaddto: string (nullable = true)\n",
      " |-- gender: string (nullable = true)\n",
      " |-- insnum: string (nullable = true)\n",
      " |-- airline: string (nullable = true)\n",
      " |-- admnum: double (nullable = true)\n",
      " |-- fltno: string (nullable = true)\n",
      " |-- visatype: string (nullable = true)\n",
      "\n"
     ]
    }
   ],
   "source": [
    "# sample 1% of each month of i94, since origin size of sas is around 500MB.\n",
    "sample_rate = 0.1\n",
    "df_i94s_sample = {}\n",
    "for k, v in df_i94s.items():\n",
    "    df_i94s_sample[k] = v.sample(sample_rate)\n",
    "    # (i94_samplerate_dict[k])\n",
    "    \n",
    "from functools import reduce\n",
    "print(len(df_i94s_sample.values()))\n",
    "df_i94s_sample_unionall = reduce(DataFrame.unionAll, df_i94s_sample.values())\n",
    "\n",
    "df_i94s_sample_unionall.printSchema()"
   ]
  },
  {
   "cell_type": "code",
   "execution_count": 37,
   "metadata": {
    "editable": true
   },
   "outputs": [],
   "source": [
    "df_i94s_sample_unionall.write.mode('overwrite').parquet(path='i94_sample.parquet')"
   ]
  },
  {
   "cell_type": "code",
   "execution_count": 16,
   "metadata": {
    "editable": true
   },
   "outputs": [],
   "source": [
    "# df_i94s_sample_unionall.createOrReplaceTempView(\"i94\")\n",
    "# play = spark.sql(\"\"\"\n",
    "# select distinct cicid,\n",
    "#                 i94mon,\n",
    "#                 i94cit,\n",
    "#                 airline,\n",
    "#                 visatype\n",
    "# from i94\n",
    "# \"\"\")\n",
    "# play.printSchema()\n",
    "# play.show(5)"
   ]
  },
  {
   "cell_type": "code",
   "execution_count": 5,
   "metadata": {
    "editable": true
   },
   "outputs": [],
   "source": []
  },
  {
   "cell_type": "code",
   "execution_count": 38,
   "metadata": {},
   "outputs": [
    {
     "name": "stdout",
     "output_type": "stream",
     "text": [
      "CPU times: user 2.89 ms, sys: 203 µs, total: 3.09 ms\n",
      "Wall time: 363 ms\n"
     ]
    },
    {
     "data": {
      "text/plain": [
       "3096313"
      ]
     },
     "execution_count": 38,
     "metadata": {},
     "output_type": "execute_result"
    }
   ],
   "source": [
    "%%time\n",
    "df_sas = spark.read.parquet('sas_data/')\n",
    "df_sas.count()"
   ]
  },
  {
   "cell_type": "code",
   "execution_count": 45,
   "metadata": {},
   "outputs": [
    {
     "name": "stdout",
     "output_type": "stream",
     "text": [
      "root\n",
      " |-- cicid: double (nullable = true)\n",
      " |-- i94yr: double (nullable = true)\n",
      " |-- i94mon: double (nullable = true)\n",
      " |-- i94cit: double (nullable = true)\n",
      " |-- i94res: double (nullable = true)\n",
      " |-- i94port: string (nullable = true)\n",
      " |-- arrdate: double (nullable = true)\n",
      " |-- i94mode: double (nullable = true)\n",
      " |-- i94addr: string (nullable = true)\n",
      " |-- depdate: double (nullable = true)\n",
      " |-- i94bir: double (nullable = true)\n",
      " |-- i94visa: double (nullable = true)\n",
      " |-- count: double (nullable = true)\n",
      " |-- dtadfile: string (nullable = true)\n",
      " |-- visapost: string (nullable = true)\n",
      " |-- occup: string (nullable = true)\n",
      " |-- entdepa: string (nullable = true)\n",
      " |-- entdepd: string (nullable = true)\n",
      " |-- entdepu: string (nullable = true)\n",
      " |-- matflag: string (nullable = true)\n",
      " |-- biryear: double (nullable = true)\n",
      " |-- dtaddto: string (nullable = true)\n",
      " |-- gender: string (nullable = true)\n",
      " |-- insnum: string (nullable = true)\n",
      " |-- airline: string (nullable = true)\n",
      " |-- admnum: double (nullable = true)\n",
      " |-- fltno: string (nullable = true)\n",
      " |-- visatype: string (nullable = true)\n",
      "\n",
      "+---------+------+------+------+------+-------+-------+-------+-------+-------+------+-------+-----+--------+--------+-----+-------+-------+-------+-------+-------+--------+------+------+-------+-------------+-----+--------+\n",
      "|    cicid| i94yr|i94mon|i94cit|i94res|i94port|arrdate|i94mode|i94addr|depdate|i94bir|i94visa|count|dtadfile|visapost|occup|entdepa|entdepd|entdepu|matflag|biryear| dtaddto|gender|insnum|airline|       admnum|fltno|visatype|\n",
      "+---------+------+------+------+------+-------+-------+-------+-------+-------+------+-------+-----+--------+--------+-----+-------+-------+-------+-------+-------+--------+------+------+-------+-------------+-----+--------+\n",
      "|6934633.0|2016.0|   7.0| 582.0| 582.0|    ATL|20664.0|    1.0|     PA|20670.0|  41.0|    2.0|  1.0|20160804|    null| null|      G|      O|   null|      M| 1975.0|01282017|     M|179624|     DL|3.858921085E9|  130|      B2|\n",
      "|6934636.0|2016.0|   7.0| 116.0| 116.0|    NEW|20664.0|    1.0|     FL|20678.0|  46.0|    2.0|  1.0|20160813|    null| null|      G|      O|   null|      M| 1970.0|10262016|     M|669388|     UA|3.858924885E9|   76|      WT|\n",
      "|6934639.0|2016.0|   7.0| 148.0| 112.0|    NEW|20664.0|    1.0|     NY|20671.0|  32.0|    1.0|  1.0|20160805|    null| null|      G|      O|   null|      M| 1984.0|10262016|     F|335420|     UA|3.845095085E9|  865|      WB|\n",
      "|6934641.0|2016.0|   7.0| 129.0| 129.0|    NYC|20664.0|    1.0|     NY|20675.0|  30.0|    2.0|  1.0|20160810|    null| null|      G|      O|   null|      M| 1986.0|10262016|     M|281937|     AA|3.845097885E9|   67|      WT|\n",
      "|6934657.0|2016.0|   7.0| 514.0| 514.0|    ORL|20664.0|    1.0|     FL|20671.0|  19.0|    2.0|  1.0|20160805|    null| null|      G|      O|   null|      M| 1997.0|01282017|     M|155682|     BW|3.845113385E9|   75|      B2|\n",
      "|6934664.0|2016.0|   7.0| 582.0| 582.0|    FTL|20664.0|    1.0|     FL|20672.0|  43.0|    2.0|  1.0|20160806|    null| null|      G|      O|   null|      M| 1973.0|01282017|     F|156025|     Y4|3.845120785E9|  994|      B2|\n",
      "|6934721.0|2016.0|   7.0| 692.0| 692.0|    MIA|20664.0|    1.0|     FL|20672.0|  58.0|    2.0|  1.0|20160807|    null| null|      G|      O|   null|      M| 1958.0|01282017|     M| 33111|     AA|3.845409485E9|  932|      B2|\n",
      "|6934728.0|2016.0|   7.0| 209.0| 209.0|    POO|20664.0|    1.0|     OR|20677.0|  40.0|    2.0|  1.0|20160812|    null| null|      G|      O|   null|      M| 1976.0|10262016|     F|134451|     DL|3.845416885E9|  622|      WT|\n",
      "|6934752.0|2016.0|   7.0| 582.0| 582.0|    FTL|20664.0|    1.0|     FL|20672.0|  42.0|    2.0|  1.0|20160729|     MEX| null|      G|      O|   null|      M| 1974.0|01282017|     F|  null|     Y4|3.845719285E9|  994|      B2|\n",
      "|6934755.0|2016.0|   7.0| 575.0| 575.0|    MIA|20664.0|    1.0|     FL|20669.0|  17.0|    2.0|  1.0|20160803|    null| null|      G|      O|   null|      M| 1999.0|01282017|     M|358418|     AA|3.845722085E9| 1204|      B2|\n",
      "|6934759.0|2016.0|   7.0| 692.0| 692.0|    MIA|20664.0|    1.0|     FL|20676.0|  50.0|    2.0|  1.0|20160807|    null| null|      G|      N|   null|      M| 1966.0|01282017|     F|163111|     AA|3.845726685E9|  932|      B2|\n",
      "|6934762.0|2016.0|   7.0| 582.0| 582.0|    ORL|20664.0|    1.0|     FL|20674.0|  28.0|    2.0|  1.0|20160808|    null| null|      T|      O|   null|      M| 1988.0|00000000|     F| 83401|     Y4|3.845729385E9|  980|      B2|\n",
      "|6934767.0|2016.0|   7.0| 145.0| 145.0|    SEA|20664.0|    1.0|     AK|20686.0|  42.0|    2.0|  1.0|20160821|    null| null|      G|      O|   null|      M| 1974.0|10262016|     M|122398|     QX|3.845733085E9| 2117|      WT|\n",
      "|6934786.0|2016.0|   7.0| 129.0| 129.0|    NYC|20664.0|    1.0|   null|20665.0|  15.0|    2.0|  1.0|20160730|    null| null|      G|      O|   null|      M| 2001.0|10262016|     M|160735|     AA|3.846031985E9|   67|      WT|\n",
      "|6934794.0|2016.0|   7.0| 111.0| 111.0|    LOS|20664.0|    1.0|     WA|20669.0|  42.0|    2.0|  1.0|20160804|    null| null|      G|      R|   null|      M| 1974.0|10262016|     F| 13040|     AA|3.846039185E9| 2544|      WT|\n",
      "|6934799.0|2016.0|   7.0| 129.0| 129.0|    NYC|20664.0|    1.0|     NY|20675.0|  14.0|    2.0|  1.0|20160810|    null| null|      G|      O|   null|      M| 2002.0|10262016|     M|622420|     AA|3.846044785E9|   67|      WT|\n",
      "|6934810.0|2016.0|   7.0| 582.0| 582.0|    ORL|20664.0|    1.0|     FL|20670.0|  21.0|    2.0|  1.0|20160729|     MEX| null|      G|      O|   null|      M| 1995.0|01282017|     F|  null|     Y4|3.846055785E9|  980|      B2|\n",
      "|6934814.0|2016.0|   7.0| 254.0| 276.0|    NYC|20664.0|    1.0|     NJ|20667.0|  47.0|    2.0|  1.0|20160801|    null| null|      G|      K|   null|      M| 1969.0|10262016|     M|314959|     OZ|3.846059385E9|  222|      WT|\n",
      "|6934827.0|2016.0|   7.0| 245.0| 245.0|    SFR|20664.0|    1.0|     CA|20674.0|  65.0|    2.0|  1.0|20160808|    null| null|      G|      O|   null|      M| 1951.0|01282017|     F|492459|     UA|3.846356385E9|  889|      B2|\n",
      "|6934828.0|2016.0|   7.0| 114.0| 114.0|    LOS|20664.0|    1.0|     CA|20673.0|  33.0|    2.0|  1.0|20160807|    null| null|      G|      O|   null|      M| 1983.0|10262016|     F|178605|     ET|3.846357285E9|  504|      WT|\n",
      "+---------+------+------+------+------+-------+-------+-------+-------+-------+------+-------+-----+--------+--------+-----+-------+-------+-------+-------+-------+--------+------+------+-------+-------------+-----+--------+\n",
      "only showing top 20 rows\n",
      "\n",
      "CPU times: user 8.69 ms, sys: 0 ns, total: 8.69 ms\n",
      "Wall time: 1 s\n"
     ]
    }
   ],
   "source": [
    "%%time\n",
    "df_imm = spark.read.parquet('i94_sample.parquet/')\n",
    "df_imm.count()\n",
    "df_imm.printSchema()\n",
    "df_imm.show()"
   ]
  },
  {
   "cell_type": "code",
   "execution_count": 40,
   "metadata": {
    "editable": true
   },
   "outputs": [],
   "source": [
    "staging_imm = df_imm.createOrReplaceTempView(\"imm\")"
   ]
  },
  {
   "cell_type": "code",
   "execution_count": 41,
   "metadata": {},
   "outputs": [
    {
     "name": "stdout",
     "output_type": "stream",
     "text": [
      "root\n",
      " |-- i94mon: double (nullable = true)\n",
      " |-- count(1): long (nullable = false)\n",
      "\n",
      "+------+--------+\n",
      "|i94mon|count(1)|\n",
      "+------+--------+\n",
      "|   1.0|  284968|\n",
      "|   2.0|  257999|\n",
      "|   3.0|  315522|\n",
      "|   4.0|  310147|\n",
      "|   5.0|  344054|\n",
      "|   6.0|  356638|\n",
      "|   7.0|  427332|\n",
      "|   8.0|  410803|\n",
      "|   9.0|  374449|\n",
      "|  10.0|  364811|\n",
      "|  11.0|  291295|\n",
      "|  12.0|  343157|\n",
      "+------+--------+\n",
      "\n"
     ]
    },
    {
     "name": "stderr",
     "output_type": "stream",
     "text": [
      "2020-09-30 00:31:04,451 INFO  [etl] total 1% sample parquet rows: 12\n"
     ]
    }
   ],
   "source": [
    "imm_table = spark.sql(\"\"\"\n",
    "select distinct i94mon, COUNT(*)\n",
    "FROM imm\n",
    "GROUP BY 1\n",
    "ORDER BY 1 asc\n",
    "\"\"\")\n",
    "imm_table.printSchema()\n",
    "imm_table.show()\n",
    "LOG.info(f\"total 1% sample parquet rows: {imm_table.count()}\")"
   ]
  },
  {
   "cell_type": "code",
   "execution_count": 43,
   "metadata": {},
   "outputs": [
    {
     "data": {
      "image/png": "[encoded data removed]",
      "text/plain": [
       "<Figure size 432x288 with 1 Axes>"
      ]
     },
     "metadata": {
      "needs_background": "light"
     },
     "output_type": "display_data"
    }
   ],
   "source": [
    "import matplotlib.pyplot as plt\n",
    "t = [1,2,3,4,5,6,7,8,9,10,11,12]\n",
    "filesize_in_MB = [415 ,374 ,459 ,451 ,501 ,684 ,620 ,597 ,543 ,531 ,424 ,500]\n",
    "sample_in_rows = [284968,257999,315522,310147,344054,356638,427332,410803,374449,364811,291295,343157] \n",
    "sample_in_rows_lower = [s/100 for s in sample_in_rows ]\n",
    "plt.plot(t, filesize_in_MB, 'r--', t, sample_in_rows_lower, 'g--' )\n",
    "plt.ylabel('some numbers')\n",
    "plt.yscale('log')\n",
    "plt.show()"
   ]
  },
  {
   "cell_type": "markdown",
   "metadata": {},
   "source": [
    "## Extract i94 table from dataframe"
   ]
  },
  {
   "cell_type": "code",
   "execution_count": 44,
   "metadata": {},
   "outputs": [],
   "source": [
    "staging_imm = df_imm.createOrReplaceTempView(\"imm\")"
   ]
  },
  {
   "cell_type": "code",
   "execution_count": null,
   "metadata": {},
   "outputs": [],
   "source": [
    "i94_table = spark.sql(\"\"\"\n",
    "SELECT\n",
    "    DISTINCT \n",
    "FROM imm\n",
    "\"\"\")"
   ]
  },
  {
   "cell_type": "code",
   "execution_count": null,
   "metadata": {},
   "outputs": [],
   "source": []
  },
  {
   "cell_type": "code",
   "execution_count": null,
   "metadata": {},
   "outputs": [],
   "source": []
  },
  {
   "cell_type": "markdown",
   "metadata": {
    "editable": true
   },
   "source": [
    "## demographics data"
   ]
  },
  {
   "cell_type": "code",
   "execution_count": 31,
   "metadata": {
    "editable": true
   },
   "outputs": [
    {
     "name": "stdout",
     "output_type": "stream",
     "text": [
      "root\n",
      " |-- City: string (nullable = true)\n",
      " |-- State: string (nullable = true)\n",
      " |-- Median Age: double (nullable = true)\n",
      " |-- Male Population: integer (nullable = true)\n",
      " |-- Female Population: integer (nullable = true)\n",
      " |-- Total Population: integer (nullable = true)\n",
      " |-- Number of Veterans: integer (nullable = true)\n",
      " |-- Foreign-born: integer (nullable = true)\n",
      " |-- Average Household Size: double (nullable = true)\n",
      " |-- State Code: string (nullable = true)\n",
      " |-- Race: string (nullable = true)\n",
      " |-- Count: integer (nullable = true)\n",
      "\n",
      "+----------------+-------------+----------+---------------+-----------------+----------------+------------------+------------+----------------------+----------+--------------------+-----+\n",
      "|            City|        State|Median Age|Male Population|Female Population|Total Population|Number of Veterans|Foreign-born|Average Household Size|State Code|                Race|Count|\n",
      "+----------------+-------------+----------+---------------+-----------------+----------------+------------------+------------+----------------------+----------+--------------------+-----+\n",
      "|   Silver Spring|     Maryland|      33.8|          40601|            41862|           82463|              1562|       30908|                   2.6|        MD|  Hispanic or Latino|25924|\n",
      "|          Quincy|Massachusetts|      41.0|          44129|            49500|           93629|              4147|       32935|                  2.39|        MA|               White|58723|\n",
      "|          Hoover|      Alabama|      38.5|          38040|            46799|           84839|              4819|        8229|                  2.58|        AL|               Asian| 4759|\n",
      "|Rancho Cucamonga|   California|      34.5|          88127|            87105|          175232|              5821|       33878|                  3.18|        CA|Black or African-...|24437|\n",
      "|          Newark|   New Jersey|      34.6|         138040|           143873|          281913|              5829|       86253|                  2.73|        NJ|               White|76402|\n",
      "+----------------+-------------+----------+---------------+-----------------+----------------+------------------+------------+----------------------+----------+--------------------+-----+\n",
      "only showing top 5 rows\n",
      "\n"
     ]
    }
   ],
   "source": [
    "df_degh = spark.read.options(header='True',inferSchema='True',sep=';').csv('./us-cities-demographics.csv')\n",
    "df_degh.printSchema()\n",
    "df_degh.show(5)"
   ]
  },
  {
   "cell_type": "markdown",
   "metadata": {
    "editable": true
   },
   "source": [
    "## Checkout airport data"
   ]
  },
  {
   "cell_type": "code",
   "execution_count": 32,
   "metadata": {
    "editable": true
   },
   "outputs": [
    {
     "name": "stdout",
     "output_type": "stream",
     "text": [
      "root\n",
      " |-- ident: string (nullable = true)\n",
      " |-- type: string (nullable = true)\n",
      " |-- name: string (nullable = true)\n",
      " |-- elevation_ft: integer (nullable = true)\n",
      " |-- continent: string (nullable = true)\n",
      " |-- iso_country: string (nullable = true)\n",
      " |-- iso_region: string (nullable = true)\n",
      " |-- municipality: string (nullable = true)\n",
      " |-- gps_code: string (nullable = true)\n",
      " |-- iata_code: string (nullable = true)\n",
      " |-- local_code: string (nullable = true)\n",
      " |-- coordinates: string (nullable = true)\n",
      "\n",
      "+-----+-------------+--------------------+------------+---------+-----------+----------+------------+--------+---------+----------+--------------------+\n",
      "|ident|         type|                name|elevation_ft|continent|iso_country|iso_region|municipality|gps_code|iata_code|local_code|         coordinates|\n",
      "+-----+-------------+--------------------+------------+---------+-----------+----------+------------+--------+---------+----------+--------------------+\n",
      "|  00A|     heliport|   Total Rf Heliport|          11|       NA|         US|     US-PA|    Bensalem|     00A|     null|       00A|-74.9336013793945...|\n",
      "| 00AA|small_airport|Aero B Ranch Airport|        3435|       NA|         US|     US-KS|       Leoti|    00AA|     null|      00AA|-101.473911, 38.7...|\n",
      "| 00AK|small_airport|        Lowell Field|         450|       NA|         US|     US-AK|Anchor Point|    00AK|     null|      00AK|-151.695999146, 5...|\n",
      "| 00AL|small_airport|        Epps Airpark|         820|       NA|         US|     US-AL|     Harvest|    00AL|     null|      00AL|-86.7703018188476...|\n",
      "| 00AR|       closed|Newport Hospital ...|         237|       NA|         US|     US-AR|     Newport|    null|     null|      null| -91.254898, 35.6087|\n",
      "+-----+-------------+--------------------+------------+---------+-----------+----------+------------+--------+---------+----------+--------------------+\n",
      "only showing top 5 rows\n",
      "\n"
     ]
    }
   ],
   "source": [
    "df_air = spark.read.options(header='True',inferSchema='True').csv('./airport-codes_csv.csv')\n",
    "df_air.printSchema()\n",
    "df_air.show(5)"
   ]
  },
  {
   "cell_type": "markdown",
   "metadata": {
    "editable": true
   },
   "source": [
    "## Checkout temperature data"
   ]
  },
  {
   "cell_type": "code",
   "execution_count": 33,
   "metadata": {
    "editable": true
   },
   "outputs": [
    {
     "name": "stdout",
     "output_type": "stream",
     "text": [
      "root\n",
      " |-- dt: timestamp (nullable = true)\n",
      " |-- AverageTemperature: double (nullable = true)\n",
      " |-- AverageTemperatureUncertainty: double (nullable = true)\n",
      " |-- City: string (nullable = true)\n",
      " |-- Country: string (nullable = true)\n",
      " |-- Latitude: string (nullable = true)\n",
      " |-- Longitude: string (nullable = true)\n",
      "\n",
      "+-------------------+------------------+-----------------------------+-----+-------+--------+---------+\n",
      "|                 dt|AverageTemperature|AverageTemperatureUncertainty| City|Country|Latitude|Longitude|\n",
      "+-------------------+------------------+-----------------------------+-----+-------+--------+---------+\n",
      "|1743-11-01 00:00:00|             6.068|           1.7369999999999999|Århus|Denmark|  57.05N|   10.33E|\n",
      "|1743-12-01 00:00:00|              null|                         null|Århus|Denmark|  57.05N|   10.33E|\n",
      "|1744-01-01 00:00:00|              null|                         null|Århus|Denmark|  57.05N|   10.33E|\n",
      "|1744-02-01 00:00:00|              null|                         null|Århus|Denmark|  57.05N|   10.33E|\n",
      "|1744-03-01 00:00:00|              null|                         null|Århus|Denmark|  57.05N|   10.33E|\n",
      "+-------------------+------------------+-----------------------------+-----+-------+--------+---------+\n",
      "only showing top 5 rows\n",
      "\n"
     ]
    }
   ],
   "source": [
    "df_tmpt = spark.read.options(header='True', inferSchema='True').csv('./GlobalLandTemperaturesByCity.csv')\n",
    "df_tmpt.printSchema()\n",
    "df_tmpt.show(5)"
   ]
  },
  {
   "cell_type": "code",
   "execution_count": null,
   "metadata": {
    "editable": true
   },
   "outputs": [],
   "source": []
  },
  {
   "cell_type": "code",
   "execution_count": null,
   "metadata": {
    "editable": true
   },
   "outputs": [],
   "source": []
  },
  {
   "cell_type": "code",
   "execution_count": null,
   "metadata": {
    "editable": true
   },
   "outputs": [],
   "source": []
  },
  {
   "cell_type": "markdown",
   "metadata": {
    "editable": true
   },
   "source": [
    "### Step 3: Define the Data Model\n",
    "#### 3.1 Conceptual Data Model\n",
    "Map out the conceptual data model and explain why you chose that model\n",
    "\n",
    "#### 3.2 Mapping Out Data Pipelines\n",
    "List the steps necessary to pipeline the data into the chosen data model"
   ]
  },
  {
   "cell_type": "markdown",
   "metadata": {
    "editable": true
   },
   "source": [
    "### Step 4: Run Pipelines to Model the Data \n",
    "#### 4.1 Create the data model\n",
    "Build the data pipelines to create the data model."
   ]
  },
  {
   "cell_type": "code",
   "execution_count": null,
   "metadata": {
    "editable": true
   },
   "outputs": [],
   "source": [
    "# Write code here"
   ]
  },
  {
   "cell_type": "markdown",
   "metadata": {
    "editable": true
   },
   "source": [
    "#### 4.2 Data Quality Checks\n",
    "Explain the data quality checks you'll perform to ensure the pipeline ran as expected. These could include:\n",
    " * Integrity constraints on the relational database (e.g., unique key, data type, etc.)\n",
    " * Unit tests for the scripts to ensure they are doing the right thing\n",
    " * Source/Count checks to ensure completeness\n",
    " \n",
    "Run Quality Checks"
   ]
  },
  {
   "cell_type": "code",
   "execution_count": null,
   "metadata": {
    "editable": true
   },
   "outputs": [],
   "source": [
    "# Perform quality checks here"
   ]
  },
  {
   "cell_type": "markdown",
   "metadata": {
    "editable": true
   },
   "source": [
    "#### 4.3 Data dictionary \n",
    "Create a data dictionary for your data model. For each field, provide a brief description of what the data is and where it came from. You can include the data dictionary in the notebook or in a separate file."
   ]
  },
  {
   "cell_type": "markdown",
   "metadata": {
    "editable": true
   },
   "source": [
    "#### Step 5: Complete Project Write Up\n",
    "* Clearly state the rationale for the choice of tools and technologies for the project.\n",
    "* Propose how often the data should be updated and why.\n",
    "* Write a description of how you would approach the problem differently under the following scenarios:\n",
    " * The data was increased by 100x.\n",
    " * The data populates a dashboard that must be updated on a daily basis by 7am every day.\n",
    " * The database needed to be accessed by 100+ people."
   ]
  },
  {
   "cell_type": "code",
   "execution_count": null,
   "metadata": {
    "editable": true
   },
   "outputs": [],
   "source": []
  },
  {
   "cell_type": "code",
   "execution_count": null,
   "metadata": {
    "editable": true
   },
   "outputs": [],
   "source": []
  },
  {
   "cell_type": "code",
   "execution_count": null,
   "metadata": {
    "editable": true
   },
   "outputs": [],
   "source": []
  },
  {
   "cell_type": "code",
   "execution_count": null,
   "metadata": {
    "editable": true
   },
   "outputs": [],
   "source": []
  },
  {
   "cell_type": "code",
   "execution_count": null,
   "metadata": {
    "editable": true
   },
   "outputs": [],
   "source": []
  },
  {
   "cell_type": "code",
   "execution_count": 34,
   "metadata": {
    "editable": true
   },
   "outputs": [
    {
     "data": {
      "image/png": "[encoded data removed]",
      "text/plain": [
       "<Figure size 432x288 with 1 Axes>"
      ]
     },
     "metadata": {
      "needs_background": "light"
     },
     "output_type": "display_data"
    }
   ],
   "source": []
  },
  {
   "cell_type": "code",
   "execution_count": null,
   "metadata": {},
   "outputs": [],
   "source": []
  }
 ],
 "metadata": {
  "kernelspec": {
   "display_name": "Python 3",
   "language": "python",
   "name": "python3"
  },
  "language_info": {
   "codemirror_mode": {
    "name": "ipython",
    "version": 3
   },
   "file_extension": ".py",
   "mimetype": "text/x-python",
   "name": "python",
   "nbconvert_exporter": "python",
   "pygments_lexer": "ipython3",
   "version": "3.8.3"
  }
 },
 "nbformat": 4,
 "nbformat_minor": 4
}
