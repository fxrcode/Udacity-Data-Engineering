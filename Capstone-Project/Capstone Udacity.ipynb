{
 "cells": [
  {
   "cell_type": "markdown",
   "metadata": {
    "editable": true
   },
   "source": [
    "# Project Title\n",
    "### Data Engineering Capstone Project\n",
    "\n",
    "#### Project Summary\n",
    "--describe your project at a high level--\n",
    "\n",
    "The project follows the follow steps:\n",
    "* Step 1: Scope the Project and Gather Data\n",
    "* Step 2: Explore and Assess the Data\n",
    "* Step 3: Define the Data Model\n",
    "* Step 4: Run ETL to Model the Data\n",
    "* Step 5: Complete Project Write Up"
   ]
  },
  {
   "cell_type": "code",
   "execution_count": 241,
   "metadata": {
    "editable": true
   },
   "outputs": [],
   "source": [
    "# Do all imports and installs here\n",
    "import logging\n",
    "import numpy as np\n",
    "import pandas as pd\n",
    "import psycopg2\n",
    "from pprint import pprint\n",
    "import configparser\n",
    "import psycopg2\n",
    "import pandas as pd\n",
    "pd.set_option('display.max_columns', None)\n",
    "import os\n",
    "from pyspark.sql import SparkSession, DataFrame\n",
    "import pyspark.sql.functions as F \n",
    "from pyspark.sql.types import StructType as R, StructField as Fld, DoubleType as Dbl, StringType as Str, IntegerType as Int, DateType as Date\n",
    "from collections import OrderedDict \n",
    "from datetime import datetime, timedelta\n",
    "\n",
    "logging.basicConfig(level=logging.INFO, format='%(asctime)s %(levelname)s  [%(name)s] %(message)s')\n",
    "LOG = logging.getLogger('etl')"
   ]
  },
  {
   "cell_type": "markdown",
   "metadata": {
    "editable": true
   },
   "source": [
    "### Step 1: Scope the Project and Gather Data\n",
    "\n",
    "#### Scope \n",
    "Explain what you plan to do in the project in more detail. What data do you use? What is your end solution look like? What tools did you use? etc>\n",
    "\n",
    "#### Describe and Gather Data \n",
    "Describe the data sets you're using. Where did it come from? What type of information is included? "
   ]
  },
  {
   "cell_type": "code",
   "execution_count": 2,
   "metadata": {
    "editable": true
   },
   "outputs": [
    {
     "name": "stdout",
     "output_type": "stream",
     "text": [
      "['cicid',\n",
      " 'i94yr',\n",
      " 'i94mon',\n",
      " 'i94cit',\n",
      " 'i94res',\n",
      " 'i94port',\n",
      " 'arrdate',\n",
      " 'i94mode',\n",
      " 'i94addr',\n",
      " 'depdate',\n",
      " 'i94bir',\n",
      " 'i94visa',\n",
      " 'count',\n",
      " 'dtadfile',\n",
      " 'visapost',\n",
      " 'occup',\n",
      " 'entdepa',\n",
      " 'entdepd',\n",
      " 'entdepu',\n",
      " 'matflag',\n",
      " 'biryear',\n",
      " 'dtaddto',\n",
      " 'gender',\n",
      " 'insnum',\n",
      " 'airline',\n",
      " 'admnum',\n",
      " 'fltno',\n",
      " 'visatype']\n"
     ]
    }
   ],
   "source": [
    "# Read in the data here\n",
    "imm_sample = pd.read_csv('./immigration_data_sample.csv')\n",
    "imm_sample.head()\n",
    "imm_header = list(imm_sample.head(0))\n",
    "imm_header = imm_header[1:]\n",
    "pprint(imm_header)"
   ]
  },
  {
   "cell_type": "code",
   "execution_count": 114,
   "metadata": {
    "editable": true
   },
   "outputs": [],
   "source": [
    "# .config(\"spark.jars.packages\",\"org.apache.hadoop:hadoop-aws:2.7.0\") \\\n",
    "# .config(\"spark.jars.packages\", \"saurfang:spark-sas7bdat:3.0.0-s_2.12\") \\\n",
    "from pyspark.sql import SparkSession\n",
    "spark = SparkSession.builder \\\n",
    "                     .config(\"spark.jars.packages\",\"org.apache.hadoop:hadoop-aws:2.7.0\") \\\n",
    "                    .enableHiveSupport() \\\n",
    "                    .getOrCreate()\n",
    "# df_spark =spark.read.format('com.github.saurfang.sas.spark').load('../../data/18-83510-I94-Data-2016/i94_apr16_sub.sas7bdat')"
   ]
  },
  {
   "cell_type": "code",
   "execution_count": 4,
   "metadata": {
    "editable": true
   },
   "outputs": [],
   "source": [
    "#write to parquet\n",
    "# df_spark.write.parquet(\"sas_data\")\n",
    "# df_spark=spark.read.parquet(\"sas_data\")"
   ]
  },
  {
   "cell_type": "markdown",
   "metadata": {
    "editable": true
   },
   "source": [
    "### Step 2: Explore and Assess the Data\n",
    "#### Explore the Data \n",
    "Identify data quality issues, like missing values, duplicate data, etc.\n",
    "\n",
    "#### Cleaning Steps\n",
    "Document steps necessary to clean the data"
   ]
  },
  {
   "cell_type": "markdown",
   "metadata": {
    "editable": true
   },
   "source": [
    "# Performing cleaning tasks here\n",
    "* Checkout i94 2016 data\n",
    "* Checkout demographics data\n",
    "* Checkout airport data\n",
    "* Checkout temperature data"
   ]
  },
  {
   "cell_type": "markdown",
   "metadata": {},
   "source": [
    "# get valid values of I94 fields"
   ]
  },
  {
   "cell_type": "code",
   "execution_count": 422,
   "metadata": {},
   "outputs": [
    {
     "name": "stdout",
     "output_type": "stream",
     "text": [
      "<Section: I94MODE>\n"
     ]
    }
   ],
   "source": [
    "# try configparsing\n",
    "config = configparser.ConfigParser()\n",
    "config.read_file(open('meta_i94.cfg'))\n",
    "\n",
    "pprint(config['I94MODE'])"
   ]
  },
  {
   "cell_type": "code",
   "execution_count": 423,
   "metadata": {},
   "outputs": [],
   "source": [
    "sections_dict = {}\n",
    "# get sections and iterate over each\n",
    "sections = config.sections()\n",
    "\n",
    "for section in sections:\n",
    "    options = config.options(section)\n",
    "    temp_dict = {}\n",
    "    for option in options:\n",
    "        k = option.strip('\\'').strip().upper()\n",
    "        v = config.get(section,option).strip('\\'').strip().upper()\n",
    "        temp_dict[k] = v\n",
    "\n",
    "    sections_dict[section] = temp_dict"
   ]
  },
  {
   "cell_type": "code",
   "execution_count": 428,
   "metadata": {},
   "outputs": [
    {
     "name": "stdout",
     "output_type": "stream",
     "text": [
      "I94CIT\n",
      "I94PORT\n",
      "I94MODE\n",
      "I94VISA\n",
      "I94ADDR\n"
     ]
    }
   ],
   "source": [
    "# cast meta key into it's original type\n",
    "meta_i94 = {}\n",
    "for k, v in sections_dict.items():\n",
    "    print(k)\n",
    "    if k == 'I94CIT' or k == 'I94MODE' or k == 'I94VISA':\n",
    "        meta_i94[k] = {int(vk):vv for vk,vv in v.items()}\n",
    "    else:\n",
    "        meta_i94[k] = v"
   ]
  },
  {
   "cell_type": "markdown",
   "metadata": {
    "editable": true
   },
   "source": [
    "## i94 data"
   ]
  },
  {
   "cell_type": "code",
   "execution_count": 168,
   "metadata": {
    "editable": true
   },
   "outputs": [],
   "source": [
    "i94_fnames=['./data/18-83510-I94-Data-2016/i94_jan16_sub.sas7bdat',\n",
    "            './data/18-83510-I94-Data-2016/i94_feb16_sub.sas7bdat',\n",
    "            './data/18-83510-I94-Data-2016/i94_mar16_sub.sas7bdat',\n",
    "            './data/18-83510-I94-Data-2016/i94_apr16_sub.sas7bdat',\n",
    "            './data/18-83510-I94-Data-2016/i94_may16_sub.sas7bdat',\n",
    "            './data/18-83510-I94-Data-2016/i94_jun16_sub.sas7bdat',\n",
    "            './data/18-83510-I94-Data-2016/i94_jul16_sub.sas7bdat',\n",
    "            './data/18-83510-I94-Data-2016/i94_aug16_sub.sas7bdat',\n",
    "            './data/18-83510-I94-Data-2016/i94_sep16_sub.sas7bdat',\n",
    "            './data/18-83510-I94-Data-2016/i94_oct16_sub.sas7bdat',\n",
    "            './data/18-83510-I94-Data-2016/i94_nov16_sub.sas7bdat',\n",
    "            './data/18-83510-I94-Data-2016/i94_dec16_sub.sas7bdat']"
   ]
  },
  {
   "cell_type": "code",
   "execution_count": 216,
   "metadata": {},
   "outputs": [],
   "source": [
    "CustomI94Schema = R([\n",
    "    Fld(\"cicid\", Int()),\n",
    "    Fld(\"i94yr\", Int()),\n",
    "    Fld(\"i94mon\", Int()),  \n",
    "    Fld(\"i94cit\", Int()),  \n",
    "    Fld(\"i94res\", Int()),  \n",
    "    Fld(\"i94port\", Str()), \n",
    "    Fld(\"arrdate\", Int()), \n",
    "    Fld(\"i94mode\", Int()), \n",
    "    Fld(\"i94addr\", Str()), \n",
    "    Fld(\"depdate\", Int()), \n",
    "    Fld(\"i94bir\", Int()),  \n",
    "    Fld(\"i94visa\", Int()), \n",
    "    Fld(\"count\", Int()),\n",
    "    Fld(\"dtadfile\", Str()),\n",
    "    Fld(\"visapost\", Str()),\n",
    "    Fld(\"occup\", Str()),\n",
    "    Fld(\"entdepa\", Str()), \n",
    "    Fld(\"entdepd\", Str()), \n",
    "    Fld(\"entdepu\", Str()),\n",
    "    Fld(\"matflag\", Str()),  \n",
    "    Fld(\"biryear\", Int()), \n",
    "    Fld(\"dtaddto\", Str()),\n",
    "    Fld(\"gender\", Str()),  \n",
    "    Fld(\"insnum\", Str()),  \n",
    "    Fld(\"airline\", Str()), \n",
    "    Fld(\"admnum\", Dbl()),  \n",
    "    Fld(\"fltno\", Str()),\n",
    "    Fld(\"visatype\", Str())\n",
    "])\n",
    "\n",
    "CustomI94JunSchema = R([\n",
    "    Fld(\"cicid\", Int()),\n",
    "    Fld(\"i94yr\", Int()),\n",
    "    Fld(\"i94mon\", Int()),  \n",
    "    Fld(\"i94cit\", Int()),  \n",
    "    Fld(\"i94res\", Int()),  \n",
    "    Fld(\"i94port\", Str()), \n",
    "    Fld(\"arrdate\", Int()), \n",
    "    Fld(\"i94mode\", Int()), \n",
    "    Fld(\"i94addr\", Str()), \n",
    "    Fld(\"depdate\", Int()), \n",
    "    Fld(\"i94bir\", Int()),  \n",
    "    Fld(\"i94visa\", Int()), \n",
    "    Fld(\"count\", Int()),\n",
    "    Fld(\"validres\", Int()),\n",
    "    Fld(\"delete_days\", Int()),\n",
    "    Fld(\"delete_mexl\", Int()),\n",
    "    Fld(\"delete_dup\", Int()),\n",
    "    Fld(\"delete_visa\", Int()), \n",
    "    Fld(\"delete_recdup\", Int()),\n",
    "    Fld(\"dtadfile\", Str()),\n",
    "    Fld(\"visapost\", Str()),\n",
    "    Fld(\"occup\", Str()),\n",
    "    Fld(\"entdepa\", Str()), \n",
    "    Fld(\"entdepd\", Str()), \n",
    "    Fld(\"entdepu\", Str()),\n",
    "    Fld(\"matflag\", Str()),  \n",
    "    Fld(\"biryear\", Int()), \n",
    "    Fld(\"dtaddto\", Str()),\n",
    "    Fld(\"gender\", Str()),  \n",
    "    Fld(\"insnum\", Str()),  \n",
    "    Fld(\"airline\", Str()), \n",
    "    Fld(\"admnum\", Dbl()),  \n",
    "    Fld(\"fltno\", Str()),\n",
    "    Fld(\"visatype\", Str())\n",
    "])"
   ]
  },
  {
   "cell_type": "code",
   "execution_count": 224,
   "metadata": {
    "collapsed": true,
    "editable": true,
    "jupyter": {
     "outputs_hidden": true
    }
   },
   "outputs": [
    {
     "name": "stdout",
     "output_type": "stream",
     "text": [
      "i94_jan16_sub.sas7bdat\n",
      "root\n",
      " |-- cicid: integer (nullable = true)\n",
      " |-- i94yr: integer (nullable = true)\n",
      " |-- i94mon: integer (nullable = true)\n",
      " |-- i94cit: integer (nullable = true)\n",
      " |-- i94res: integer (nullable = true)\n",
      " |-- i94port: string (nullable = true)\n",
      " |-- arrdate: integer (nullable = true)\n",
      " |-- i94mode: integer (nullable = true)\n",
      " |-- i94addr: string (nullable = true)\n",
      " |-- depdate: integer (nullable = true)\n",
      " |-- i94bir: integer (nullable = true)\n",
      " |-- i94visa: integer (nullable = true)\n",
      " |-- count: integer (nullable = true)\n",
      " |-- dtadfile: string (nullable = true)\n",
      " |-- visapost: string (nullable = true)\n",
      " |-- occup: string (nullable = true)\n",
      " |-- entdepa: string (nullable = true)\n",
      " |-- entdepd: string (nullable = true)\n",
      " |-- entdepu: string (nullable = true)\n",
      " |-- matflag: string (nullable = true)\n",
      " |-- biryear: integer (nullable = true)\n",
      " |-- dtaddto: string (nullable = true)\n",
      " |-- gender: string (nullable = true)\n",
      " |-- insnum: string (nullable = true)\n",
      " |-- airline: string (nullable = true)\n",
      " |-- admnum: double (nullable = true)\n",
      " |-- fltno: string (nullable = true)\n",
      " |-- visatype: string (nullable = true)\n",
      "\n",
      "+-----+-----+------+------+------+-------+-------+-------+-------+-------+------+-------+-----+--------+--------+-----+-------+-------+-------+-------+-------+--------+------+------+-------+------------+-----+--------+\n",
      "|cicid|i94yr|i94mon|i94cit|i94res|i94port|arrdate|i94mode|i94addr|depdate|i94bir|i94visa|count|dtadfile|visapost|occup|entdepa|entdepd|entdepu|matflag|biryear| dtaddto|gender|insnum|airline|      admnum|fltno|visatype|\n",
      "+-----+-----+------+------+------+-------+-------+-------+-------+-------+------+-------+-----+--------+--------+-----+-------+-------+-------+-------+-------+--------+------+------+-------+------------+-----+--------+\n",
      "|    7| 2016|     1|   101|   101|    BOS|  20465|      1|     MA|   null|    20|      3|    1|    null|    null| null|      T|   null|   null|   null|   1996|     D/S|     M|  null|     LH|3.46608285E8|  424|      F1|\n",
      "|    8| 2016|     1|   101|   101|    BOS|  20465|      1|     MA|   null|    20|      3|    1|    null|    null| null|      T|   null|   null|   null|   1996|     D/S|     M|  null|     LH|3.46627585E8|  424|      F1|\n",
      "|    9| 2016|     1|   101|   101|    BOS|  20469|      1|     CT|  20480|    17|      2|    1|    null|    null| null|      T|      N|   null|      M|   1999|07152016|     F|  null|     AF|3.81092385E8|  338|      B2|\n",
      "|   10| 2016|     1|   101|   101|    BOS|  20469|      1|     CT|  20499|    45|      2|    1|    null|    null| null|      T|      N|   null|      M|   1971|07152016|     F|  null|     AF|3.81087885E8|  338|      B2|\n",
      "|   11| 2016|     1|   101|   101|    BOS|  20469|      1|     CT|  20499|    12|      2|    1|    null|    null| null|      T|      N|   null|      M|   2004|07152016|     M|  null|     AF|3.81078685E8|  338|      B2|\n",
      "|   12| 2016|     1|   101|   101|    BOS|  20474|      1|     MA|   null|    33|      2|    1|    null|    null| null|      T|   null|   null|   null|   1983|07202016|     M|  null|     LH|4.06155985E8|  424|      B2|\n",
      "|   15| 2016|     1|   101|   101|    BOS|  20477|      1|     MA|  20524|    28|      3|    1|    null|    null| null|      T|      O|   null|      M|   1988|     D/S|     F|  null|     LH|4.17363085E8|  424|      F1|\n",
      "|   17| 2016|     1|   101|   101|    BOS|  20480|      1|     MA|   null|    78|      2|    1|    null|    null| null|      T|   null|   null|   null|   1938|07262016|     M|  null|     TK|4.28558285E8|   81|      B2|\n",
      "|   18| 2016|     1|   101|   101|    BOS|  20480|      1|     MA|   null|    70|      2|    1|    null|    null| null|      T|   null|   null|   null|   1946|07262016|     F|  null|     TK|4.28561085E8|   81|      B2|\n",
      "|   20| 2016|     1|   101|   101|    CHI|  20473|      1|     IL|  20482|    28|      2|    1|    null|    null| null|      T|      O|   null|      M|   1988|07192016|     M|  null|     BA|4.01779785E8|  295|      B2|\n",
      "|   21| 2016|     1|   101|   101|    CHI|  20478|      1|     TN|  20495|    28|      2|    1|    null|    null| null|      T|      N|   null|      M|   1988|07242016|     M|  null|     OS|4.20642985E8|   65|      B2|\n",
      "|   22| 2016|     1|   101|   101|    TUC|  20476|      1|   null|   null|    62|      2|    1|    null|    null| null|      T|   null|   null|   null|   1954|07222016|     M|  null|     LH|4.12742085E8|  442|      B2|\n",
      "|   23| 2016|     1|   101|   101|    TUC|  20476|      1|   null|   null|    54|      2|    1|    null|    null| null|      T|   null|   null|   null|   1962|07222016|     F|  null|     LH|4.12735785E8|  442|      B2|\n",
      "|   24| 2016|     1|   101|   101|    TUC|  20476|      1|     MI|  20508|    64|      2|    1|    null|    null| null|      T|      O|   null|      M|   1952|02252016|     M|  null|     LH|4.12708185E8|  442|      B2|\n",
      "|   25| 2016|     1|   101|   101|    TUC|  20476|      1|     MI|  20508|    53|      2|    1|    null|    null| null|      T|      O|   null|      M|   1963|02252016|     F|  null|     LH|4.12705485E8|  442|      B2|\n",
      "|   28| 2016|     1|   101|   101|    LVG|  20481|      1|     NV|   null|    77|      2|    1|    null|    null| null|      T|   null|   null|   null|   1939|07272016|     F|  null|     DE|4.31613585E8| 2062|      B2|\n",
      "|   29| 2016|     1|   101|   101|    LVG|  20481|      1|     NV|   null|    74|      2|    1|    null|    null| null|      T|   null|   null|   null|   1942|07272016|     M|  null|     DE|4.31605285E8| 2062|      B2|\n",
      "|   30| 2016|     1|   101|   101|    MIA|  20459|      1|     FL|   null|    26|      3|    1|    null|    null| null|      T|   null|   null|   null|   1990|     D/S|     M|  null|     AB|3.09652985E8| 7000|      F1|\n",
      "|   32| 2016|     1|   101|   101|    MIA|  20471|      1|     FL|  20501|    42|      2|    1|    null|    null| null|      T|      O|   null|      M|   1974|02182016|     M|  null|     OS|3.91844985E8|   97|      B2|\n",
      "|   33| 2016|     1|   101|   101|    NEW|  20463|      1|     NJ|   null|    70|      2|    1|    null|    null| null|      T|   null|   null|   null|   1946|07092016|     M|  null|     OS|3.31349485E8|   89|      B2|\n",
      "+-----+-----+------+------+------+-------+-------+-------+-------+-------+------+-------+-----+--------+--------+-----+-------+-------+-------+-------+-------+--------+------+------+-------+------------+-----+--------+\n",
      "only showing top 20 rows\n",
      "\n",
      "i94_feb16_sub.sas7bdat\n",
      "root\n",
      " |-- cicid: integer (nullable = true)\n",
      " |-- i94yr: integer (nullable = true)\n",
      " |-- i94mon: integer (nullable = true)\n",
      " |-- i94cit: integer (nullable = true)\n",
      " |-- i94res: integer (nullable = true)\n",
      " |-- i94port: string (nullable = true)\n",
      " |-- arrdate: integer (nullable = true)\n",
      " |-- i94mode: integer (nullable = true)\n",
      " |-- i94addr: string (nullable = true)\n",
      " |-- depdate: integer (nullable = true)\n",
      " |-- i94bir: integer (nullable = true)\n",
      " |-- i94visa: integer (nullable = true)\n",
      " |-- count: integer (nullable = true)\n",
      " |-- dtadfile: string (nullable = true)\n",
      " |-- visapost: string (nullable = true)\n",
      " |-- occup: string (nullable = true)\n",
      " |-- entdepa: string (nullable = true)\n",
      " |-- entdepd: string (nullable = true)\n",
      " |-- entdepu: string (nullable = true)\n",
      " |-- matflag: string (nullable = true)\n",
      " |-- biryear: integer (nullable = true)\n",
      " |-- dtaddto: string (nullable = true)\n",
      " |-- gender: string (nullable = true)\n",
      " |-- insnum: string (nullable = true)\n",
      " |-- airline: string (nullable = true)\n",
      " |-- admnum: double (nullable = true)\n",
      " |-- fltno: string (nullable = true)\n",
      " |-- visatype: string (nullable = true)\n",
      "\n",
      "+-----+-----+------+------+------+-------+-------+-------+-------+-------+------+-------+-----+--------+--------+-----+-------+-------+-------+-------+-------+--------+------+------+-------+------------+-----+--------+\n",
      "|cicid|i94yr|i94mon|i94cit|i94res|i94port|arrdate|i94mode|i94addr|depdate|i94bir|i94visa|count|dtadfile|visapost|occup|entdepa|entdepd|entdepu|matflag|biryear| dtaddto|gender|insnum|airline|      admnum|fltno|visatype|\n",
      "+-----+-----+------+------+------+-------+-------+-------+-------+-------+------+-------+-----+--------+--------+-----+-------+-------+-------+-------+-------+--------+------+------+-------+------------+-----+--------+\n",
      "|    2| 2016|     2|   101|   101|    ATL|  20498|      1|     MI|   null|    21|      3|    1|    null|    null| null|      T|   null|   null|   null|   1995|     D/S|     F|  null|     DL|4.91319785E8|  241|      F1|\n",
      "|    5| 2016|     2|   101|   101|    CHI|  20492|      1|     IL|   null|    55|      2|    1|    null|    null| null|      T|   null|   null|   null|   1961|08072016|     F|  null|     TK|4.70581085E8|    5|      B2|\n",
      "|    6| 2016|     2|   101|   101|    CHI|  20492|      1|     IL|   null|     6|      2|    1|    null|    null| null|      T|   null|   null|   null|   2010|08072016|     M|  null|     TK|4.70572885E8|    5|      B2|\n",
      "|    7| 2016|     2|   101|   101|    CHI|  20500|      1|     AZ|  20527|    38|      2|    1|    null|    null| null|      T|      N|   null|      M|   1978|08152016|     F|  null|     LH|4.97400985E8|  434|      B2|\n",
      "|    8| 2016|     2|   101|   101|    CHI|  20503|      1|     IL|  20518|    37|      2|    1|    null|    null| null|      T|      O|   null|      M|   1979|08182016|     M|  null|     AA|5.07772085E8|   87|      B2|\n",
      "|    9| 2016|     2|   101|   101|    CHI|  20506|      1|     IL|  20520|    21|      2|    1|    null|    null| null|      T|      O|   null|      M|   1995|08212016|     M|  null|     OS|5.23079485E8|   65|      B2|\n",
      "|   13| 2016|     2|   101|   101|    TUC|  20495|      1|     MI|   null|    43|      2|    1|    null|    null| null|      T|   null|   null|   null|   1973|08102016|     M|  null|     LH|4.78972185E8|  442|      B2|\n",
      "|   15| 2016|     2|   101|   101|    TUC|  20501|      1|     MI|   null|    20|      2|    1|    null|    null| null|      T|   null|   null|   null|   1996|08162016|     M|  null|     DL|5.02626885E8|  137|      B2|\n",
      "|   16| 2016|     2|   101|   101|    TUC|  20503|      1|   null|  20519|    42|      2|    1|    null|    null| null|      T|      O|   null|      M|   1974|08182016|     F|  null|     LH|5.09809885E8|  442|      B2|\n",
      "|   17| 2016|     2|   101|   101|    TUC|  20504|      1|     MI|   null|    72|      2|    1|    null|    null| null|      T|   null|   null|   null|   1944|08192016|     F|  null|     LH|5.13194085E8|  442|      B2|\n",
      "|   18| 2016|     2|   101|   101|    TUC|  20504|      1|     MI|   null|    54|      2|    1|    null|    null| null|      T|   null|   null|   null|   1962|08192016|     M|  null|     LH|5.13186885E8|  442|      B2|\n",
      "|   19| 2016|     2|   101|   101|    TUC|  20504|      1|     MI|   null|    27|      2|    1|    null|    null| null|      T|   null|   null|   null|   1989|08192016|     M|  null|     LH|5.13195085E8|  442|      B2|\n",
      "|   20| 2016|     2|   101|   101|    LOS|  20495|      1|     FL|   null|    23|      2|    1|    null|    null| null|      T|   null|   null|   null|   1993|08102016|     M|  null|     QF|4.77186585E8|   93|      B2|\n",
      "|   23| 2016|     2|   101|   101|    NEW|  20495|      1|     NY|   null|    34|      1|    1|    null|    null| null|      T|   null|   null|   null|   1982|08102016|     M|  null|     LH|4.79654185E8|  412|      B1|\n",
      "|   24| 2016|     2|   101|   101|    NEW|  20503|      1|     NJ|  20513|    23|      2|    1|    null|    null| null|      T|      O|   null|      M|   1993|08182016|     M|  null|     OS|5.07867385E8|   89|      B2|\n",
      "|   26| 2016|     2|   101|   101|    NYC|  20491|      1|     NY|   null|    77|      2|    1|    null|    null| null|      T|   null|   null|   null|   1939|08062016|     M|  null|     OS|4.64868385E8|   87|      B2|\n",
      "|   29| 2016|     2|   101|   101|    NYC|  20497|      1|     NY|  20507|    51|      1|    1|    null|    null| null|      T|      O|   null|      M|   1965|08122016|     M|  null|     TK|4.85192785E8|    3|      B1|\n",
      "|   32| 2016|     2|   101|   101|    NYC|  20506|      1|     NY|  20534|    27|      2|    1|    null|    null| null|      T|      N|   null|      M|   1989|08212016|     F|  null|     AZ|5.23095085E8|  610|      B2|\n",
      "|   33| 2016|     2|   101|   101|    NYC|  20506|      1|     NY|  20535|    36|      2|    1|    null|    null| null|      T|      O|   null|      M|   1980|08212016|     F|  null|     AZ|5.23058385E8|  610|      B2|\n",
      "|   36| 2016|     2|   101|   101|    TAM|  20490|      1|     FL|  20590|    55|      2|    1|    null|    null| null|      T|      O|   null|      M|   1961|08052016|     F|  null|     LH|4.62174285E8|  482|      B2|\n",
      "+-----+-----+------+------+------+-------+-------+-------+-------+-------+------+-------+-----+--------+--------+-----+-------+-------+-------+-------+-------+--------+------+------+-------+------------+-----+--------+\n",
      "only showing top 20 rows\n",
      "\n",
      "i94_mar16_sub.sas7bdat\n",
      "root\n",
      " |-- cicid: integer (nullable = true)\n",
      " |-- i94yr: integer (nullable = true)\n",
      " |-- i94mon: integer (nullable = true)\n",
      " |-- i94cit: integer (nullable = true)\n",
      " |-- i94res: integer (nullable = true)\n",
      " |-- i94port: string (nullable = true)\n",
      " |-- arrdate: integer (nullable = true)\n",
      " |-- i94mode: integer (nullable = true)\n",
      " |-- i94addr: string (nullable = true)\n",
      " |-- depdate: integer (nullable = true)\n",
      " |-- i94bir: integer (nullable = true)\n",
      " |-- i94visa: integer (nullable = true)\n",
      " |-- count: integer (nullable = true)\n",
      " |-- dtadfile: string (nullable = true)\n",
      " |-- visapost: string (nullable = true)\n",
      " |-- occup: string (nullable = true)\n",
      " |-- entdepa: string (nullable = true)\n",
      " |-- entdepd: string (nullable = true)\n",
      " |-- entdepu: string (nullable = true)\n",
      " |-- matflag: string (nullable = true)\n",
      " |-- biryear: integer (nullable = true)\n",
      " |-- dtaddto: string (nullable = true)\n",
      " |-- gender: string (nullable = true)\n",
      " |-- insnum: string (nullable = true)\n",
      " |-- airline: string (nullable = true)\n",
      " |-- admnum: double (nullable = true)\n",
      " |-- fltno: string (nullable = true)\n",
      " |-- visatype: string (nullable = true)\n",
      "\n",
      "+-----+-----+------+------+------+-------+-------+-------+-------+-------+------+-------+-----+--------+--------+-----+-------+-------+-------+-------+-------+--------+------+------+-------+--------------+-----+--------+\n",
      "|cicid|i94yr|i94mon|i94cit|i94res|i94port|arrdate|i94mode|i94addr|depdate|i94bir|i94visa|count|dtadfile|visapost|occup|entdepa|entdepd|entdepu|matflag|biryear| dtaddto|gender|insnum|airline|        admnum|fltno|visatype|\n",
      "+-----+-----+------+------+------+-------+-------+-------+-------+-------+------+-------+-----+--------+--------+-----+-------+-------+-------+-------+-------+--------+------+------+-------+--------------+-----+--------+\n",
      "|    2| 2016|     3|   213|   213|    XXX|  20543|   null|   null|   null|    64|      2|    1|    null|    null| null|      T|   null|      U|   null|   1952|09292016|  null|  null|   null| 1.140199685E9| null|      B2|\n",
      "|    3| 2016|     3|   245|   245|    XXX|  20524|   null|   null|   null|    60|      2|    1|    null|    null| null|      T|   null|      U|   null|   1956|09102016|  null|  null|   null| 1.697294685E9| null|      B2|\n",
      "|    7| 2016|     3|   260|   260|    SFR|  20514|      1|     CA|  20640|    28|      2|    1|20150912|     MNL| null|      G|      O|      U|      M|   1988|08312016|     F|  null|     PR|7.391006613E10|00104|      B2|\n",
      "|    9| 2016|     3|   691|   691|    FTL|  20533|      1|     FL|   null|    82|      3|    1|20160114|     BGT| null|      G|   null|   null|   null|   1934|     D/S|     M|  null|    *GA|8.539318803E10|N900J|      F1|\n",
      "|   11| 2016|     3|   258|   258|    XXX|  20514|      1|     NY|  20533|    36|      1|    1|20160229|     PRS| null|      G|      O|      U|      M|   1980|08282016|     M|  null|     AA|8.937569953E10|   45|      B1|\n",
      "|   12| 2016|     3|   101|   101|    NYC|  20514|      1|     NY|  20598|    37|      1|    1|20160301|    null| null|      O|      I|   null|      M|   1979|08312016|  null|  null|     TK|8.944787503E10|00003|      B1|\n",
      "|   14| 2016|     3|   101|   101|    MIA|  20514|      1|     FL|  20544|    29|      2|    1|20160301|     FLR| null|      G|      O|   null|      M|   1987|08312016|     M|  null|     LH|8.946287093E10|00462|      B2|\n",
      "|   15| 2016|     3|   101|   101|    NYC|  20514|      1|     NY|  20524|    23|      2|    1|20160301|     LND| null|      G|      O|   null|      M|   1993|08312016|     M|  null|     VS|8.948221803E10|00009|      B2|\n",
      "|   17| 2016|     3|   101|   101|    NYC|  20514|      1|     NY|   null|    26|      2|    1|20160301|     TIA| null|      G|   null|   null|   null|   1990|08312016|     M|  null|     TK|8.948743103E10|00011|      B2|\n",
      "|   18| 2016|     3|   101|   101|    NYC|  20514|      1|     NY|  20525|    53|      2|    1|20160301|     TIA| null|      G|      O|   null|      M|   1963|08312016|     M|  null|     TK|8.944831413E10|00003|      B2|\n",
      "|   20| 2016|     3|   101|   101|    NYC|  20514|      1|     NY|  20525|    22|      2|    1|20160301|     TIA| null|      G|      O|   null|      M|   1994|08312016|     M|  null|     AZ|8.946066533E10|00608|      B2|\n",
      "|   21| 2016|     3|   101|   101|    NYC|  20514|      1|     NY|  20635|    73|      2|    1|20160301|     TIA| null|      G|      O|   null|      M|   1943|08312016|     F|  null|     AZ|8.948164883E10|00610|      B2|\n",
      "|   22| 2016|     3|   101|   101|    LOS|  20514|      1|     CA|  20586|    18|      2|    1|20160301|     TIA| null|      G|      O|   null|      M|   1998|08312016|     M|  null|     TK|8.948161763E10|00009|      B2|\n",
      "|   23| 2016|     3|   101|   101|    CHI|  20514|      1|     KS|  20562|    36|      2|    1|20160301|     TIA| null|      G|      O|   null|      M|   1980|08312016|     F|  null|     LH|8.948435393E10|00434|      B2|\n",
      "|   24| 2016|     3|   101|   101|    CHI|  20514|      1|     KS|  20562|    31|      2|    1|20160301|     TIA| null|      G|      O|   null|      M|   1985|08312016|     F|  null|     LH|8.948448403E10|00434|      B2|\n",
      "|   25| 2016|     3|   101|   101|    SEA|  20514|      1|     WA|   null|    21|      3|    1|20160301|     TIA| null|      G|   null|   null|   null|   1995|     D/S|     F|  null|     BA|8.948039013E10|00049|      F1|\n",
      "|   26| 2016|     3|   101|   101|    SEA|  20514|      1|     WA|   null|    19|      3|    1|20160301|     TIA| null|      G|   null|   null|   null|   1997|     D/S|     M|  null|     BA|8.948034253E10|00049|      F1|\n",
      "|   28| 2016|     3|   101|   117|    ATL|  20514|      1|     NY|  20516|    35|      2|    1|20160301|     FLR| null|      H|      O|   null|      M|   1981|08152016|     M|  null|     EV|8.830011213E10|05318|      B2|\n",
      "|   29| 2016|     3|   101|   117|    ATL|  20514|      1|     NY|  20516|    34|      2|    1|20160301|     FLR| null|      H|      O|   null|      M|   1982|08152016|     F|  null|     EV|8.830010853E10|05318|      B2|\n",
      "|   30| 2016|     3|   101|   117|    ATL|  20514|      1|     NY|  20516|    30|      2|    1|20160301|     FLR| null|      H|      O|   null|      M|   1986|08152016|     F|  null|     EV|8.830011403E10|05318|      B2|\n",
      "+-----+-----+------+------+------+-------+-------+-------+-------+-------+------+-------+-----+--------+--------+-----+-------+-------+-------+-------+-------+--------+------+------+-------+--------------+-----+--------+\n",
      "only showing top 20 rows\n",
      "\n",
      "i94_apr16_sub.sas7bdat\n",
      "root\n",
      " |-- cicid: integer (nullable = true)\n",
      " |-- i94yr: integer (nullable = true)\n",
      " |-- i94mon: integer (nullable = true)\n",
      " |-- i94cit: integer (nullable = true)\n",
      " |-- i94res: integer (nullable = true)\n",
      " |-- i94port: string (nullable = true)\n",
      " |-- arrdate: integer (nullable = true)\n",
      " |-- i94mode: integer (nullable = true)\n",
      " |-- i94addr: string (nullable = true)\n",
      " |-- depdate: integer (nullable = true)\n",
      " |-- i94bir: integer (nullable = true)\n",
      " |-- i94visa: integer (nullable = true)\n",
      " |-- count: integer (nullable = true)\n",
      " |-- dtadfile: string (nullable = true)\n",
      " |-- visapost: string (nullable = true)\n",
      " |-- occup: string (nullable = true)\n",
      " |-- entdepa: string (nullable = true)\n",
      " |-- entdepd: string (nullable = true)\n",
      " |-- entdepu: string (nullable = true)\n",
      " |-- matflag: string (nullable = true)\n",
      " |-- biryear: integer (nullable = true)\n",
      " |-- dtaddto: string (nullable = true)\n",
      " |-- gender: string (nullable = true)\n",
      " |-- insnum: string (nullable = true)\n",
      " |-- airline: string (nullable = true)\n",
      " |-- admnum: double (nullable = true)\n",
      " |-- fltno: string (nullable = true)\n",
      " |-- visatype: string (nullable = true)\n",
      "\n",
      "+-----+-----+------+------+------+-------+-------+-------+-------+-------+------+-------+-----+--------+--------+-----+-------+-------+-------+-------+-------+--------+------+------+-------+--------------+-----+--------+\n",
      "|cicid|i94yr|i94mon|i94cit|i94res|i94port|arrdate|i94mode|i94addr|depdate|i94bir|i94visa|count|dtadfile|visapost|occup|entdepa|entdepd|entdepu|matflag|biryear| dtaddto|gender|insnum|airline|        admnum|fltno|visatype|\n",
      "+-----+-----+------+------+------+-------+-------+-------+-------+-------+------+-------+-----+--------+--------+-----+-------+-------+-------+-------+-------+--------+------+------+-------+--------------+-----+--------+\n",
      "|    6| 2016|     4|   692|   692|    XXX|  20573|   null|   null|   null|    37|      2|    1|    null|    null| null|      T|   null|      U|   null|   1979|10282016|  null|  null|   null| 1.897628485E9| null|      B2|\n",
      "|    7| 2016|     4|   254|   276|    ATL|  20551|      1|     AL|   null|    25|      3|    1|20130811|     SEO| null|      G|   null|      Y|   null|   1991|     D/S|     M|  null|   null|  3.73679633E9|00296|      F1|\n",
      "|   15| 2016|     4|   101|   101|    WAS|  20545|      1|     MI|  20691|    55|      2|    1|20160401|    null| null|      T|      O|   null|      M|   1961|09302016|     M|  null|     OS|  6.66643185E8|   93|      B2|\n",
      "|   16| 2016|     4|   101|   101|    NYC|  20545|      1|     MA|  20567|    28|      2|    1|20160401|    null| null|      O|      O|   null|      M|   1988|09302016|  null|  null|     AA|9.246846133E10|00199|      B2|\n",
      "|   17| 2016|     4|   101|   101|    NYC|  20545|      1|     MA|  20567|     4|      2|    1|20160401|    null| null|      O|      O|   null|      M|   2012|09302016|  null|  null|     AA|9.246846313E10|00199|      B2|\n",
      "|   18| 2016|     4|   101|   101|    NYC|  20545|      1|     MI|  20555|    57|      1|    1|20160401|    null| null|      O|      O|   null|      M|   1959|09302016|  null|  null|     AZ|9.247103803E10|00602|      B1|\n",
      "|   19| 2016|     4|   101|   101|    NYC|  20545|      1|     NJ|  20558|    63|      2|    1|20160401|    null| null|      O|      K|   null|      M|   1953|09302016|  null|  null|     AZ|9.247139923E10|00602|      B2|\n",
      "|   20| 2016|     4|   101|   101|    NYC|  20545|      1|     NJ|  20558|    57|      2|    1|20160401|    null| null|      O|      K|   null|      M|   1959|09302016|  null|  null|     AZ|9.247161383E10|00602|      B2|\n",
      "|   21| 2016|     4|   101|   101|    NYC|  20545|      1|     NY|  20553|    46|      2|    1|20160401|    null| null|      O|      O|   null|      M|   1970|09302016|  null|  null|     AZ|9.247079603E10|00602|      B2|\n",
      "|   22| 2016|     4|   101|   101|    NYC|  20545|      1|     NY|  20562|    48|      1|    1|20160401|    null| null|      O|      O|   null|      M|   1968|09302016|  null|  null|     AZ|9.247848973E10|00608|      B1|\n",
      "|   23| 2016|     4|   101|   101|    NYC|  20545|      1|     NY|  20671|    52|      2|    1|20160401|    null| null|      O|      O|   null|      M|   1964|09302016|  null|  null|     TK|9.250139443E10|00001|      B2|\n",
      "|   24| 2016|     4|   101|   101|    TOR|  20545|      1|     MO|  20554|    33|      2|    1|20160401|    null| null|      O|      O|   null|      M|   1983|09302016|  null|  null|     MQ|9.249090503E10|03348|      B2|\n",
      "|   27| 2016|     4|   101|   101|    BOS|  20545|      1|     MA|  20549|    58|      1|    1|20160401|     TIA| null|      G|      O|   null|      M|   1958|04062016|     M|  null|     LH|9.247876383E10|00422|      B1|\n",
      "|   28| 2016|     4|   101|   101|    ATL|  20545|      1|     MA|  20549|    56|      1|    1|20160401|     TIA| null|      G|      O|   null|      M|   1960|04062016|     F|  null|     LH|9.247890033E10|00422|      B1|\n",
      "|   29| 2016|     4|   101|   101|    ATL|  20545|      1|     MA|  20561|    62|      2|    1|20160401|     TIA| null|      G|      O|   null|      M|   1954|09302016|     M|  null|     AZ|9.250378143E10|00614|      B2|\n",
      "|   30| 2016|     4|   101|   101|    ATL|  20545|      1|     NJ|  20578|    49|      2|    1|20160401|     TIA| null|      G|      O|   null|      M|   1967|09302016|     M|  null|     OS|9.247020943E10|00089|      B2|\n",
      "|   31| 2016|     4|   101|   101|    ATL|  20545|      1|     NY|  20611|    43|      2|    1|20160401|     TIA| null|      G|      O|   null|      M|   1973|09302016|     M|  null|     OS|9.247128923E10|00089|      B2|\n",
      "|   33| 2016|     4|   101|   101|    HOU|  20545|      1|     TX|  20554|    53|      2|    1|20160401|     TIA| null|      G|      O|   null|      M|   1963|09302016|     F|  null|     TK|9.250930163E10|00033|      B2|\n",
      "|   34| 2016|     4|   101|   101|    NYC|  20545|      1|     CT|   null|    48|      2|    1|20160401|     TIA| null|      G|   null|   null|   null|   1968|09302016|     M|  null|     AZ|9.247042023E10|00602|      B2|\n",
      "|   35| 2016|     4|   101|   101|    NYC|  20545|      1|     CT|   null|    74|      2|    1|20160401|     TIA| null|      T|   null|   null|   null|   1942|09302016|     F|  null|     TK|  6.69712185E8|    1|      B2|\n",
      "+-----+-----+------+------+------+-------+-------+-------+-------+-------+------+-------+-----+--------+--------+-----+-------+-------+-------+-------+-------+--------+------+------+-------+--------------+-----+--------+\n",
      "only showing top 20 rows\n",
      "\n",
      "i94_may16_sub.sas7bdat\n",
      "root\n",
      " |-- cicid: integer (nullable = true)\n",
      " |-- i94yr: integer (nullable = true)\n",
      " |-- i94mon: integer (nullable = true)\n",
      " |-- i94cit: integer (nullable = true)\n",
      " |-- i94res: integer (nullable = true)\n",
      " |-- i94port: string (nullable = true)\n",
      " |-- arrdate: integer (nullable = true)\n",
      " |-- i94mode: integer (nullable = true)\n",
      " |-- i94addr: string (nullable = true)\n",
      " |-- depdate: integer (nullable = true)\n",
      " |-- i94bir: integer (nullable = true)\n",
      " |-- i94visa: integer (nullable = true)\n",
      " |-- count: integer (nullable = true)\n",
      " |-- dtadfile: string (nullable = true)\n",
      " |-- visapost: string (nullable = true)\n",
      " |-- occup: string (nullable = true)\n",
      " |-- entdepa: string (nullable = true)\n",
      " |-- entdepd: string (nullable = true)\n",
      " |-- entdepu: string (nullable = true)\n",
      " |-- matflag: string (nullable = true)\n",
      " |-- biryear: integer (nullable = true)\n",
      " |-- dtaddto: string (nullable = true)\n",
      " |-- gender: string (nullable = true)\n",
      " |-- insnum: string (nullable = true)\n",
      " |-- airline: string (nullable = true)\n",
      " |-- admnum: double (nullable = true)\n",
      " |-- fltno: string (nullable = true)\n",
      " |-- visatype: string (nullable = true)\n",
      "\n",
      "+-----+-----+------+------+------+-------+-------+-------+-------+-------+------+-------+-----+--------+--------+-----+-------+-------+-------+-------+-------+--------+------+------+-------+--------------+-----+--------+\n",
      "|cicid|i94yr|i94mon|i94cit|i94res|i94port|arrdate|i94mode|i94addr|depdate|i94bir|i94visa|count|dtadfile|visapost|occup|entdepa|entdepd|entdepu|matflag|biryear| dtaddto|gender|insnum|airline|        admnum|fltno|visatype|\n",
      "+-----+-----+------+------+------+-------+-------+-------+-------+-------+------+-------+-----+--------+--------+-----+-------+-------+-------+-------+-------+--------+------+------+-------+--------------+-----+--------+\n",
      "|    2| 2016|     5|   207|   207|    XXX|  20605|   null|   null|   null|    27|      3|    1|    null|    null| null|      T|   null|      U|   null|   1989|     D/S|  null|  null|   null| 1.141634185E9| null|      F1|\n",
      "|    3| 2016|     5|   209|   209|    XXX|  20598|   null|   null|   null|    27|      1|    1|    null|    null| null|      T|   null|      U|   null|   1989|05232018|  null|  null|   null| 1.863211285E9| null|      E2|\n",
      "|    4| 2016|     5|   213|   213|    XXX|  20578|   null|   null|   null|    78|      2|    1|    null|    null| null|      T|   null|      U|   null|   1938|11032016|  null|  null|   null| 4.696371285E9| null|      B2|\n",
      "|    5| 2016|     5|   213|   213|    XXX|  20601|   null|   null|   null|    29|      3|    1|    null|    null| null|      T|   null|      U|   null|   1987|     D/S|  null|  null|   null| 1.141260185E9| null|      F1|\n",
      "|   13| 2016|     5|   213|   213|    CHI|  20577|      1|     IL|  20270|    29|      3|    1|20150619|    null| null|      T|      O|   null|      M|   1987|     D/S|     F|  null|     EK|6.479287483E10|00235|      F1|\n",
      "|   20| 2016|     5|   582|   582|    XXX|  20605|      0|   null|   null|    48|      3|    1|20160419|    null| null|   null|   null|   null|   null|   1968|07152016|  null|  null|   null|7.752330953E10| null|      M1|\n",
      "|   22| 2016|     5|   101|   101|    BOS|  20575|      1|     NY|  20587|    53|      2|    1|20160501|    null| null|      T|      O|   null|      M|   1963|10312016|     F|  null|     BA|  9.11023885E8|  215|      B2|\n",
      "|   25| 2016|     5|   101|   101|    WAS|  20575|      1|     NY|  20584|    66|      1|    1|20160501|    null| null|      O|      O|   null|      M|   1950|10312016|  null|  null|     OS|9.507726713E10|00093|      B1|\n",
      "|   26| 2016|     5|   101|   101|    NYC|  20575|      1|     NY|  20604|    68|      2|    1|20160501|    null| null|      O|      O|   null|      M|   1948|10312016|  null|  null|     AZ|9.508411653E10|00608|      B2|\n",
      "|   28| 2016|     5|   101|   101|    MIA|  20575|      1|     FL|  20596|    32|      2|    1|20160501|    null| null|      T|      O|   null|      M|   1984|10312016|     F|  null|     AZ|  9.09366485E8|  630|      B2|\n",
      "|   29| 2016|     5|   101|   101|    WAS|  20575|      1|     NY|  20589|    28|      2|    1|20160501|     BRS| null|      G|      O|   null|      M|   1988|10312016|     F|  null|     UA|9.507705363E10|00951|      B2|\n",
      "|   34| 2016|     5|   101|   101|    BOS|  20575|      1|     MA|  20583|    59|      2|    1|20160501|     TIA| null|      G|      O|   null|      M|   1957|10312016|     M|  null|     AZ|9.510887843E10|00614|      B2|\n",
      "|   37| 2016|     5|   101|   101|    WAS|  20575|      1|     MD|  20594|    51|      2|    1|20160501|     TIA| null|      G|      O|   null|      M|   1965|10312016|     F|  null|     UA|9.511544273E10|00933|      B2|\n",
      "|   38| 2016|     5|   101|   101|    WAS|  20575|      1|     VA|  20630|    35|      2|    1|20160501|     TIA| null|      G|      O|   null|      M|   1981|10312016|     F|  null|     UA|9.511538213E10|00933|      B2|\n",
      "|   39| 2016|     5|   101|   101|    NYC|  20575|      1|     NY|   null|    19|      3|    1|20160501|     TIA| null|      G|   null|   null|   null|   1997|     D/S|     F|  null|     TK|9.510221513E10|00001|      F1|\n",
      "|   42| 2016|     5|   101|   101|    NYC|  20575|      1|     NY|   null|    21|      3|    1|20160501|     TIA|  STU|      G|   null|   null|   null|   1995|     D/S|     F|  null|     AY|9.509039483E10|00005|      F1|\n",
      "|   43| 2016|     5|   101|   101|    LOS|  20575|      1|     CA|  20580|    61|      2|    1|20160501|     TIA| null|      G|      O|   null|      M|   1955|10312016|     M|  null|     BA|9.509379743E10|00283|      B2|\n",
      "|   44| 2016|     5|   101|   101|    CHI|  20575|      1|     NV|  20610|    61|      2|    1|20160501|     TIA| null|      G|      O|   null|      M|   1955|10312016|     F|  null|     OS|9.508300193E10|00065|      B2|\n",
      "|   45| 2016|     5|   101|   101|    CHI|  20575|      1|     TX|  20611|    33|      2|    1|20160501|     TIA| null|      G|      O|   null|      M|   1983|10312016|     M|  null|     OS|9.508341803E10|00065|      B2|\n",
      "|   47| 2016|     5|   101|   101|    TAM|  20575|      1|     FL|  20583|    44|      2|    1|20160501|     TIA| null|      G|      O|   null|      M|   1972|10312016|     M|  null|     BA|9.509465363E10|02167|      B2|\n",
      "+-----+-----+------+------+------+-------+-------+-------+-------+-------+------+-------+-----+--------+--------+-----+-------+-------+-------+-------+-------+--------+------+------+-------+--------------+-----+--------+\n",
      "only showing top 20 rows\n",
      "\n",
      "i94_jun16_sub.sas7bdat\n",
      "root\n",
      " |-- cicid: integer (nullable = true)\n",
      " |-- i94yr: integer (nullable = true)\n",
      " |-- i94mon: integer (nullable = true)\n",
      " |-- i94cit: integer (nullable = true)\n",
      " |-- i94res: integer (nullable = true)\n",
      " |-- i94port: string (nullable = true)\n",
      " |-- arrdate: integer (nullable = true)\n",
      " |-- i94mode: integer (nullable = true)\n",
      " |-- i94addr: string (nullable = true)\n",
      " |-- depdate: integer (nullable = true)\n",
      " |-- i94bir: integer (nullable = true)\n",
      " |-- i94visa: integer (nullable = true)\n",
      " |-- count: integer (nullable = true)\n",
      " |-- dtadfile: string (nullable = true)\n",
      " |-- visapost: string (nullable = true)\n",
      " |-- occup: string (nullable = true)\n",
      " |-- entdepa: string (nullable = true)\n",
      " |-- entdepd: string (nullable = true)\n",
      " |-- entdepu: string (nullable = true)\n",
      " |-- matflag: string (nullable = true)\n",
      " |-- biryear: integer (nullable = true)\n",
      " |-- dtaddto: string (nullable = true)\n",
      " |-- gender: string (nullable = true)\n",
      " |-- insnum: string (nullable = true)\n",
      " |-- airline: string (nullable = true)\n",
      " |-- admnum: double (nullable = true)\n",
      " |-- fltno: string (nullable = true)\n",
      " |-- visatype: string (nullable = true)\n",
      "\n",
      "+-----+-----+------+------+------+-------+-------+-------+-------+-------+------+-------+-----+--------+--------+-----+-------+-------+-------+-------+-------+--------+------+------+-------+---------------+-----+--------+\n",
      "|cicid|i94yr|i94mon|i94cit|i94res|i94port|arrdate|i94mode|i94addr|depdate|i94bir|i94visa|count|dtadfile|visapost|occup|entdepa|entdepd|entdepu|matflag|biryear| dtaddto|gender|insnum|airline|         admnum|fltno|visatype|\n",
      "+-----+-----+------+------+------+-------+-------+-------+-------+-------+------+-------+-----+--------+--------+-----+-------+-------+-------+-------+-------+--------+------+------+-------+---------------+-----+--------+\n",
      "|    4| 2016|     6|   135|   135|    XXX|  20612|   null|   null|   null|    59|      2|    1|    null|    null| null|      Z|   null|      U|   null|   1957|10032016|  null|  null|   null|1.4938462027E10| null|      WT|\n",
      "|    5| 2016|     6|   135|   135|    XXX|  20612|   null|   null|   null|    50|      2|    1|    null|    null| null|      Z|   null|      U|   null|   1966|10032016|  null|  null|   null|1.7460063727E10| null|      WT|\n",
      "|    6| 2016|     6|   213|   213|    XXX|  20609|   null|   null|   null|    27|      3|    1|    null|    null| null|      T|   null|      U|   null|   1989|     D/S|  null|  null|   null|  1.679297785E9| null|      F1|\n",
      "|    7| 2016|     6|   213|   213|    XXX|  20611|   null|   null|   null|    23|      3|    1|    null|    null| null|      T|   null|      U|   null|   1993|     D/S|  null|  null|   null|  1.140963185E9| null|      F1|\n",
      "|   16| 2016|     6|   245|   245|    XXX|  20632|   null|   null|   null|    24|      3|    1|    null|    null| null|      T|   null|      U|   null|   1992|     D/S|  null|  null|   null|  1.934535285E9| null|      F1|\n",
      "|   19| 2016|     6|   254|   276|    XXX|  20612|   null|   null|   null|    21|      3|    1|    null|    null| null|      T|   null|      U|   null|   1995|     D/S|  null|  null|   null|  1.148757685E9| null|      F1|\n",
      "|   27| 2016|     6|   343|   343|    XXX|  20611|   null|   null|   null|    32|      3|    1|    null|    null| null|      T|   null|      U|   null|   1984|     D/S|  null|  null|   null|  1.152545285E9| null|      F1|\n",
      "|   33| 2016|     6|   582|   582|    XXX|  20612|   null|   null|   null|    18|      3|    1|    null|    null| null|      T|   null|      U|   null|   1998|     D/S|  null|  null|   null|  1.150899985E9| null|      F2|\n",
      "|   38| 2016|     6|   687|   687|    XXX|  20623|   null|   null|   null|    19|      1|    1|    null|    null| null|      U|   null|      U|   null|   1997|06172018|  null|  null|   null| 3.575377593E10| null|      E2|\n",
      "|   39| 2016|     6|   694|   694|    XXX|  20611|   null|   null|   null|    20|      3|    1|    null|    null| null|      U|   null|      U|   null|   1996|04162017|  null|  null|   null|  1.142100885E9| null|      M1|\n",
      "|   41| 2016|     6|   254|   276|    SFR|  20623|      1|     CA|   null|    22|      3|    1|20160103|     SEO| null|      G|   null|      U|   null|   1994|     D/S|     F|  null|     KE| 8.432352323E10|00023|      F1|\n",
      "|   42| 2016|     6|   254|   276|    SFR|  20623|      1|     CA|   null|    27|      3|    1|20160131|     SEO|  STU|      G|   null|      U|   null|   1989|     D/S|     M|  null|     KE| 8.694424303E10|00023|      F1|\n",
      "|   44| 2016|     6|   127|   127|    HOU|  20617|      1|   null|  20679|    43|      2|    1|20160331|     BCH| null|      G|      O|      U|      M|   1973|09302016|     M|  null|     KL| 9.238008823E10|  661|      B2|\n",
      "|   45| 2016|     6|   127|   127|    HOU|  20617|      1|     TX|  20679|    69|      2|    1|20160331|     BCH| null|      G|      O|      U|      M|   1947|12112016|     F|  null|     KL| 9.237990593E10|  661|      B2|\n",
      "|   52| 2016|     6|   101|   101|    BOS|  20606|      1|     MA|  20608|    31|      1|    1|20160601|    null| null|      O|      N|   null|      M|   1985|11302016|  null|  null|     AA| 9.790576503E10|00147|      B1|\n",
      "|   53| 2016|     6|   101|   101|    NEW|  20606|      1|     PA|  20639|    52|      2|    1|20160601|    null| null|      T|      O|   null|      M|   1964|11302016|     F|  null|     OS|  1.117456185E9|   89|      B2|\n",
      "|   55| 2016|     6|   101|   101|    NYC|  20606|      1|   null|  20610|    57|      2|    1|20160601|    null| null|      O|      O|   null|      M|   1959|11302016|  null|  null|     AZ| 9.791890903E10|00608|      B2|\n",
      "|   56| 2016|     6|   101|   101|    NYC|  20606|      1|   null|  20618|    31|      2|    1|20160601|    null| null|      O|      O|   null|      M|   1985|11302016|  null|  null|     AB| 9.794796103E10|07480|      B2|\n",
      "|   57| 2016|     6|   101|   101|    NYC|  20606|      1|     NY|  20610|    44|      2|    1|20160601|    null| null|      O|      O|   null|      M|   1972|11302016|  null|  null|     AZ| 9.791120183E10|00602|      B2|\n",
      "|   58| 2016|     6|   101|   101|    NYC|  20606|      1|     NY|  20610|    36|      2|    1|20160601|    null| null|      O|      O|   null|      M|   1980|11302016|  null|  null|     AZ| 9.791067003E10|00602|      B2|\n",
      "+-----+-----+------+------+------+-------+-------+-------+-------+-------+------+-------+-----+--------+--------+-----+-------+-------+-------+-------+-------+--------+------+------+-------+---------------+-----+--------+\n",
      "only showing top 20 rows\n",
      "\n",
      "i94_jul16_sub.sas7bdat\n",
      "root\n",
      " |-- cicid: integer (nullable = true)\n",
      " |-- i94yr: integer (nullable = true)\n",
      " |-- i94mon: integer (nullable = true)\n",
      " |-- i94cit: integer (nullable = true)\n",
      " |-- i94res: integer (nullable = true)\n",
      " |-- i94port: string (nullable = true)\n",
      " |-- arrdate: integer (nullable = true)\n",
      " |-- i94mode: integer (nullable = true)\n",
      " |-- i94addr: string (nullable = true)\n",
      " |-- depdate: integer (nullable = true)\n",
      " |-- i94bir: integer (nullable = true)\n",
      " |-- i94visa: integer (nullable = true)\n",
      " |-- count: integer (nullable = true)\n",
      " |-- dtadfile: string (nullable = true)\n",
      " |-- visapost: string (nullable = true)\n",
      " |-- occup: string (nullable = true)\n",
      " |-- entdepa: string (nullable = true)\n",
      " |-- entdepd: string (nullable = true)\n",
      " |-- entdepu: string (nullable = true)\n",
      " |-- matflag: string (nullable = true)\n",
      " |-- biryear: integer (nullable = true)\n",
      " |-- dtaddto: string (nullable = true)\n",
      " |-- gender: string (nullable = true)\n",
      " |-- insnum: string (nullable = true)\n",
      " |-- airline: string (nullable = true)\n",
      " |-- admnum: double (nullable = true)\n",
      " |-- fltno: string (nullable = true)\n",
      " |-- visatype: string (nullable = true)\n",
      "\n",
      "+-----+-----+------+------+------+-------+-------+-------+-------+-------+------+-------+-----+--------+--------+-----+-------+-------+-------+-------+-------+--------+------+------+-------+---------------+-----+--------+\n",
      "|cicid|i94yr|i94mon|i94cit|i94res|i94port|arrdate|i94mode|i94addr|depdate|i94bir|i94visa|count|dtadfile|visapost|occup|entdepa|entdepd|entdepu|matflag|biryear| dtaddto|gender|insnum|airline|         admnum|fltno|visatype|\n",
      "+-----+-----+------+------+------+-------+-------+-------+-------+-------+------+-------+-----+--------+--------+-----+-------+-------+-------+-------+-------+--------+------+------+-------+---------------+-----+--------+\n",
      "|    1| 2016|     7|   254|   276|    LOS|  20636|      1|     CA|  20640|    38|      2|    1|20160701|    null| null|      G|      O|   null|      M|   1978|09282016|     M|  null|     OZ|6.3092898033E10|00202|      WT|\n",
      "|    2| 2016|     7|   140|   140|    NYC|  20636|      1|     NY|  20657|    45|      2|    1|20160701|    null| null|      G|      O|   null|      M|   1971|09282016|     F|  null|     DL|6.3092899033E10|09858|      WT|\n",
      "|    3| 2016|     7|   135|   135|    ORL|  20636|      1|     FL|  20657|    10|      2|    1|20160701|    null| null|      G|      O|   null|      M|   2006|09282016|     M|  null|     VS|6.3092900933E10|00071|      WT|\n",
      "|    4| 2016|     7|   124|   124|    TAM|  20636|      1|     FL|  20645|    17|      2|    1|20160701|    null| null|      G|      O|   null|      M|   1999|09282016|     M|  null|     LH|6.3092901833E10|00482|      WT|\n",
      "|    5| 2016|     7|   130|   130|    LOS|  20636|      1|     CA|  20662|     1|      2|    1|20160701|    null| null|      G|      K|   null|      M|   2015|09282016|     M|  null|     SU|6.3092902733E10|00106|      WT|\n",
      "|    6| 2016|     7|   135|   135|    SFR|  20636|      1|     CA|  20648|    51|      2|    1|20160701|    null| null|      G|      O|   null|      M|   1965|09282016|     M|  null|     BA|6.3092903633E10|00285|      WT|\n",
      "|    7| 2016|     7|   115|   115|    OAK|  20636|      1|     CA|  20646|    13|      2|    1|20160701|    null| null|      G|      O|   null|      M|   2003|09282016|     F|  null|     DY|6.3092904533E10|07067|      WT|\n",
      "|    8| 2016|     7|   438|   438|    HHW|  20636|      1|     HI|  20644|    34|      2|    1|20160701|    null| null|      G|      O|   null|      M|   1982|09282016|     F|  null|     QF|6.3092905433E10|00003|      WT|\n",
      "|    9| 2016|     7|   131|   131|    LVG|  20636|      1|     NV|  20657|    46|      2|    1|20160701|    null| null|      G|      O|   null|      M|   1970|09282016|     M|  null|     WK|6.3092906333E10|00002|      WT|\n",
      "|   10| 2016|     7|   140|   140|    LOS|  20636|      1|     CA|  20656|    44|      2|    1|20160701|    null| null|      O|      O|   null|      M|   1972|09282016|  null|  null|     SU|6.3092907233E10|00106|      WT|\n",
      "|   12| 2016|     7|   131|   131|    LVG|  20636|      1|     NV|  20663|    25|      2|    1|20160701|    null| null|      G|      O|   null|      M|   1991|09282016|     M|  null|     WK|6.3092909033E10|00002|      WT|\n",
      "|   13| 2016|     7|   140|   140|    LOS|  20636|      1|     CA|  20656|    12|      2|    1|20160701|    null| null|      O|      O|   null|      M|   2004|09282016|  null|  null|     SU|6.3092910033E10|00106|      WT|\n",
      "|   14| 2016|     7|   135|   135|    SFR|  20636|      1|     CA|  20642|    30|      2|    1|20160701|    null| null|      G|      O|   null|      M|   1986|09282016|     M|  null|     BA|6.3092911933E10|00285|      WT|\n",
      "|   15| 2016|     7|   140|   140|    LOS|  20636|      1|     CA|  20656|    45|      2|    1|20160701|    null| null|      O|      O|   null|      M|   1971|09282016|  null|  null|     SU|6.3092912833E10|00106|      WT|\n",
      "|   16| 2016|     7|   135|   135|    ORL|  20636|      1|     FL|  20650|    13|      2|    1|20160701|    null| null|      G|      O|   null|      M|   2003|09282016|     F|  null|     VS|6.3092913733E10|00071|      WT|\n",
      "|   17| 2016|     7|   108|   108|    SEA|  20636|      1|     AK|  20642|    42|      2|    1|20160701|    null| null|      G|      O|   null|      M|   1974|09282016|     M|  null|     DL|6.3092914633E10|00145|      WT|\n",
      "|   18| 2016|     7|   131|   131|    LVG|  20636|      1|     NV|  20657|    71|      2|    1|20160701|    null| null|      G|      O|   null|      M|   1945|09282016|     M|  null|     WK|6.3092915533E10|00002|      WT|\n",
      "|   20| 2016|     7|   135|   135|    ORL|  20636|      1|     FL|  20652|    14|      2|    1|20160701|    null| null|      G|      O|   null|      M|   2002|09282016|     M|  null|     VS|6.3092917333E10|00071|      WT|\n",
      "|   21| 2016|     7|   209|   209|    BOS|  20636|      1|     MA|  20640|    60|      2|    1|20160701|    null| null|      G|      O|   null|      M|   1956|09282016|     F|  null|     JL|6.3092918233E10|00008|      WT|\n",
      "|   22| 2016|     7|   104|   104|    LVG|  20636|      1|     NV|  20651|    25|      2|    1|20160701|    null| null|      G|      O|   null|      M|   1991|09282016|     M|  null|     WK|6.3092919133E10|00002|      WT|\n",
      "+-----+-----+------+------+------+-------+-------+-------+-------+-------+------+-------+-----+--------+--------+-----+-------+-------+-------+-------+-------+--------+------+------+-------+---------------+-----+--------+\n",
      "only showing top 20 rows\n",
      "\n",
      "i94_aug16_sub.sas7bdat\n",
      "root\n",
      " |-- cicid: integer (nullable = true)\n",
      " |-- i94yr: integer (nullable = true)\n",
      " |-- i94mon: integer (nullable = true)\n",
      " |-- i94cit: integer (nullable = true)\n",
      " |-- i94res: integer (nullable = true)\n",
      " |-- i94port: string (nullable = true)\n",
      " |-- arrdate: integer (nullable = true)\n",
      " |-- i94mode: integer (nullable = true)\n",
      " |-- i94addr: string (nullable = true)\n",
      " |-- depdate: integer (nullable = true)\n",
      " |-- i94bir: integer (nullable = true)\n",
      " |-- i94visa: integer (nullable = true)\n",
      " |-- count: integer (nullable = true)\n",
      " |-- dtadfile: string (nullable = true)\n",
      " |-- visapost: string (nullable = true)\n",
      " |-- occup: string (nullable = true)\n",
      " |-- entdepa: string (nullable = true)\n",
      " |-- entdepd: string (nullable = true)\n",
      " |-- entdepu: string (nullable = true)\n",
      " |-- matflag: string (nullable = true)\n",
      " |-- biryear: integer (nullable = true)\n",
      " |-- dtaddto: string (nullable = true)\n",
      " |-- gender: string (nullable = true)\n",
      " |-- insnum: string (nullable = true)\n",
      " |-- airline: string (nullable = true)\n",
      " |-- admnum: double (nullable = true)\n",
      " |-- fltno: string (nullable = true)\n",
      " |-- visatype: string (nullable = true)\n",
      "\n",
      "+-----+-----+------+------+------+-------+-------+-------+-------+-------+------+-------+-----+--------+--------+-----+-------+-------+-------+-------+-------+--------+------+------+-------+---------------+-----+--------+\n",
      "|cicid|i94yr|i94mon|i94cit|i94res|i94port|arrdate|i94mode|i94addr|depdate|i94bir|i94visa|count|dtadfile|visapost|occup|entdepa|entdepd|entdepu|matflag|biryear| dtaddto|gender|insnum|airline|         admnum|fltno|visatype|\n",
      "+-----+-----+------+------+------+-------+-------+-------+-------+-------+------+-------+-----+--------+--------+-----+-------+-------+-------+-------+-------+--------+------+------+-------+---------------+-----+--------+\n",
      "|   22| 2016|     8|   323|   323|    NYC|  20667|      1|     FL|   null|    23|      3|    1|20160801|     RID| null|      U|   null|   null|   null|   1993|     D/S|     M|  null|     EK| 6.451049563E10|  201|      F1|\n",
      "|   55| 2016|     8|   209|   209|    AGA|  20667|      1|     CA|   null|    41|      2|    1|20160801|    null| null|      A|   null|   null|   null|   1975|09142016|     M|  3955|     JL|5.7571868933E10|00941|     GMT|\n",
      "|   56| 2016|     8|   209|   209|    AGA|  20667|      1|     GU|   null|    24|      2|    1|20160801|    null| null|      A|   null|   null|   null|   1992|09152016|     F|  3661|     UA|5.7571894533E10|00874|     GMT|\n",
      "|   61| 2016|     8|   213|   213|    CHI|  20667|      1|     WA|  20774|    27|      3|    1|20160801|     BMB| null|      U|      O|   null|      M|   1989|     D/S|     M|  null|     UA| 5.905919443E10|  906|      F1|\n",
      "|   64| 2016|     8|   111|   111|    BOS|  20667|      1|     MS|  20670|    34|      2|    1|20160804|    null| null|      G|      O|   null|      M|   1982|08242016|     F| 32572|     QK|6.1043089333E10| 8456|      WT|\n",
      "|   66| 2016|     8|   254|   268|    LOS|  20667|      1|     LA|  20670|    40|      2|    1|20160801|    null| null|      H|      O|   null|      M|   1976|09122016|     F|  null|     AC|6.2107072633E10|  570|      WT|\n",
      "|   68| 2016|     8|   135|   135|    HOU|  20667|      1|     TX|  20670|    56|      1|    1|20160805|    null| null|      G|      O|   null|      M|   1960|09202016|     M|122677|     WS|6.2594345033E10| 1534|      WB|\n",
      "|   78| 2016|     8|   690|   690|    MIA|  20667|      1|     NY|  20668|    34|      2|    1|20160803|    null| null|      G|      Q|   null|      M|   1982|10122016|     M| 20992|     AA|6.3949852133E10| 1478|      WT|\n",
      "|   79| 2016|     8|   690|   690|    MIA|  20667|      1|     NY|  20668|    32|      2|    1|20160803|    null| null|      G|      Q|   null|      M|   1984|10122016|     F| 20992|     AA|6.3949868733E10| 1478|      WT|\n",
      "|   81| 2016|     8|   464|   464|    SEA|  20667|      1|   null|  20668|    20|      2|    1|20160802|    null| null|      G|      O|   null|      M|   1996|10122016|     F|129333|     QX|6.3953747033E10| 2479|      WT|\n",
      "|   82| 2016|     8|   438|   438|    SEA|  20667|      1|   null|  20668|    79|      2|    1|20160801|    null| null|      H|      O|   null|      M|   1937|10122016|     F|  null|     QX|6.3953885533E10| 2479|      WT|\n",
      "|   83| 2016|     8|   438|   438|    SEA|  20667|      1|   null|  20668|    32|      2|    1|20160802|    null| null|      G|      O|   null|      M|   1984|08082016|     M|129333|     QX|6.3954075233E10| 2479|      WT|\n",
      "|   84| 2016|     8|   117|   117|    MIA|  20667|      1|     FL|  20680|    53|      2|    1|20160814|    null| null|      G|      O|   null|      M|   1963|10182016|     M|160362|    27A|6.4302773433E10|    4|      WT|\n",
      "|   88| 2016|     8|   254|   276|    SAI|  20667|      1|     FL|   null|     9|      2|    1|20160801|    null| null|      A|   null|   null|   null|   2007|09142016|     U|  null|     7C|5.3330624527E10|03404|     GMT|\n",
      "|  105| 2016|     8|   148|   112|    XXX|  20667|   null|   null|  20668|    59|      1|    1|20160803|    null| null|      I|   null|   null|      M|   1957|    null|  null|  null|   null| 6.013853463E10| null|      E2|\n",
      "|  107| 2016|     8|   438|   438|    NYC|  20667|      1|     NY|  20673|    33|      2|    1|20160808|    null| null|      G|      O|   null|      M|   1983|08242016|     M|170075|     RS|6.1073911333E10| 7632|      WT|\n",
      "|  117| 2016|     8|   438|   438|    MIA|  20667|      1|     CA|  20669|    45|      2|    1|20160803|    null| null|      G|      O|   null|      M|   1971|10032016|     F| 55728|     MQ|6.3401034733E10| 3726|      WT|\n",
      "|  119| 2016|     8|   111|   111|    NYC|  20667|      1|     NY|  20672|    26|      2|    1|20160801|    null| null|      H|      O|   null|      M|   1990|10032016|     M|  null|     RS|6.3402162133E10| 7630|      WT|\n",
      "|  120| 2016|     8|   135|   135|    SFR|  20667|      1|   null|  20668|    65|      2|    1|20160802|    null| null|      G|      O|   null|      M|   1951|10092016|     M|165587|     QK|6.3757996633E10| 8579|      WT|\n",
      "|  121| 2016|     8|   135|   135|    SFR|  20667|      1|   null|  20668|    67|      2|    1|20160802|    null| null|      G|      O|   null|      M|   1949|10092016|     F|165587|     QK|6.3758054333E10| 8579|      WT|\n",
      "+-----+-----+------+------+------+-------+-------+-------+-------+-------+------+-------+-----+--------+--------+-----+-------+-------+-------+-------+-------+--------+------+------+-------+---------------+-----+--------+\n",
      "only showing top 20 rows\n",
      "\n",
      "i94_sep16_sub.sas7bdat\n",
      "root\n",
      " |-- cicid: integer (nullable = true)\n",
      " |-- i94yr: integer (nullable = true)\n",
      " |-- i94mon: integer (nullable = true)\n",
      " |-- i94cit: integer (nullable = true)\n",
      " |-- i94res: integer (nullable = true)\n",
      " |-- i94port: string (nullable = true)\n",
      " |-- arrdate: integer (nullable = true)\n",
      " |-- i94mode: integer (nullable = true)\n",
      " |-- i94addr: string (nullable = true)\n",
      " |-- depdate: integer (nullable = true)\n",
      " |-- i94bir: integer (nullable = true)\n",
      " |-- i94visa: integer (nullable = true)\n",
      " |-- count: integer (nullable = true)\n",
      " |-- dtadfile: string (nullable = true)\n",
      " |-- visapost: string (nullable = true)\n",
      " |-- occup: string (nullable = true)\n",
      " |-- entdepa: string (nullable = true)\n",
      " |-- entdepd: string (nullable = true)\n",
      " |-- entdepu: string (nullable = true)\n",
      " |-- matflag: string (nullable = true)\n",
      " |-- biryear: integer (nullable = true)\n",
      " |-- dtaddto: string (nullable = true)\n",
      " |-- gender: string (nullable = true)\n",
      " |-- insnum: string (nullable = true)\n",
      " |-- airline: string (nullable = true)\n",
      " |-- admnum: double (nullable = true)\n",
      " |-- fltno: string (nullable = true)\n",
      " |-- visatype: string (nullable = true)\n",
      "\n",
      "+-----+-----+------+------+------+-------+-------+-------+-------+-------+------+-------+-----+--------+--------+-----+-------+-------+-------+-------+-------+--------+------+------+-------+--------------+-----+--------+\n",
      "|cicid|i94yr|i94mon|i94cit|i94res|i94port|arrdate|i94mode|i94addr|depdate|i94bir|i94visa|count|dtadfile|visapost|occup|entdepa|entdepd|entdepu|matflag|biryear| dtaddto|gender|insnum|airline|        admnum|fltno|visatype|\n",
      "+-----+-----+------+------+------+-------+-------+-------+-------+-------+------+-------+-----+--------+--------+-----+-------+-------+-------+-------+-------+--------+------+------+-------+--------------+-----+--------+\n",
      "|  687| 2016|     9|   213|   213|    HOU|  20698|      1|     TX|  20725|    27|      1|    1|20160901|    null| null|      H|      O|   null|      M|   1989|11022016|     M|  null|     QK|9.527938853E10| 8111|      B1|\n",
      "|  799| 2016|     9|   369|   369|    WAS|  20698|      1|     VA|  20725|    71|      2|    1|20160901|     ADD| null|      U|      O|   null|      M|   1945|11032016|     M|  null|     KL|9.531093473E10|  651|      B2|\n",
      "| 1001| 2016|     9|   582|   582|    LVG|  20698|      1|     NV|  20702|    25|      2|    1|20160901|     MTR| null|      H|      O|   null|      M|   1991|10312016|     M|  null|     4O|9.507647983E10|  970|      B2|\n",
      "| 1044| 2016|     9|   691|   582|    MIA|  20698|      1|     FL|  20702|    50|      1|    1|20160901|     MEX| null|      H|      O|   null|      M|   1966|11032016|     M|  null|     AM|9.532965493E10|  428|      B1|\n",
      "| 1183| 2016|     9|   266|   266|    CHI|  20698|      1|     WI|  20714|    34|      3|    1|20160901|     HAN| null|      U|      O|   null|      M|   1982|     D/S|     F|  null|     UA|9.465593503E10| 5959|      F1|\n",
      "| 1239| 2016|     9|   373|   373|    SAJ|  20698|      1|     MO|  20708|    26|      2|    1|20160901|     DRB| null|      H|      I|   null|      M|   1990|10312016|     M|  null|     BB|9.510455093E10| 4543|      B2|\n",
      "| 1487| 2016|     9|   514|   514|    CLT|  20698|      1|     NY|  20702|    50|      1|    1|20160901|     KNG| null|      H|      O|   null|      M|   1966|10292016|     M|  null|     AA|9.500332333E10|  880|      B1|\n",
      "| 1625| 2016|     9|   245|   245|    LOS|  20698|      1|     CA|  20703|    25|      2|    1|20160901|     VAC| null|      H|      O|   null|      M|   1991|10292016|     M|  null|     AC|9.498770893E10|  550|      B2|\n",
      "| 1641| 2016|     9|   582|   582|    NYC|  20698|      1|   null|  20702|    43|      2|    1|20160901|     MEX| null|      U|      O|   null|      M|   1973|11012016|     M|  null|     WS|9.514430023E10| 1210|      B2|\n",
      "| 2234| 2016|     9|   582|   582|    HOU|  20698|      1|   null|  20710|    29|      1|    1|20160901|     MEX| null|      H|      I|   null|      M|   1987|11142016|     M| 09338|     4O|9.640900053E10|3986C|      B1|\n",
      "| 2582| 2016|     9|   582|   582|    SNA|  20698|      1|     TX|  20701|    66|      2|    1|20160901|     MTR| null|      H|      O|   null|      M|   1950|11142016|     M|  null|     4O|9.639556303E10| 2952|      B2|\n",
      "| 2814| 2016|     9|   582|   582|    LAR|  20698|      1|     NM|  20709|    46|      1|    1|20160901|    null| null|      H|      I|   null|      M|   1970|11172016|     M|  null|    *GA|9.656111863E10|XAUWK|      B1|\n",
      "| 2821| 2016|     9|   582|   582|    LVG|  20698|      1|     NV|  20702|    28|      1|    1|20160901|     MEX| null|      H|      O|   null|      M|   1988|11172016|     F|  null|     Y4|9.662021063E10|  966|      B1|\n",
      "| 3015| 2016|     9|   124|   124|    NEW|  20698|      1|     TX|   null|    43|      1|    1|20160901|     OSL|  EXA|      U|   null|   null|   null|   1973|05142018|     M|  null|     UA|9.642383403E10|   39|      E2|\n",
      "| 3165| 2016|     9|   245|   245|    MIA|  20698|      1|     FL|  20700|    29|      2|    1|20160901|    null| null|      H|      O|   null|      M|   1987|11212016|     M|  null|     AM|9.702585023E10|  428|      B2|\n",
      "| 3265| 2016|     9|   577|   577|    DAL|  20698|      1|     AZ|  20761|    22|      1|    1|20160901|     GTM| null|      U|      I|   null|      M|   1994|11152016|     M|  null|     AA|9.689463213E10| 1188|      B1|\n",
      "| 3583| 2016|     9|   689|   689|    HOU|  20698|      1|     LA|  20711|    41|      2|    1|20160901|     VAC| null|      H|      I|   null|      M|   1975|11252016|     M|  null|     UA|9.738180663E10| 2023|      B2|\n",
      "| 3656| 2016|     9|   696|   696|    ORL|  20698|      1|     FL|  20706|    39|      2|    1|20160901|     CRS| null|      U|      O|   null|      M|   1977|11222016|     M|  null|     B6|9.718599743E10| 1784|      B2|\n",
      "| 3815| 2016|     9|   582|   582|    DEN|  20698|      1|     CO|  20724|    30|      2|    1|20160901|     MER| null|      H|      O|   null|      M|   1986|11252016|     F| 05767|     UA|9.745191143E10| 1132|      B2|\n",
      "| 3924| 2016|     9|   245|   206|    CHI|  20698|      1|     FL|  20702|    27|      1|    1|20160901|     VAC| null|      H|      O|   null|      M|   1989|11252016|     F|  null|     UA|9.738486373E10|  246|      B1|\n",
      "+-----+-----+------+------+------+-------+-------+-------+-------+-------+------+-------+-----+--------+--------+-----+-------+-------+-------+-------+-------+--------+------+------+-------+--------------+-----+--------+\n",
      "only showing top 20 rows\n",
      "\n",
      "i94_oct16_sub.sas7bdat\n",
      "root\n",
      " |-- cicid: integer (nullable = true)\n",
      " |-- i94yr: integer (nullable = true)\n",
      " |-- i94mon: integer (nullable = true)\n",
      " |-- i94cit: integer (nullable = true)\n",
      " |-- i94res: integer (nullable = true)\n",
      " |-- i94port: string (nullable = true)\n",
      " |-- arrdate: integer (nullable = true)\n",
      " |-- i94mode: integer (nullable = true)\n",
      " |-- i94addr: string (nullable = true)\n",
      " |-- depdate: integer (nullable = true)\n",
      " |-- i94bir: integer (nullable = true)\n",
      " |-- i94visa: integer (nullable = true)\n",
      " |-- count: integer (nullable = true)\n",
      " |-- dtadfile: string (nullable = true)\n",
      " |-- visapost: string (nullable = true)\n",
      " |-- occup: string (nullable = true)\n",
      " |-- entdepa: string (nullable = true)\n",
      " |-- entdepd: string (nullable = true)\n",
      " |-- entdepu: string (nullable = true)\n",
      " |-- matflag: string (nullable = true)\n",
      " |-- biryear: integer (nullable = true)\n",
      " |-- dtaddto: string (nullable = true)\n",
      " |-- gender: string (nullable = true)\n",
      " |-- insnum: string (nullable = true)\n",
      " |-- airline: string (nullable = true)\n",
      " |-- admnum: double (nullable = true)\n",
      " |-- fltno: string (nullable = true)\n",
      " |-- visatype: string (nullable = true)\n",
      "\n",
      "+-----+-----+------+------+------+-------+-------+-------+-------+-------+------+-------+-----+--------+--------+-----+-------+-------+-------+-------+-------+--------+------+------+-------+---------------+-----+--------+\n",
      "|cicid|i94yr|i94mon|i94cit|i94res|i94port|arrdate|i94mode|i94addr|depdate|i94bir|i94visa|count|dtadfile|visapost|occup|entdepa|entdepd|entdepu|matflag|biryear| dtaddto|gender|insnum|airline|         admnum|fltno|visatype|\n",
      "+-----+-----+------+------+------+-------+-------+-------+-------+-------+------+-------+-----+--------+--------+-----+-------+-------+-------+-------+-------+--------+------+------+-------+---------------+-----+--------+\n",
      "|    8| 2016|    10|   111|   111|    CHM|  20728|      1|     HI|   null|    70|      2|    1|20161001|    null| null|      A|   null|   null|   null|   1946|12292016|     F|  5245|     AF|6.7011135827E10|00342|      WT|\n",
      "|   68| 2016|    10|   209|   209|    AGA|  20728|      1|     GU|  20731|    63|      2|    1|20161001|    null| null|      A|      D|   null|      M|   1953|11142016|     F|  3938|     UA|7.9058646527E10|00136|     GMT|\n",
      "|  100| 2016|    10|   268|   268|    AGA|  20728|      1|     NY|  20732|    25|      2|    1|20161001|    null| null|      A|      D|   null|      M|   1991|11142016|     M|  3942|     CI|8.7663527026E10|00026|     GMT|\n",
      "|  101| 2016|    10|   268|   268|    AGA|  20728|      1|     NY|   null|    24|      2|    1|20161001|    null| null|      A|   null|   null|   null|   1992|11142016|     F|  3935|     CI|8.7663527926E10|00026|     GMT|\n",
      "|  102| 2016|    10|   268|   268|    AGA|  20728|      1|     NY|  20732|    30|      2|    1|20161001|    null| null|      A|      D|   null|      M|   1986|11142016|     M|  3934|     CI|8.7663528826E10|00026|     GMT|\n",
      "|  103| 2016|    10|   268|   268|    AGA|  20728|      1|     MA|  20732|    27|      2|    1|20161001|    null| null|      A|      D|   null|      M|   1989|11142016|     F|  3940|     CI|8.7663529726E10|00026|     GMT|\n",
      "|  200| 2016|    10|   254|   276|    AGA|  20728|      1|     HI|   null|    48|      2|    1|20161001|    null| null|      A|   null|   null|   null|   1968|11152016|     F|  3661|     KE|8.9173971528E10|00111|     GMT|\n",
      "|  395| 2016|    10|   209|   209|    AGA|  20728|      1|     WI|  20732|    39|      2|    1|20161001|    null| null|      A|      D|   null|      M|   1977|11142016|     F|  3697|     UA|7.4156800833E10|00827|     GMT|\n",
      "|  396| 2016|    10|   209|   209|    AGA|  20728|      1|     GU|  20730|    40|      2|    1|20161001|    null| null|      A|      D|   null|      M|   1976|11142016|     M|  3697|     UA|7.4161343826E10|00136|     GMT|\n",
      "|  442| 2016|    10|   135|   135|    CHM|  20728|      1|   null|   null|    67|      2|    1|20161001|    null| null|      A|      W|   null|      M|   1949|12312016|     F|  5246|     AM|8.6530536828E10|00068|      WT|\n",
      "|  443| 2016|    10|   135|   135|    CHM|  20728|      1|     HI|   null|    68|      2|    1|20161001|    null| null|      A|   null|   null|   null|   1948|12312016|     M|  5246|     AM|8.6530537728E10|00068|      WT|\n",
      "|  453| 2016|    10|   141|   141|    PIR|  20728|      9|     CA|   null|     0|      2|    1|20161001|    null| null|      A|   null|   null|   null|   2016|12312016|     F|  4678|   null|8.7070391028E10| null|      WT|\n",
      "|  454| 2016|    10|   141|   141|    PIR|  20728|      1|     PA|   null|     2|      2|    1|20161001|    null| null|      A|   null|   null|   null|   2014|12312016|     F|  4678|    KLM|8.7070392028E10| null|      WT|\n",
      "|  518| 2016|    10|   268|   268|    AGA|  20728|      1|     FL|   null|    30|      2|    1|20161001|    null| null|      A|   null|   null|   null|   1986|11142016|     F|  3938|     CI|7.6501073826E10|00026|     GMT|\n",
      "|  519| 2016|    10|   268|   268|    AGA|  20728|      1|     NY|   null|    30|      2|    1|20161001|    null| null|      A|   null|   null|   null|   1986|11142016|     F|  3938|     CI|7.6501074726E10|00026|     GMT|\n",
      "|  520| 2016|    10|   268|   268|    AGA|  20728|      1|     NY|   null|    28|      2|    1|20161001|    null| null|      A|   null|   null|   null|   1988|11142016|     F|  3940|     CI|7.6501075626E10|00026|     GMT|\n",
      "|  521| 2016|    10|   268|   268|    AGA|  20728|      1|   null|  20732|    31|      2|    1|20161001|    null| null|      A|      D|   null|      M|   1985|11142016|     F|  3696|     CI|7.6501076526E10|00026|     GMT|\n",
      "|  522| 2016|    10|   268|   268|    AGA|  20728|      1|   null|  20732|    26|      2|    1|20161001|    null| null|      A|      D|   null|      M|   1990|11142016|     F|  3696|     CI|7.6501077426E10|00026|     GMT|\n",
      "|  523| 2016|    10|   268|   268|    AGA|  20728|      1|     NY|  20732|    54|      2|    1|20161001|    null| null|      A|      D|   null|      M|   1962|11142016|     F|  3938|     CI|7.6501078326E10|00026|     GMT|\n",
      "|  524| 2016|    10|   268|   268|    AGA|  20728|      1|     NY|  20732|    61|      2|    1|20161001|    null| null|      A|      D|   null|      M|   1955|11142016|     F|  3940|     CI|7.6501079226E10|00026|     GMT|\n",
      "+-----+-----+------+------+------+-------+-------+-------+-------+-------+------+-------+-----+--------+--------+-----+-------+-------+-------+-------+-------+--------+------+------+-------+---------------+-----+--------+\n",
      "only showing top 20 rows\n",
      "\n",
      "i94_nov16_sub.sas7bdat\n",
      "root\n",
      " |-- cicid: integer (nullable = true)\n",
      " |-- i94yr: integer (nullable = true)\n",
      " |-- i94mon: integer (nullable = true)\n",
      " |-- i94cit: integer (nullable = true)\n",
      " |-- i94res: integer (nullable = true)\n",
      " |-- i94port: string (nullable = true)\n",
      " |-- arrdate: integer (nullable = true)\n",
      " |-- i94mode: integer (nullable = true)\n",
      " |-- i94addr: string (nullable = true)\n",
      " |-- depdate: integer (nullable = true)\n",
      " |-- i94bir: integer (nullable = true)\n",
      " |-- i94visa: integer (nullable = true)\n",
      " |-- count: integer (nullable = true)\n",
      " |-- dtadfile: string (nullable = true)\n",
      " |-- visapost: string (nullable = true)\n",
      " |-- occup: string (nullable = true)\n",
      " |-- entdepa: string (nullable = true)\n",
      " |-- entdepd: string (nullable = true)\n",
      " |-- entdepu: string (nullable = true)\n",
      " |-- matflag: string (nullable = true)\n",
      " |-- biryear: integer (nullable = true)\n",
      " |-- dtaddto: string (nullable = true)\n",
      " |-- gender: string (nullable = true)\n",
      " |-- insnum: string (nullable = true)\n",
      " |-- airline: string (nullable = true)\n",
      " |-- admnum: double (nullable = true)\n",
      " |-- fltno: string (nullable = true)\n",
      " |-- visatype: string (nullable = true)\n",
      "\n",
      "+-----+-----+------+------+------+-------+-------+-------+-------+-------+------+-------+-----+--------+--------+-----+-------+-------+-------+-------+-------+--------+------+------+-------+---------------+-----+--------+\n",
      "|cicid|i94yr|i94mon|i94cit|i94res|i94port|arrdate|i94mode|i94addr|depdate|i94bir|i94visa|count|dtadfile|visapost|occup|entdepa|entdepd|entdepu|matflag|biryear| dtaddto|gender|insnum|airline|         admnum|fltno|visatype|\n",
      "+-----+-----+------+------+------+-------+-------+-------+-------+-------+------+-------+-----+--------+--------+-----+-------+-------+-------+-------+-------+--------+------+------+-------+---------------+-----+--------+\n",
      "|    8| 2016|    11|   126|   689|    CHA|  20759|      2|   null|   null|    62|      2|    1|20161101|    null| null|      A|   null|   null|   null|   1954|02082017|     F|  2771|   null|1.3295810024E10| null|      WT|\n",
      "|   18| 2016|    11|   582|   582|    NOG|  20759|      9|     FL|   null|    47|      2|    1|20161101|    null| null|      P|      W|   null|      M|   1969|11222016|     M|  1163|   null|1.3616911029E10| null|      CP|\n",
      "|   19| 2016|    11|   582|   582|    NOG|  20759|      9|     CA|   null|    34|      2|    1|20161101|    null| null|      P|      W|   null|      M|   1982|03032017|     M|  1442|   null|1.3642684029E10| null|      CP|\n",
      "|   65| 2016|    11|   213|   213|    NEW|  20759|      1|     CA|   null|    26|      3|    1|20161101|     BMB| null|      T|   null|   null|   null|   1990|     D/S|     M|  null|     UA|1.2924805885E10|   49|      F1|\n",
      "|   67| 2016|    11|   687|   687|    ATL|  20759|      1|     AL|   null|    23|      3|    1|20161101|     BNS| null|      T|   null|   null|   null|   1993|     D/S|     M|  null|     DL|1.2924807685E10|  110|      F1|\n",
      "|   69| 2016|    11|   254|   276|    BOS|  20759|      1|     MA|  20828|    38|      3|    1|20161101|     SEO|  STU|      T|      O|   null|      M|   1978|     D/S|     M|  null|     AC|1.2924809485E10|  356|      F1|\n",
      "|   71| 2016|    11|   692|   692|    MIA|  20759|      1|     NE|  20768|    49|      1|    1|20161101|    null| null|      T|      Q|   null|      M|   1967|04302017|     M|  null|     AA|1.2924811285E10|  902|      B1|\n",
      "|   76| 2016|    11|   690|   690|    ATL|  20759|      1|     TX|  20848|    16|      2|    1|20161101|    null| null|      T|      O|   null|      M|   2000|01292017|     F|  null|     DL|1.2924816885E10|  146|      WT|\n",
      "|   78| 2016|    11|   696|   696|    ATL|  20759|      1|     GA|  20937|    31|      2|    1|20161101|    null| null|      T|      O|   null|      M|   1985|04302017|     M|  null|     DL|1.2924818685E10|  110|      B2|\n",
      "|   80| 2016|    11|   692|   692|    FTL|  20759|      1|     FL|   null|    35|      2|    1|20161101|    null| null|      T|   null|   null|   null|   1981|04302017|     F|  null|     B6|1.2924820485E10| 2850|      B2|\n",
      "|   81| 2016|    11|   687|   687|    MIA|  20759|      1|     FL|  20764|    38|      2|    1|20161101|    null| null|      T|      O|   null|      M|   1978|04302017|     M|  null|     JJ|1.2924821385E10| 8090|      B2|\n",
      "|   83| 2016|    11|   689|   689|    MIA|  20759|      1|     TX|   null|    32|      3|    1|20161101|     BRA| null|      T|   null|   null|   null|   1984|     D/S|     M|  null|     AA|1.2924823185E10|  904|      F1|\n",
      "|   84| 2016|    11|   254|   276|    NYC|  20759|      1|     NY|  20763|    26|      2|    1|20161101|    null| null|      T|      K|   null|      M|   1990|01292017|     F|  null|     AC|1.2924824085E10|  702|      WT|\n",
      "|   85| 2016|    11|   245|   245|    NYC|  20759|      1|     NJ|  20772|    27|      2|    1|20161101|    null| null|      T|      O|   null|      M|   1989|04302017|     F|  null|     CZ|1.2924825085E10|  399|      B2|\n",
      "|   90| 2016|    11|   691|   691|    MIA|  20759|      1|     FL|  20768|    17|      2|    1|20161101|    null| null|      T|      O|   null|      M|   1999|01212017|     F|  null|     RV|1.2924830585E10| 1640|      B2|\n",
      "|   91| 2016|    11|   504|   504|    FTL|  20759|      1|     FL|  20763|    31|      2|    1|20161101|    null| null|      T|      O|   null|      M|   1985|04302017|     M|  null|     NK|1.2924831485E10|  914|      B2|\n",
      "|   93| 2016|    11|   689|   689|    MIA|  20759|      1|     FL|  20763|    41|      2|    1|20161101|    null| null|      T|      O|   null|      M|   1975|04302017|     M|  null|     JJ|1.2924833285E10| 8090|      B2|\n",
      "|   94| 2016|    11|   687|   687|    DAL|  20759|      1|   null|  20764|    34|      2|    1|20161101|     BNS| null|      T|      I|   null|      M|   1982|04302017|     M|  null|     AA|1.2924834185E10|  940|      B2|\n",
      "|   96| 2016|    11|   692|   692|    DAL|  20759|      1|     CA|  20762|    30|      2|    1|20161101|     QTO| null|      T|      O|   null|      M|   1986|04302017|     M|  null|     AA|1.2924836085E10| 1177|      B2|\n",
      "|   97| 2016|    11|   582|   582|    HOU|  20759|      1|     TX|  20809|    24|      2|    1|20161101|    null| null|      T|      R|   null|      M|   1992|04302017|     F|  null|     AM|1.2925445685E10| 2096|      B2|\n",
      "+-----+-----+------+------+------+-------+-------+-------+-------+-------+------+-------+-----+--------+--------+-----+-------+-------+-------+-------+-------+--------+------+------+-------+---------------+-----+--------+\n",
      "only showing top 20 rows\n",
      "\n",
      "i94_dec16_sub.sas7bdat\n",
      "root\n",
      " |-- cicid: integer (nullable = true)\n",
      " |-- i94yr: integer (nullable = true)\n",
      " |-- i94mon: integer (nullable = true)\n",
      " |-- i94cit: integer (nullable = true)\n",
      " |-- i94res: integer (nullable = true)\n",
      " |-- i94port: string (nullable = true)\n",
      " |-- arrdate: integer (nullable = true)\n",
      " |-- i94mode: integer (nullable = true)\n",
      " |-- i94addr: string (nullable = true)\n",
      " |-- depdate: integer (nullable = true)\n",
      " |-- i94bir: integer (nullable = true)\n",
      " |-- i94visa: integer (nullable = true)\n",
      " |-- count: integer (nullable = true)\n",
      " |-- dtadfile: string (nullable = true)\n",
      " |-- visapost: string (nullable = true)\n",
      " |-- occup: string (nullable = true)\n",
      " |-- entdepa: string (nullable = true)\n",
      " |-- entdepd: string (nullable = true)\n",
      " |-- entdepu: string (nullable = true)\n",
      " |-- matflag: string (nullable = true)\n",
      " |-- biryear: integer (nullable = true)\n",
      " |-- dtaddto: string (nullable = true)\n",
      " |-- gender: string (nullable = true)\n",
      " |-- insnum: string (nullable = true)\n",
      " |-- airline: string (nullable = true)\n",
      " |-- admnum: double (nullable = true)\n",
      " |-- fltno: string (nullable = true)\n",
      " |-- visatype: string (nullable = true)\n",
      "\n",
      "+-----+-----+------+------+------+-------+-------+-------+-------+-------+------+-------+-----+--------+--------+-----+-------+-------+-------+-------+-------+--------+------+------+-------+---------------+-----+--------+\n",
      "|cicid|i94yr|i94mon|i94cit|i94res|i94port|arrdate|i94mode|i94addr|depdate|i94bir|i94visa|count|dtadfile|visapost|occup|entdepa|entdepd|entdepu|matflag|biryear| dtaddto|gender|insnum|airline|         admnum|fltno|visatype|\n",
      "+-----+-----+------+------+------+-------+-------+-------+-------+-------+------+-------+-----+--------+--------+-----+-------+-------+-------+-------+-------+--------+------+------+-------+---------------+-----+--------+\n",
      "|   46| 2016|    12|   129|   129|    HOU|  20789|      1|     TX|  20802|    46|      1|    1|20161201|     MDD| null|      H|      O|   null|      M|   1970|05262018|     M|  null|     RS| 9.755413803E10| 7715|      E2|\n",
      "|   56| 2016|    12|   245|   245|    NEW|  20789|      1|     OH|  20835|    28|      3|    1|20161201|     BEJ| null|      U|      O|   null|      M|   1988|     D/S|     F|  null|     CA| 9.062371823E10|  819|      F1|\n",
      "|   67| 2016|    12|   512|   512|    PEV|  20789|      2|     MD|  20794|    48|      2|    1|20161201|     NAS| null|      A|      D|   null|      M|   1968|06012017|     M|  5920|   null|8.0105031527E10| null|      B2|\n",
      "|   68| 2016|    12|   512|   512|    PEV|  20789|      2|     FL|  20792|    46|      2|    1|20161201|     NAS| null|      A|      D|   null|      M|   1970|06012017|     F|  5920|   null|8.0105106727E10| null|      B2|\n",
      "|   69| 2016|    12|   512|   512|    PEV|  20789|      2|     HI|  20792|    48|      2|    1|20161201|     NAS| null|      A|      D|   null|      M|   1968|06012017|     M|  5920|   null|8.0105107627E10| null|      B2|\n",
      "|   70| 2016|    12|   512|   512|    PEV|  20789|      2|     FL|  20792|     9|      2|    1|20161201|     NAS| null|      A|      D|   null|      M|   2007|06012017|     F|  5920|   null|8.0105108527E10| null|      B2|\n",
      "|   71| 2016|    12|   512|   512|    PEV|  20789|      2|     VA|  20792|    34|      2|    1|20161201|     NAS| null|      A|      D|   null|      M|   1982|06012017|     F|  5920|   null|8.0105152527E10| null|      B2|\n",
      "|   72| 2016|    12|   512|   512|    PEV|  20789|      2|     NY|  20792|    69|      2|    1|20161201|     NAS| null|      A|      D|   null|      M|   1947|06012017|     F|  5920|   null|8.0105153427E10| null|      B2|\n",
      "|   73| 2016|    12|   512|   512|    PEV|  20789|      2|     NY|  20794|    66|      2|    1|20161201|     NAS| null|      A|      D|   null|      M|   1950|06012017|     F|  5920|   null|8.0105155227E10| null|      B2|\n",
      "|   74| 2016|    12|   512|   512|    XXX|  20789|      2|     DC|  20794|    56|      2|    1|20161201|     NAS| null|      A|      D|   null|      M|   1960|06012017|     M|  null|   null|8.0105156127E10| null|      B2|\n",
      "|   75| 2016|    12|   512|   512|    PEV|  20789|      2|     VA|  20794|     6|      2|    1|20161201|     NAS| null|      A|      D|   null|      M|   2010|06012017|     M|  5920|   null|8.0105189127E10| null|      B2|\n",
      "|   76| 2016|    12|   512|   512|    PEV|  20789|      2|     VA|  20794|    38|      2|    1|20161201|     NAS| null|      A|      D|   null|      M|   1978|06012017|     U|  5920|   null|8.0105190027E10| null|      B2|\n",
      "|   77| 2016|    12|   512|   512|    PEV|  20789|      9|     NY|  20794|    40|      2|    1|20161201|     NAS| null|      A|      D|   null|      M|   1976|06012017|     M|  5920|   null|8.0105191027E10| null|      B2|\n",
      "|   78| 2016|    12|   512|   512|    PEV|  20789|      9|     FL|  20792|    28|      2|    1|20161201|    null| null|      A|      D|   null|      M|   1988|06012017|     F|  5920|   null|8.0105217627E10| null|      B2|\n",
      "|  106| 2016|    12|   104|   104|    CHM|  20789|      9|     NJ|   null|    26|      2|    1|20161201|    null| null|      A|   null|   null|   null|   1990|02282017|     F|  5319|   null|8.6530066528E10| null|      WT|\n",
      "|  107| 2016|    12|   104|   104|    CHM|  20789|      9|     NJ|   null|    26|      2|    1|20161201|    null| null|      A|   null|   null|   null|   1990|02282017|     M|  5319|   null|8.6530067428E10| null|      WT|\n",
      "|  108| 2016|    12|   148|   112|    CHM|  20789|      9|     FL|   null|    26|      2|    1|20161201|    null| null|      A|      W|   null|      M|   1990|02282017|     F|  5319|   null|8.6530068328E10| null|      WT|\n",
      "|  159| 2016|    12|   135|   135|    HOU|  20789|      2|     TX|  20907|    65|      1|    1|20161201|     LND| null|      U|      O|   null|      M|   1951|03312018|     M|  null|    G1A| 9.247095473E10|7291A|      E2|\n",
      "|  166| 2016|    12|   512|   512|    PEV|  20789|      2|     FL|  20792|    37|      2|    1|20161201|     NAS| null|      A|      D|   null|      M|   1979|06012017|     F|  5920|   null|8.0105219427E10| null|      B2|\n",
      "|  167| 2016|    12|   512|   512|    PEV|  20789|      9|     HI|  20792|    24|      2|    1|20161201|     NAS| null|      A|      D|   null|      M|   1992|06012017|     F|  5742|   null|8.0105284527E10| null|      B2|\n",
      "+-----+-----+------+------+------+-------+-------+-------+-------+-------+------+-------+-----+--------+--------+-----+-------+-------+-------+-------+-------+--------+------+------+-------+---------------+-----+--------+\n",
      "only showing top 20 rows\n",
      "\n"
     ]
    }
   ],
   "source": [
    "# Examine i94 data\n",
    "columns_to_drop = ['validres', 'delete_days', 'delete_mexl', 'delete_dup', 'delete_visa', 'delete_recdup']\n",
    "df_i94s = OrderedDict() \n",
    "for f in i94_fnames:\n",
    "    fname = os.path.basename(f)\n",
    "    print(fname)\n",
    "    if \"jun\" in fname: \n",
    "        d = spark.read.schema(CustomI94JunSchema).format('com.github.saurfang.sas.spark').load(f)\n",
    "        d = d.drop(*columns_to_drop)\n",
    "    else:\n",
    "        d = spark.read.schema(CustomI94Schema).format('com.github.saurfang.sas.spark').load(f)\n",
    "#     d = d.dropna(subset=[\"cicid\", \"arrdate\", \"i94addr\"]).dropDuplicates()\n",
    "    df_i94s[fname] = d\n",
    "    d.printSchema()\n",
    "    d.show()"
   ]
  },
  {
   "cell_type": "code",
   "execution_count": 225,
   "metadata": {
    "editable": true
   },
   "outputs": [],
   "source": [
    "# define sample rate so that each month got same # of rows in union i94 df.\n",
    "## get file size of each month i94 by ../../data/18-83510-I94-Data-2016/\n",
    "# i94_filesizes = [415, 374, 459, 451, 501, 684, 620, 597, 543, 531, 424, 500]\n",
    "# i94_samplerate = []\n",
    "# N = 5\n",
    "# for i in i94_filesizes:\n",
    "#     i94_samplerate.append(N/i)\n",
    "# print(i94_samplerate)\n",
    "\n",
    "# i94_samplerate_dict = {}\n",
    "# i = 0\n",
    "# for k in df_i94s.keys():\n",
    "#     i94_samplerate_dict[k] = i94_samplerate[i]\n",
    "#     i = i+1\n",
    "# pprint(i94_samplerate_dict)"
   ]
  },
  {
   "cell_type": "code",
   "execution_count": 226,
   "metadata": {
    "editable": true
   },
   "outputs": [
    {
     "name": "stdout",
     "output_type": "stream",
     "text": [
      "12\n",
      "root\n",
      " |-- cicid: integer (nullable = true)\n",
      " |-- i94yr: integer (nullable = true)\n",
      " |-- i94mon: integer (nullable = true)\n",
      " |-- i94cit: integer (nullable = true)\n",
      " |-- i94res: integer (nullable = true)\n",
      " |-- i94port: string (nullable = true)\n",
      " |-- arrdate: integer (nullable = true)\n",
      " |-- i94mode: integer (nullable = true)\n",
      " |-- i94addr: string (nullable = true)\n",
      " |-- depdate: integer (nullable = true)\n",
      " |-- i94bir: integer (nullable = true)\n",
      " |-- i94visa: integer (nullable = true)\n",
      " |-- count: integer (nullable = true)\n",
      " |-- dtadfile: string (nullable = true)\n",
      " |-- visapost: string (nullable = true)\n",
      " |-- occup: string (nullable = true)\n",
      " |-- entdepa: string (nullable = true)\n",
      " |-- entdepd: string (nullable = true)\n",
      " |-- entdepu: string (nullable = true)\n",
      " |-- matflag: string (nullable = true)\n",
      " |-- biryear: integer (nullable = true)\n",
      " |-- dtaddto: string (nullable = true)\n",
      " |-- gender: string (nullable = true)\n",
      " |-- insnum: string (nullable = true)\n",
      " |-- airline: string (nullable = true)\n",
      " |-- admnum: double (nullable = true)\n",
      " |-- fltno: string (nullable = true)\n",
      " |-- visatype: string (nullable = true)\n",
      "\n"
     ]
    }
   ],
   "source": [
    "# sample 1% of each month of i94, since origin size of sas is around 500MB.\n",
    "sample_rate = 0.1\n",
    "df_i94s_sample = {}\n",
    "for k, v in df_i94s.items():\n",
    "    df_i94s_sample[k] = v.sample(sample_rate)\n",
    "    \n",
    "from functools import reduce\n",
    "print(len(df_i94s_sample.values()))\n",
    "df_i94s_sample_unionall = reduce(DataFrame.unionAll, df_i94s_sample.values())\n",
    "\n",
    "df_i94s_sample_unionall.printSchema()"
   ]
  },
  {
   "cell_type": "code",
   "execution_count": 227,
   "metadata": {
    "editable": true
   },
   "outputs": [],
   "source": [
    "df_i94s_sample_unionall.write.mode('overwrite').parquet(path='i94_sample.parquet')"
   ]
  },
  {
   "cell_type": "code",
   "execution_count": 228,
   "metadata": {},
   "outputs": [
    {
     "name": "stdout",
     "output_type": "stream",
     "text": [
      "CPU times: user 3.53 ms, sys: 99 µs, total: 3.63 ms\n",
      "Wall time: 281 ms\n"
     ]
    },
    {
     "data": {
      "text/plain": [
       "3096313"
      ]
     },
     "execution_count": 228,
     "metadata": {},
     "output_type": "execute_result"
    }
   ],
   "source": [
    "%%time\n",
    "df_sas = spark.read.parquet('sas_data/')\n",
    "df_sas.count()"
   ]
  },
  {
   "cell_type": "code",
   "execution_count": 270,
   "metadata": {},
   "outputs": [
    {
     "name": "stderr",
     "output_type": "stream",
     "text": [
      "2020-09-30 16:34:10,697 INFO  [etl] 3402211\n"
     ]
    },
    {
     "name": "stdout",
     "output_type": "stream",
     "text": [
      "root\n",
      " |-- cicid: integer (nullable = true)\n",
      " |-- i94yr: integer (nullable = true)\n",
      " |-- i94mon: integer (nullable = true)\n",
      " |-- i94cit: integer (nullable = true)\n",
      " |-- i94res: integer (nullable = true)\n",
      " |-- i94port: string (nullable = true)\n",
      " |-- arrdate: integer (nullable = true)\n",
      " |-- i94mode: integer (nullable = true)\n",
      " |-- i94addr: string (nullable = true)\n",
      " |-- depdate: integer (nullable = true)\n",
      " |-- i94bir: integer (nullable = true)\n",
      " |-- i94visa: integer (nullable = true)\n",
      " |-- count: integer (nullable = true)\n",
      " |-- dtadfile: string (nullable = true)\n",
      " |-- visapost: string (nullable = true)\n",
      " |-- occup: string (nullable = true)\n",
      " |-- entdepa: string (nullable = true)\n",
      " |-- entdepd: string (nullable = true)\n",
      " |-- entdepu: string (nullable = true)\n",
      " |-- matflag: string (nullable = true)\n",
      " |-- biryear: integer (nullable = true)\n",
      " |-- dtaddto: string (nullable = true)\n",
      " |-- gender: string (nullable = true)\n",
      " |-- insnum: string (nullable = true)\n",
      " |-- airline: string (nullable = true)\n",
      " |-- admnum: double (nullable = true)\n",
      " |-- fltno: string (nullable = true)\n",
      " |-- visatype: string (nullable = true)\n",
      "\n",
      "+-----+-----+------+------+------+-------+-------+-------+-------+-------+------+-------+-----+--------+--------+-----+-------+-------+-------+-------+-------+--------+------+------+-------+---------------+-----+--------+\n",
      "|cicid|i94yr|i94mon|i94cit|i94res|i94port|arrdate|i94mode|i94addr|depdate|i94bir|i94visa|count|dtadfile|visapost|occup|entdepa|entdepd|entdepu|matflag|biryear| dtaddto|gender|insnum|airline|         admnum|fltno|visatype|\n",
      "+-----+-----+------+------+------+-------+-------+-------+-------+-------+------+-------+-----+--------+--------+-----+-------+-------+-------+-------+-------+--------+------+------+-------+---------------+-----+--------+\n",
      "| 2187| 2016|    12|   209|   209|    AGA|  20789|      1|     FL|   null|    59|      2|    1|20161201|    null| null|      A|   null|   null|   null|   1957|01142017|     M|  3931|     UA|5.7326568033E10|00827|     GMT|\n",
      "| 5708| 2016|    12|   209|   209|    AGA|  20789|      1|     NY|  20793|    29|      2|    1|20161201|    null| null|      A|      D|   null|      M|   1987|01142017|     F|  3943|     DL|7.4113742133E10|00608|     GMT|\n",
      "| 9882| 2016|     8|   582|   582|    LVG|  20667|      1|     NV|  20670|    64|      2|    1|20160801|    null| null|      K|      O|   null|      M|   1952|02012017|     M|  null|     4O| 1.743906734E10|00970|      B2|\n",
      "|19222| 2016|    12|   245|   245|    LOS|  20789|      1|     CA|  20796|    36|      2|    1|20161202|    null| null|      G|      O|   null|      M|   1980|05312017|     F|  null|     DL| 2.325259114E10|00186|      B2|\n",
      "|24161| 2016|     8|   135|   135|    SPM|  20667|      1|     TX|  20676|    22|      2|    1|20160811|    null| null|      G|      O|   null|      M|   1994|10292016|     M| 79055|     EV|  4.392760285E9| 5140|      WT|\n",
      "|25124| 2016|     8|   209|   209|    AGA|  20667|      1|     GU|  20671|    42|      2|    1|20160801|    null| null|      G|      O|   null|      M|   1974|10292016|     M|  null|     JL|  4.376863485E9|  941|      WT|\n",
      "|25373| 2016|     8|   117|   117|    NEW|  20667|      1|     NY|  20670|    46|      2|    1|20160801|    null| null|      G|      O|   null|      M|   1970|10292016|     M|  null|     UA|  4.380464085E9|   91|      WT|\n",
      "|26632| 2016|     8|   687|   687|    MIA|  20667|      1|     FL|  20676|    28|      2|    1|20160810|    null| null|      G|      O|   null|      M|   1988|01312017|     M|155498|     4M|  4.399722385E9| 4520|      B2|\n",
      "|30405| 2016|     8|   297|   297|    NYC|  20667|      1|     NY|  20731|    32|      2|    1|20160801|     DOH| null|      G|      O|   null|      M|   1984|01312017|     M|  null|     QR|  4.399799385E9|  703|      B2|\n",
      "|33205| 2016|     8|   116|   116|    NYC|  20667|      1|     NY|  20683|    29|      2|    1|20160818|    null| null|      G|      O|   null|      M|   1987|10292016|     F| 76028|     DL|  4.382082085E9|   45|      WT|\n",
      "|33848| 2016|     8|   687|   687|    MIA|  20667|      1|     IL|  20674|    19|      2|    1|20160808|    null| null|      G|      O|   null|      M|   1997|01312017|     M|155959|     AR|  4.392301085E9| 1302|      B2|\n",
      "|34363| 2016|    12|   438|   438|    LOS|  20789|      1|     CA|  20791|    58|      2|    1|20161201|    null| null|      O|      O|   null|      M|   1958|02282017|     M|  null|     VA|1.5270158985E10|    1|      WT|\n",
      "|38711| 2016|    12|   129|   129|    FTL|  20789|      1|     FL|  20845|    49|      2|    1|20161201|    null| null|      G|      I|   null|      M|   1967|02282017|     M|  null|     B6|1.5289533585E10|  800|      WT|\n",
      "|40399| 2016|    12|   251|   251|    SFR|  20789|      1|     CA|  20794|    53|      1|    1|20161201|     TLV| null|      G|      O|   null|      M|   1963|05312017|     F|  null|     UA|1.5276539885E10|  955|      B1|\n",
      "|42339| 2016|    12|   689|   689|    NYC|  20789|      1|     NY|  20797|    45|      2|    1|20161201|     RCF| null|      G|      O|   null|      M|   1971|05312017|     F|  null|     JJ|1.5262319585E10| 8102|      B2|\n",
      "|44853| 2016|    12|   245|   245|    CHI|  20789|      1|     IL|  20811|    37|      1|    1|20161201|     GUZ| null|      G|      O|   null|      M|   1979|05312017|     M|  null|     CX|1.5298568185E10|  806|      B1|\n",
      "|44991| 2016|     8|   687|   687|    HOU|  20667|      1|     TX|  20671|    36|      1|    1|20160801|     BNS| null|      G|      O|   null|      M|   1980|01312017|     F|  null|     UA|  4.385980685E9|  818|      B1|\n",
      "|45797| 2016|     8|   689|   689|    NYC|  20667|      1|     NY|  20670|    32|      1|    1|20160805|    null| null|      G|      Q|   null|      M|   1984|01312017|     F|504416|     JJ|  4.399011085E9| 8080|      B1|\n",
      "|48162| 2016|     8|   260|   260|    SFR|  20667|      1|     CA|  20756|    27|      2|    1|20160801|     MNL| null|      G|      O|   null|      M|   1989|01302017|     M|  null|     PR|  4.373343485E9|  104|      B2|\n",
      "|57749| 2016|     8|   130|   130|    NEW|  20667|      1|     NY|  20682|    22|      2|    1|20160801|    null| null|      G|      O|   null|      M|   1994|10292016|     F|  null|     UA|  4.418152985E9|   69|      WT|\n",
      "+-----+-----+------+------+------+-------+-------+-------+-------+-------+------+-------+-----+--------+--------+-----+-------+-------+-------+-------+-------+--------+------+------+-------+---------------+-----+--------+\n",
      "only showing top 20 rows\n",
      "\n",
      "CPU times: user 121 ms, sys: 68.5 ms, total: 190 ms\n",
      "Wall time: 42.1 s\n"
     ]
    }
   ],
   "source": [
    "%%time\n",
    "df_imm = spark.read.parquet('i94_sample.parquet/')\n",
    "df_imm = df_imm.dropna(subset=[\"cicid\", \"arrdate\", \"i94addr\"]).dropDuplicates()\n",
    "df_imm = df_imm.filter( df_imm.i94cit.isin(list(meta_i94['I94CIT'].keys())) )\n",
    "df_imm = df_imm.filter( df_imm.i94res.isin(list(meta_i94['I94CIT'].keys())) )\n",
    "LOG.info(df_imm.count())\n",
    "df_imm.printSchema()\n",
    "df_imm.show()"
   ]
  },
  {
   "cell_type": "code",
   "execution_count": 416,
   "metadata": {},
   "outputs": [
    {
     "name": "stdout",
     "output_type": "stream",
     "text": [
      "root\n",
      " |-- cicid: integer (nullable = true)\n",
      " |-- i94yr: integer (nullable = true)\n",
      " |-- i94mon: integer (nullable = true)\n",
      " |-- i94cit: integer (nullable = true)\n",
      " |-- i94res: integer (nullable = true)\n",
      " |-- i94port: string (nullable = true)\n",
      " |-- arrdate: integer (nullable = true)\n",
      " |-- i94addr: string (nullable = true)\n",
      " |-- depdate: integer (nullable = true)\n",
      " |-- i94visa: integer (nullable = true)\n",
      " |-- biryear: integer (nullable = true)\n",
      " |-- gender: string (nullable = true)\n",
      " |-- airline: string (nullable = true)\n",
      " |-- visatype: string (nullable = true)\n",
      "\n",
      "+-----+-----+------+------+------+-------+-------+-------+-------+-------+-------+------+-------+--------+\n",
      "|cicid|i94yr|i94mon|i94cit|i94res|i94port|arrdate|i94addr|depdate|i94visa|biryear|gender|airline|visatype|\n",
      "+-----+-----+------+------+------+-------+-------+-------+-------+-------+-------+------+-------+--------+\n",
      "| 2187| 2016|    12|   209|   209|    AGA|  20789|     FL|   null|      2|   1957|     M|     UA|     GMT|\n",
      "| 5708| 2016|    12|   209|   209|    AGA|  20789|     NY|  20793|      2|   1987|     F|     DL|     GMT|\n",
      "| 9882| 2016|     8|   582|   582|    LVG|  20667|     NV|  20670|      2|   1952|     M|     4O|      B2|\n",
      "|19222| 2016|    12|   245|   245|    LOS|  20789|     CA|  20796|      2|   1980|     F|     DL|      B2|\n",
      "|24161| 2016|     8|   135|   135|    SPM|  20667|     TX|  20676|      2|   1994|     M|     EV|      WT|\n",
      "|25124| 2016|     8|   209|   209|    AGA|  20667|     GU|  20671|      2|   1974|     M|     JL|      WT|\n",
      "|25373| 2016|     8|   117|   117|    NEW|  20667|     NY|  20670|      2|   1970|     M|     UA|      WT|\n",
      "|26632| 2016|     8|   687|   687|    MIA|  20667|     FL|  20676|      2|   1988|     M|     4M|      B2|\n",
      "|30405| 2016|     8|   297|   297|    NYC|  20667|     NY|  20731|      2|   1984|     M|     QR|      B2|\n",
      "|33205| 2016|     8|   116|   116|    NYC|  20667|     NY|  20683|      2|   1987|     F|     DL|      WT|\n",
      "|33848| 2016|     8|   687|   687|    MIA|  20667|     IL|  20674|      2|   1997|     M|     AR|      B2|\n",
      "|34363| 2016|    12|   438|   438|    LOS|  20789|     CA|  20791|      2|   1958|     M|     VA|      WT|\n",
      "|38711| 2016|    12|   129|   129|    FTL|  20789|     FL|  20845|      2|   1967|     M|     B6|      WT|\n",
      "|40399| 2016|    12|   251|   251|    SFR|  20789|     CA|  20794|      1|   1963|     F|     UA|      B1|\n",
      "|42339| 2016|    12|   689|   689|    NYC|  20789|     NY|  20797|      2|   1971|     F|     JJ|      B2|\n",
      "|44853| 2016|    12|   245|   245|    CHI|  20789|     IL|  20811|      1|   1979|     M|     CX|      B1|\n",
      "|44991| 2016|     8|   687|   687|    HOU|  20667|     TX|  20671|      1|   1980|     F|     UA|      B1|\n",
      "|45797| 2016|     8|   689|   689|    NYC|  20667|     NY|  20670|      1|   1984|     F|     JJ|      B1|\n",
      "|48162| 2016|     8|   260|   260|    SFR|  20667|     CA|  20756|      2|   1989|     M|     PR|      B2|\n",
      "|57749| 2016|     8|   130|   130|    NEW|  20667|     NY|  20682|      2|   1994|     F|     UA|      WT|\n",
      "+-----+-----+------+------+------+-------+-------+-------+-------+-------+-------+------+-------+--------+\n",
      "only showing top 20 rows\n",
      "\n"
     ]
    }
   ],
   "source": [
    "# extract valid i94 data\n",
    "drop_columns = ['i94mode', 'i94bir', 'count', 'dtadfile', 'visapost', 'occup', 'entdepa', 'entdepd', 'entdepu', 'matflag', 'dtaddto', 'insnum', 'admnum', 'fltno']\n",
    "df_imm = df_imm.drop(*drop_columns)\n",
    "df_imm.printSchema()\n",
    "df_imm.show()"
   ]
  },
  {
   "cell_type": "code",
   "execution_count": 418,
   "metadata": {},
   "outputs": [],
   "source": [
    "# write valid i94 into parquet for Spark\n",
    "df_imm.write.mode('overwrite').parquet(path='i94_valid.parquet')"
   ]
  },
  {
   "cell_type": "code",
   "execution_count": 419,
   "metadata": {
    "editable": true
   },
   "outputs": [],
   "source": [
    "staging_imm = df_imm.createOrReplaceTempView(\"imm\")"
   ]
  },
  {
   "cell_type": "code",
   "execution_count": 420,
   "metadata": {},
   "outputs": [
    {
     "name": "stdout",
     "output_type": "stream",
     "text": [
      "root\n",
      " |-- i94mon: integer (nullable = true)\n",
      " |-- count(1): long (nullable = false)\n",
      "\n",
      "+------+--------+\n",
      "|i94mon|count(1)|\n",
      "+------+--------+\n",
      "|     1|  229728|\n",
      "|     2|  207544|\n",
      "|     3|  258221|\n",
      "|     4|  258500|\n",
      "|     5|  284546|\n",
      "|     6|  298284|\n",
      "|     7|  362330|\n",
      "|     8|  349680|\n",
      "|     9|  311740|\n",
      "|    10|  305532|\n",
      "|    11|  243670|\n",
      "|    12|  292436|\n",
      "+------+--------+\n",
      "\n"
     ]
    },
    {
     "name": "stderr",
     "output_type": "stream",
     "text": [
      "2020-09-30 19:51:44,468 INFO  [etl] total 1% sample parquet rows: 12\n"
     ]
    }
   ],
   "source": [
    "imm_table = spark.sql(\"\"\"\n",
    "select distinct i94mon, COUNT(*)\n",
    "FROM imm\n",
    "GROUP BY 1\n",
    "ORDER BY 1 asc\n",
    "\"\"\")\n",
    "imm_table.printSchema()\n",
    "imm_table.show()\n",
    "LOG.info(f\"total 1% sample parquet rows: {imm_table.count()}\")"
   ]
  },
  {
   "cell_type": "code",
   "execution_count": 232,
   "metadata": {},
   "outputs": [
    {
     "name": "stdout",
     "output_type": "stream",
     "text": [
      "root\n",
      " |-- cicid: integer (nullable = true)\n",
      " |-- count(1): long (nullable = false)\n",
      "\n",
      "+-------+--------+\n",
      "|  cicid|count(1)|\n",
      "+-------+--------+\n",
      "|4643758|       2|\n",
      "|5133024|       2|\n",
      "|4758513|       2|\n",
      "|6106423|       2|\n",
      "| 446447|       2|\n",
      "|1735689|       2|\n",
      "| 454087|       2|\n",
      "|3797978|       2|\n",
      "| 914792|       2|\n",
      "|1991821|       2|\n",
      "| 373035|       2|\n",
      "|3688657|       2|\n",
      "|2535632|       2|\n",
      "|4329643|       2|\n",
      "|3066636|       2|\n",
      "| 806482|       2|\n",
      "|4334036|       2|\n",
      "|1805074|       2|\n",
      "|2095808|       2|\n",
      "|3960505|       2|\n",
      "+-------+--------+\n",
      "only showing top 20 rows\n",
      "\n"
     ]
    },
    {
     "data": {
      "text/plain": [
       "722568"
      ]
     },
     "execution_count": 232,
     "metadata": {},
     "output_type": "execute_result"
    }
   ],
   "source": [
    "test = spark.sql(\"\"\"\n",
    "select cicid, count(*)\n",
    "from imm\n",
    "group by 1\n",
    "having count(cicid) > 1\n",
    "order by 2\n",
    "\"\"\")\n",
    "test.printSchema()\n",
    "test.show()\n",
    "test.count()"
   ]
  },
  {
   "cell_type": "code",
   "execution_count": null,
   "metadata": {},
   "outputs": [],
   "source": []
  },
  {
   "cell_type": "code",
   "execution_count": null,
   "metadata": {},
   "outputs": [],
   "source": []
  },
  {
   "cell_type": "code",
   "execution_count": null,
   "metadata": {},
   "outputs": [],
   "source": []
  },
  {
   "cell_type": "markdown",
   "metadata": {
    "editable": true
   },
   "source": [
    "## demographics data"
   ]
  },
  {
   "cell_type": "code",
   "execution_count": 372,
   "metadata": {
    "editable": true
   },
   "outputs": [
    {
     "name": "stdout",
     "output_type": "stream",
     "text": [
      "root\n",
      " |-- City: string (nullable = true)\n",
      " |-- State: string (nullable = true)\n",
      " |-- Median_Age: double (nullable = true)\n",
      " |-- Male_Population: integer (nullable = true)\n",
      " |-- Female_Population: integer (nullable = true)\n",
      " |-- Total_Population: integer (nullable = true)\n",
      " |-- Number_Veterans: integer (nullable = true)\n",
      " |-- Foregin_born: integer (nullable = true)\n",
      " |-- Average_Household: double (nullable = true)\n",
      " |-- State_Code: string (nullable = true)\n",
      " |-- Race: string (nullable = true)\n",
      " |-- Count: integer (nullable = true)\n",
      "\n",
      "+----------------+-------------+----------+---------------+-----------------+----------------+---------------+------------+-----------------+----------+--------------------+-----+\n",
      "|            City|        State|Median_Age|Male_Population|Female_Population|Total_Population|Number_Veterans|Foregin_born|Average_Household|State_Code|                Race|Count|\n",
      "+----------------+-------------+----------+---------------+-----------------+----------------+---------------+------------+-----------------+----------+--------------------+-----+\n",
      "|   Silver Spring|     Maryland|      33.8|          40601|            41862|           82463|           1562|       30908|              2.6|        MD|  Hispanic or Latino|25924|\n",
      "|          Quincy|Massachusetts|      41.0|          44129|            49500|           93629|           4147|       32935|             2.39|        MA|               White|58723|\n",
      "|          Hoover|      Alabama|      38.5|          38040|            46799|           84839|           4819|        8229|             2.58|        AL|               Asian| 4759|\n",
      "|Rancho Cucamonga|   California|      34.5|          88127|            87105|          175232|           5821|       33878|             3.18|        CA|Black or African-...|24437|\n",
      "|          Newark|   New Jersey|      34.6|         138040|           143873|          281913|           5829|       86253|             2.73|        NJ|               White|76402|\n",
      "+----------------+-------------+----------+---------------+-----------------+----------------+---------------+------------+-----------------+----------+--------------------+-----+\n",
      "only showing top 5 rows\n",
      "\n"
     ]
    }
   ],
   "source": [
    "custom_demo_schema = R([\n",
    "    Fld(\"City\", Str()),\n",
    "    Fld(\"State\", Str()),\n",
    "    Fld(\"Median_Age\", Dbl()),  \n",
    "    Fld(\"Male_Population\", Int()),\n",
    "    Fld(\"Female_Population\", Int()),\n",
    "    Fld(\"Total_Population\", Int()),\n",
    "    Fld(\"Number_Veterans\", Int()),\n",
    "    Fld(\"Foregin_born\", Int()),\n",
    "    Fld(\"Average_Household\", Dbl()),\n",
    "    Fld(\"State_Code\", Str()),\n",
    "    Fld(\"Race\", Str()),\n",
    "    Fld(\"Count\", Int()),\n",
    "])\n",
    "\n",
    "df_degh = spark.read.schema(custom_demo_schema).options(header='True',sep=';').csv('./us-cities-demographics.csv')\n",
    "df_degh.printSchema()\n",
    "df_degh.show(5)"
   ]
  },
  {
   "cell_type": "markdown",
   "metadata": {
    "editable": true
   },
   "source": [
    "## Checkout airport data"
   ]
  },
  {
   "cell_type": "code",
   "execution_count": 261,
   "metadata": {
    "editable": true
   },
   "outputs": [
    {
     "name": "stdout",
     "output_type": "stream",
     "text": [
      "root\n",
      " |-- ident: string (nullable = true)\n",
      " |-- type: string (nullable = true)\n",
      " |-- name: string (nullable = true)\n",
      " |-- elevation_ft: integer (nullable = true)\n",
      " |-- continent: string (nullable = true)\n",
      " |-- iso_country: string (nullable = true)\n",
      " |-- iso_region: string (nullable = true)\n",
      " |-- municipality: string (nullable = true)\n",
      " |-- gps_code: string (nullable = true)\n",
      " |-- iata_code: string (nullable = true)\n",
      " |-- local_code: string (nullable = true)\n",
      " |-- coordinates: string (nullable = true)\n",
      "\n",
      "+-----+-------------+--------------------+------------+---------+-----------+----------+-------------+--------+---------+----------+--------------------+\n",
      "|ident|         type|                name|elevation_ft|continent|iso_country|iso_region| municipality|gps_code|iata_code|local_code|         coordinates|\n",
      "+-----+-------------+--------------------+------------+---------+-----------+----------+-------------+--------+---------+----------+--------------------+\n",
      "|  03N|small_airport|      Utirik Airport|           4|       OC|         MH|    MH-UTI|Utirik Island|    K03N|      UTK|       03N|  169.852005, 11.222|\n",
      "| 07FA|small_airport|Ocean Reef Club A...|           8|       NA|         US|     US-FL|    Key Largo|    07FA|      OCA|      07FA|-80.274803161621,...|\n",
      "|  0AK|small_airport|Pilot Station Air...|         305|       NA|         US|     US-AK|Pilot Station|    null|      PQS|       0AK|-162.899994, 61.9...|\n",
      "| 0CO2|small_airport|Crested Butte Air...|        8980|       NA|         US|     US-CO|Crested Butte|    0CO2|      CSE|      0CO2|-106.928341, 38.8...|\n",
      "| 0TE7|small_airport|   LBJ Ranch Airport|        1515|       NA|         US|     US-TX| Johnson City|    0TE7|      JCY|      0TE7|-98.6224975585999...|\n",
      "+-----+-------------+--------------------+------------+---------+-----------+----------+-------------+--------+---------+----------+--------------------+\n",
      "only showing top 5 rows\n",
      "\n"
     ]
    },
    {
     "data": {
      "text/plain": [
       "9189"
      ]
     },
     "execution_count": 261,
     "metadata": {},
     "output_type": "execute_result"
    }
   ],
   "source": [
    "df_air = spark.read.options(header='True',inferSchema='True').csv('./airport-codes_csv.csv')\n",
    "df_air = df_air.dropna(subset=[\"iata_code\"])\n",
    "df_air.printSchema()\n",
    "df_air.show(5)\n",
    "df_air.count()"
   ]
  },
  {
   "cell_type": "code",
   "execution_count": 421,
   "metadata": {},
   "outputs": [],
   "source": [
    "df_air.write.mode('overwrite').parquet(path='df_airport.parquet')"
   ]
  },
  {
   "cell_type": "markdown",
   "metadata": {
    "editable": true
   },
   "source": [
    "## Checkout temperature data"
   ]
  },
  {
   "cell_type": "code",
   "execution_count": 236,
   "metadata": {
    "editable": true
   },
   "outputs": [
    {
     "name": "stdout",
     "output_type": "stream",
     "text": [
      "root\n",
      " |-- dt: string (nullable = true)\n",
      " |-- AverageTemperature: double (nullable = true)\n",
      " |-- AverageTemperatureUncertainty: double (nullable = true)\n",
      " |-- City: string (nullable = true)\n",
      " |-- Country: string (nullable = true)\n",
      " |-- Latitude: string (nullable = true)\n",
      " |-- Longitude: string (nullable = true)\n",
      "\n",
      "+----------+------------------+-----------------------------+-------+-------------+--------+---------+\n",
      "|        dt|AverageTemperature|AverageTemperatureUncertainty|   City|      Country|Latitude|Longitude|\n",
      "+----------+------------------+-----------------------------+-------+-------------+--------+---------+\n",
      "|1820-01-01|2.1010000000000004|                        3.217|Abilene|United States|  32.95N|  100.53W|\n",
      "|1820-02-01|             6.926|                        2.853|Abilene|United States|  32.95N|  100.53W|\n",
      "|1820-03-01|            10.767|                        2.395|Abilene|United States|  32.95N|  100.53W|\n",
      "|1820-04-01|17.988999999999994|                        2.202|Abilene|United States|  32.95N|  100.53W|\n",
      "|1820-05-01|            21.809|                        2.036|Abilene|United States|  32.95N|  100.53W|\n",
      "+----------+------------------+-----------------------------+-------+-------------+--------+---------+\n",
      "only showing top 5 rows\n",
      "\n"
     ]
    }
   ],
   "source": [
    "df_tmpt = spark.read.options(header='True', inferSchema='True').csv('./GlobalLandTemperaturesByCity.csv')\n",
    "df_tmpt = df_tmpt.filter(df_tmpt.Country == \"United States\")\n",
    "df_tmpt.printSchema()\n",
    "df_tmpt.show(5)"
   ]
  },
  {
   "cell_type": "code",
   "execution_count": 237,
   "metadata": {
    "editable": true
   },
   "outputs": [],
   "source": [
    "df_tmpt.write.mode('overwrite').parquet(path='temperature_us.parquet')"
   ]
  },
  {
   "cell_type": "code",
   "execution_count": 258,
   "metadata": {
    "editable": true
   },
   "outputs": [
    {
     "name": "stdout",
     "output_type": "stream",
     "text": [
      "root\n",
      " |-- AverageTemperature: double (nullable = true)\n",
      " |-- AverageTemperatureUncertainty: double (nullable = true)\n",
      " |-- City: string (nullable = true)\n",
      " |-- Country: string (nullable = true)\n",
      " |-- Latitude: string (nullable = true)\n",
      " |-- Longitude: string (nullable = true)\n",
      " |-- datetime: date (nullable = true)\n",
      "\n",
      "+------------------+-----------------------------+----+-------+--------+---------+--------+\n",
      "|AverageTemperature|AverageTemperatureUncertainty|City|Country|Latitude|Longitude|datetime|\n",
      "+------------------+-----------------------------+----+-------+--------+---------+--------+\n",
      "+------------------+-----------------------------+----+-------+--------+---------+--------+\n",
      "\n"
     ]
    }
   ],
   "source": [
    "df_temper = spark.read.parquet('./temperature_us.parquet/')\n",
    "df_temper = df_temper.withColumn(\"datetime\", F.col(\"dt\").cast(\"date\")).drop(\"dt\")\n",
    "df_temper = df_temper.filter( df_temper[\"datetime\"] >= F.lit('2016-01-01') )\n",
    "df_temper.printSchema()\n",
    "df_temper.show()"
   ]
  },
  {
   "cell_type": "code",
   "execution_count": null,
   "metadata": {
    "editable": true
   },
   "outputs": [],
   "source": []
  },
  {
   "cell_type": "markdown",
   "metadata": {
    "editable": true
   },
   "source": [
    "### Step 3: Define the Data Model\n",
    "#### 3.1 Conceptual Data Model\n",
    "Map out the conceptual data model and explain why you chose that model\n",
    "\n",
    "#### 3.2 Mapping Out Data Pipelines\n",
    "List the steps necessary to pipeline the data into the chosen data model"
   ]
  },
  {
   "cell_type": "markdown",
   "metadata": {},
   "source": [
    "## Extract i94 table from dataframe"
   ]
  },
  {
   "cell_type": "code",
   "execution_count": 311,
   "metadata": {},
   "outputs": [
    {
     "name": "stdout",
     "output_type": "stream",
     "text": [
      "+-----+-----+------+------+------+-------+-------+-------+-------+-------+------+-------+-----+--------+--------+-----+-------+-------+-------+-------+-------+--------+------+------+-------+---------------+-----+--------+\n",
      "|cicid|i94yr|i94mon|i94cit|i94res|i94port|arrdate|i94mode|i94addr|depdate|i94bir|i94visa|count|dtadfile|visapost|occup|entdepa|entdepd|entdepu|matflag|biryear| dtaddto|gender|insnum|airline|         admnum|fltno|visatype|\n",
      "+-----+-----+------+------+------+-------+-------+-------+-------+-------+------+-------+-----+--------+--------+-----+-------+-------+-------+-------+-------+--------+------+------+-------+---------------+-----+--------+\n",
      "| 7228| 2016|    12|   209|   209|    AGA|  20789|      1|     NY|  20793|    35|      2|    1|20161201|    null| null|      A|      D|   null|      M|   1981|01142017|     M|  3680|     JL|4.0247459128E10|00941|     GMT|\n",
      "| 8754| 2016|     8|   582|   582|    SNA|  20667|      1|     CA|  20674|    23|      2|    1|20160808|    null| null|      G|      O|   null|      M|   1993|01052017|     F|142137|     WN| 1.599861554E10| 1810|      B2|\n",
      "|29342| 2016|     8|   692|   692|    FTL|  20667|      1|     FL|   null|    42|      2|    1|20160801|     QTO| null|      G|   null|   null|   null|   1974|01312017|     F|  null|     B6|  4.382013285E9| 2850|      B2|\n",
      "|31314| 2016|     8|   245|   245|    NYC|  20667|      1|     CA|  20672|    49|      1|    1|20160801|     SHG| null|      O|      O|   null|      M|   1967|01312017|     M|  null|     CZ|  4.382073885E9|  399|      B1|\n",
      "|35230| 2016|     8|   528|   528|    FTL|  20667|      1|     FL|  20673|    27|      2|    1|20160801|     TGG| null|      G|      O|   null|      M|   1989|01312017|     F|  null|     NK|  4.384311385E9|  826|      B2|\n",
      "|39342| 2016|     8|   689|   689|    NYC|  20667|      1|     NY|  20695|    44|      2|    1|20160830|    null| null|      G|      N|   null|      M|   1972|01312017|     M| 22337|     AA|  4.388807685E9|  950|      B2|\n",
      "|39688| 2016|     8|   514|   514|    NYC|  20667|      1|     CT|   null|    42|      2|    1|20160801|     KNG| null|      O|   null|   null|   null|   1974|01312017|     M|  null|     B6|  4.393877785E9|  960|      B2|\n",
      "|42856| 2016|     8|   689|   689|    MIA|  20667|      1|     FL|  20670|    51|      1|    1|20160801|     SPL| null|      G|      O|   null|      M|   1965|01312017|     M|  null|     AA|  4.383060085E9|  930|      B1|\n",
      "|44384| 2016|    12|   464|   464|    HHW|  20789|      1|     HI|  20796|    57|      2|    1|20161201|    null| null|      G|      O|   null|      M|   1959|02282017|     M|  null|     NZ|1.5291890285E10|   10|      WT|\n",
      "|44884| 2016|     8|   689|   689|    MIA|  20667|      1|     NV|  20671|    30|      2|    1|20160806|    null| null|      G|      O|   null|      M|   1986|01312017|     F|179208|     AA|  4.383839285E9|  214|      B2|\n",
      "|47513| 2016|    12|   582|   582|    SNA|  20789|      1|     TX|  20792|    40|      2|    1|20161201|     GDL| null|      G|      Q|   null|      M|   1976|05312017|     F| 16107|     AM|1.5297492085E10|  632|      B2|\n",
      "|50125| 2016|    12|   209|   209|    SEA|  20789|      1|     OR|  20796|    40|      1|    1|20161201|    null| null|      G|      O|   null|      M|   1976|02282017|     M|  null|     NH|1.5296921985E10|  178|      WB|\n",
      "|50130| 2016|     8|   245|   245|    LOS|  20667|      1|     CA|   null|    17|      3|    1|20160801|     GUZ| null|      T|   null|   null|   null|   1999|     D/S|     F|  null|     CZ|  4.373392085E9|  327|      F1|\n",
      "|54132| 2016|     8|   438|   438|    LOS|  20667|      1|     CA|  20692|    47|      2|    1|20160827|    null| null|      G|      O|   null|      M|   1969|10292016|     M|309043|     QF|  4.406497485E9|   11|      WT|\n",
      "|55278| 2016|     8|   104|   104|    NEW|  20667|      1|     FL|  20677|    29|      2|    1|20160812|    null| null|      T|      O|   null|      M|   1987|00000000|     M|178201|     UA|  4.424692385E9|   56|      WT|\n",
      "|57694| 2016|    12|   245|   245|    SAI|  20789|      1|     MP|  20795|     4|      2|    1|20161201|     SPN| null|      G|      O|   null|      M|   2012|12122016|     F| 01799|     MU|1.5286108985E10|  763|      CP|\n",
      "|60751| 2016|     8|   111|   111|    NEW|  20667|      1|     FL|  20688|    13|      2|    1|20160823|    null| null|      G|      O|   null|      M|   2003|10292016|     M|200615|     UA|  4.419662685E9|   56|      WT|\n",
      "|61775| 2016|     8|   111|   111|    NYC|  20667|      1|     NY|  20687|    41|      2|    1|20160822|    null| null|      G|      O|   null|      M|   1975|10292016|     M|294969|     LX|  4.436400085E9|   16|      WT|\n",
      "|62932| 2016|     8|   513|   513|    MIA|  20667|      1|     FL|  20672|    65|      2|    1|20160801|     BGN| null|      G|      O|   null|      M|   1951|01312017|     M|  null|     AA|  4.408060385E9| 2719|      B2|\n",
      "|63385| 2016|    12|   689|   689|    ORL|  20789|      1|     FL|  20951|    10|      2|    1|20161201|     SPL| null|      O|      O|   null|      M|   2006|05312017|     M|  null|     CM|1.5287902885E10|  446|      B2|\n",
      "+-----+-----+------+------+------+-------+-------+-------+-------+-------+------+-------+-----+--------+--------+-----+-------+-------+-------+-------+-------+--------+------+------+-------+---------------+-----+--------+\n",
      "only showing top 20 rows\n",
      "\n",
      "CPU times: user 139 ms, sys: 28.8 ms, total: 168 ms\n",
      "Wall time: 1.06 s\n"
     ]
    }
   ],
   "source": [
    "%%time\n",
    "df_i94 = spark.read.parquet('i94_valid.parquet/')\n",
    "df_i94 = df_i94.filter( df_i94.i94cit.isin(set(meta_i94['I94CIT'].keys())) )\n",
    "df_i94 = df_i94.filter( df_i94.i94res.isin(set(meta_i94['I94CIT'].keys())) )\n",
    "df_i94.show()"
   ]
  },
  {
   "cell_type": "markdown",
   "metadata": {},
   "source": [
    "# Create i94 staging table"
   ]
  },
  {
   "cell_type": "code",
   "execution_count": 349,
   "metadata": {},
   "outputs": [
    {
     "name": "stdout",
     "output_type": "stream",
     "text": [
      "root\n",
      " |-- cid: integer (nullable = true)\n",
      " |-- i94yr: integer (nullable = true)\n",
      " |-- i94mon: integer (nullable = true)\n",
      " |-- i94day: integer (nullable = true)\n",
      " |-- i94cit: integer (nullable = true)\n",
      " |-- i94res: integer (nullable = true)\n",
      " |-- i94port: string (nullable = true)\n",
      " |-- i94addr: string (nullable = true)\n",
      " |-- i94visa: integer (nullable = true)\n",
      " |-- biryear: integer (nullable = true)\n",
      " |-- gender: string (nullable = true)\n",
      " |-- airline: string (nullable = true)\n",
      " |-- visatype: string (nullable = true)\n",
      " |-- arrdate: date (nullable = true)\n",
      " |-- depdate: date (nullable = true)\n",
      "\n",
      "+-------+-----+------+------+------+------+-------+-------+-------+-------+------+-------+--------+----------+----------+\n",
      "|    cid|i94yr|i94mon|i94day|i94cit|i94res|i94port|i94addr|i94visa|biryear|gender|airline|visatype|   arrdate|   depdate|\n",
      "+-------+-----+------+------+------+------+-------+-------+-------+-------+------+-------+--------+----------+----------+\n",
      "|1003688| 2016|     5|     6|   101|   101|    MIA|     FL|      2|   1988|     F|     TK|      B2|2016-05-06|2016-05-11|\n",
      "| 945918| 2016|    10|     5|   101|   101|    KAN|     MO|      2|   1952|     F|     ZX|      B2|2016-10-05|2016-10-11|\n",
      "|3300062| 2016|     4|    18|   101|   101|    NYC|     US|      2|   1956|  null|     AZ|      B2|2016-04-18|2016-05-31|\n",
      "|4759367| 2016|     3|    24|   101|   101|    NYC|     NY|      2|   1954|     F|     WS|      B2|2016-03-24|2016-03-29|\n",
      "|2667819| 2016|     6|    14|   101|   101|    BOS|     MA|      2|   1962|     F|     LH|      B2|2016-06-14|2016-06-28|\n",
      "|4822294| 2016|    12|    22|   101|   101|    PHI|     PA|      2|   1986|     M|     AA|      B2|2016-12-22|2017-01-07|\n",
      "|5205859| 2016|     6|    26|   101|   101|    NEW|     CA|      2|   1942|     F|     UA|      B2|2016-06-26|2016-08-22|\n",
      "|3649907| 2016|     4|    20|   101|   101|    LVG|     NY|      2|   1949|     M|     AZ|      B2|2016-04-20|2016-04-28|\n",
      "| 856619| 2016|     6|     5|   101|   101|    ATL|     GA|      1|   1987|  null|     DL|      B1|2016-06-05|2016-07-02|\n",
      "|3099024| 2016|     9|    14|   101|   101|    NYC|     NY|      2|   1969|     M|     AB|      B2|2016-09-14|2016-12-31|\n",
      "|5154203| 2016|     5|    26|   101|   101|    NYC|     NJ|      2|   1993|     F|     LH|      B2|2016-05-26|2016-06-01|\n",
      "|1291390| 2016|    11|     7|   101|   101|    NYC|     US|      2|   1941|     F|     AZ|      B2|2016-11-07|2017-01-09|\n",
      "|1657291| 2016|     5|     9|   101|   101|    NYC|     PA|      2|   1950|  null|     AZ|      B2|2016-05-09|2016-07-08|\n",
      "|4160266| 2016|     5|    21|   101|   101|    BOS|     MA|      2|   1979|     F|     TK|      B2|2016-05-21|2016-06-12|\n",
      "|2289967| 2016|     1|    12|   101|   101|    NYC|     NE|      3|   1991|     F|     TK|      F1|2016-01-12|      null|\n",
      "|4976419| 2016|    10|    24|   101|   101|    BOS|     MA|      2|   1988|     M|     TK|      B2|2016-10-24|2017-04-15|\n",
      "|3368896| 2016|     9|    15|   101|   101|    BOS|     MA|      2|   1963|     M|     AZ|      B2|2016-09-15|2016-10-01|\n",
      "| 899873| 2016|     1|     5|   101|   101|    NYC|     CT|      2|   1969|     F|     AB|      B2|2016-01-05|2016-04-04|\n",
      "|2987129| 2016|     2|    17|   101|   101|    SFR|     CA|      2|   1951|     M|     VS|      B2|2016-02-17|2016-03-17|\n",
      "|3120411| 2016|     5|    16|   101|   101|    NYC|     NY|      2|   1968|     M|     OS|      B2|2016-05-16|2016-05-27|\n",
      "+-------+-----+------+------+------+------+-------+-------+-------+-------+------+-------+--------+----------+----------+\n",
      "only showing top 20 rows\n",
      "\n"
     ]
    }
   ],
   "source": [
    "df_i94.createOrReplaceTempView(\"i94\")\n",
    "i94_stage = spark.sql(\"\"\"\n",
    "SELECT \n",
    "    distinct cicid as cid,\n",
    "    i94yr,\n",
    "    i94mon,\n",
    "    EXTRACT(DAY FROM date_add('1960-01-01',arrdate) ) as i94day,\n",
    "    i94cit,\n",
    "    i94res,\n",
    "    i94port,\n",
    "    i94addr,\n",
    "    i94visa,\n",
    "    biryear,\n",
    "    gender,\n",
    "    airline,\n",
    "    visatype,\n",
    "    date_add('1960-01-01',arrdate) as arrdate,\n",
    "    date_add('1960-01-01',depdate) as depdate\n",
    "FROM i94\n",
    "order by i94cit asc\n",
    "\"\"\")\n",
    "i94_stage.printSchema()\n",
    "i94_stage.show()"
   ]
  },
  {
   "cell_type": "code",
   "execution_count": null,
   "metadata": {},
   "outputs": [],
   "source": []
  },
  {
   "cell_type": "code",
   "execution_count": null,
   "metadata": {},
   "outputs": [],
   "source": []
  },
  {
   "cell_type": "code",
   "execution_count": null,
   "metadata": {},
   "outputs": [],
   "source": []
  },
  {
   "cell_type": "code",
   "execution_count": null,
   "metadata": {},
   "outputs": [],
   "source": []
  },
  {
   "cell_type": "markdown",
   "metadata": {},
   "source": [
    "# Create airport dim table"
   ]
  },
  {
   "cell_type": "code",
   "execution_count": 344,
   "metadata": {},
   "outputs": [
    {
     "data": {
      "text/plain": [
       "dict_keys(['I94CIT', 'I94PORT', 'I94MODE', 'I94ADDR'])"
      ]
     },
     "execution_count": 344,
     "metadata": {},
     "output_type": "execute_result"
    }
   ],
   "source": [
    "meta_i94.keys()"
   ]
  },
  {
   "cell_type": "code",
   "execution_count": 404,
   "metadata": {},
   "outputs": [
    {
     "name": "stdout",
     "output_type": "stream",
     "text": [
      "root\n",
      " |-- id: string (nullable = true)\n",
      " |-- airport: string (nullable = true)\n",
      "\n",
      "+---+--------------------+\n",
      "| id|             airport|\n",
      "+---+--------------------+\n",
      "|ALC|           ALCAN, AK|\n",
      "|ANC|       ANCHORAGE, AK|\n",
      "|BAR|BAKER AAF - BAKER...|\n",
      "|DAC|   DALTONS CACHE, AK|\n",
      "|PIZ|DEW STATION PT LA...|\n",
      "|DTH|    DUTCH HARBOR, AK|\n",
      "|EGL|           EAGLE, AK|\n",
      "|FRB|       FAIRBANKS, AK|\n",
      "|HOM|           HOMER, AK|\n",
      "|HYD|           HYDER, AK|\n",
      "|JUN|          JUNEAU, AK|\n",
      "|5KE|       KETCHIKAN, AK|\n",
      "|KET|       KETCHIKAN, AK|\n",
      "|MOS|MOSES POINT INTER...|\n",
      "|NIK|         NIKISKI, AK|\n",
      "|NOM|             NOM, AK|\n",
      "|PKC|     POKER CREEK, AK|\n",
      "|ORI|  PORT LIONS SPB, AK|\n",
      "|SKA|         SKAGWAY, AK|\n",
      "|SNP| ST. PAUL ISLAND, AK|\n",
      "+---+--------------------+\n",
      "only showing top 20 rows\n",
      "\n"
     ]
    }
   ],
   "source": [
    "i94port = meta_i94['I94PORT']\n",
    "pddf = pd.DataFrame(i94port.items(), columns=[\"id\", \"airport\"])\n",
    "df_i94port = spark.createDataFrame(pddf)\n",
    "df_i94port.printSchema()\n",
    "df_i94port.show()"
   ]
  },
  {
   "cell_type": "code",
   "execution_count": 405,
   "metadata": {},
   "outputs": [],
   "source": [
    "df_i94port.write.mode('overwrite').parquet(path='df_i94port.parquet')"
   ]
  },
  {
   "cell_type": "markdown",
   "metadata": {},
   "source": [
    "# Create Visa table for 1,2,3"
   ]
  },
  {
   "cell_type": "code",
   "execution_count": 429,
   "metadata": {},
   "outputs": [
    {
     "name": "stdout",
     "output_type": "stream",
     "text": [
      "{1: 'BUSINESS', 2: 'PLEASURE', 3: 'STUDENT'}\n"
     ]
    }
   ],
   "source": [
    "visa = meta_i94['I94VISA']\n",
    "print(visa)"
   ]
  },
  {
   "cell_type": "code",
   "execution_count": 430,
   "metadata": {},
   "outputs": [
    {
     "name": "stdout",
     "output_type": "stream",
     "text": [
      "root\n",
      " |-- id: long (nullable = true)\n",
      " |-- visa_type: string (nullable = true)\n",
      "\n",
      "+---+---------+\n",
      "| id|visa_type|\n",
      "+---+---------+\n",
      "|  1| BUSINESS|\n",
      "|  2| PLEASURE|\n",
      "|  3|  STUDENT|\n",
      "+---+---------+\n",
      "\n"
     ]
    }
   ],
   "source": [
    "pddf = pd.DataFrame(visa.items(), columns=[\"id\", \"visa_type\"])\n",
    "df_i94visa = spark.createDataFrame(pddf)\n",
    "df_i94visa.printSchema()\n",
    "df_i94visa.show()"
   ]
  },
  {
   "cell_type": "code",
   "execution_count": 431,
   "metadata": {},
   "outputs": [],
   "source": [
    "df_i94visa.write.mode('overwrite').parquet(path='df_i94visa.parquet')"
   ]
  },
  {
   "cell_type": "markdown",
   "metadata": {},
   "source": [
    "# Create cit_res dim table"
   ]
  },
  {
   "cell_type": "code",
   "execution_count": 406,
   "metadata": {},
   "outputs": [
    {
     "name": "stdout",
     "output_type": "stream",
     "text": [
      "root\n",
      " |-- id: long (nullable = true)\n",
      " |-- citres: string (nullable = true)\n",
      "\n",
      "+---+--------------------+\n",
      "| id|              citres|\n",
      "+---+--------------------+\n",
      "|582|MEXICO AIR SEA, A...|\n",
      "|236|         AFGHANISTAN|\n",
      "|101|             ALBANIA|\n",
      "|316|             ALGERIA|\n",
      "|102|             ANDORRA|\n",
      "|324|              ANGOLA|\n",
      "|529|            ANGUILLA|\n",
      "|518|     ANTIGUA-BARBUDA|\n",
      "|687|           ARGENTINA|\n",
      "|151|             ARMENIA|\n",
      "|532|               ARUBA|\n",
      "|438|           AUSTRALIA|\n",
      "|103|             AUSTRIA|\n",
      "|152|          AZERBAIJAN|\n",
      "|512|             BAHAMAS|\n",
      "|298|             BAHRAIN|\n",
      "|274|          BANGLADESH|\n",
      "|513|            BARBADOS|\n",
      "|104|             BELGIUM|\n",
      "|581|              BELIZE|\n",
      "+---+--------------------+\n",
      "only showing top 20 rows\n",
      "\n"
     ]
    }
   ],
   "source": [
    "cit = meta_i94['I94CIT']\n",
    "pddf = pd.DataFrame(cit.items(), columns=[\"id\", \"citres\"])\n",
    "df_i94cit = spark.createDataFrame(pddf)\n",
    "df_i94cit.printSchema()\n",
    "df_i94cit.show()"
   ]
  },
  {
   "cell_type": "code",
   "execution_count": 407,
   "metadata": {},
   "outputs": [],
   "source": [
    "df_i94cit.write.mode('overwrite').parquet(path='df_i94cit.parquet')"
   ]
  },
  {
   "cell_type": "code",
   "execution_count": null,
   "metadata": {},
   "outputs": [],
   "source": []
  },
  {
   "cell_type": "markdown",
   "metadata": {},
   "source": [
    "# Create addr dim table"
   ]
  },
  {
   "cell_type": "code",
   "execution_count": 408,
   "metadata": {},
   "outputs": [
    {
     "name": "stdout",
     "output_type": "stream",
     "text": [
      "root\n",
      " |-- st: string (nullable = true)\n",
      " |-- state: string (nullable = true)\n",
      "\n",
      "+---+-----------------+\n",
      "| st|            state|\n",
      "+---+-----------------+\n",
      "| AL|          ALABAMA|\n",
      "| AK|           ALASKA|\n",
      "| AZ|          ARIZONA|\n",
      "| AR|         ARKANSAS|\n",
      "| CA|       CALIFORNIA|\n",
      "| CO|         COLORADO|\n",
      "| CT|      CONNECTICUT|\n",
      "| DE|         DELAWARE|\n",
      "| DC|DIST. OF COLUMBIA|\n",
      "| FL|          FLORIDA|\n",
      "| GA|          GEORGIA|\n",
      "| GU|             GUAM|\n",
      "| HI|           HAWAII|\n",
      "| ID|            IDAHO|\n",
      "| IL|         ILLINOIS|\n",
      "| IN|          INDIANA|\n",
      "| IA|             IOWA|\n",
      "| KS|           KANSAS|\n",
      "| KY|         KENTUCKY|\n",
      "| LA|        LOUISIANA|\n",
      "+---+-----------------+\n",
      "only showing top 20 rows\n",
      "\n",
      "+---+----------+\n",
      "| st|     state|\n",
      "+---+----------+\n",
      "| CA|CALIFORNIA|\n",
      "+---+----------+\n",
      "\n"
     ]
    }
   ],
   "source": [
    "meta_i94.keys()\n",
    "addr = meta_i94['I94ADDR']\n",
    "pddf = pd.DataFrame(addr.items(), columns=[\"st\", \"state\"])\n",
    "df_i94addr = spark.createDataFrame(pddf)\n",
    "df_i94addr.printSchema()\n",
    "df_i94addr.show()\n",
    "\n",
    "da_1 = df_i94addr.filter( df_i94addr.st == 'CA')\n",
    "da_1.show()"
   ]
  },
  {
   "cell_type": "code",
   "execution_count": 409,
   "metadata": {},
   "outputs": [],
   "source": [
    "df_i94addr.write.mode('overwrite').parquet(path='df_i94addr.parquet')"
   ]
  },
  {
   "cell_type": "markdown",
   "metadata": {},
   "source": [
    "# Create demopgrahics dim table"
   ]
  },
  {
   "cell_type": "code",
   "execution_count": 395,
   "metadata": {},
   "outputs": [
    {
     "name": "stdout",
     "output_type": "stream",
     "text": [
      "root\n",
      " |-- City: string (nullable = true)\n",
      " |-- State: string (nullable = true)\n",
      " |-- Median_Age: double (nullable = true)\n",
      " |-- Male_Population: integer (nullable = true)\n",
      " |-- Female_Population: integer (nullable = true)\n",
      " |-- Total_Population: integer (nullable = true)\n",
      " |-- Number_Veterans: integer (nullable = true)\n",
      " |-- Foregin_born: integer (nullable = true)\n",
      " |-- Average_Household: double (nullable = true)\n",
      " |-- State_Code: string (nullable = true)\n",
      " |-- Race: string (nullable = true)\n",
      " |-- Count: integer (nullable = true)\n",
      "\n",
      "+----------------+--------------+----------+---------------+-----------------+----------------+---------------+------------+-----------------+----------+--------------------+------+\n",
      "|            City|         State|Median_Age|Male_Population|Female_Population|Total_Population|Number_Veterans|Foregin_born|Average_Household|State_Code|                Race| Count|\n",
      "+----------------+--------------+----------+---------------+-----------------+----------------+---------------+------------+-----------------+----------+--------------------+------+\n",
      "|   Silver Spring|      Maryland|      33.8|          40601|            41862|           82463|           1562|       30908|              2.6|        MD|  Hispanic or Latino| 25924|\n",
      "|          Quincy| Massachusetts|      41.0|          44129|            49500|           93629|           4147|       32935|             2.39|        MA|               White| 58723|\n",
      "|          Hoover|       Alabama|      38.5|          38040|            46799|           84839|           4819|        8229|             2.58|        AL|               Asian|  4759|\n",
      "|Rancho Cucamonga|    California|      34.5|          88127|            87105|          175232|           5821|       33878|             3.18|        CA|Black or African-...| 24437|\n",
      "|          Newark|    New Jersey|      34.6|         138040|           143873|          281913|           5829|       86253|             2.73|        NJ|               White| 76402|\n",
      "|          Peoria|      Illinois|      33.1|          56229|            62432|          118661|           6634|        7517|              2.4|        IL|American Indian a...|  1343|\n",
      "|        Avondale|       Arizona|      29.1|          38712|            41971|           80683|           4815|        8355|             3.18|        AZ|Black or African-...| 11592|\n",
      "|     West Covina|    California|      39.8|          51629|            56860|          108489|           3800|       37038|             3.56|        CA|               Asian| 32716|\n",
      "|        O'Fallon|      Missouri|      36.0|          41762|            43270|           85032|           5783|        3269|             2.77|        MO|  Hispanic or Latino|  2583|\n",
      "|      High Point|North Carolina|      35.5|          51751|            58077|          109828|           5204|       16315|             2.65|        NC|               Asian| 11060|\n",
      "|          Folsom|    California|      40.9|          41051|            35317|           76368|           4187|       13234|             2.62|        CA|  Hispanic or Latino|  5822|\n",
      "|          Folsom|    California|      40.9|          41051|            35317|           76368|           4187|       13234|             2.62|        CA|American Indian a...|   998|\n",
      "|    Philadelphia|  Pennsylvania|      34.1|         741270|           826172|         1567442|          61995|      205339|             2.61|        PA|               Asian|122721|\n",
      "|         Wichita|        Kansas|      34.6|         192354|           197601|          389955|          23978|       40270|             2.56|        KS|  Hispanic or Latino| 65162|\n",
      "|         Wichita|        Kansas|      34.6|         192354|           197601|          389955|          23978|       40270|             2.56|        KS|American Indian a...|  8791|\n",
      "|      Fort Myers|       Florida|      37.3|          36850|            37165|           74015|           4312|       15365|             2.45|        FL|               White| 50169|\n",
      "|      Pittsburgh|  Pennsylvania|      32.9|         149690|           154695|          304385|          17728|       28187|             2.13|        PA|               White|208863|\n",
      "|          Laredo|         Texas|      28.8|         124305|           131484|          255789|           4921|       68427|             3.66|        TX|American Indian a...|  1253|\n",
      "|        Berkeley|    California|      32.5|          60142|            60829|          120971|           3736|       25000|             2.35|        CA|               Asian| 27089|\n",
      "|     Santa Clara|    California|      35.2|          63278|            62938|          126216|           4426|       52281|             2.75|        CA|               White| 55847|\n",
      "+----------------+--------------+----------+---------------+-----------------+----------------+---------------+------------+-----------------+----------+--------------------+------+\n",
      "only showing top 20 rows\n",
      "\n"
     ]
    }
   ],
   "source": [
    "# df_demo_1 = df_degh.filter(df_degh[\"State_Code\"] == \"ID\")\n",
    "df_demo_1 = df_degh\n",
    "df_demo_1.printSchema()\n",
    "df_demo_1.show()"
   ]
  },
  {
   "cell_type": "code",
   "execution_count": 396,
   "metadata": {},
   "outputs": [
    {
     "name": "stdout",
     "output_type": "stream",
     "text": [
      "root\n",
      " |-- State_Code: string (nullable = true)\n",
      " |-- Median_Age: double (nullable = true)\n",
      " |-- Male_Population: integer (nullable = true)\n",
      " |-- Female_Population: integer (nullable = true)\n",
      " |-- Total_Population: integer (nullable = true)\n",
      " |-- Number_Veterans: integer (nullable = true)\n",
      " |-- Foregin_born: integer (nullable = true)\n",
      " |-- Average_Household: double (nullable = true)\n",
      " |-- American Indian and Alaska Native: long (nullable = true)\n",
      " |-- Asian: long (nullable = true)\n",
      " |-- Black or African-American: long (nullable = true)\n",
      " |-- Hispanic or Latino: long (nullable = true)\n",
      " |-- White: long (nullable = true)\n",
      "\n",
      "+----------+----------+---------------+-----------------+----------------+---------------+------------+-----------------+---------------------------------+-----+-------------------------+------------------+------+\n",
      "|State_Code|Median_Age|Male_Population|Female_Population|Total_Population|Number_Veterans|Foregin_born|Average_Household|American Indian and Alaska Native|Asian|Black or African-American|Hispanic or Latino| White|\n",
      "+----------+----------+---------------+-----------------+----------------+---------------+------------+-----------------+---------------------------------+-----+-------------------------+------------------+------+\n",
      "|        GA|      26.5|          57415|            65148|          122563|           3953|       12868|             2.44|                              593| 6635|                    34583|             13159| 79931|\n",
      "|        NC|      37.9|          42100|            46407|           88507|           4973|        6630|             2.18|                              496| 1939|                     9078|              4146| 77979|\n",
      "|        CA|      39.7|          36226|            40221|           76447|           2898|       16552|             2.77|                             1068| 9182|                     5717|             30787| 46704|\n",
      "|        SD|      39.5|          36122|            37446|           73568|           7429|        2375|             2.31|                             9159| 2170|                     2217|              2971| 63983|\n",
      "|        KS|      38.2|          93355|            93156|          186511|          10461|       21407|             2.41|                             1264|17123|                    10685|             10104|161153|\n",
      "|        CA|      30.2|          34186|            32173|           66359|            416|       28696|             4.57|                             null| null|                     5060|             60895| 30591|\n",
      "|        PR|      41.4|         155408|           186829|          342237|           null|        null|             null|                             4031| 2452|                     null|            335559|  null|\n",
      "|        WA|      30.7|          41286|            43857|           85143|           4703|        8713|             2.44|                             2056| 8010|                     2325|              6966| 74183|\n",
      "|        CA|      37.0|          50405|            54909|          105314|           4048|       32435|             2.52|                             1639|14636|                     4729|             22089| 79582|\n",
      "|        TX|      42.1|          43889|            44240|           88129|           4377|       31169|             2.95|                             null|33469|                     8993|              7835| 44555|\n",
      "|        TX|      32.8|          49669|            50744|          100413|           8412|        7859|              2.5|                              548| 1658|                     6079|             42494| 86655|\n",
      "|        IL|      45.9|          37627|            39369|           76996|           3027|       14630|             2.38|                             null| 9975|                     1222|              2742| 66285|\n",
      "|        CO|      41.0|          54870|            60165|          115035|           8930|        4921|             2.49|                             2370| 2922|                     2985|             16419|107639|\n",
      "|        CT|      31.0|          58042|            65972|          124014|           3130|       28467|             2.59|                             2451| 4105|                    49939|             55959| 46529|\n",
      "|        CA|      39.3|          50966|            52558|          103524|           2730|       34957|             2.64|                              682|30573|                     2880|             23151| 62656|\n",
      "|        CA|      45.2|          34076|            31456|           65532|           3970|        8109|             2.64|                             null| 4296|                      251|             10421| 58849|\n",
      "|        OK|      32.5|          45191|            44899|           90090|           5006|        5585|             2.68|                             8051| 5349|                     4987|              6187| 78979|\n",
      "|        IL|      36.3|          71076|            78270|          149346|           8894|       18323|             2.52|                             2301| 5500|                    33122|             28923|107148|\n",
      "|        NY|      33.1|         124537|           133529|          258066|          11231|       24630|             2.27|                             4406|14518|                   101254|             29656|130078|\n",
      "|        MI|      31.4|          54333|            59777|          114110|           5327|        8371|             2.39|                             5254| 4168|                    34196|             14245| 75688|\n",
      "+----------+----------+---------------+-----------------+----------------+---------------+------------+-----------------+---------------------------------+-----+-------------------------+------------------+------+\n",
      "only showing top 20 rows\n",
      "\n"
     ]
    }
   ],
   "source": [
    "# https://databricks.com/blog/2016/02/09/reshaping-data-with-pivot-in-apache-spark.html\n",
    "df_pi = df_demo_1.groupby(\"State_Code\",\"Median_Age\",\"Male_Population\",\"Female_Population\",\"Total_Population\",\"Number_Veterans\",\"Foregin_born\",\"Average_Household\").pivot(\"Race\").sum(\"Count\")\n",
    "df_pi.printSchema()\n",
    "df_pi.show()"
   ]
  },
  {
   "cell_type": "code",
   "execution_count": 411,
   "metadata": {},
   "outputs": [
    {
     "name": "stdout",
     "output_type": "stream",
     "text": [
      "root\n",
      " |-- State_Code: string (nullable = true)\n",
      " |-- Median_Age: double (nullable = true)\n",
      " |-- Male_Population: long (nullable = true)\n",
      " |-- Female_Population: long (nullable = true)\n",
      " |-- Total_Population: long (nullable = true)\n",
      " |-- Number_Veterans: long (nullable = true)\n",
      " |-- Foregin_born: long (nullable = true)\n",
      " |-- Average_Household: double (nullable = true)\n",
      " |-- American_Indian_Alaska_Native: long (nullable = true)\n",
      " |-- Asian: long (nullable = true)\n",
      " |-- Black_African-American: long (nullable = true)\n",
      " |-- Hispanic_Latino: long (nullable = true)\n",
      " |-- White: long (nullable = true)\n",
      "\n",
      "+----------+------------------+---------------+-----------------+----------------+---------------+------------+------------------+-----------------------------+-------+----------------------+---------------+--------+\n",
      "|State_Code|        Median_Age|Male_Population|Female_Population|Total_Population|Number_Veterans|Foregin_born| Average_Household|American_Indian_Alaska_Native|  Asian|Black_African-American|Hispanic_Latino|   White|\n",
      "+----------+------------------+---------------+-----------------+----------------+---------------+------------+------------------+-----------------------------+-------+----------------------+---------------+--------+\n",
      "|        SC| 34.17999999999999|         260944|           272713|          533657|          33463|       27744|             2.472|                         3705|  13355|                175064|          29863|  343764|\n",
      "|        AZ|           35.0375|        2227455|          2272087|         4499542|         264505|      682313|          2.774375|                       129708| 229183|                296222|        1508157| 3591611|\n",
      "|        LA|            34.625|         626998|           673597|         1300595|          69771|       83419|             2.465|                         8263|  38739|                602377|          87133|  654578|\n",
      "|        MN| 35.61818181818182|         702157|           720246|         1422403|          64894|      215873|2.5009090909090914|                        25242| 151544|                216731|         103229| 1050239|\n",
      "|        NJ| 35.12499999999999|         705736|           723172|         1428908|          30195|      477028| 2.965833333333333|                        11350| 116844|                452202|         600437|  615083|\n",
      "|        DC|              33.8|         319705|           352523|          672228|          25963|       95117|              2.24|                         6130|  35072|                328786|          71129|  285402|\n",
      "|        OR|            36.125|         707443|           729066|         1436509|          78948|      185753|2.5387499999999994|                        38597| 117279|                 72150|         201498| 1235819|\n",
      "|        VA| 34.42857142857143|        1160474|          1203148|         2363622|         229766|      269254| 2.584285714285714|                        26160| 167784|                771569|         216760| 1428158|\n",
      "|        RI|              37.9|         202816|           210746|          413562|          18607|       87365|2.5225000000000004|                         6369|  24245|                 55556|         109226|  287304|\n",
      "|        KY|             35.95|         452483|           477394|          929877|          56025|       66488|             2.395|                         7772|  32667|                202749|          50478|  705790|\n",
      "|        NH|              37.8|          97771|           100427|          198198|          11005|       27199|2.4299999999999997|                         1213|  13989|                 11043|          22473|  174085|\n",
      "|        MI|37.043749999999996|        1056446|          1147014|         2203460|          99481|      249772|2.5075000000000003|                        27962| 125172|                853877|         149932| 1214721|\n",
      "|        NV|36.088888888888896|        1118645|          1122099|         2240744|         152047|      481337|2.8133333333333335|                        35390| 254593|                269791|         689798| 1531724|\n",
      "|        WI| 33.51111111111111|         688803|           724342|         1413145|          61134|      124687| 2.417777777777778|                        24720|  73982|                316896|         202117|  974433|\n",
      "|        ID| 34.76666666666667|         199103|           199780|          398883|          26380|       28126|2.7100000000000004|                         6705|  13985|                  7822|          48142|  370314|\n",
      "|        CA|  36.1824817518248|       12278281|         12544179|        24822460|         928270|     7448257| 3.100948905109489|                       401386|4543730|               2047009|        9856464|14905129|\n",
      "|        CT|           34.9625|         432157|           453424|          885581|          24953|      225866|            2.6625|                        10729|  48311|                231822|         309992|  505674|\n",
      "|        NE|             33.25|         357333|           363900|          721233|          39197|       71221|             2.435|                        10599|  34243|                 80668|          83812|  600094|\n",
      "|        MT|              35.5|          87707|            93587|          181294|          13854|        5977|             2.275|                         9684|   4165|                  3349|          10000|  169026|\n",
      "|        NC|33.785714285714285|        1466105|          1594094|         3060199|         166146|      379327|             2.475|                        35209| 178740|               1029446|         354409| 1790136|\n",
      "+----------+------------------+---------------+-----------------+----------------+---------------+------------+------------------+-----------------------------+-------+----------------------+---------------+--------+\n",
      "only showing top 20 rows\n",
      "\n"
     ]
    }
   ],
   "source": [
    "df_demo = df_pi.groupby('State_Code').agg(F.avg('Median_Age').alias('Median_Age'), \\\n",
    "                                         F.sum('Male_Population').alias('Male_Population'), \\\n",
    "                                         F.sum('Female_Population').alias('Female_Population'), \\\n",
    "                                         F.sum('Total_Population').alias('Total_Population'), \\\n",
    "                                         F.sum('Number_Veterans').alias('Number_Veterans'), \n",
    "                                         F.sum('Foregin_born').alias('Foregin_born'), \\\n",
    "                                         F.avg('Average_Household').alias('Average_Household'), \\\n",
    "                                         F.sum('American Indian and Alaska Native').alias('American_Indian_Alaska_Native'), \\\n",
    "                                         F.sum('Asian').alias('Asian'), \\\n",
    "                                         F.sum('Black or African-American').alias('Black_African-American'), \\\n",
    "                                         F.sum('Hispanic or Latino').alias('Hispanic_Latino'), \\\n",
    "                                         F.sum('White').alias('White') \\\n",
    "                                        )\n",
    "df_demo.printSchema()\n",
    "df_demo.show()"
   ]
  },
  {
   "cell_type": "code",
   "execution_count": 412,
   "metadata": {},
   "outputs": [],
   "source": [
    "df_demo.write.mode('overwrite').parquet(path='df_demo.parquet')"
   ]
  },
  {
   "cell_type": "code",
   "execution_count": null,
   "metadata": {},
   "outputs": [],
   "source": []
  },
  {
   "cell_type": "code",
   "execution_count": null,
   "metadata": {},
   "outputs": [],
   "source": []
  },
  {
   "cell_type": "markdown",
   "metadata": {
    "editable": true
   },
   "source": [
    "### Step 4: Run Pipelines to Model the Data \n",
    "#### 4.1 Create the data model\n",
    "Build the data pipelines to create the data model."
   ]
  },
  {
   "cell_type": "markdown",
   "metadata": {
    "editable": true
   },
   "source": [
    "# Build fact table"
   ]
  },
  {
   "cell_type": "code",
   "execution_count": null,
   "metadata": {},
   "outputs": [],
   "source": []
  },
  {
   "cell_type": "markdown",
   "metadata": {
    "editable": true
   },
   "source": [
    "#### 4.2 Data Quality Checks\n",
    "Explain the data quality checks you'll perform to ensure the pipeline ran as expected. These could include:\n",
    " * Integrity constraints on the relational database (e.g., unique key, data type, etc.)\n",
    " * Unit tests for the scripts to ensure they are doing the right thing\n",
    " * Source/Count checks to ensure completeness\n",
    " \n",
    "Run Quality Checks"
   ]
  },
  {
   "cell_type": "code",
   "execution_count": null,
   "metadata": {
    "editable": true
   },
   "outputs": [],
   "source": [
    "# Perform quality checks here"
   ]
  },
  {
   "cell_type": "markdown",
   "metadata": {
    "editable": true
   },
   "source": [
    "#### 4.3 Data dictionary \n",
    "Create a data dictionary for your data model. For each field, provide a brief description of what the data is and where it came from. You can include the data dictionary in the notebook or in a separate file."
   ]
  },
  {
   "cell_type": "markdown",
   "metadata": {
    "editable": true
   },
   "source": [
    "#### Step 5: Complete Project Write Up\n",
    "* Clearly state the rationale for the choice of tools and technologies for the project.\n",
    "* Propose how often the data should be updated and why.\n",
    "* Write a description of how you would approach the problem differently under the following scenarios:\n",
    " * The data was increased by 100x.\n",
    " * The data populates a dashboard that must be updated on a daily basis by 7am every day.\n",
    " * The database needed to be accessed by 100+ people."
   ]
  },
  {
   "cell_type": "code",
   "execution_count": null,
   "metadata": {
    "editable": true
   },
   "outputs": [],
   "source": []
  },
  {
   "cell_type": "code",
   "execution_count": null,
   "metadata": {
    "editable": true
   },
   "outputs": [],
   "source": []
  },
  {
   "cell_type": "code",
   "execution_count": null,
   "metadata": {
    "editable": true
   },
   "outputs": [],
   "source": []
  },
  {
   "cell_type": "code",
   "execution_count": null,
   "metadata": {
    "editable": true
   },
   "outputs": [],
   "source": []
  },
  {
   "cell_type": "code",
   "execution_count": null,
   "metadata": {
    "editable": true
   },
   "outputs": [],
   "source": []
  },
  {
   "cell_type": "markdown",
   "metadata": {
    "editable": true
   },
   "source": [
    "# Expriment here"
   ]
  },
  {
   "cell_type": "code",
   "execution_count": 160,
   "metadata": {},
   "outputs": [
    {
     "name": "stdout",
     "output_type": "stream",
     "text": [
      "{'582': 'MEXICO AIR SEA, AND NOT REPORTED (I-94, NO LAND ARRIVALS)', '236': 'AFGHANISTAN', '101': 'ALBANIA', '316': 'ALGERIA', '102': 'ANDORRA', '324': 'ANGOLA', '529': 'ANGUILLA', '518': 'ANTIGUA-BARBUDA', '687': 'ARGENTINA', '151': 'ARMENIA', '532': 'ARUBA', '438': 'AUSTRALIA', '103': 'AUSTRIA', '152': 'AZERBAIJAN', '512': 'BAHAMAS', '298': 'BAHRAIN', '274': 'BANGLADESH', '513': 'BARBADOS', '104': 'BELGIUM', '581': 'BELIZE', '386': 'BENIN', '509': 'BERMUDA', '153': 'BELARUS', '242': 'BHUTAN', '688': 'BOLIVIA', '717': 'BONAIRE, ST EUSTATIUS, SABA', '164': 'BOSNIA-HERZEGOVINA', '336': 'BOTSWANA', '689': 'BRAZIL', '525': 'BRITISH VIRGIN ISLANDS', '217': 'BRUNEI', '105': 'BULGARIA', '393': 'BURKINA FASO', '243': 'BURMA', '375': 'BURUNDI', '310': 'CAMEROON', '326': 'CAPE VERDE', '526': 'CAYMAN ISLANDS', '383': 'CENTRAL AFRICAN REPUBLIC', '384': 'CHAD', '690': 'CHILE', '245': 'CHINA, PRC', '721': 'CURACAO', '270': 'CHRISTMAS ISLAND', '271': 'COCOS ISLANDS', '691': 'COLOMBIA', '317': 'COMOROS', '385': 'CONGO', '467': 'COOK ISLANDS', '575': 'COSTA RICA', '165': 'CROATIA', '584': 'CUBA', '218': 'CYPRUS', '140': 'CZECH REPUBLIC', '723': 'FAROE ISLANDS (PART OF DENMARK)', '108': 'DENMARK', '322': 'DJIBOUTI', '519': 'DOMINICA', '585': 'DOMINICAN REPUBLIC', '240': 'EAST TIMOR', '692': 'ECUADOR', '368': 'EGYPT', '576': 'EL SALVADOR', '399': 'EQUATORIAL GUINEA', '372': 'ERITREA', '109': 'ESTONIA', '369': 'ETHIOPIA', '604': 'FALKLAND ISLANDS', '413': 'FIJI', '110': 'FINLAND', '111': 'FRANCE', '601': 'FRENCH GUIANA', '411': 'FRENCH POLYNESIA', '387': 'GABON', '338': 'GAMBIA', '758': 'GAZA STRIP', '154': 'GEORGIA', '112': 'GERMANY', '339': 'GHANA', '143': 'GIBRALTAR', '113': 'GREECE', '520': 'GRENADA', '507': 'GUADELOUPE', '577': 'GUATEMALA', '382': 'GUINEA', '327': 'GUINEA-BISSAU', '603': 'GUYANA', '586': 'HAITI', '726': 'HEARD AND MCDONALD IS.', '149': 'HOLY SEE/VATICAN', '528': 'HONDURAS', '206': 'HONG KONG', '114': 'HUNGARY', '115': 'ICELAND', '213': 'INDIA', '759': 'INDIAN OCEAN AREAS (FRENCH)', '729': 'INDIAN OCEAN TERRITORY', '204': 'INDONESIA', '249': 'IRAN', '250': 'IRAQ', '116': 'IRELAND', '251': 'ISRAEL', '117': 'ITALY', '388': 'IVORY COAST', '514': 'JAMAICA', '209': 'JAPAN', '253': 'JORDAN', '201': 'KAMPUCHEA', '155': 'KAZAKHSTAN', '340': 'KENYA', '414': 'KIRIBATI', '732': 'KOSOVO', '272': 'KUWAIT', '156': 'KYRGYZSTAN', '203': 'LAOS', '118': 'LATVIA', '255': 'LEBANON', '335': 'LESOTHO', '370': 'LIBERIA', '381': 'LIBYA', '119': 'LIECHTENSTEIN', '120': 'LITHUANIA', '121': 'LUXEMBOURG', '214': 'MACAU', '167': 'MACEDONIA', '320': 'MADAGASCAR', '345': 'MALAWI', '273': 'MALAYSIA', '220': 'MALDIVES', '392': 'MALI', '145': 'MALTA', '472': 'MARSHALL ISLANDS', '511': 'MARTINIQUE', '389': 'MAURITANIA', '342': 'MAURITIUS', '760': 'MAYOTTE (AFRICA - FRENCH)', '473': 'MICRONESIA, FED. STATES OF', '157': 'MOLDOVA', '122': 'MONACO', '299': 'MONGOLIA', '735': 'MONTENEGRO', '521': 'MONTSERRAT', '332': 'MOROCCO', '329': 'MOZAMBIQUE', '371': 'NAMIBIA', '440': 'NAURU', '257': 'NEPAL', '123': 'NETHERLANDS', '508': 'NETHERLANDS ANTILLES', '409': 'NEW CALEDONIA', '464': 'NEW ZEALAND', '579': 'NICARAGUA', '390': 'NIGER', '343': 'NIGERIA', '470': 'NIUE', '275': 'NORTH KOREA', '124': 'NORWAY', '256': 'OMAN', '258': 'PAKISTAN', '474': 'PALAU', '743': 'PALESTINE', '504': 'PANAMA', '441': 'PAPUA NEW GUINEA', '693': 'PARAGUAY', '694': 'PERU', '260': 'PHILIPPINES', '416': 'PITCAIRN ISLANDS', '107': 'POLAND', '126': 'PORTUGAL', '297': 'QATAR', '748': 'REPUBLIC OF SOUTH SUDAN', '321': 'REUNION', '127': 'ROMANIA', '158': 'RUSSIA', '376': 'RWANDA', '128': 'SAN MARINO', '330': 'SAO TOME AND PRINCIPE', '261': 'SAUDI ARABIA', '391': 'SENEGAL', '142': 'SERBIA AND MONTENEGRO', '745': 'SERBIA', '347': 'SEYCHELLES', '348': 'SIERRA LEONE', '207': 'SINGAPORE', '141': 'SLOVAKIA', '166': 'SLOVENIA', '412': 'SOLOMON ISLANDS', '397': 'SOMALIA', '373': 'SOUTH AFRICA', '276': 'SOUTH KOREA', '129': 'SPAIN', '244': 'SRI LANKA', '346': 'ST. HELENA', '522': 'ST. KITTS-NEVIS', '523': 'ST. LUCIA', '502': 'ST. PIERRE AND MIQUELON', '524': 'ST. VINCENT-GRENADINES', '716': 'SAINT BARTHELEMY', '736': 'SAINT MARTIN', '749': 'SAINT MAARTEN', '350': 'SUDAN', '602': 'SURINAME', '351': 'SWAZILAND', '130': 'SWEDEN', '131': 'SWITZERLAND', '262': 'SYRIA', '268': 'TAIWAN', '159': 'TAJIKISTAN', '353': 'TANZANIA', '263': 'THAILAND', '304': 'TOGO', '417': 'TONGA', '516': 'TRINIDAD AND TOBAGO', '323': 'TUNISIA', '264': 'TURKEY', '161': 'TURKMENISTAN', '527': 'TURKS AND CAICOS ISLANDS', '420': 'TUVALU', '352': 'UGANDA', '162': 'UKRAINE', '296': 'UNITED ARAB EMIRATES', '135': 'UNITED KINGDOM', '695': 'URUGUAY', '163': 'UZBEKISTAN', '410': 'VANUATU', '696': 'VENEZUELA', '266': 'VIETNAM', '469': 'WALLIS AND FUTUNA ISLANDS', '757': 'WEST INDIES (FRENCH)', '333': 'WESTERN SAHARA', '465': 'WESTERN SAMOA', '216': 'YEMEN', '139': 'YUGOSLAVIA', '301': 'ZAIRE', '344': 'ZAMBIA', '315': 'ZIMBABWE'}\n"
     ]
    }
   ],
   "source": [
    "print(sections_dict['I94CIT'])"
   ]
  },
  {
   "cell_type": "code",
   "execution_count": 161,
   "metadata": {},
   "outputs": [
    {
     "name": "stdout",
     "output_type": "stream",
     "text": [
      "{'1': 'AIR', '2': 'SEA', '3': 'LAND'}\n"
     ]
    }
   ],
   "source": [
    "print(sections_dict['I94MODE'])"
   ]
  },
  {
   "cell_type": "code",
   "execution_count": 162,
   "metadata": {},
   "outputs": [
    {
     "name": "stdout",
     "output_type": "stream",
     "text": [
      "{1: 'AIR', 2: 'SEA', 3: 'LAND'}\n"
     ]
    }
   ],
   "source": [
    "print(meta_i94['I94MODE'])"
   ]
  },
  {
   "cell_type": "code",
   "execution_count": 163,
   "metadata": {},
   "outputs": [
    {
     "name": "stdout",
     "output_type": "stream",
     "text": [
      "{'ALC': 'ALCAN, AK', 'ANC': 'ANCHORAGE, AK', 'BAR': 'BAKER AAF - BAKER ISLAND, AK', 'DAC': 'DALTONS CACHE, AK', 'PIZ': 'DEW STATION PT LAY DEW, AK', 'DTH': 'DUTCH HARBOR, AK', 'EGL': 'EAGLE, AK', 'FRB': 'FAIRBANKS, AK', 'HOM': 'HOMER, AK', 'HYD': 'HYDER, AK', 'JUN': 'JUNEAU, AK', '5KE': 'KETCHIKAN, AK', 'KET': 'KETCHIKAN, AK', 'MOS': 'MOSES POINT INTERMEDIATE, AK', 'NIK': 'NIKISKI, AK', 'NOM': 'NOM, AK', 'PKC': 'POKER CREEK, AK', 'ORI': 'PORT LIONS SPB, AK', 'SKA': 'SKAGWAY, AK', 'SNP': 'ST. PAUL ISLAND, AK', 'TKI': 'TOKEEN, AK', 'WRA': 'WRANGELL, AK', 'HSV': 'MADISON COUNTY - HUNTSVILLE, AL', 'MOB': 'MOBILE, AL', 'LIA': 'LITTLE ROCK, AR (BPS)', 'ROG': 'ROGERS ARPT, AR', 'DOU': 'DOUGLAS, AZ', 'LUK': 'LUKEVILLE, AZ', 'MAP': 'MARIPOSA AZ', 'NAC': 'NACO, AZ', 'NOG': 'NOGALES, AZ', 'PHO': 'PHOENIX, AZ', 'POR': 'PORTAL, AZ', 'SLU': 'SAN LUIS, AZ', 'SAS': 'SASABE, AZ', 'TUC': 'TUCSON, AZ', 'YUI': 'YUMA, AZ', 'AND': 'ANDRADE, CA', 'BUR': 'BURBANK, CA', 'CAL': 'CALEXICO, CA', 'CAO': 'CAMPO, CA', 'FRE': 'FRESNO, CA', 'ICP': 'IMPERIAL COUNTY, CA', 'LNB': 'LONG BEACH, CA', 'LOS': 'LOS ANGELES, CA', 'BFL': 'MEADOWS FIELD - BAKERSFIELD, CA', 'OAK': 'OAKLAND, CA', 'ONT': 'ONTARIO, CA', 'OTM': 'OTAY MESA, CA', 'BLT': 'PACIFIC, HWY. STATION, CA', 'PSP': 'PALM SPRINGS, CA', 'SAC': 'SACRAMENTO, CA', 'SLS': 'SALINAS, CA (BPS)', 'SDP': 'SAN DIEGO, CA', 'SFR': 'SAN FRANCISCO, CA', 'SNJ': 'SAN JOSE, CA', 'SLO': 'SAN LUIS OBISPO, CA', 'SLI': 'SAN LUIS OBISPO, CA (BPS)', 'SPC': 'SAN PEDRO, CA', 'SYS': 'SAN YSIDRO, CA', 'SAA': 'SANTA ANA, CA', 'STO': 'STOCKTON, CA (BPS)', 'TEC': 'TECATE, CA', 'TRV': 'TRAVIS-AFB, CA', 'APA': 'ARAPAHOE COUNTY, CO', 'ASE': 'ASPEN, CO #ARPT', 'COS': 'COLORADO SPRINGS, CO', 'DEN': 'DENVER, CO', 'DRO': 'LA PLATA - DURANGO, CO', 'BDL': 'BRADLEY INTERNATIONAL, CT', 'BGC': 'BRIDGEPORT, CT', 'GRT': 'GROTON, CT', 'HAR': 'HARTFORD, CT', 'NWH': 'NEW HAVEN, CT', 'NWL': 'NEW LONDON, CT', 'TST': 'NEWINGTON DATA CENTER TEST, CT', 'WAS': 'WASHINGTON DC', 'DOV': 'DOVER AFB, DE', 'DVD': 'DOVER-AFB, DE', 'WLL': 'WILMINGTON, DE', 'BOC': 'BOCAGRANDE, FL', 'SRQ': 'BRADENTON - SARASOTA, FL', 'CAN': 'CAPE CANAVERAL, FL', 'DAB': 'DAYTONA BEACH INTERNATIONAL, FL', 'FRN': 'FERNANDINA, FL', 'FTL': 'FORT LAUDERDALE, FL', 'FMY': 'FORT MYERS, FL', 'FPF': 'FORT PIERCE, FL', 'HUR': 'HURLBURT FIELD, FL', 'GNV': 'J R ALISON MUNI - GAINESVILLE, FL', 'JAC': 'JACKSONVILLE, FL', 'KEY': 'KEY WEST, FL', 'LEE': 'LEESBURG MUNICIPAL AIRPORT, FL', 'MLB': 'MELBOURNE, FL', 'MIA': 'MIAMI, FL', 'APF': 'NAPLES, FL #ARPT', 'OPF': 'OPA LOCKA, FL', 'ORL': 'ORLANDO, FL', 'PAN': 'PANAMA CITY, FL', 'PEN': 'PENSACOLA, FL', 'PCF': 'PORT CANAVERAL, FL', 'PEV': 'PORT EVERGLADES, FL', 'PSJ': 'PORT ST JOE, FL', 'SFB': 'SANFORD, FL', 'SGJ': 'ST AUGUSTINE ARPT, FL', 'SAU': 'ST AUGUSTINE, FL', 'FPR': 'ST LUCIE COUNTY, FL', 'SPE': 'ST PETERSBURG, FL', 'TAM': 'TAMPA, FL', 'WPB': 'WEST PALM BEACH, FL', 'ATL': 'ATLANTA, GA', 'BRU': 'BRUNSWICK, GA', 'AGS': 'BUSH FIELD - AUGUSTA, GA', 'SAV': 'SAVANNAH, GA', 'AGA': 'AGANA, GU', 'HHW': 'HONOLULU, HI', 'OGG': 'KAHULUI - MAUI, HI', 'KOA': 'KEAHOLE-KONA, HI', 'LIH': 'LIHUE, HI', 'CID': 'CEDAR RAPIDS/IOWA CITY, IA', 'DSM': 'DES MOINES, IA', 'BOI': 'AIR TERM. (GOWEN FLD) BOISE, ID', 'EPI': 'EASTPORT, ID', 'IDA': 'FANNING FIELD - IDAHO FALLS, ID', 'PTL': 'PORTHILL, ID', 'SPI': 'CAPITAL - SPRINGFIELD, IL', 'CHI': 'CHICAGO, IL', 'DPA': 'DUPAGE COUNTY, IL', 'PIA': 'GREATER PEORIA, IL', 'RFD': 'GREATER ROCKFORD, IL', 'UGN': 'MEMORIAL - WAUKEGAN, IL', 'GAR': 'GARY, IN', 'HMM': 'HAMMOND, IN', 'INP': 'INDIANAPOLIS, IN', 'MRL': 'MERRILLVILLE, IN', 'SBN': 'SOUTH BEND, IN', 'ICT': 'MID-CONTINENT - WITCHITA, KS', 'LEX': 'BLUE GRASS - LEXINGTON, KY', 'LOU': 'LOUISVILLE, KY', 'BTN': 'BATON ROUGE, LA', 'LKC': 'LAKE CHARLES, LA', 'LAK': 'LAKE CHARLES, LA (BPS)', 'MLU': 'MONROE, LA', 'MGC': 'MORGAN CITY, LA', 'NOL': 'NEW ORLEANS, LA', 'BOS': 'BOSTON, MA', 'GLO': 'GLOUCESTER, MA', 'BED': 'HANSCOM FIELD - BEDFORD, MA', 'LYN': 'LYNDEN, WA', 'ADW': 'ANDREWS AFB, MD', 'BAL': 'BALTIMORE, MD', 'MKG': 'MUSKEGON, MD', 'PAX': 'PATUXENT RIVER, MD', 'BGM': 'BANGOR, ME', 'BOO': 'BOOTHBAY HARBOR, ME', 'BWM': 'BRIDGEWATER, ME', 'BCK': 'BUCKPORT, ME', 'CLS': 'CALAIS, ME', 'CRB': 'CARIBOU, ME', 'COB': 'COBURN GORE, ME', 'EST': 'EASTCOURT, ME', 'EPT': 'EASTPORT MUNICIPAL, ME', 'EPM': 'EASTPORT, ME', 'FOR': 'FOREST CITY, ME', 'FTF': 'FORT FAIRFIELD, ME', 'FTK': 'FORT KENT, ME', 'HML': 'HAMIIN, ME', 'HTM': 'HOULTON, ME', 'JKM': 'JACKMAN, ME', 'KAL': 'KALISPEL, MT', 'LIM': 'LIMESTONE, ME', 'LUB': 'LUBEC, ME', 'MAD': 'MADAWASKA, ME', 'POM': 'PORTLAND, ME', 'RGM': 'RANGELEY, ME (BPS)', 'SBR': 'SOUTH BREWER, ME', 'SRL': 'ST AURELIE, ME', 'SPA': 'ST PAMPILE, ME', 'VNB': 'VAN BUREN, ME', 'VCB': 'VANCEBORO, ME', 'AGN': 'ALGONAC, MI', 'ALP': 'ALPENA, MI', 'BCY': 'BAY CITY, MI', 'DET': 'DETROIT, MI', 'GRP': 'GRAND RAPIDS, MI', 'GRO': 'GROSSE ISLE, MI', 'ISL': 'ISLE ROYALE, MI', 'MRC': 'MARINE CITY, MI', 'MRY': 'MARYSVILLE, MI', 'PTK': 'OAKLAND COUNTY - PONTIAC, MI', 'PHU': 'PORT HURON, MI', 'RBT': 'ROBERTS LANDING, MI', 'SAG': 'SAGINAW, MI', 'SSM': 'SAULT STE. MARIE, MI', 'SCL': 'ST CLAIR, MI', 'YIP': 'WILLOW RUN - YPSILANTI, MI', 'BAU': 'BAUDETTE, MN', 'CAR': 'CARIBOU MUNICIPAL AIRPORT, MN', 'GTF': 'COLLAPSED INTO INT, MN', 'INL': 'COLLAPSED INTO INT, MN', 'CRA': 'CRANE LAKE, MN', 'MIC': 'CRYSTAL MUNICIPAL AIRPORT, MN', 'DUL': 'DULUTH, MN', 'ELY': 'ELY, MN', 'GPM': 'GRAND PORTAGE, MN', 'SVC': 'GRANT COUNTY - SILVER CITY, MN', 'INT': \"INT''L FALLS, MN\", 'LAN': 'LANCASTER, MN', 'MSP': 'MINN./ST PAUL, MN', 'LIN': 'NORTHERN SVC CENTER, MN', 'NOY': 'NOYES, MN', 'PIN': 'PINE CREEK, MN', '48Y': 'PINECREEK BORDER ARPT, MN', 'RAN': 'RAINER, MN', 'RST': 'ROCHESTER, MN', 'ROS': 'ROSEAU, MN', 'SPM': 'ST PAUL, MN', 'WSB': 'WARROAD INTL, SPB, MN', 'WAR': 'WARROAD, MN', 'KAN': 'KANSAS CITY, MO', 'SGF': 'SPRINGFIELD-BRANSON, MO', 'STL': 'ST LOUIS, MO', 'WHI': 'WHITETAIL, MT', 'WHM': 'WILD HORSE, MT', 'GPT': 'BILOXI REGIONAL, MS', 'GTR': 'GOLDEN TRIANGLE LOWNDES CNTY, MS', 'GUL': 'GULFPORT, MS', 'PAS': 'PASCAGOULA, MS', 'JAN': 'THOMPSON FIELD - JACKSON, MS', 'BIL': 'BILLINGS, MT', 'BTM': 'BUTTE, MT', 'CHF': 'CHIEF MT, MT', 'CTB': 'CUT BANK MUNICIPAL, MT', 'CUT': 'CUT BANK, MT', 'DLB': 'DEL BONITA, MT', 'EUR': 'EUREKA, MT (BPS)', 'BZN': 'GALLATIN FIELD - BOZEMAN, MT', 'FCA': 'GLACIER NATIONAL PARK, MT', 'GGW': 'GLASGOW, MT', 'GRE': 'GREAT FALLS, MT', 'HVR': 'HAVRE, MT', 'HEL': 'HELENA, MT', 'LWT': 'LEWISTON, MT', 'MGM': 'MORGAN, MT', 'OPH': 'OPHEIM, MT', 'PIE': 'PIEGAN, MT', 'RAY': 'RAYMOND, MT', 'ROO': 'ROOSVILLE, MT', 'SCO': 'SCOBEY, MT', 'SWE': 'SWEETGTASS, MT', 'TRL': 'TRIAL CREEK, MT', 'TUR': 'TURNER, MT', 'WCM': 'WILLOW CREEK, MT', 'CLT': 'CHARLOTTE, NC', 'FAY': 'FAYETTEVILLE, NC', 'MRH': 'MOREHEAD CITY, NC', 'FOP': 'MORRIS FIELDS AAF, NC', 'GSO': 'PIEDMONT TRIAD INTL AIRPORT, NC', 'RDU': 'RALEIGH/DURHAM, NC', 'SSC': 'SHAW AFB - SUMTER, NC', 'WIL': 'WILMINGTON, NC', 'AMB': 'AMBROSE, ND', 'ANT': 'ANTLER, ND', 'CRY': 'CARBURY, ND', 'DNS': 'DUNSEITH, ND', 'FAR': 'FARGO, ND', 'FRT': 'FORTUNA, ND', 'GRF': 'GRAND FORKS, ND', 'HNN': 'HANNAH, ND', 'HNS': 'HANSBORO, ND', 'MAI': 'MAIDA, ND', 'MND': 'MINOT, ND', 'NEC': 'NECHE, ND', 'NOO': 'NOONAN, ND', 'NRG': 'NORTHGATE, ND', 'PEM': 'PEMBINA, ND', 'SAR': 'SARLES, ND', 'SHR': 'SHERWOOD, ND', 'SJO': 'ST JOHN, ND', 'WAL': 'WALHALLA, ND', 'WHO': 'WESTHOPE, ND', 'WND': 'WILLISTON, ND', 'OMA': 'OMAHA, NE', 'LEB': 'LEBANON, NH', 'MHT': 'MANCHESTER, NH', 'PNH': 'PITTSBURG, NH', 'PSM': 'PORTSMOUTH, NH', 'BYO': 'BAYONNE, NJ', 'CNJ': 'CAMDEN, NJ', 'HOB': 'HOBOKEN, NJ', 'JER': 'JERSEY CITY, NJ', 'WRI': 'MC GUIRE AFB - WRIGHTSOWN, NJ', 'MMU': 'MORRISTOWN, NJ', 'NEW': 'NEWARK/TETERBORO, NJ', 'PER': 'PERTH AMBOY, NJ', 'ACY': 'POMONA FIELD - ATLANTIC CITY, NJ', 'ALA': 'ALAMAGORDO, NM (BPS)', 'ABQ': 'ALBUQUERQUE, NM', 'ANP': 'ANTELOPE WELLS, NM', 'CRL': 'CARLSBAD, NM', 'COL': 'COLUMBUS, NM', 'CDD': 'CRANE LAKE - ST. LOUIS CNTY, NM', 'DNM': 'DEMING, NM (BPS)', 'LAS': 'LAS CRUCES, NM', 'LOB': 'LORDSBURG, NM (BPS)', 'RUI': 'RUIDOSO, NM', 'STR': 'SANTA TERESA, NM', 'RNO': 'CANNON INTL - RENO/TAHOE, NV', 'FLX': 'FALLON MUNICIPAL AIRPORT, NV', 'LVG': 'LAS VEGAS, NV', 'REN': 'RENO, NV', 'ALB': 'ALBANY, NY', 'AXB': 'ALEXANDRIA BAY, NY', 'BUF': 'BUFFALO, NY', 'CNH': 'CANNON CORNERS, NY', 'CAP': 'CAPE VINCENT, NY', 'CHM': 'CHAMPLAIN, NY', 'CHT': 'CHATEAUGAY, NY', 'CLA': 'CLAYTON, NY', 'FTC': 'FORT COVINGTON, NY', 'LAG': 'LA GUARDIA, NY', 'LEW': 'LEWISTON, NY', 'MAS': 'MASSENA, NY', 'MAG': 'MCGUIRE AFB, NY', 'MOO': 'MOORES, NY', 'MRR': 'MORRISTOWN, NY', 'NYC': 'NEW YORK, NY', 'NIA': 'NIAGARA FALLS, NY', 'OGD': 'OGDENSBURG, NY', 'OSW': 'OSWEGO, NY', 'ELM': 'REGIONAL ARPT - HORSEHEAD, NY', 'ROC': 'ROCHESTER, NY', 'ROU': 'ROUSES POINT, NY', 'SWF': 'STEWART - ORANGE CNTY, NY', 'SYR': 'SYRACUSE, NY', 'THO': 'THOUSAND ISLAND BRIDGE, NY', 'TRO': 'TROUT RIVER, NY', 'WAT': 'WATERTOWN, NY', 'HPN': 'WESTCHESTER - WHITE PLAINS, NY', 'WRB': 'WHIRLPOOL BRIDGE, NY', 'YOU': 'YOUNGSTOWN, NY', 'AKR': 'AKRON, OH', 'ATB': 'ASHTABULA, OH', 'CIN': 'CINCINNATI, OH', 'CLE': 'CLEVELAND, OH', 'CLM': 'COLUMBUS, OH', 'LOR': 'LORAIN, OH', 'MBO': 'MARBLE HEADS, OH', 'SDY': 'SANDUSKY, OH', 'TOL': 'TOLEDO, OH', 'OKC': 'OKLAHOMA CITY, OK', 'TUL': 'TULSA, OK', 'AST': 'ASTORIA, OR', 'COO': 'COOS BAY, OR', 'HIO': 'HILLSBORO, OR', 'MED': 'MEDFORD, OR', 'NPT': 'NEWPORT, OR', 'POO': 'PORTLAND, OR', 'PUT': 'PUT-IN-BAY, OH', 'RDM': 'ROBERTS FIELDS - REDMOND, OR', 'ERI': 'ERIE, PA', 'MDT': 'HARRISBURG, PA', 'HSB': 'HARRISONBURG, PA', 'PHI': 'PHILADELPHIA, PA', 'PIT': 'PITTSBURG, PA', 'AGU': 'AGUADILLA, PR', 'BQN': 'BORINQUEN - AGUADILLO, PR', 'JCP': 'CULEBRA - BENJAMIN RIVERA, PR', 'ENS': 'ENSENADA, PR', 'FAJ': 'FAJARDO, PR', 'HUM': 'HUMACAO, PR', 'JOB': 'JOBOS, PR', 'MAY': 'MAYAGUEZ, PR', 'PON': 'PONCE, PR', 'PSE': 'PONCE-MERCEDITA, PR', 'SAJ': 'SAN JUAN, PR', 'VQS': 'VIEQUES-ARPT, PR', 'PRO': 'PROVIDENCE, RI', 'PVD': 'THEODORE FRANCIS - WARWICK, RI', 'CHL': 'CHARLESTON, SC', 'CAE': 'COLUMBIA, SC #ARPT', 'GEO': 'GEORGETOWN, SC', 'GSP': 'GREENVILLE, SC', 'GRR': 'GREER, SC', 'MYR': 'MYRTLE BEACH, SC', 'SPF': 'BLACK HILLS, SPEARFISH, SD', 'HON': 'HOWES REGIONAL ARPT - HURON, SD', 'SAI': 'SAIPAN, SPN', 'TYS': 'MC GHEE TYSON - ALCOA, TN', 'MEM': 'MEMPHIS, TN', 'NSV': 'NASHVILLE, TN', 'TRI': 'TRI CITY ARPT, TN', 'ADS': 'ADDISON AIRPORT- ADDISON, TX', 'ADT': 'AMISTAD DAM, TX', 'ANZ': 'ANZALDUAS, TX', 'AUS': 'AUSTIN, TX', 'BEA': 'BEAUMONT, TX', 'BBP': 'BIG BEND PARK, TX (BPS)', 'SCC': 'BP SPEC COORD. CTR, TX', 'BTC': 'BP TACTICAL UNIT, TX', 'BOA': 'BRIDGE OF AMERICAS, TX', 'BRO': 'BROWNSVILLE, TX', 'CRP': 'CORPUS CHRISTI, TX', 'DAL': 'DALLAS, TX', 'DLR': 'DEL RIO, TX', 'DNA': 'DONNA, TX', 'EGP': 'EAGLE PASS, TX', 'ELP': 'EL PASO, TX', 'FAB': 'FABENS, TX', 'FAL': 'FALCON HEIGHTS, TX', 'FTH': 'FORT HANCOCK, TX', 'AFW': 'FORT WORTH ALLIANCE, TX', 'FPT': 'FREEPORT, TX', 'GAL': 'GALVESTON, TX', 'HLG': 'HARLINGEN, TX', 'HID': 'HIDALGO, TX', 'HOU': 'HOUSTON, TX', 'SGR': 'HULL FIELD, SUGAR LAND ARPT, TX', 'LLB': 'JUAREZ-LINCOLN BRIDGE, TX', 'LCB': 'LAREDO COLUMBIA BRIDGE, TX', 'LRN': 'LAREDO NORTH, TX', 'LAR': 'LAREDO, TX', 'LSE': 'LOS EBANOS, TX', 'IND': 'LOS INDIOS, TX', 'LOI': 'LOS INDIOS, TX', 'MRS': 'MARFA, TX (BPS)', 'MCA': 'MCALLEN, TX', 'MAF': 'ODESSA REGIONAL, TX', 'PDN': 'PASO DEL NORTE,TX', 'PBB': 'PEACE BRIDGE, NY', 'PHR': 'PHARR, TX', 'PAR': 'PORT ARTHUR, TX', 'ISB': 'PORT ISABEL, TX', 'POE': 'PORT OF EL PASO, TX', 'PRE': 'PRESIDIO, TX', 'PGR': 'PROGRESO, TX', 'RIO': 'RIO GRANDE CITY, TX', 'ROM': 'ROMA, TX', 'SNA': 'SAN ANTONIO, TX', 'SNN': 'SANDERSON, TX', 'VIB': 'VETERAN INTL BRIDGE, TX', 'YSL': 'YSLETA, TX', 'CHA': 'CHARLOTTE AMALIE, VI', 'CHR': 'CHRISTIANSTED, VI', 'CRU': 'CRUZ BAY, ST JOHN, VI', 'FRK': 'FREDERIKSTED, VI', 'STT': 'ST THOMAS, VI', 'LGU': 'CACHE AIRPORT - LOGAN, UT', 'SLC': 'SALT LAKE CITY, UT', 'CHO': 'ALBEMARLE CHARLOTTESVILLE, VA', 'DAA': 'DAVISON AAF - FAIRFAX CNTY, VA', 'HOP': 'HOPEWELL, VA', 'HEF': 'MANASSAS, VA #ARPT', 'NWN': 'NEWPORT, VA', 'NOR': 'NORFOLK, VA', 'RCM': 'RICHMOND, VA', 'ABS': 'ALBURG SPRINGS, VT', 'ABG': 'ALBURG, VT', 'BEB': 'BEEBE PLAIN, VT', 'BEE': 'BEECHER FALLS, VT', 'BRG': 'BURLINGTON, VT', 'CNA': 'CANAAN, VT', 'DER': 'DERBY LINE, VT (I-91)', 'DLV': 'DERBY LINE, VT (RT. 5)', 'ERC': 'EAST RICHFORD, VT', 'HIG': 'HIGHGATE SPRINGS, VT', 'MOR': 'MORSES LINE, VT', 'NPV': 'NEWPORT, VT', 'NRT': 'NORTH TROY, VT', 'NRN': 'NORTON, VT', 'PIV': 'PINNACLE ROAD, VT', 'RIF': 'RICHFORT, VT', 'STA': 'ST ALBANS, VT', 'SWB': 'SWANTON, VT (BP - SECTOR HQ)', 'WBE': 'WEST BERKSHIRE, VT', 'ABE': 'ABERDEEN, WA', 'ANA': 'ANACORTES, WA', 'BEL': 'BELLINGHAM, WA', 'BLI': 'BELLINGHAM, WASHINGTON #INTL', 'BLA': 'BLAINE, WA', 'BWA': 'BOUNDARY, WA', 'CUR': 'CURLEW, WA (BPS)', 'DVL': 'DANVILLE, WA', 'EVE': 'EVERETT, WA', 'FER': 'FERRY, WA', 'FRI': 'FRIDAY HARBOR, WA', 'FWA': 'FRONTIER, WA', 'KLM': 'KALAMA, WA', 'LAU': 'LAURIER, WA', 'LON': 'LONGVIEW, WA', 'MET': 'METALINE FALLS, WA', 'MWH': 'MOSES LAKE GRANT COUNTY ARPT, WA', 'NEA': 'NEAH BAY, WA', 'NIG': 'NIGHTHAWK, WA', 'OLY': 'OLYMPIA, WA', 'ORO': 'OROVILLE, WA', 'PWB': 'PASCO, WA', 'PIR': 'POINT ROBERTS, WA', 'PNG': 'PORT ANGELES, WA', 'PTO': 'PORT TOWNSEND, WA', 'SEA': 'SEATTLE, WA', 'SPO': 'SPOKANE, WA', 'SUM': 'SUMAS, WA', 'TAC': 'TACOMA, WA', 'PSC': 'TRI-CITIES - PASCO, WA', 'VAN': 'VANCOUVER, WA', 'AGM': 'ALGOMA, WI', 'BAY': 'BAYFIELD, WI', 'GRB': 'GREEN BAY, WI', 'MNW': 'MANITOWOC, WI', 'MIL': 'MILWAUKEE, WI', 'MSN': 'TRUAX FIELD - DANE COUNTY, WI', 'CHS': 'CHARLESTON, WV', 'CLK': 'CLARKSBURG, WV', 'BLF': 'MERCER COUNTY, WV', 'CSP': 'CASPER, WY', 'CLG': 'CALGARY, CANADA', 'EDA': 'EDMONTON, CANADA', 'YHC': 'HAKAI PASS, CANADA', 'HAL': 'HALIFAX, NS, CANADA', 'MON': 'MONTREAL, CANADA', 'OTT': 'OTTAWA, CANADA', 'YXE': 'SASKATOON, CANADA', 'TOR': 'TORONTO, CANADA', 'VCV': 'VANCOUVER, CANADA', 'VIC': 'VICTORIA, CANADA', 'WIN': 'WINNIPEG, CANADA', 'AMS': 'AMSTERDAM-SCHIPHOL, NETHERLANDS', 'ARB': 'ARUBA, NETH ANTILLES', 'BAN': 'BANKOK, THAILAND', 'BEI': 'BEICA #ARPT, ETHIOPIA', 'PEK': 'BEIJING CAPITAL INTL, PRC', 'BDA': 'KINDLEY FIELD, BERMUDA', 'BOG': 'BOGOTA, EL DORADO #ARPT, COLOMBIA', 'EZE': 'BUENOS AIRES, MINISTRO PIST, ARGENTINA', 'CUN': 'CANCUN, MEXICO', 'CRQ': 'CARAVELAS, BA #ARPT, BRAZIL', 'MVD': 'CARRASCO, URUGUAY', 'DUB': 'DUBLIN, IRELAND', 'FOU': 'FOUGAMOU #ARPT, GABON', 'FBA': 'FREEPORT, BAHAMAS', 'MTY': 'GEN M. ESCOBEDO, MONTERREY, MX', 'HMO': 'GEN PESQUEIRA GARCIA, MX', 'GCM': 'GRAND CAYMAN, CAYMAN ISLAND', 'GDL': 'GUADALAJARA, MIGUEL HIDAL, MX', 'HAM': 'HAMILTON, BERMUDA', 'ICN': 'INCHON, SEOUL KOREA', 'IWA': 'INVALID - IWAKUNI, JAPAN', 'CND': 'KOGALNICEANU, ROMANIA', 'LAH': 'LABUHA ARPT, INDONESIA', 'DUR': 'LOUIS BOTHA, SOUTH AFRICA', 'MAL': 'MANGOLE ARPT, INDONESIA', 'MDE': 'MEDELLIN, COLOMBIA', 'MEX': 'JUAREZ INTL, MEXICO CITY, MX', 'LHR': 'MIDDLESEX, ENGLAND', 'NBO': 'NAIROBI, KENYA', 'NAS': 'NASSAU, BAHAMAS', 'NCA': 'NORTH CAICOS, TURK & CAIMAN', 'PTY': 'OMAR TORRIJOS, PANAMA', 'SPV': 'PAPUA, NEW GUINEA', 'UIO': 'QUITO (MARISCAL SUCR), ECUADOR', 'RIT': 'ROME, ITALY', 'SNO': 'SAKON NAKHON #ARPT, THAILAND', 'SLP': 'SAN LUIS POTOSI #ARPT, MEXICO', 'SAN': 'SAN SALVADOR, EL SALVADOR', 'SRO': 'SANTANA RAMOS #ARPT, COLOMBIA', 'GRU': 'GUARULHOS INTL, SAO PAULO, BRAZIL', 'SHA': 'SHANNON, IRELAND', 'HIL': 'SHILLAVO, ETHIOPIA', 'TOK': 'TOROKINA #ARPT, PAPUA, NEW GUINEA', 'VER': 'VERACRUZ, MEXICO', 'LGW': 'WEST SUSSEX, ENGLAND', 'ZZZ': 'MEXICO LAND (BANCO DE MEXICO)', 'CHN': 'NO PORT CODE (CHN)', 'CNC': 'CANNON CORNERS, NY', 'MAA': 'ABU DHABI', 'AG0': 'MAGNOLIA, AR', 'BHM': 'BAR HARBOR, ME', 'BHX': 'BIRMINGHAM, AL', 'CAK': 'AKRON, OH', 'FOK': 'SUFFOLK COUNTY, NY', 'LND': 'LANDER, WY', 'MAR': 'MARFA, TX', 'MLI': 'MOLINE, IL', 'RIV': 'RIVERSIDE, CA', 'RME': 'ROME, NY', 'VNY': 'VAN NUYS, CA', 'YUM': 'YUMA, AZ'}\n"
     ]
    }
   ],
   "source": [
    "print(meta_i94['I94PORT'])"
   ]
  },
  {
   "cell_type": "code",
   "execution_count": 303,
   "metadata": {},
   "outputs": [
    {
     "name": "stdout",
     "output_type": "stream",
     "text": [
      "[582, 236, 101, 316, 102, 324, 529, 518, 687, 151, 532, 438, 103, 152, 512, 298, 274, 513, 104, 581, 386, 509, 153, 242, 688, 717, 164, 336, 689, 525, 217, 105, 393, 243, 375, 310, 326, 526, 383, 384, 690, 245, 721, 270, 271, 691, 317, 385, 467, 575, 165, 584, 218, 140, 723, 108, 322, 519, 585, 240, 692, 368, 576, 399, 372, 109, 369, 604, 413, 110, 111, 601, 411, 387, 338, 758, 154, 112, 339, 143, 113, 520, 507, 577, 382, 327, 603, 586, 726, 149, 528, 206, 114, 115, 213, 759, 729, 204, 249, 250, 116, 251, 117, 388, 514, 209, 253, 201, 155, 340, 414, 732, 272, 156, 203, 118, 255, 335, 370, 381, 119, 120, 121, 214, 167, 320, 345, 273, 220, 392, 145, 472, 511, 389, 342, 760, 473, 157, 122, 299, 735, 521, 332, 329, 371, 440, 257, 123, 508, 409, 464, 579, 390, 343, 470, 275, 124, 256, 258, 474, 743, 504, 441, 693, 694, 260, 416, 107, 126, 297, 748, 321, 127, 158, 376, 128, 330, 261, 391, 142, 745, 347, 348, 207, 141, 166, 412, 397, 373, 276, 129, 244, 346, 522, 523, 502, 524, 716, 736, 749, 350, 602, 351, 130, 131, 262, 268, 159, 353, 263, 304, 417, 516, 323, 264, 161, 527, 420, 352, 162, 296, 135, 695, 163, 410, 696, 266, 469, 757, 333, 465, 216, 139, 301, 344, 315]\n"
     ]
    }
   ],
   "source": [
    "print(list(meta_i94['I94CIT'].keys()) )"
   ]
  },
  {
   "cell_type": "code",
   "execution_count": null,
   "metadata": {},
   "outputs": [],
   "source": [
    "## fix SAS before save to parquet"
   ]
  }
 ],
 "metadata": {
  "kernelspec": {
   "display_name": "Python 3",
   "language": "python",
   "name": "python3"
  },
  "language_info": {
   "codemirror_mode": {
    "name": "ipython",
    "version": 3
   },
   "file_extension": ".py",
   "mimetype": "text/x-python",
   "name": "python",
   "nbconvert_exporter": "python",
   "pygments_lexer": "ipython3",
   "version": "3.8.3"
  }
 },
 "nbformat": 4,
 "nbformat_minor": 4
}
