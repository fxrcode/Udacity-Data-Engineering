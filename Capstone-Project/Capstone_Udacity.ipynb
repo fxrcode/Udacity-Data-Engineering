{
 "cells": [
  {
   "cell_type": "markdown",
   "metadata": {
    "editable": true
   },
   "source": [
    "# Data Engineering Capstone Project\n",
    "\n",
    "## Project Summary\n",
    "For this capstone project, I'm going to do the Udacity given project and data, to analysis the immigrant trend in US in 2016, using AWS EMR and Apache Spark as Data lake. The goal is to understand the statistics of foreign student and workers (F/H Visa), and check which state is most/least popular/friendly to them. And other ad-hoc queries, eg, which state has more foreigners, airports? \n",
    "\n",
    "The project follows the follow steps:\n",
    "* Step 1: Scope the Project and Gather Data\n",
    "* Step 2: Explore and Assess the Data\n",
    "* Step 3: Define the Data Model\n",
    "* Step 4: Run ETL to Model the Data\n",
    "* Step 5: Complete Project Write Up"
   ]
  },
  {
   "cell_type": "code",
   "execution_count": 1,
   "metadata": {
    "editable": true
   },
   "outputs": [],
   "source": [
    "# Do all imports and installs here\n",
    "import numpy as np\n",
    "import pandas as pd\n",
    "pd.set_option('display.max_columns', None)\n",
    "\n",
    "from pprint import pprint\n",
    "import configparser\n",
    "import os\n",
    "from pyspark.sql import SparkSession, DataFrame\n",
    "import pyspark.sql.functions as F \n",
    "from pyspark.sql.types import StructType as R, StructField as Fld, DoubleType as Dbl, StringType as Str, IntegerType as Int, DateType as Date\n",
    "from collections import OrderedDict \n",
    "from datetime import datetime, timedelta\n",
    "\n",
    "import logging\n",
    "logging.basicConfig(level=logging.INFO, format='%(asctime)s %(levelname)s  [%(name)s] %(message)s')\n",
    "LOG = logging.getLogger('etl')"
   ]
  },
  {
   "cell_type": "markdown",
   "metadata": {
    "editable": true
   },
   "source": [
    "# Step 1: Scope the Project and Gather Data\n",
    "\n",
    "## Scope \n",
    "Explain what you plan to do in the project in more detail. What data do you use? What is your end solution look like? What tools did you use? etc>\n",
    "Using the given dataset: i94 in 2016, airport-codes, GlobalLandTemperaturesByCity, us-cities-demographics, I94_SAS_Labels_Descriptions.\n",
    "Peek into the dataset if we need to pull more external datasets from network, so as to answer our questions/queries.\n",
    "\n",
    "## Describe and Gather Data \n",
    "Describe the data sets you're using. Where did it come from? What type of information is included? \n",
    "1. The 2016-I94 dataset (SAS7BDAT) is from [the US National Tourism and Trade Office website](https://travel.trade.gov/research/reports/i94/historical/2016.html).\n",
    "2. World Temperature Data: This dataset came from Kaggle. You can read more about it [here](https://www.kaggle.com/berkeleyearth/climate-change-earth-surface-temperature-data).\n",
    "3. U.S. City Demographic Data: This data comes from OpenSoft. You can read more about it [here](https://public.opendatasoft.com/explore/dataset/us-cities-demographics/export/).\n",
    "4. Airport Code Table: This is a simple table of airport codes and corresponding cities. It comes from [here](https://datahub.io/core/airport-codes#data)."
   ]
  },
  {
   "cell_type": "code",
   "execution_count": 2,
   "metadata": {
    "editable": true
   },
   "outputs": [
    {
     "name": "stdout",
     "output_type": "stream",
     "text": [
      "['cicid',\n",
      " 'i94yr',\n",
      " 'i94mon',\n",
      " 'i94cit',\n",
      " 'i94res',\n",
      " 'i94port',\n",
      " 'arrdate',\n",
      " 'i94mode',\n",
      " 'i94addr',\n",
      " 'depdate',\n",
      " 'i94bir',\n",
      " 'i94visa',\n",
      " 'count',\n",
      " 'dtadfile',\n",
      " 'visapost',\n",
      " 'occup',\n",
      " 'entdepa',\n",
      " 'entdepd',\n",
      " 'entdepu',\n",
      " 'matflag',\n",
      " 'biryear',\n",
      " 'dtaddto',\n",
      " 'gender',\n",
      " 'insnum',\n",
      " 'airline',\n",
      " 'admnum',\n",
      " 'fltno',\n",
      " 'visatype']\n"
     ]
    }
   ],
   "source": [
    "# Read in the data here\n",
    "imm_sample = pd.read_csv('./immigration_data_sample.csv')\n",
    "imm_sample.head()\n",
    "imm_header = list(imm_sample.head(0))\n",
    "imm_header = imm_header[1:]\n",
    "pprint(imm_header)"
   ]
  },
  {
   "cell_type": "code",
   "execution_count": 3,
   "metadata": {
    "editable": true
   },
   "outputs": [],
   "source": [
    "# .config(\"spark.jars.packages\",\"org.apache.hadoop:hadoop-aws:2.7.0\") \\\n",
    "# .config(\"spark.jars.packages\", \"saurfang:spark-sas7bdat:3.0.0-s_2.12\") \\\n",
    "from pyspark.sql import SparkSession\n",
    "spark = SparkSession.builder \\\n",
    "                    .enableHiveSupport() \\\n",
    "                    .config(\"spark.jars.packages\", \"saurfang:spark-sas7bdat:3.0.0-s_2.12\") \\\n",
    "                    .getOrCreate()\n",
    "# df_spark =spark.read.format('com.github.saurfang.sas.spark').load('../../data/18-83510-I94-Data-2016/i94_apr16_sub.sas7bdat')"
   ]
  },
  {
   "cell_type": "code",
   "execution_count": 4,
   "metadata": {
    "editable": true
   },
   "outputs": [],
   "source": [
    "#write to parquet\n",
    "# df_spark.write.parquet(\"sas_data\")\n",
    "# df_spark=spark.read.parquet(\"sas_data\")"
   ]
  },
  {
   "cell_type": "markdown",
   "metadata": {
    "editable": true
   },
   "source": [
    "# Step 2: Explore and Assess the Data\n",
    "## Explore the Data \n",
    "Identify data quality issues, like missing values, duplicate data, etc.\n",
    "* There're duplicate invalid i94cit, i94res in i94 dataset, also Jun i94 has additional columns compare to others.\n",
    "* global temperature datasets is from 19th centry to 2013. So I won't use it in this project.\n",
    "* some airport data is not airport, need to drop those rows.\n",
    "\n",
    "## Cleaning Steps\n",
    "Document steps necessary to clean the data"
   ]
  },
  {
   "cell_type": "markdown",
   "metadata": {
    "editable": true
   },
   "source": [
    "# Performing cleaning tasks here\n",
    "* Checkout i94 2016 data\n",
    "    * drop additional columns from Jun 2016, union all to other 11 months into dataframe, drop unused columns (eg. 'visapost', 'occup', 'entdepa')\n",
    "* Checkout demographics data\n",
    "    * since demographics data has race/count columns per county, so need to pivot by race, then aggregate to sum/mean columns after group by state.\n",
    "* Checkout airport data\n",
    "    * \n",
    "* Checkout temperature data"
   ]
  },
  {
   "cell_type": "markdown",
   "metadata": {},
   "source": [
    "# get valid values of I94 fields"
   ]
  },
  {
   "cell_type": "code",
   "execution_count": 4,
   "metadata": {},
   "outputs": [
    {
     "name": "stdout",
     "output_type": "stream",
     "text": [
      "<Section: I94MODE>\n"
     ]
    }
   ],
   "source": [
    "# try configparsing\n",
    "config = configparser.ConfigParser()\n",
    "config.read_file(open('meta_i94.cfg'))\n",
    "\n",
    "pprint(config['I94MODE'])"
   ]
  },
  {
   "cell_type": "code",
   "execution_count": 5,
   "metadata": {},
   "outputs": [],
   "source": [
    "sections_dict = {}\n",
    "# get sections and iterate over each\n",
    "sections = config.sections()\n",
    "\n",
    "for section in sections:\n",
    "    options = config.options(section)\n",
    "    temp_dict = {}\n",
    "    for option in options:\n",
    "        k = option.strip('\\'').strip().upper()\n",
    "        v = config.get(section,option).strip('\\'').strip().upper()\n",
    "        temp_dict[k] = v\n",
    "\n",
    "    sections_dict[section] = temp_dict"
   ]
  },
  {
   "cell_type": "code",
   "execution_count": 6,
   "metadata": {},
   "outputs": [
    {
     "name": "stdout",
     "output_type": "stream",
     "text": [
      "I94CIT\n",
      "I94PORT\n",
      "I94MODE\n",
      "I94VISA\n",
      "I94ADDR\n"
     ]
    }
   ],
   "source": [
    "# cast meta key into it's original type\n",
    "meta_i94 = {}\n",
    "for k, v in sections_dict.items():\n",
    "    print(k)\n",
    "    if k == 'I94CIT' or k == 'I94MODE' or k == 'I94VISA':\n",
    "        meta_i94[k] = {int(vk):vv for vk,vv in v.items()}\n",
    "    else:\n",
    "        meta_i94[k] = v"
   ]
  },
  {
   "cell_type": "markdown",
   "metadata": {
    "editable": true
   },
   "source": [
    "## i94 data"
   ]
  },
  {
   "cell_type": "code",
   "execution_count": 55,
   "metadata": {
    "editable": true
   },
   "outputs": [],
   "source": [
    "i94_fnames=['./data/18-83510-I94-Data-2016/i94_jan16_sub.sas7bdat',\n",
    "            './data/18-83510-I94-Data-2016/i94_feb16_sub.sas7bdat',\n",
    "            './data/18-83510-I94-Data-2016/i94_mar16_sub.sas7bdat',\n",
    "            './data/18-83510-I94-Data-2016/i94_apr16_sub.sas7bdat',\n",
    "            './data/18-83510-I94-Data-2016/i94_may16_sub.sas7bdat',\n",
    "            './data/18-83510-I94-Data-2016/i94_jun16_sub.sas7bdat',\n",
    "            './data/18-83510-I94-Data-2016/i94_jul16_sub.sas7bdat',\n",
    "            './data/18-83510-I94-Data-2016/i94_aug16_sub.sas7bdat',\n",
    "            './data/18-83510-I94-Data-2016/i94_sep16_sub.sas7bdat',\n",
    "            './data/18-83510-I94-Data-2016/i94_oct16_sub.sas7bdat',\n",
    "            './data/18-83510-I94-Data-2016/i94_nov16_sub.sas7bdat',\n",
    "            './data/18-83510-I94-Data-2016/i94_dec16_sub.sas7bdat']"
   ]
  },
  {
   "cell_type": "code",
   "execution_count": 56,
   "metadata": {},
   "outputs": [],
   "source": [
    "CustomI94Schema = R([\n",
    "    Fld(\"cicid\", Int()),\n",
    "    Fld(\"i94yr\", Int()),\n",
    "    Fld(\"i94mon\", Int()),  \n",
    "    Fld(\"i94cit\", Int()),  \n",
    "    Fld(\"i94res\", Int()),  \n",
    "    Fld(\"i94port\", Str()), \n",
    "    Fld(\"arrdate\", Int()), \n",
    "    Fld(\"i94mode\", Int()), \n",
    "    Fld(\"i94addr\", Str()), \n",
    "    Fld(\"depdate\", Int()), \n",
    "    Fld(\"i94bir\", Int()),  \n",
    "    Fld(\"i94visa\", Int()), \n",
    "    Fld(\"count\", Int()),\n",
    "    Fld(\"dtadfile\", Str()),\n",
    "    Fld(\"visapost\", Str()),\n",
    "    Fld(\"occup\", Str()),\n",
    "    Fld(\"entdepa\", Str()), \n",
    "    Fld(\"entdepd\", Str()), \n",
    "    Fld(\"entdepu\", Str()),\n",
    "    Fld(\"matflag\", Str()),  \n",
    "    Fld(\"biryear\", Int()), \n",
    "    Fld(\"dtaddto\", Str()),\n",
    "    Fld(\"gender\", Str()),  \n",
    "    Fld(\"insnum\", Str()),  \n",
    "    Fld(\"airline\", Str()), \n",
    "    Fld(\"admnum\", Dbl()),  \n",
    "    Fld(\"fltno\", Str()),\n",
    "    Fld(\"visatype\", Str())\n",
    "])\n",
    "\n",
    "CustomI94JunSchema = R([\n",
    "    Fld(\"cicid\", Int()),\n",
    "    Fld(\"i94yr\", Int()),\n",
    "    Fld(\"i94mon\", Int()),  \n",
    "    Fld(\"i94cit\", Int()),  \n",
    "    Fld(\"i94res\", Int()),  \n",
    "    Fld(\"i94port\", Str()), \n",
    "    Fld(\"arrdate\", Int()), \n",
    "    Fld(\"i94mode\", Int()), \n",
    "    Fld(\"i94addr\", Str()), \n",
    "    Fld(\"depdate\", Int()), \n",
    "    Fld(\"i94bir\", Int()),  \n",
    "    Fld(\"i94visa\", Int()), \n",
    "    Fld(\"count\", Int()),\n",
    "    Fld(\"validres\", Int()),\n",
    "    Fld(\"delete_days\", Int()),\n",
    "    Fld(\"delete_mexl\", Int()),\n",
    "    Fld(\"delete_dup\", Int()),\n",
    "    Fld(\"delete_visa\", Int()), \n",
    "    Fld(\"delete_recdup\", Int()),\n",
    "    Fld(\"dtadfile\", Str()),\n",
    "    Fld(\"visapost\", Str()),\n",
    "    Fld(\"occup\", Str()),\n",
    "    Fld(\"entdepa\", Str()), \n",
    "    Fld(\"entdepd\", Str()), \n",
    "    Fld(\"entdepu\", Str()),\n",
    "    Fld(\"matflag\", Str()),  \n",
    "    Fld(\"biryear\", Int()), \n",
    "    Fld(\"dtaddto\", Str()),\n",
    "    Fld(\"gender\", Str()),  \n",
    "    Fld(\"insnum\", Str()),  \n",
    "    Fld(\"airline\", Str()), \n",
    "    Fld(\"admnum\", Dbl()),  \n",
    "    Fld(\"fltno\", Str()),\n",
    "    Fld(\"visatype\", Str())\n",
    "])"
   ]
  },
  {
   "cell_type": "code",
   "execution_count": 58,
   "metadata": {
    "collapsed": true,
    "editable": true,
    "jupyter": {
     "outputs_hidden": true
    }
   },
   "outputs": [
    {
     "name": "stdout",
     "output_type": "stream",
     "text": [
      "i94_jan16_sub.sas7bdat\n",
      "root\n",
      " |-- cicid: integer (nullable = true)\n",
      " |-- i94yr: integer (nullable = true)\n",
      " |-- i94mon: integer (nullable = true)\n",
      " |-- i94cit: integer (nullable = true)\n",
      " |-- i94res: integer (nullable = true)\n",
      " |-- i94port: string (nullable = true)\n",
      " |-- arrdate: integer (nullable = true)\n",
      " |-- i94mode: integer (nullable = true)\n",
      " |-- i94addr: string (nullable = true)\n",
      " |-- depdate: integer (nullable = true)\n",
      " |-- i94bir: integer (nullable = true)\n",
      " |-- i94visa: integer (nullable = true)\n",
      " |-- count: integer (nullable = true)\n",
      " |-- dtadfile: string (nullable = true)\n",
      " |-- visapost: string (nullable = true)\n",
      " |-- occup: string (nullable = true)\n",
      " |-- entdepa: string (nullable = true)\n",
      " |-- entdepd: string (nullable = true)\n",
      " |-- entdepu: string (nullable = true)\n",
      " |-- matflag: string (nullable = true)\n",
      " |-- biryear: integer (nullable = true)\n",
      " |-- dtaddto: string (nullable = true)\n",
      " |-- gender: string (nullable = true)\n",
      " |-- insnum: string (nullable = true)\n",
      " |-- airline: string (nullable = true)\n",
      " |-- admnum: double (nullable = true)\n",
      " |-- fltno: string (nullable = true)\n",
      " |-- visatype: string (nullable = true)\n",
      "\n",
      "+-----+-----+------+------+------+-------+-------+-------+-------+-------+------+-------+-----+--------+--------+-----+-------+-------+-------+-------+-------+--------+------+------+-------+------------+-----+--------+\n",
      "|cicid|i94yr|i94mon|i94cit|i94res|i94port|arrdate|i94mode|i94addr|depdate|i94bir|i94visa|count|dtadfile|visapost|occup|entdepa|entdepd|entdepu|matflag|biryear| dtaddto|gender|insnum|airline|      admnum|fltno|visatype|\n",
      "+-----+-----+------+------+------+-------+-------+-------+-------+-------+------+-------+-----+--------+--------+-----+-------+-------+-------+-------+-------+--------+------+------+-------+------------+-----+--------+\n",
      "|    7| 2016|     1|   101|   101|    BOS|  20465|      1|     MA|   null|    20|      3|    1|    null|    null| null|      T|   null|   null|   null|   1996|     D/S|     M|  null|     LH|3.46608285E8|  424|      F1|\n",
      "|    8| 2016|     1|   101|   101|    BOS|  20465|      1|     MA|   null|    20|      3|    1|    null|    null| null|      T|   null|   null|   null|   1996|     D/S|     M|  null|     LH|3.46627585E8|  424|      F1|\n",
      "|    9| 2016|     1|   101|   101|    BOS|  20469|      1|     CT|  20480|    17|      2|    1|    null|    null| null|      T|      N|   null|      M|   1999|07152016|     F|  null|     AF|3.81092385E8|  338|      B2|\n",
      "|   10| 2016|     1|   101|   101|    BOS|  20469|      1|     CT|  20499|    45|      2|    1|    null|    null| null|      T|      N|   null|      M|   1971|07152016|     F|  null|     AF|3.81087885E8|  338|      B2|\n",
      "|   11| 2016|     1|   101|   101|    BOS|  20469|      1|     CT|  20499|    12|      2|    1|    null|    null| null|      T|      N|   null|      M|   2004|07152016|     M|  null|     AF|3.81078685E8|  338|      B2|\n",
      "|   12| 2016|     1|   101|   101|    BOS|  20474|      1|     MA|   null|    33|      2|    1|    null|    null| null|      T|   null|   null|   null|   1983|07202016|     M|  null|     LH|4.06155985E8|  424|      B2|\n",
      "|   15| 2016|     1|   101|   101|    BOS|  20477|      1|     MA|  20524|    28|      3|    1|    null|    null| null|      T|      O|   null|      M|   1988|     D/S|     F|  null|     LH|4.17363085E8|  424|      F1|\n",
      "|   17| 2016|     1|   101|   101|    BOS|  20480|      1|     MA|   null|    78|      2|    1|    null|    null| null|      T|   null|   null|   null|   1938|07262016|     M|  null|     TK|4.28558285E8|   81|      B2|\n",
      "|   18| 2016|     1|   101|   101|    BOS|  20480|      1|     MA|   null|    70|      2|    1|    null|    null| null|      T|   null|   null|   null|   1946|07262016|     F|  null|     TK|4.28561085E8|   81|      B2|\n",
      "|   20| 2016|     1|   101|   101|    CHI|  20473|      1|     IL|  20482|    28|      2|    1|    null|    null| null|      T|      O|   null|      M|   1988|07192016|     M|  null|     BA|4.01779785E8|  295|      B2|\n",
      "|   21| 2016|     1|   101|   101|    CHI|  20478|      1|     TN|  20495|    28|      2|    1|    null|    null| null|      T|      N|   null|      M|   1988|07242016|     M|  null|     OS|4.20642985E8|   65|      B2|\n",
      "|   22| 2016|     1|   101|   101|    TUC|  20476|      1|   null|   null|    62|      2|    1|    null|    null| null|      T|   null|   null|   null|   1954|07222016|     M|  null|     LH|4.12742085E8|  442|      B2|\n",
      "|   23| 2016|     1|   101|   101|    TUC|  20476|      1|   null|   null|    54|      2|    1|    null|    null| null|      T|   null|   null|   null|   1962|07222016|     F|  null|     LH|4.12735785E8|  442|      B2|\n",
      "|   24| 2016|     1|   101|   101|    TUC|  20476|      1|     MI|  20508|    64|      2|    1|    null|    null| null|      T|      O|   null|      M|   1952|02252016|     M|  null|     LH|4.12708185E8|  442|      B2|\n",
      "|   25| 2016|     1|   101|   101|    TUC|  20476|      1|     MI|  20508|    53|      2|    1|    null|    null| null|      T|      O|   null|      M|   1963|02252016|     F|  null|     LH|4.12705485E8|  442|      B2|\n",
      "|   28| 2016|     1|   101|   101|    LVG|  20481|      1|     NV|   null|    77|      2|    1|    null|    null| null|      T|   null|   null|   null|   1939|07272016|     F|  null|     DE|4.31613585E8| 2062|      B2|\n",
      "|   29| 2016|     1|   101|   101|    LVG|  20481|      1|     NV|   null|    74|      2|    1|    null|    null| null|      T|   null|   null|   null|   1942|07272016|     M|  null|     DE|4.31605285E8| 2062|      B2|\n",
      "|   30| 2016|     1|   101|   101|    MIA|  20459|      1|     FL|   null|    26|      3|    1|    null|    null| null|      T|   null|   null|   null|   1990|     D/S|     M|  null|     AB|3.09652985E8| 7000|      F1|\n",
      "|   32| 2016|     1|   101|   101|    MIA|  20471|      1|     FL|  20501|    42|      2|    1|    null|    null| null|      T|      O|   null|      M|   1974|02182016|     M|  null|     OS|3.91844985E8|   97|      B2|\n",
      "|   33| 2016|     1|   101|   101|    NEW|  20463|      1|     NJ|   null|    70|      2|    1|    null|    null| null|      T|   null|   null|   null|   1946|07092016|     M|  null|     OS|3.31349485E8|   89|      B2|\n",
      "+-----+-----+------+------+------+-------+-------+-------+-------+-------+------+-------+-----+--------+--------+-----+-------+-------+-------+-------+-------+--------+------+------+-------+------------+-----+--------+\n",
      "only showing top 20 rows\n",
      "\n",
      "i94_feb16_sub.sas7bdat\n",
      "root\n",
      " |-- cicid: integer (nullable = true)\n",
      " |-- i94yr: integer (nullable = true)\n",
      " |-- i94mon: integer (nullable = true)\n",
      " |-- i94cit: integer (nullable = true)\n",
      " |-- i94res: integer (nullable = true)\n",
      " |-- i94port: string (nullable = true)\n",
      " |-- arrdate: integer (nullable = true)\n",
      " |-- i94mode: integer (nullable = true)\n",
      " |-- i94addr: string (nullable = true)\n",
      " |-- depdate: integer (nullable = true)\n",
      " |-- i94bir: integer (nullable = true)\n",
      " |-- i94visa: integer (nullable = true)\n",
      " |-- count: integer (nullable = true)\n",
      " |-- dtadfile: string (nullable = true)\n",
      " |-- visapost: string (nullable = true)\n",
      " |-- occup: string (nullable = true)\n",
      " |-- entdepa: string (nullable = true)\n",
      " |-- entdepd: string (nullable = true)\n",
      " |-- entdepu: string (nullable = true)\n",
      " |-- matflag: string (nullable = true)\n",
      " |-- biryear: integer (nullable = true)\n",
      " |-- dtaddto: string (nullable = true)\n",
      " |-- gender: string (nullable = true)\n",
      " |-- insnum: string (nullable = true)\n",
      " |-- airline: string (nullable = true)\n",
      " |-- admnum: double (nullable = true)\n",
      " |-- fltno: string (nullable = true)\n",
      " |-- visatype: string (nullable = true)\n",
      "\n",
      "+-----+-----+------+------+------+-------+-------+-------+-------+-------+------+-------+-----+--------+--------+-----+-------+-------+-------+-------+-------+--------+------+------+-------+------------+-----+--------+\n",
      "|cicid|i94yr|i94mon|i94cit|i94res|i94port|arrdate|i94mode|i94addr|depdate|i94bir|i94visa|count|dtadfile|visapost|occup|entdepa|entdepd|entdepu|matflag|biryear| dtaddto|gender|insnum|airline|      admnum|fltno|visatype|\n",
      "+-----+-----+------+------+------+-------+-------+-------+-------+-------+------+-------+-----+--------+--------+-----+-------+-------+-------+-------+-------+--------+------+------+-------+------------+-----+--------+\n",
      "|    2| 2016|     2|   101|   101|    ATL|  20498|      1|     MI|   null|    21|      3|    1|    null|    null| null|      T|   null|   null|   null|   1995|     D/S|     F|  null|     DL|4.91319785E8|  241|      F1|\n",
      "|    5| 2016|     2|   101|   101|    CHI|  20492|      1|     IL|   null|    55|      2|    1|    null|    null| null|      T|   null|   null|   null|   1961|08072016|     F|  null|     TK|4.70581085E8|    5|      B2|\n",
      "|    6| 2016|     2|   101|   101|    CHI|  20492|      1|     IL|   null|     6|      2|    1|    null|    null| null|      T|   null|   null|   null|   2010|08072016|     M|  null|     TK|4.70572885E8|    5|      B2|\n",
      "|    7| 2016|     2|   101|   101|    CHI|  20500|      1|     AZ|  20527|    38|      2|    1|    null|    null| null|      T|      N|   null|      M|   1978|08152016|     F|  null|     LH|4.97400985E8|  434|      B2|\n",
      "|    8| 2016|     2|   101|   101|    CHI|  20503|      1|     IL|  20518|    37|      2|    1|    null|    null| null|      T|      O|   null|      M|   1979|08182016|     M|  null|     AA|5.07772085E8|   87|      B2|\n",
      "|    9| 2016|     2|   101|   101|    CHI|  20506|      1|     IL|  20520|    21|      2|    1|    null|    null| null|      T|      O|   null|      M|   1995|08212016|     M|  null|     OS|5.23079485E8|   65|      B2|\n",
      "|   13| 2016|     2|   101|   101|    TUC|  20495|      1|     MI|   null|    43|      2|    1|    null|    null| null|      T|   null|   null|   null|   1973|08102016|     M|  null|     LH|4.78972185E8|  442|      B2|\n",
      "|   15| 2016|     2|   101|   101|    TUC|  20501|      1|     MI|   null|    20|      2|    1|    null|    null| null|      T|   null|   null|   null|   1996|08162016|     M|  null|     DL|5.02626885E8|  137|      B2|\n",
      "|   16| 2016|     2|   101|   101|    TUC|  20503|      1|   null|  20519|    42|      2|    1|    null|    null| null|      T|      O|   null|      M|   1974|08182016|     F|  null|     LH|5.09809885E8|  442|      B2|\n",
      "|   17| 2016|     2|   101|   101|    TUC|  20504|      1|     MI|   null|    72|      2|    1|    null|    null| null|      T|   null|   null|   null|   1944|08192016|     F|  null|     LH|5.13194085E8|  442|      B2|\n",
      "|   18| 2016|     2|   101|   101|    TUC|  20504|      1|     MI|   null|    54|      2|    1|    null|    null| null|      T|   null|   null|   null|   1962|08192016|     M|  null|     LH|5.13186885E8|  442|      B2|\n",
      "|   19| 2016|     2|   101|   101|    TUC|  20504|      1|     MI|   null|    27|      2|    1|    null|    null| null|      T|   null|   null|   null|   1989|08192016|     M|  null|     LH|5.13195085E8|  442|      B2|\n",
      "|   20| 2016|     2|   101|   101|    LOS|  20495|      1|     FL|   null|    23|      2|    1|    null|    null| null|      T|   null|   null|   null|   1993|08102016|     M|  null|     QF|4.77186585E8|   93|      B2|\n",
      "|   23| 2016|     2|   101|   101|    NEW|  20495|      1|     NY|   null|    34|      1|    1|    null|    null| null|      T|   null|   null|   null|   1982|08102016|     M|  null|     LH|4.79654185E8|  412|      B1|\n",
      "|   24| 2016|     2|   101|   101|    NEW|  20503|      1|     NJ|  20513|    23|      2|    1|    null|    null| null|      T|      O|   null|      M|   1993|08182016|     M|  null|     OS|5.07867385E8|   89|      B2|\n",
      "|   26| 2016|     2|   101|   101|    NYC|  20491|      1|     NY|   null|    77|      2|    1|    null|    null| null|      T|   null|   null|   null|   1939|08062016|     M|  null|     OS|4.64868385E8|   87|      B2|\n",
      "|   29| 2016|     2|   101|   101|    NYC|  20497|      1|     NY|  20507|    51|      1|    1|    null|    null| null|      T|      O|   null|      M|   1965|08122016|     M|  null|     TK|4.85192785E8|    3|      B1|\n",
      "|   32| 2016|     2|   101|   101|    NYC|  20506|      1|     NY|  20534|    27|      2|    1|    null|    null| null|      T|      N|   null|      M|   1989|08212016|     F|  null|     AZ|5.23095085E8|  610|      B2|\n",
      "|   33| 2016|     2|   101|   101|    NYC|  20506|      1|     NY|  20535|    36|      2|    1|    null|    null| null|      T|      O|   null|      M|   1980|08212016|     F|  null|     AZ|5.23058385E8|  610|      B2|\n",
      "|   36| 2016|     2|   101|   101|    TAM|  20490|      1|     FL|  20590|    55|      2|    1|    null|    null| null|      T|      O|   null|      M|   1961|08052016|     F|  null|     LH|4.62174285E8|  482|      B2|\n",
      "+-----+-----+------+------+------+-------+-------+-------+-------+-------+------+-------+-----+--------+--------+-----+-------+-------+-------+-------+-------+--------+------+------+-------+------------+-----+--------+\n",
      "only showing top 20 rows\n",
      "\n",
      "i94_mar16_sub.sas7bdat\n",
      "root\n",
      " |-- cicid: integer (nullable = true)\n",
      " |-- i94yr: integer (nullable = true)\n",
      " |-- i94mon: integer (nullable = true)\n",
      " |-- i94cit: integer (nullable = true)\n",
      " |-- i94res: integer (nullable = true)\n",
      " |-- i94port: string (nullable = true)\n",
      " |-- arrdate: integer (nullable = true)\n",
      " |-- i94mode: integer (nullable = true)\n",
      " |-- i94addr: string (nullable = true)\n",
      " |-- depdate: integer (nullable = true)\n",
      " |-- i94bir: integer (nullable = true)\n",
      " |-- i94visa: integer (nullable = true)\n",
      " |-- count: integer (nullable = true)\n",
      " |-- dtadfile: string (nullable = true)\n",
      " |-- visapost: string (nullable = true)\n",
      " |-- occup: string (nullable = true)\n",
      " |-- entdepa: string (nullable = true)\n",
      " |-- entdepd: string (nullable = true)\n",
      " |-- entdepu: string (nullable = true)\n",
      " |-- matflag: string (nullable = true)\n",
      " |-- biryear: integer (nullable = true)\n",
      " |-- dtaddto: string (nullable = true)\n",
      " |-- gender: string (nullable = true)\n",
      " |-- insnum: string (nullable = true)\n",
      " |-- airline: string (nullable = true)\n",
      " |-- admnum: double (nullable = true)\n",
      " |-- fltno: string (nullable = true)\n",
      " |-- visatype: string (nullable = true)\n",
      "\n",
      "+-----+-----+------+------+------+-------+-------+-------+-------+-------+------+-------+-----+--------+--------+-----+-------+-------+-------+-------+-------+--------+------+------+-------+--------------+-----+--------+\n",
      "|cicid|i94yr|i94mon|i94cit|i94res|i94port|arrdate|i94mode|i94addr|depdate|i94bir|i94visa|count|dtadfile|visapost|occup|entdepa|entdepd|entdepu|matflag|biryear| dtaddto|gender|insnum|airline|        admnum|fltno|visatype|\n",
      "+-----+-----+------+------+------+-------+-------+-------+-------+-------+------+-------+-----+--------+--------+-----+-------+-------+-------+-------+-------+--------+------+------+-------+--------------+-----+--------+\n",
      "|    2| 2016|     3|   213|   213|    XXX|  20543|   null|   null|   null|    64|      2|    1|    null|    null| null|      T|   null|      U|   null|   1952|09292016|  null|  null|   null| 1.140199685E9| null|      B2|\n",
      "|    3| 2016|     3|   245|   245|    XXX|  20524|   null|   null|   null|    60|      2|    1|    null|    null| null|      T|   null|      U|   null|   1956|09102016|  null|  null|   null| 1.697294685E9| null|      B2|\n",
      "|    7| 2016|     3|   260|   260|    SFR|  20514|      1|     CA|  20640|    28|      2|    1|20150912|     MNL| null|      G|      O|      U|      M|   1988|08312016|     F|  null|     PR|7.391006613E10|00104|      B2|\n",
      "|    9| 2016|     3|   691|   691|    FTL|  20533|      1|     FL|   null|    82|      3|    1|20160114|     BGT| null|      G|   null|   null|   null|   1934|     D/S|     M|  null|    *GA|8.539318803E10|N900J|      F1|\n",
      "|   11| 2016|     3|   258|   258|    XXX|  20514|      1|     NY|  20533|    36|      1|    1|20160229|     PRS| null|      G|      O|      U|      M|   1980|08282016|     M|  null|     AA|8.937569953E10|   45|      B1|\n",
      "|   12| 2016|     3|   101|   101|    NYC|  20514|      1|     NY|  20598|    37|      1|    1|20160301|    null| null|      O|      I|   null|      M|   1979|08312016|  null|  null|     TK|8.944787503E10|00003|      B1|\n",
      "|   14| 2016|     3|   101|   101|    MIA|  20514|      1|     FL|  20544|    29|      2|    1|20160301|     FLR| null|      G|      O|   null|      M|   1987|08312016|     M|  null|     LH|8.946287093E10|00462|      B2|\n",
      "|   15| 2016|     3|   101|   101|    NYC|  20514|      1|     NY|  20524|    23|      2|    1|20160301|     LND| null|      G|      O|   null|      M|   1993|08312016|     M|  null|     VS|8.948221803E10|00009|      B2|\n",
      "|   17| 2016|     3|   101|   101|    NYC|  20514|      1|     NY|   null|    26|      2|    1|20160301|     TIA| null|      G|   null|   null|   null|   1990|08312016|     M|  null|     TK|8.948743103E10|00011|      B2|\n",
      "|   18| 2016|     3|   101|   101|    NYC|  20514|      1|     NY|  20525|    53|      2|    1|20160301|     TIA| null|      G|      O|   null|      M|   1963|08312016|     M|  null|     TK|8.944831413E10|00003|      B2|\n",
      "|   20| 2016|     3|   101|   101|    NYC|  20514|      1|     NY|  20525|    22|      2|    1|20160301|     TIA| null|      G|      O|   null|      M|   1994|08312016|     M|  null|     AZ|8.946066533E10|00608|      B2|\n",
      "|   21| 2016|     3|   101|   101|    NYC|  20514|      1|     NY|  20635|    73|      2|    1|20160301|     TIA| null|      G|      O|   null|      M|   1943|08312016|     F|  null|     AZ|8.948164883E10|00610|      B2|\n",
      "|   22| 2016|     3|   101|   101|    LOS|  20514|      1|     CA|  20586|    18|      2|    1|20160301|     TIA| null|      G|      O|   null|      M|   1998|08312016|     M|  null|     TK|8.948161763E10|00009|      B2|\n",
      "|   23| 2016|     3|   101|   101|    CHI|  20514|      1|     KS|  20562|    36|      2|    1|20160301|     TIA| null|      G|      O|   null|      M|   1980|08312016|     F|  null|     LH|8.948435393E10|00434|      B2|\n",
      "|   24| 2016|     3|   101|   101|    CHI|  20514|      1|     KS|  20562|    31|      2|    1|20160301|     TIA| null|      G|      O|   null|      M|   1985|08312016|     F|  null|     LH|8.948448403E10|00434|      B2|\n",
      "|   25| 2016|     3|   101|   101|    SEA|  20514|      1|     WA|   null|    21|      3|    1|20160301|     TIA| null|      G|   null|   null|   null|   1995|     D/S|     F|  null|     BA|8.948039013E10|00049|      F1|\n",
      "|   26| 2016|     3|   101|   101|    SEA|  20514|      1|     WA|   null|    19|      3|    1|20160301|     TIA| null|      G|   null|   null|   null|   1997|     D/S|     M|  null|     BA|8.948034253E10|00049|      F1|\n",
      "|   28| 2016|     3|   101|   117|    ATL|  20514|      1|     NY|  20516|    35|      2|    1|20160301|     FLR| null|      H|      O|   null|      M|   1981|08152016|     M|  null|     EV|8.830011213E10|05318|      B2|\n",
      "|   29| 2016|     3|   101|   117|    ATL|  20514|      1|     NY|  20516|    34|      2|    1|20160301|     FLR| null|      H|      O|   null|      M|   1982|08152016|     F|  null|     EV|8.830010853E10|05318|      B2|\n",
      "|   30| 2016|     3|   101|   117|    ATL|  20514|      1|     NY|  20516|    30|      2|    1|20160301|     FLR| null|      H|      O|   null|      M|   1986|08152016|     F|  null|     EV|8.830011403E10|05318|      B2|\n",
      "+-----+-----+------+------+------+-------+-------+-------+-------+-------+------+-------+-----+--------+--------+-----+-------+-------+-------+-------+-------+--------+------+------+-------+--------------+-----+--------+\n",
      "only showing top 20 rows\n",
      "\n",
      "i94_apr16_sub.sas7bdat\n",
      "root\n",
      " |-- cicid: integer (nullable = true)\n",
      " |-- i94yr: integer (nullable = true)\n",
      " |-- i94mon: integer (nullable = true)\n",
      " |-- i94cit: integer (nullable = true)\n",
      " |-- i94res: integer (nullable = true)\n",
      " |-- i94port: string (nullable = true)\n",
      " |-- arrdate: integer (nullable = true)\n",
      " |-- i94mode: integer (nullable = true)\n",
      " |-- i94addr: string (nullable = true)\n",
      " |-- depdate: integer (nullable = true)\n",
      " |-- i94bir: integer (nullable = true)\n",
      " |-- i94visa: integer (nullable = true)\n",
      " |-- count: integer (nullable = true)\n",
      " |-- dtadfile: string (nullable = true)\n",
      " |-- visapost: string (nullable = true)\n",
      " |-- occup: string (nullable = true)\n",
      " |-- entdepa: string (nullable = true)\n",
      " |-- entdepd: string (nullable = true)\n",
      " |-- entdepu: string (nullable = true)\n",
      " |-- matflag: string (nullable = true)\n",
      " |-- biryear: integer (nullable = true)\n",
      " |-- dtaddto: string (nullable = true)\n",
      " |-- gender: string (nullable = true)\n",
      " |-- insnum: string (nullable = true)\n",
      " |-- airline: string (nullable = true)\n",
      " |-- admnum: double (nullable = true)\n",
      " |-- fltno: string (nullable = true)\n",
      " |-- visatype: string (nullable = true)\n",
      "\n",
      "+-----+-----+------+------+------+-------+-------+-------+-------+-------+------+-------+-----+--------+--------+-----+-------+-------+-------+-------+-------+--------+------+------+-------+--------------+-----+--------+\n",
      "|cicid|i94yr|i94mon|i94cit|i94res|i94port|arrdate|i94mode|i94addr|depdate|i94bir|i94visa|count|dtadfile|visapost|occup|entdepa|entdepd|entdepu|matflag|biryear| dtaddto|gender|insnum|airline|        admnum|fltno|visatype|\n",
      "+-----+-----+------+------+------+-------+-------+-------+-------+-------+------+-------+-----+--------+--------+-----+-------+-------+-------+-------+-------+--------+------+------+-------+--------------+-----+--------+\n",
      "|    6| 2016|     4|   692|   692|    XXX|  20573|   null|   null|   null|    37|      2|    1|    null|    null| null|      T|   null|      U|   null|   1979|10282016|  null|  null|   null| 1.897628485E9| null|      B2|\n",
      "|    7| 2016|     4|   254|   276|    ATL|  20551|      1|     AL|   null|    25|      3|    1|20130811|     SEO| null|      G|   null|      Y|   null|   1991|     D/S|     M|  null|   null|  3.73679633E9|00296|      F1|\n",
      "|   15| 2016|     4|   101|   101|    WAS|  20545|      1|     MI|  20691|    55|      2|    1|20160401|    null| null|      T|      O|   null|      M|   1961|09302016|     M|  null|     OS|  6.66643185E8|   93|      B2|\n",
      "|   16| 2016|     4|   101|   101|    NYC|  20545|      1|     MA|  20567|    28|      2|    1|20160401|    null| null|      O|      O|   null|      M|   1988|09302016|  null|  null|     AA|9.246846133E10|00199|      B2|\n",
      "|   17| 2016|     4|   101|   101|    NYC|  20545|      1|     MA|  20567|     4|      2|    1|20160401|    null| null|      O|      O|   null|      M|   2012|09302016|  null|  null|     AA|9.246846313E10|00199|      B2|\n",
      "|   18| 2016|     4|   101|   101|    NYC|  20545|      1|     MI|  20555|    57|      1|    1|20160401|    null| null|      O|      O|   null|      M|   1959|09302016|  null|  null|     AZ|9.247103803E10|00602|      B1|\n",
      "|   19| 2016|     4|   101|   101|    NYC|  20545|      1|     NJ|  20558|    63|      2|    1|20160401|    null| null|      O|      K|   null|      M|   1953|09302016|  null|  null|     AZ|9.247139923E10|00602|      B2|\n",
      "|   20| 2016|     4|   101|   101|    NYC|  20545|      1|     NJ|  20558|    57|      2|    1|20160401|    null| null|      O|      K|   null|      M|   1959|09302016|  null|  null|     AZ|9.247161383E10|00602|      B2|\n",
      "|   21| 2016|     4|   101|   101|    NYC|  20545|      1|     NY|  20553|    46|      2|    1|20160401|    null| null|      O|      O|   null|      M|   1970|09302016|  null|  null|     AZ|9.247079603E10|00602|      B2|\n",
      "|   22| 2016|     4|   101|   101|    NYC|  20545|      1|     NY|  20562|    48|      1|    1|20160401|    null| null|      O|      O|   null|      M|   1968|09302016|  null|  null|     AZ|9.247848973E10|00608|      B1|\n",
      "|   23| 2016|     4|   101|   101|    NYC|  20545|      1|     NY|  20671|    52|      2|    1|20160401|    null| null|      O|      O|   null|      M|   1964|09302016|  null|  null|     TK|9.250139443E10|00001|      B2|\n",
      "|   24| 2016|     4|   101|   101|    TOR|  20545|      1|     MO|  20554|    33|      2|    1|20160401|    null| null|      O|      O|   null|      M|   1983|09302016|  null|  null|     MQ|9.249090503E10|03348|      B2|\n",
      "|   27| 2016|     4|   101|   101|    BOS|  20545|      1|     MA|  20549|    58|      1|    1|20160401|     TIA| null|      G|      O|   null|      M|   1958|04062016|     M|  null|     LH|9.247876383E10|00422|      B1|\n",
      "|   28| 2016|     4|   101|   101|    ATL|  20545|      1|     MA|  20549|    56|      1|    1|20160401|     TIA| null|      G|      O|   null|      M|   1960|04062016|     F|  null|     LH|9.247890033E10|00422|      B1|\n",
      "|   29| 2016|     4|   101|   101|    ATL|  20545|      1|     MA|  20561|    62|      2|    1|20160401|     TIA| null|      G|      O|   null|      M|   1954|09302016|     M|  null|     AZ|9.250378143E10|00614|      B2|\n",
      "|   30| 2016|     4|   101|   101|    ATL|  20545|      1|     NJ|  20578|    49|      2|    1|20160401|     TIA| null|      G|      O|   null|      M|   1967|09302016|     M|  null|     OS|9.247020943E10|00089|      B2|\n",
      "|   31| 2016|     4|   101|   101|    ATL|  20545|      1|     NY|  20611|    43|      2|    1|20160401|     TIA| null|      G|      O|   null|      M|   1973|09302016|     M|  null|     OS|9.247128923E10|00089|      B2|\n",
      "|   33| 2016|     4|   101|   101|    HOU|  20545|      1|     TX|  20554|    53|      2|    1|20160401|     TIA| null|      G|      O|   null|      M|   1963|09302016|     F|  null|     TK|9.250930163E10|00033|      B2|\n",
      "|   34| 2016|     4|   101|   101|    NYC|  20545|      1|     CT|   null|    48|      2|    1|20160401|     TIA| null|      G|   null|   null|   null|   1968|09302016|     M|  null|     AZ|9.247042023E10|00602|      B2|\n",
      "|   35| 2016|     4|   101|   101|    NYC|  20545|      1|     CT|   null|    74|      2|    1|20160401|     TIA| null|      T|   null|   null|   null|   1942|09302016|     F|  null|     TK|  6.69712185E8|    1|      B2|\n",
      "+-----+-----+------+------+------+-------+-------+-------+-------+-------+------+-------+-----+--------+--------+-----+-------+-------+-------+-------+-------+--------+------+------+-------+--------------+-----+--------+\n",
      "only showing top 20 rows\n",
      "\n",
      "i94_may16_sub.sas7bdat\n",
      "root\n",
      " |-- cicid: integer (nullable = true)\n",
      " |-- i94yr: integer (nullable = true)\n",
      " |-- i94mon: integer (nullable = true)\n",
      " |-- i94cit: integer (nullable = true)\n",
      " |-- i94res: integer (nullable = true)\n",
      " |-- i94port: string (nullable = true)\n",
      " |-- arrdate: integer (nullable = true)\n",
      " |-- i94mode: integer (nullable = true)\n",
      " |-- i94addr: string (nullable = true)\n",
      " |-- depdate: integer (nullable = true)\n",
      " |-- i94bir: integer (nullable = true)\n",
      " |-- i94visa: integer (nullable = true)\n",
      " |-- count: integer (nullable = true)\n",
      " |-- dtadfile: string (nullable = true)\n",
      " |-- visapost: string (nullable = true)\n",
      " |-- occup: string (nullable = true)\n",
      " |-- entdepa: string (nullable = true)\n",
      " |-- entdepd: string (nullable = true)\n",
      " |-- entdepu: string (nullable = true)\n",
      " |-- matflag: string (nullable = true)\n",
      " |-- biryear: integer (nullable = true)\n",
      " |-- dtaddto: string (nullable = true)\n",
      " |-- gender: string (nullable = true)\n",
      " |-- insnum: string (nullable = true)\n",
      " |-- airline: string (nullable = true)\n",
      " |-- admnum: double (nullable = true)\n",
      " |-- fltno: string (nullable = true)\n",
      " |-- visatype: string (nullable = true)\n",
      "\n",
      "+-----+-----+------+------+------+-------+-------+-------+-------+-------+------+-------+-----+--------+--------+-----+-------+-------+-------+-------+-------+--------+------+------+-------+--------------+-----+--------+\n",
      "|cicid|i94yr|i94mon|i94cit|i94res|i94port|arrdate|i94mode|i94addr|depdate|i94bir|i94visa|count|dtadfile|visapost|occup|entdepa|entdepd|entdepu|matflag|biryear| dtaddto|gender|insnum|airline|        admnum|fltno|visatype|\n",
      "+-----+-----+------+------+------+-------+-------+-------+-------+-------+------+-------+-----+--------+--------+-----+-------+-------+-------+-------+-------+--------+------+------+-------+--------------+-----+--------+\n",
      "|    2| 2016|     5|   207|   207|    XXX|  20605|   null|   null|   null|    27|      3|    1|    null|    null| null|      T|   null|      U|   null|   1989|     D/S|  null|  null|   null| 1.141634185E9| null|      F1|\n",
      "|    3| 2016|     5|   209|   209|    XXX|  20598|   null|   null|   null|    27|      1|    1|    null|    null| null|      T|   null|      U|   null|   1989|05232018|  null|  null|   null| 1.863211285E9| null|      E2|\n",
      "|    4| 2016|     5|   213|   213|    XXX|  20578|   null|   null|   null|    78|      2|    1|    null|    null| null|      T|   null|      U|   null|   1938|11032016|  null|  null|   null| 4.696371285E9| null|      B2|\n",
      "|    5| 2016|     5|   213|   213|    XXX|  20601|   null|   null|   null|    29|      3|    1|    null|    null| null|      T|   null|      U|   null|   1987|     D/S|  null|  null|   null| 1.141260185E9| null|      F1|\n",
      "|   13| 2016|     5|   213|   213|    CHI|  20577|      1|     IL|  20270|    29|      3|    1|20150619|    null| null|      T|      O|   null|      M|   1987|     D/S|     F|  null|     EK|6.479287483E10|00235|      F1|\n",
      "|   20| 2016|     5|   582|   582|    XXX|  20605|      0|   null|   null|    48|      3|    1|20160419|    null| null|   null|   null|   null|   null|   1968|07152016|  null|  null|   null|7.752330953E10| null|      M1|\n",
      "|   22| 2016|     5|   101|   101|    BOS|  20575|      1|     NY|  20587|    53|      2|    1|20160501|    null| null|      T|      O|   null|      M|   1963|10312016|     F|  null|     BA|  9.11023885E8|  215|      B2|\n",
      "|   25| 2016|     5|   101|   101|    WAS|  20575|      1|     NY|  20584|    66|      1|    1|20160501|    null| null|      O|      O|   null|      M|   1950|10312016|  null|  null|     OS|9.507726713E10|00093|      B1|\n",
      "|   26| 2016|     5|   101|   101|    NYC|  20575|      1|     NY|  20604|    68|      2|    1|20160501|    null| null|      O|      O|   null|      M|   1948|10312016|  null|  null|     AZ|9.508411653E10|00608|      B2|\n",
      "|   28| 2016|     5|   101|   101|    MIA|  20575|      1|     FL|  20596|    32|      2|    1|20160501|    null| null|      T|      O|   null|      M|   1984|10312016|     F|  null|     AZ|  9.09366485E8|  630|      B2|\n",
      "|   29| 2016|     5|   101|   101|    WAS|  20575|      1|     NY|  20589|    28|      2|    1|20160501|     BRS| null|      G|      O|   null|      M|   1988|10312016|     F|  null|     UA|9.507705363E10|00951|      B2|\n",
      "|   34| 2016|     5|   101|   101|    BOS|  20575|      1|     MA|  20583|    59|      2|    1|20160501|     TIA| null|      G|      O|   null|      M|   1957|10312016|     M|  null|     AZ|9.510887843E10|00614|      B2|\n",
      "|   37| 2016|     5|   101|   101|    WAS|  20575|      1|     MD|  20594|    51|      2|    1|20160501|     TIA| null|      G|      O|   null|      M|   1965|10312016|     F|  null|     UA|9.511544273E10|00933|      B2|\n",
      "|   38| 2016|     5|   101|   101|    WAS|  20575|      1|     VA|  20630|    35|      2|    1|20160501|     TIA| null|      G|      O|   null|      M|   1981|10312016|     F|  null|     UA|9.511538213E10|00933|      B2|\n",
      "|   39| 2016|     5|   101|   101|    NYC|  20575|      1|     NY|   null|    19|      3|    1|20160501|     TIA| null|      G|   null|   null|   null|   1997|     D/S|     F|  null|     TK|9.510221513E10|00001|      F1|\n",
      "|   42| 2016|     5|   101|   101|    NYC|  20575|      1|     NY|   null|    21|      3|    1|20160501|     TIA|  STU|      G|   null|   null|   null|   1995|     D/S|     F|  null|     AY|9.509039483E10|00005|      F1|\n",
      "|   43| 2016|     5|   101|   101|    LOS|  20575|      1|     CA|  20580|    61|      2|    1|20160501|     TIA| null|      G|      O|   null|      M|   1955|10312016|     M|  null|     BA|9.509379743E10|00283|      B2|\n",
      "|   44| 2016|     5|   101|   101|    CHI|  20575|      1|     NV|  20610|    61|      2|    1|20160501|     TIA| null|      G|      O|   null|      M|   1955|10312016|     F|  null|     OS|9.508300193E10|00065|      B2|\n",
      "|   45| 2016|     5|   101|   101|    CHI|  20575|      1|     TX|  20611|    33|      2|    1|20160501|     TIA| null|      G|      O|   null|      M|   1983|10312016|     M|  null|     OS|9.508341803E10|00065|      B2|\n",
      "|   47| 2016|     5|   101|   101|    TAM|  20575|      1|     FL|  20583|    44|      2|    1|20160501|     TIA| null|      G|      O|   null|      M|   1972|10312016|     M|  null|     BA|9.509465363E10|02167|      B2|\n",
      "+-----+-----+------+------+------+-------+-------+-------+-------+-------+------+-------+-----+--------+--------+-----+-------+-------+-------+-------+-------+--------+------+------+-------+--------------+-----+--------+\n",
      "only showing top 20 rows\n",
      "\n",
      "i94_jun16_sub.sas7bdat\n",
      "root\n",
      " |-- cicid: integer (nullable = true)\n",
      " |-- i94yr: integer (nullable = true)\n",
      " |-- i94mon: integer (nullable = true)\n",
      " |-- i94cit: integer (nullable = true)\n",
      " |-- i94res: integer (nullable = true)\n",
      " |-- i94port: string (nullable = true)\n",
      " |-- arrdate: integer (nullable = true)\n",
      " |-- i94mode: integer (nullable = true)\n",
      " |-- i94addr: string (nullable = true)\n",
      " |-- depdate: integer (nullable = true)\n",
      " |-- i94bir: integer (nullable = true)\n",
      " |-- i94visa: integer (nullable = true)\n",
      " |-- count: integer (nullable = true)\n",
      " |-- dtadfile: string (nullable = true)\n",
      " |-- visapost: string (nullable = true)\n",
      " |-- occup: string (nullable = true)\n",
      " |-- entdepa: string (nullable = true)\n",
      " |-- entdepd: string (nullable = true)\n",
      " |-- entdepu: string (nullable = true)\n",
      " |-- matflag: string (nullable = true)\n",
      " |-- biryear: integer (nullable = true)\n",
      " |-- dtaddto: string (nullable = true)\n",
      " |-- gender: string (nullable = true)\n",
      " |-- insnum: string (nullable = true)\n",
      " |-- airline: string (nullable = true)\n",
      " |-- admnum: double (nullable = true)\n",
      " |-- fltno: string (nullable = true)\n",
      " |-- visatype: string (nullable = true)\n",
      "\n",
      "+-----+-----+------+------+------+-------+-------+-------+-------+-------+------+-------+-----+--------+--------+-----+-------+-------+-------+-------+-------+--------+------+------+-------+---------------+-----+--------+\n",
      "|cicid|i94yr|i94mon|i94cit|i94res|i94port|arrdate|i94mode|i94addr|depdate|i94bir|i94visa|count|dtadfile|visapost|occup|entdepa|entdepd|entdepu|matflag|biryear| dtaddto|gender|insnum|airline|         admnum|fltno|visatype|\n",
      "+-----+-----+------+------+------+-------+-------+-------+-------+-------+------+-------+-----+--------+--------+-----+-------+-------+-------+-------+-------+--------+------+------+-------+---------------+-----+--------+\n",
      "|    4| 2016|     6|   135|   135|    XXX|  20612|   null|   null|   null|    59|      2|    1|    null|    null| null|      Z|   null|      U|   null|   1957|10032016|  null|  null|   null|1.4938462027E10| null|      WT|\n",
      "|    5| 2016|     6|   135|   135|    XXX|  20612|   null|   null|   null|    50|      2|    1|    null|    null| null|      Z|   null|      U|   null|   1966|10032016|  null|  null|   null|1.7460063727E10| null|      WT|\n",
      "|    6| 2016|     6|   213|   213|    XXX|  20609|   null|   null|   null|    27|      3|    1|    null|    null| null|      T|   null|      U|   null|   1989|     D/S|  null|  null|   null|  1.679297785E9| null|      F1|\n",
      "|    7| 2016|     6|   213|   213|    XXX|  20611|   null|   null|   null|    23|      3|    1|    null|    null| null|      T|   null|      U|   null|   1993|     D/S|  null|  null|   null|  1.140963185E9| null|      F1|\n",
      "|   16| 2016|     6|   245|   245|    XXX|  20632|   null|   null|   null|    24|      3|    1|    null|    null| null|      T|   null|      U|   null|   1992|     D/S|  null|  null|   null|  1.934535285E9| null|      F1|\n",
      "|   19| 2016|     6|   254|   276|    XXX|  20612|   null|   null|   null|    21|      3|    1|    null|    null| null|      T|   null|      U|   null|   1995|     D/S|  null|  null|   null|  1.148757685E9| null|      F1|\n",
      "|   27| 2016|     6|   343|   343|    XXX|  20611|   null|   null|   null|    32|      3|    1|    null|    null| null|      T|   null|      U|   null|   1984|     D/S|  null|  null|   null|  1.152545285E9| null|      F1|\n",
      "|   33| 2016|     6|   582|   582|    XXX|  20612|   null|   null|   null|    18|      3|    1|    null|    null| null|      T|   null|      U|   null|   1998|     D/S|  null|  null|   null|  1.150899985E9| null|      F2|\n",
      "|   38| 2016|     6|   687|   687|    XXX|  20623|   null|   null|   null|    19|      1|    1|    null|    null| null|      U|   null|      U|   null|   1997|06172018|  null|  null|   null| 3.575377593E10| null|      E2|\n",
      "|   39| 2016|     6|   694|   694|    XXX|  20611|   null|   null|   null|    20|      3|    1|    null|    null| null|      U|   null|      U|   null|   1996|04162017|  null|  null|   null|  1.142100885E9| null|      M1|\n",
      "|   41| 2016|     6|   254|   276|    SFR|  20623|      1|     CA|   null|    22|      3|    1|20160103|     SEO| null|      G|   null|      U|   null|   1994|     D/S|     F|  null|     KE| 8.432352323E10|00023|      F1|\n",
      "|   42| 2016|     6|   254|   276|    SFR|  20623|      1|     CA|   null|    27|      3|    1|20160131|     SEO|  STU|      G|   null|      U|   null|   1989|     D/S|     M|  null|     KE| 8.694424303E10|00023|      F1|\n",
      "|   44| 2016|     6|   127|   127|    HOU|  20617|      1|   null|  20679|    43|      2|    1|20160331|     BCH| null|      G|      O|      U|      M|   1973|09302016|     M|  null|     KL| 9.238008823E10|  661|      B2|\n",
      "|   45| 2016|     6|   127|   127|    HOU|  20617|      1|     TX|  20679|    69|      2|    1|20160331|     BCH| null|      G|      O|      U|      M|   1947|12112016|     F|  null|     KL| 9.237990593E10|  661|      B2|\n",
      "|   52| 2016|     6|   101|   101|    BOS|  20606|      1|     MA|  20608|    31|      1|    1|20160601|    null| null|      O|      N|   null|      M|   1985|11302016|  null|  null|     AA| 9.790576503E10|00147|      B1|\n",
      "|   53| 2016|     6|   101|   101|    NEW|  20606|      1|     PA|  20639|    52|      2|    1|20160601|    null| null|      T|      O|   null|      M|   1964|11302016|     F|  null|     OS|  1.117456185E9|   89|      B2|\n",
      "|   55| 2016|     6|   101|   101|    NYC|  20606|      1|   null|  20610|    57|      2|    1|20160601|    null| null|      O|      O|   null|      M|   1959|11302016|  null|  null|     AZ| 9.791890903E10|00608|      B2|\n",
      "|   56| 2016|     6|   101|   101|    NYC|  20606|      1|   null|  20618|    31|      2|    1|20160601|    null| null|      O|      O|   null|      M|   1985|11302016|  null|  null|     AB| 9.794796103E10|07480|      B2|\n",
      "|   57| 2016|     6|   101|   101|    NYC|  20606|      1|     NY|  20610|    44|      2|    1|20160601|    null| null|      O|      O|   null|      M|   1972|11302016|  null|  null|     AZ| 9.791120183E10|00602|      B2|\n",
      "|   58| 2016|     6|   101|   101|    NYC|  20606|      1|     NY|  20610|    36|      2|    1|20160601|    null| null|      O|      O|   null|      M|   1980|11302016|  null|  null|     AZ| 9.791067003E10|00602|      B2|\n",
      "+-----+-----+------+------+------+-------+-------+-------+-------+-------+------+-------+-----+--------+--------+-----+-------+-------+-------+-------+-------+--------+------+------+-------+---------------+-----+--------+\n",
      "only showing top 20 rows\n",
      "\n",
      "i94_jul16_sub.sas7bdat\n",
      "root\n",
      " |-- cicid: integer (nullable = true)\n",
      " |-- i94yr: integer (nullable = true)\n",
      " |-- i94mon: integer (nullable = true)\n",
      " |-- i94cit: integer (nullable = true)\n",
      " |-- i94res: integer (nullable = true)\n",
      " |-- i94port: string (nullable = true)\n",
      " |-- arrdate: integer (nullable = true)\n",
      " |-- i94mode: integer (nullable = true)\n",
      " |-- i94addr: string (nullable = true)\n",
      " |-- depdate: integer (nullable = true)\n",
      " |-- i94bir: integer (nullable = true)\n",
      " |-- i94visa: integer (nullable = true)\n",
      " |-- count: integer (nullable = true)\n",
      " |-- dtadfile: string (nullable = true)\n",
      " |-- visapost: string (nullable = true)\n",
      " |-- occup: string (nullable = true)\n",
      " |-- entdepa: string (nullable = true)\n",
      " |-- entdepd: string (nullable = true)\n",
      " |-- entdepu: string (nullable = true)\n",
      " |-- matflag: string (nullable = true)\n",
      " |-- biryear: integer (nullable = true)\n",
      " |-- dtaddto: string (nullable = true)\n",
      " |-- gender: string (nullable = true)\n",
      " |-- insnum: string (nullable = true)\n",
      " |-- airline: string (nullable = true)\n",
      " |-- admnum: double (nullable = true)\n",
      " |-- fltno: string (nullable = true)\n",
      " |-- visatype: string (nullable = true)\n",
      "\n",
      "+-----+-----+------+------+------+-------+-------+-------+-------+-------+------+-------+-----+--------+--------+-----+-------+-------+-------+-------+-------+--------+------+------+-------+---------------+-----+--------+\n",
      "|cicid|i94yr|i94mon|i94cit|i94res|i94port|arrdate|i94mode|i94addr|depdate|i94bir|i94visa|count|dtadfile|visapost|occup|entdepa|entdepd|entdepu|matflag|biryear| dtaddto|gender|insnum|airline|         admnum|fltno|visatype|\n",
      "+-----+-----+------+------+------+-------+-------+-------+-------+-------+------+-------+-----+--------+--------+-----+-------+-------+-------+-------+-------+--------+------+------+-------+---------------+-----+--------+\n",
      "|    1| 2016|     7|   254|   276|    LOS|  20636|      1|     CA|  20640|    38|      2|    1|20160701|    null| null|      G|      O|   null|      M|   1978|09282016|     M|  null|     OZ|6.3092898033E10|00202|      WT|\n",
      "|    2| 2016|     7|   140|   140|    NYC|  20636|      1|     NY|  20657|    45|      2|    1|20160701|    null| null|      G|      O|   null|      M|   1971|09282016|     F|  null|     DL|6.3092899033E10|09858|      WT|\n",
      "|    3| 2016|     7|   135|   135|    ORL|  20636|      1|     FL|  20657|    10|      2|    1|20160701|    null| null|      G|      O|   null|      M|   2006|09282016|     M|  null|     VS|6.3092900933E10|00071|      WT|\n",
      "|    4| 2016|     7|   124|   124|    TAM|  20636|      1|     FL|  20645|    17|      2|    1|20160701|    null| null|      G|      O|   null|      M|   1999|09282016|     M|  null|     LH|6.3092901833E10|00482|      WT|\n",
      "|    5| 2016|     7|   130|   130|    LOS|  20636|      1|     CA|  20662|     1|      2|    1|20160701|    null| null|      G|      K|   null|      M|   2015|09282016|     M|  null|     SU|6.3092902733E10|00106|      WT|\n",
      "|    6| 2016|     7|   135|   135|    SFR|  20636|      1|     CA|  20648|    51|      2|    1|20160701|    null| null|      G|      O|   null|      M|   1965|09282016|     M|  null|     BA|6.3092903633E10|00285|      WT|\n",
      "|    7| 2016|     7|   115|   115|    OAK|  20636|      1|     CA|  20646|    13|      2|    1|20160701|    null| null|      G|      O|   null|      M|   2003|09282016|     F|  null|     DY|6.3092904533E10|07067|      WT|\n",
      "|    8| 2016|     7|   438|   438|    HHW|  20636|      1|     HI|  20644|    34|      2|    1|20160701|    null| null|      G|      O|   null|      M|   1982|09282016|     F|  null|     QF|6.3092905433E10|00003|      WT|\n",
      "|    9| 2016|     7|   131|   131|    LVG|  20636|      1|     NV|  20657|    46|      2|    1|20160701|    null| null|      G|      O|   null|      M|   1970|09282016|     M|  null|     WK|6.3092906333E10|00002|      WT|\n",
      "|   10| 2016|     7|   140|   140|    LOS|  20636|      1|     CA|  20656|    44|      2|    1|20160701|    null| null|      O|      O|   null|      M|   1972|09282016|  null|  null|     SU|6.3092907233E10|00106|      WT|\n",
      "|   12| 2016|     7|   131|   131|    LVG|  20636|      1|     NV|  20663|    25|      2|    1|20160701|    null| null|      G|      O|   null|      M|   1991|09282016|     M|  null|     WK|6.3092909033E10|00002|      WT|\n",
      "|   13| 2016|     7|   140|   140|    LOS|  20636|      1|     CA|  20656|    12|      2|    1|20160701|    null| null|      O|      O|   null|      M|   2004|09282016|  null|  null|     SU|6.3092910033E10|00106|      WT|\n",
      "|   14| 2016|     7|   135|   135|    SFR|  20636|      1|     CA|  20642|    30|      2|    1|20160701|    null| null|      G|      O|   null|      M|   1986|09282016|     M|  null|     BA|6.3092911933E10|00285|      WT|\n",
      "|   15| 2016|     7|   140|   140|    LOS|  20636|      1|     CA|  20656|    45|      2|    1|20160701|    null| null|      O|      O|   null|      M|   1971|09282016|  null|  null|     SU|6.3092912833E10|00106|      WT|\n",
      "|   16| 2016|     7|   135|   135|    ORL|  20636|      1|     FL|  20650|    13|      2|    1|20160701|    null| null|      G|      O|   null|      M|   2003|09282016|     F|  null|     VS|6.3092913733E10|00071|      WT|\n",
      "|   17| 2016|     7|   108|   108|    SEA|  20636|      1|     AK|  20642|    42|      2|    1|20160701|    null| null|      G|      O|   null|      M|   1974|09282016|     M|  null|     DL|6.3092914633E10|00145|      WT|\n",
      "|   18| 2016|     7|   131|   131|    LVG|  20636|      1|     NV|  20657|    71|      2|    1|20160701|    null| null|      G|      O|   null|      M|   1945|09282016|     M|  null|     WK|6.3092915533E10|00002|      WT|\n",
      "|   20| 2016|     7|   135|   135|    ORL|  20636|      1|     FL|  20652|    14|      2|    1|20160701|    null| null|      G|      O|   null|      M|   2002|09282016|     M|  null|     VS|6.3092917333E10|00071|      WT|\n",
      "|   21| 2016|     7|   209|   209|    BOS|  20636|      1|     MA|  20640|    60|      2|    1|20160701|    null| null|      G|      O|   null|      M|   1956|09282016|     F|  null|     JL|6.3092918233E10|00008|      WT|\n",
      "|   22| 2016|     7|   104|   104|    LVG|  20636|      1|     NV|  20651|    25|      2|    1|20160701|    null| null|      G|      O|   null|      M|   1991|09282016|     M|  null|     WK|6.3092919133E10|00002|      WT|\n",
      "+-----+-----+------+------+------+-------+-------+-------+-------+-------+------+-------+-----+--------+--------+-----+-------+-------+-------+-------+-------+--------+------+------+-------+---------------+-----+--------+\n",
      "only showing top 20 rows\n",
      "\n",
      "i94_aug16_sub.sas7bdat\n",
      "root\n",
      " |-- cicid: integer (nullable = true)\n",
      " |-- i94yr: integer (nullable = true)\n",
      " |-- i94mon: integer (nullable = true)\n",
      " |-- i94cit: integer (nullable = true)\n",
      " |-- i94res: integer (nullable = true)\n",
      " |-- i94port: string (nullable = true)\n",
      " |-- arrdate: integer (nullable = true)\n",
      " |-- i94mode: integer (nullable = true)\n",
      " |-- i94addr: string (nullable = true)\n",
      " |-- depdate: integer (nullable = true)\n",
      " |-- i94bir: integer (nullable = true)\n",
      " |-- i94visa: integer (nullable = true)\n",
      " |-- count: integer (nullable = true)\n",
      " |-- dtadfile: string (nullable = true)\n",
      " |-- visapost: string (nullable = true)\n",
      " |-- occup: string (nullable = true)\n",
      " |-- entdepa: string (nullable = true)\n",
      " |-- entdepd: string (nullable = true)\n",
      " |-- entdepu: string (nullable = true)\n",
      " |-- matflag: string (nullable = true)\n",
      " |-- biryear: integer (nullable = true)\n",
      " |-- dtaddto: string (nullable = true)\n",
      " |-- gender: string (nullable = true)\n",
      " |-- insnum: string (nullable = true)\n",
      " |-- airline: string (nullable = true)\n",
      " |-- admnum: double (nullable = true)\n",
      " |-- fltno: string (nullable = true)\n",
      " |-- visatype: string (nullable = true)\n",
      "\n",
      "+-----+-----+------+------+------+-------+-------+-------+-------+-------+------+-------+-----+--------+--------+-----+-------+-------+-------+-------+-------+--------+------+------+-------+---------------+-----+--------+\n",
      "|cicid|i94yr|i94mon|i94cit|i94res|i94port|arrdate|i94mode|i94addr|depdate|i94bir|i94visa|count|dtadfile|visapost|occup|entdepa|entdepd|entdepu|matflag|biryear| dtaddto|gender|insnum|airline|         admnum|fltno|visatype|\n",
      "+-----+-----+------+------+------+-------+-------+-------+-------+-------+------+-------+-----+--------+--------+-----+-------+-------+-------+-------+-------+--------+------+------+-------+---------------+-----+--------+\n",
      "|   22| 2016|     8|   323|   323|    NYC|  20667|      1|     FL|   null|    23|      3|    1|20160801|     RID| null|      U|   null|   null|   null|   1993|     D/S|     M|  null|     EK| 6.451049563E10|  201|      F1|\n",
      "|   55| 2016|     8|   209|   209|    AGA|  20667|      1|     CA|   null|    41|      2|    1|20160801|    null| null|      A|   null|   null|   null|   1975|09142016|     M|  3955|     JL|5.7571868933E10|00941|     GMT|\n",
      "|   56| 2016|     8|   209|   209|    AGA|  20667|      1|     GU|   null|    24|      2|    1|20160801|    null| null|      A|   null|   null|   null|   1992|09152016|     F|  3661|     UA|5.7571894533E10|00874|     GMT|\n",
      "|   61| 2016|     8|   213|   213|    CHI|  20667|      1|     WA|  20774|    27|      3|    1|20160801|     BMB| null|      U|      O|   null|      M|   1989|     D/S|     M|  null|     UA| 5.905919443E10|  906|      F1|\n",
      "|   64| 2016|     8|   111|   111|    BOS|  20667|      1|     MS|  20670|    34|      2|    1|20160804|    null| null|      G|      O|   null|      M|   1982|08242016|     F| 32572|     QK|6.1043089333E10| 8456|      WT|\n",
      "|   66| 2016|     8|   254|   268|    LOS|  20667|      1|     LA|  20670|    40|      2|    1|20160801|    null| null|      H|      O|   null|      M|   1976|09122016|     F|  null|     AC|6.2107072633E10|  570|      WT|\n",
      "|   68| 2016|     8|   135|   135|    HOU|  20667|      1|     TX|  20670|    56|      1|    1|20160805|    null| null|      G|      O|   null|      M|   1960|09202016|     M|122677|     WS|6.2594345033E10| 1534|      WB|\n",
      "|   78| 2016|     8|   690|   690|    MIA|  20667|      1|     NY|  20668|    34|      2|    1|20160803|    null| null|      G|      Q|   null|      M|   1982|10122016|     M| 20992|     AA|6.3949852133E10| 1478|      WT|\n",
      "|   79| 2016|     8|   690|   690|    MIA|  20667|      1|     NY|  20668|    32|      2|    1|20160803|    null| null|      G|      Q|   null|      M|   1984|10122016|     F| 20992|     AA|6.3949868733E10| 1478|      WT|\n",
      "|   81| 2016|     8|   464|   464|    SEA|  20667|      1|   null|  20668|    20|      2|    1|20160802|    null| null|      G|      O|   null|      M|   1996|10122016|     F|129333|     QX|6.3953747033E10| 2479|      WT|\n",
      "|   82| 2016|     8|   438|   438|    SEA|  20667|      1|   null|  20668|    79|      2|    1|20160801|    null| null|      H|      O|   null|      M|   1937|10122016|     F|  null|     QX|6.3953885533E10| 2479|      WT|\n",
      "|   83| 2016|     8|   438|   438|    SEA|  20667|      1|   null|  20668|    32|      2|    1|20160802|    null| null|      G|      O|   null|      M|   1984|08082016|     M|129333|     QX|6.3954075233E10| 2479|      WT|\n",
      "|   84| 2016|     8|   117|   117|    MIA|  20667|      1|     FL|  20680|    53|      2|    1|20160814|    null| null|      G|      O|   null|      M|   1963|10182016|     M|160362|    27A|6.4302773433E10|    4|      WT|\n",
      "|   88| 2016|     8|   254|   276|    SAI|  20667|      1|     FL|   null|     9|      2|    1|20160801|    null| null|      A|   null|   null|   null|   2007|09142016|     U|  null|     7C|5.3330624527E10|03404|     GMT|\n",
      "|  105| 2016|     8|   148|   112|    XXX|  20667|   null|   null|  20668|    59|      1|    1|20160803|    null| null|      I|   null|   null|      M|   1957|    null|  null|  null|   null| 6.013853463E10| null|      E2|\n",
      "|  107| 2016|     8|   438|   438|    NYC|  20667|      1|     NY|  20673|    33|      2|    1|20160808|    null| null|      G|      O|   null|      M|   1983|08242016|     M|170075|     RS|6.1073911333E10| 7632|      WT|\n",
      "|  117| 2016|     8|   438|   438|    MIA|  20667|      1|     CA|  20669|    45|      2|    1|20160803|    null| null|      G|      O|   null|      M|   1971|10032016|     F| 55728|     MQ|6.3401034733E10| 3726|      WT|\n",
      "|  119| 2016|     8|   111|   111|    NYC|  20667|      1|     NY|  20672|    26|      2|    1|20160801|    null| null|      H|      O|   null|      M|   1990|10032016|     M|  null|     RS|6.3402162133E10| 7630|      WT|\n",
      "|  120| 2016|     8|   135|   135|    SFR|  20667|      1|   null|  20668|    65|      2|    1|20160802|    null| null|      G|      O|   null|      M|   1951|10092016|     M|165587|     QK|6.3757996633E10| 8579|      WT|\n",
      "|  121| 2016|     8|   135|   135|    SFR|  20667|      1|   null|  20668|    67|      2|    1|20160802|    null| null|      G|      O|   null|      M|   1949|10092016|     F|165587|     QK|6.3758054333E10| 8579|      WT|\n",
      "+-----+-----+------+------+------+-------+-------+-------+-------+-------+------+-------+-----+--------+--------+-----+-------+-------+-------+-------+-------+--------+------+------+-------+---------------+-----+--------+\n",
      "only showing top 20 rows\n",
      "\n",
      "i94_sep16_sub.sas7bdat\n",
      "root\n",
      " |-- cicid: integer (nullable = true)\n",
      " |-- i94yr: integer (nullable = true)\n",
      " |-- i94mon: integer (nullable = true)\n",
      " |-- i94cit: integer (nullable = true)\n",
      " |-- i94res: integer (nullable = true)\n",
      " |-- i94port: string (nullable = true)\n",
      " |-- arrdate: integer (nullable = true)\n",
      " |-- i94mode: integer (nullable = true)\n",
      " |-- i94addr: string (nullable = true)\n",
      " |-- depdate: integer (nullable = true)\n",
      " |-- i94bir: integer (nullable = true)\n",
      " |-- i94visa: integer (nullable = true)\n",
      " |-- count: integer (nullable = true)\n",
      " |-- dtadfile: string (nullable = true)\n",
      " |-- visapost: string (nullable = true)\n",
      " |-- occup: string (nullable = true)\n",
      " |-- entdepa: string (nullable = true)\n",
      " |-- entdepd: string (nullable = true)\n",
      " |-- entdepu: string (nullable = true)\n",
      " |-- matflag: string (nullable = true)\n",
      " |-- biryear: integer (nullable = true)\n",
      " |-- dtaddto: string (nullable = true)\n",
      " |-- gender: string (nullable = true)\n",
      " |-- insnum: string (nullable = true)\n",
      " |-- airline: string (nullable = true)\n",
      " |-- admnum: double (nullable = true)\n",
      " |-- fltno: string (nullable = true)\n",
      " |-- visatype: string (nullable = true)\n",
      "\n",
      "+-----+-----+------+------+------+-------+-------+-------+-------+-------+------+-------+-----+--------+--------+-----+-------+-------+-------+-------+-------+--------+------+------+-------+--------------+-----+--------+\n",
      "|cicid|i94yr|i94mon|i94cit|i94res|i94port|arrdate|i94mode|i94addr|depdate|i94bir|i94visa|count|dtadfile|visapost|occup|entdepa|entdepd|entdepu|matflag|biryear| dtaddto|gender|insnum|airline|        admnum|fltno|visatype|\n",
      "+-----+-----+------+------+------+-------+-------+-------+-------+-------+------+-------+-----+--------+--------+-----+-------+-------+-------+-------+-------+--------+------+------+-------+--------------+-----+--------+\n",
      "|  687| 2016|     9|   213|   213|    HOU|  20698|      1|     TX|  20725|    27|      1|    1|20160901|    null| null|      H|      O|   null|      M|   1989|11022016|     M|  null|     QK|9.527938853E10| 8111|      B1|\n",
      "|  799| 2016|     9|   369|   369|    WAS|  20698|      1|     VA|  20725|    71|      2|    1|20160901|     ADD| null|      U|      O|   null|      M|   1945|11032016|     M|  null|     KL|9.531093473E10|  651|      B2|\n",
      "| 1001| 2016|     9|   582|   582|    LVG|  20698|      1|     NV|  20702|    25|      2|    1|20160901|     MTR| null|      H|      O|   null|      M|   1991|10312016|     M|  null|     4O|9.507647983E10|  970|      B2|\n",
      "| 1044| 2016|     9|   691|   582|    MIA|  20698|      1|     FL|  20702|    50|      1|    1|20160901|     MEX| null|      H|      O|   null|      M|   1966|11032016|     M|  null|     AM|9.532965493E10|  428|      B1|\n",
      "| 1183| 2016|     9|   266|   266|    CHI|  20698|      1|     WI|  20714|    34|      3|    1|20160901|     HAN| null|      U|      O|   null|      M|   1982|     D/S|     F|  null|     UA|9.465593503E10| 5959|      F1|\n",
      "| 1239| 2016|     9|   373|   373|    SAJ|  20698|      1|     MO|  20708|    26|      2|    1|20160901|     DRB| null|      H|      I|   null|      M|   1990|10312016|     M|  null|     BB|9.510455093E10| 4543|      B2|\n",
      "| 1487| 2016|     9|   514|   514|    CLT|  20698|      1|     NY|  20702|    50|      1|    1|20160901|     KNG| null|      H|      O|   null|      M|   1966|10292016|     M|  null|     AA|9.500332333E10|  880|      B1|\n",
      "| 1625| 2016|     9|   245|   245|    LOS|  20698|      1|     CA|  20703|    25|      2|    1|20160901|     VAC| null|      H|      O|   null|      M|   1991|10292016|     M|  null|     AC|9.498770893E10|  550|      B2|\n",
      "| 1641| 2016|     9|   582|   582|    NYC|  20698|      1|   null|  20702|    43|      2|    1|20160901|     MEX| null|      U|      O|   null|      M|   1973|11012016|     M|  null|     WS|9.514430023E10| 1210|      B2|\n",
      "| 2234| 2016|     9|   582|   582|    HOU|  20698|      1|   null|  20710|    29|      1|    1|20160901|     MEX| null|      H|      I|   null|      M|   1987|11142016|     M| 09338|     4O|9.640900053E10|3986C|      B1|\n",
      "| 2582| 2016|     9|   582|   582|    SNA|  20698|      1|     TX|  20701|    66|      2|    1|20160901|     MTR| null|      H|      O|   null|      M|   1950|11142016|     M|  null|     4O|9.639556303E10| 2952|      B2|\n",
      "| 2814| 2016|     9|   582|   582|    LAR|  20698|      1|     NM|  20709|    46|      1|    1|20160901|    null| null|      H|      I|   null|      M|   1970|11172016|     M|  null|    *GA|9.656111863E10|XAUWK|      B1|\n",
      "| 2821| 2016|     9|   582|   582|    LVG|  20698|      1|     NV|  20702|    28|      1|    1|20160901|     MEX| null|      H|      O|   null|      M|   1988|11172016|     F|  null|     Y4|9.662021063E10|  966|      B1|\n",
      "| 3015| 2016|     9|   124|   124|    NEW|  20698|      1|     TX|   null|    43|      1|    1|20160901|     OSL|  EXA|      U|   null|   null|   null|   1973|05142018|     M|  null|     UA|9.642383403E10|   39|      E2|\n",
      "| 3165| 2016|     9|   245|   245|    MIA|  20698|      1|     FL|  20700|    29|      2|    1|20160901|    null| null|      H|      O|   null|      M|   1987|11212016|     M|  null|     AM|9.702585023E10|  428|      B2|\n",
      "| 3265| 2016|     9|   577|   577|    DAL|  20698|      1|     AZ|  20761|    22|      1|    1|20160901|     GTM| null|      U|      I|   null|      M|   1994|11152016|     M|  null|     AA|9.689463213E10| 1188|      B1|\n",
      "| 3583| 2016|     9|   689|   689|    HOU|  20698|      1|     LA|  20711|    41|      2|    1|20160901|     VAC| null|      H|      I|   null|      M|   1975|11252016|     M|  null|     UA|9.738180663E10| 2023|      B2|\n",
      "| 3656| 2016|     9|   696|   696|    ORL|  20698|      1|     FL|  20706|    39|      2|    1|20160901|     CRS| null|      U|      O|   null|      M|   1977|11222016|     M|  null|     B6|9.718599743E10| 1784|      B2|\n",
      "| 3815| 2016|     9|   582|   582|    DEN|  20698|      1|     CO|  20724|    30|      2|    1|20160901|     MER| null|      H|      O|   null|      M|   1986|11252016|     F| 05767|     UA|9.745191143E10| 1132|      B2|\n",
      "| 3924| 2016|     9|   245|   206|    CHI|  20698|      1|     FL|  20702|    27|      1|    1|20160901|     VAC| null|      H|      O|   null|      M|   1989|11252016|     F|  null|     UA|9.738486373E10|  246|      B1|\n",
      "+-----+-----+------+------+------+-------+-------+-------+-------+-------+------+-------+-----+--------+--------+-----+-------+-------+-------+-------+-------+--------+------+------+-------+--------------+-----+--------+\n",
      "only showing top 20 rows\n",
      "\n",
      "i94_oct16_sub.sas7bdat\n",
      "root\n",
      " |-- cicid: integer (nullable = true)\n",
      " |-- i94yr: integer (nullable = true)\n",
      " |-- i94mon: integer (nullable = true)\n",
      " |-- i94cit: integer (nullable = true)\n",
      " |-- i94res: integer (nullable = true)\n",
      " |-- i94port: string (nullable = true)\n",
      " |-- arrdate: integer (nullable = true)\n",
      " |-- i94mode: integer (nullable = true)\n",
      " |-- i94addr: string (nullable = true)\n",
      " |-- depdate: integer (nullable = true)\n",
      " |-- i94bir: integer (nullable = true)\n",
      " |-- i94visa: integer (nullable = true)\n",
      " |-- count: integer (nullable = true)\n",
      " |-- dtadfile: string (nullable = true)\n",
      " |-- visapost: string (nullable = true)\n",
      " |-- occup: string (nullable = true)\n",
      " |-- entdepa: string (nullable = true)\n",
      " |-- entdepd: string (nullable = true)\n",
      " |-- entdepu: string (nullable = true)\n",
      " |-- matflag: string (nullable = true)\n",
      " |-- biryear: integer (nullable = true)\n",
      " |-- dtaddto: string (nullable = true)\n",
      " |-- gender: string (nullable = true)\n",
      " |-- insnum: string (nullable = true)\n",
      " |-- airline: string (nullable = true)\n",
      " |-- admnum: double (nullable = true)\n",
      " |-- fltno: string (nullable = true)\n",
      " |-- visatype: string (nullable = true)\n",
      "\n",
      "+-----+-----+------+------+------+-------+-------+-------+-------+-------+------+-------+-----+--------+--------+-----+-------+-------+-------+-------+-------+--------+------+------+-------+---------------+-----+--------+\n",
      "|cicid|i94yr|i94mon|i94cit|i94res|i94port|arrdate|i94mode|i94addr|depdate|i94bir|i94visa|count|dtadfile|visapost|occup|entdepa|entdepd|entdepu|matflag|biryear| dtaddto|gender|insnum|airline|         admnum|fltno|visatype|\n",
      "+-----+-----+------+------+------+-------+-------+-------+-------+-------+------+-------+-----+--------+--------+-----+-------+-------+-------+-------+-------+--------+------+------+-------+---------------+-----+--------+\n",
      "|    8| 2016|    10|   111|   111|    CHM|  20728|      1|     HI|   null|    70|      2|    1|20161001|    null| null|      A|   null|   null|   null|   1946|12292016|     F|  5245|     AF|6.7011135827E10|00342|      WT|\n",
      "|   68| 2016|    10|   209|   209|    AGA|  20728|      1|     GU|  20731|    63|      2|    1|20161001|    null| null|      A|      D|   null|      M|   1953|11142016|     F|  3938|     UA|7.9058646527E10|00136|     GMT|\n",
      "|  100| 2016|    10|   268|   268|    AGA|  20728|      1|     NY|  20732|    25|      2|    1|20161001|    null| null|      A|      D|   null|      M|   1991|11142016|     M|  3942|     CI|8.7663527026E10|00026|     GMT|\n",
      "|  101| 2016|    10|   268|   268|    AGA|  20728|      1|     NY|   null|    24|      2|    1|20161001|    null| null|      A|   null|   null|   null|   1992|11142016|     F|  3935|     CI|8.7663527926E10|00026|     GMT|\n",
      "|  102| 2016|    10|   268|   268|    AGA|  20728|      1|     NY|  20732|    30|      2|    1|20161001|    null| null|      A|      D|   null|      M|   1986|11142016|     M|  3934|     CI|8.7663528826E10|00026|     GMT|\n",
      "|  103| 2016|    10|   268|   268|    AGA|  20728|      1|     MA|  20732|    27|      2|    1|20161001|    null| null|      A|      D|   null|      M|   1989|11142016|     F|  3940|     CI|8.7663529726E10|00026|     GMT|\n",
      "|  200| 2016|    10|   254|   276|    AGA|  20728|      1|     HI|   null|    48|      2|    1|20161001|    null| null|      A|   null|   null|   null|   1968|11152016|     F|  3661|     KE|8.9173971528E10|00111|     GMT|\n",
      "|  395| 2016|    10|   209|   209|    AGA|  20728|      1|     WI|  20732|    39|      2|    1|20161001|    null| null|      A|      D|   null|      M|   1977|11142016|     F|  3697|     UA|7.4156800833E10|00827|     GMT|\n",
      "|  396| 2016|    10|   209|   209|    AGA|  20728|      1|     GU|  20730|    40|      2|    1|20161001|    null| null|      A|      D|   null|      M|   1976|11142016|     M|  3697|     UA|7.4161343826E10|00136|     GMT|\n",
      "|  442| 2016|    10|   135|   135|    CHM|  20728|      1|   null|   null|    67|      2|    1|20161001|    null| null|      A|      W|   null|      M|   1949|12312016|     F|  5246|     AM|8.6530536828E10|00068|      WT|\n",
      "|  443| 2016|    10|   135|   135|    CHM|  20728|      1|     HI|   null|    68|      2|    1|20161001|    null| null|      A|   null|   null|   null|   1948|12312016|     M|  5246|     AM|8.6530537728E10|00068|      WT|\n",
      "|  453| 2016|    10|   141|   141|    PIR|  20728|      9|     CA|   null|     0|      2|    1|20161001|    null| null|      A|   null|   null|   null|   2016|12312016|     F|  4678|   null|8.7070391028E10| null|      WT|\n",
      "|  454| 2016|    10|   141|   141|    PIR|  20728|      1|     PA|   null|     2|      2|    1|20161001|    null| null|      A|   null|   null|   null|   2014|12312016|     F|  4678|    KLM|8.7070392028E10| null|      WT|\n",
      "|  518| 2016|    10|   268|   268|    AGA|  20728|      1|     FL|   null|    30|      2|    1|20161001|    null| null|      A|   null|   null|   null|   1986|11142016|     F|  3938|     CI|7.6501073826E10|00026|     GMT|\n",
      "|  519| 2016|    10|   268|   268|    AGA|  20728|      1|     NY|   null|    30|      2|    1|20161001|    null| null|      A|   null|   null|   null|   1986|11142016|     F|  3938|     CI|7.6501074726E10|00026|     GMT|\n",
      "|  520| 2016|    10|   268|   268|    AGA|  20728|      1|     NY|   null|    28|      2|    1|20161001|    null| null|      A|   null|   null|   null|   1988|11142016|     F|  3940|     CI|7.6501075626E10|00026|     GMT|\n",
      "|  521| 2016|    10|   268|   268|    AGA|  20728|      1|   null|  20732|    31|      2|    1|20161001|    null| null|      A|      D|   null|      M|   1985|11142016|     F|  3696|     CI|7.6501076526E10|00026|     GMT|\n",
      "|  522| 2016|    10|   268|   268|    AGA|  20728|      1|   null|  20732|    26|      2|    1|20161001|    null| null|      A|      D|   null|      M|   1990|11142016|     F|  3696|     CI|7.6501077426E10|00026|     GMT|\n",
      "|  523| 2016|    10|   268|   268|    AGA|  20728|      1|     NY|  20732|    54|      2|    1|20161001|    null| null|      A|      D|   null|      M|   1962|11142016|     F|  3938|     CI|7.6501078326E10|00026|     GMT|\n",
      "|  524| 2016|    10|   268|   268|    AGA|  20728|      1|     NY|  20732|    61|      2|    1|20161001|    null| null|      A|      D|   null|      M|   1955|11142016|     F|  3940|     CI|7.6501079226E10|00026|     GMT|\n",
      "+-----+-----+------+------+------+-------+-------+-------+-------+-------+------+-------+-----+--------+--------+-----+-------+-------+-------+-------+-------+--------+------+------+-------+---------------+-----+--------+\n",
      "only showing top 20 rows\n",
      "\n",
      "i94_nov16_sub.sas7bdat\n",
      "root\n",
      " |-- cicid: integer (nullable = true)\n",
      " |-- i94yr: integer (nullable = true)\n",
      " |-- i94mon: integer (nullable = true)\n",
      " |-- i94cit: integer (nullable = true)\n",
      " |-- i94res: integer (nullable = true)\n",
      " |-- i94port: string (nullable = true)\n",
      " |-- arrdate: integer (nullable = true)\n",
      " |-- i94mode: integer (nullable = true)\n",
      " |-- i94addr: string (nullable = true)\n",
      " |-- depdate: integer (nullable = true)\n",
      " |-- i94bir: integer (nullable = true)\n",
      " |-- i94visa: integer (nullable = true)\n",
      " |-- count: integer (nullable = true)\n",
      " |-- dtadfile: string (nullable = true)\n",
      " |-- visapost: string (nullable = true)\n",
      " |-- occup: string (nullable = true)\n",
      " |-- entdepa: string (nullable = true)\n",
      " |-- entdepd: string (nullable = true)\n",
      " |-- entdepu: string (nullable = true)\n",
      " |-- matflag: string (nullable = true)\n",
      " |-- biryear: integer (nullable = true)\n",
      " |-- dtaddto: string (nullable = true)\n",
      " |-- gender: string (nullable = true)\n",
      " |-- insnum: string (nullable = true)\n",
      " |-- airline: string (nullable = true)\n",
      " |-- admnum: double (nullable = true)\n",
      " |-- fltno: string (nullable = true)\n",
      " |-- visatype: string (nullable = true)\n",
      "\n",
      "+-----+-----+------+------+------+-------+-------+-------+-------+-------+------+-------+-----+--------+--------+-----+-------+-------+-------+-------+-------+--------+------+------+-------+---------------+-----+--------+\n",
      "|cicid|i94yr|i94mon|i94cit|i94res|i94port|arrdate|i94mode|i94addr|depdate|i94bir|i94visa|count|dtadfile|visapost|occup|entdepa|entdepd|entdepu|matflag|biryear| dtaddto|gender|insnum|airline|         admnum|fltno|visatype|\n",
      "+-----+-----+------+------+------+-------+-------+-------+-------+-------+------+-------+-----+--------+--------+-----+-------+-------+-------+-------+-------+--------+------+------+-------+---------------+-----+--------+\n",
      "|    8| 2016|    11|   126|   689|    CHA|  20759|      2|   null|   null|    62|      2|    1|20161101|    null| null|      A|   null|   null|   null|   1954|02082017|     F|  2771|   null|1.3295810024E10| null|      WT|\n",
      "|   18| 2016|    11|   582|   582|    NOG|  20759|      9|     FL|   null|    47|      2|    1|20161101|    null| null|      P|      W|   null|      M|   1969|11222016|     M|  1163|   null|1.3616911029E10| null|      CP|\n",
      "|   19| 2016|    11|   582|   582|    NOG|  20759|      9|     CA|   null|    34|      2|    1|20161101|    null| null|      P|      W|   null|      M|   1982|03032017|     M|  1442|   null|1.3642684029E10| null|      CP|\n",
      "|   65| 2016|    11|   213|   213|    NEW|  20759|      1|     CA|   null|    26|      3|    1|20161101|     BMB| null|      T|   null|   null|   null|   1990|     D/S|     M|  null|     UA|1.2924805885E10|   49|      F1|\n",
      "|   67| 2016|    11|   687|   687|    ATL|  20759|      1|     AL|   null|    23|      3|    1|20161101|     BNS| null|      T|   null|   null|   null|   1993|     D/S|     M|  null|     DL|1.2924807685E10|  110|      F1|\n",
      "|   69| 2016|    11|   254|   276|    BOS|  20759|      1|     MA|  20828|    38|      3|    1|20161101|     SEO|  STU|      T|      O|   null|      M|   1978|     D/S|     M|  null|     AC|1.2924809485E10|  356|      F1|\n",
      "|   71| 2016|    11|   692|   692|    MIA|  20759|      1|     NE|  20768|    49|      1|    1|20161101|    null| null|      T|      Q|   null|      M|   1967|04302017|     M|  null|     AA|1.2924811285E10|  902|      B1|\n",
      "|   76| 2016|    11|   690|   690|    ATL|  20759|      1|     TX|  20848|    16|      2|    1|20161101|    null| null|      T|      O|   null|      M|   2000|01292017|     F|  null|     DL|1.2924816885E10|  146|      WT|\n",
      "|   78| 2016|    11|   696|   696|    ATL|  20759|      1|     GA|  20937|    31|      2|    1|20161101|    null| null|      T|      O|   null|      M|   1985|04302017|     M|  null|     DL|1.2924818685E10|  110|      B2|\n",
      "|   80| 2016|    11|   692|   692|    FTL|  20759|      1|     FL|   null|    35|      2|    1|20161101|    null| null|      T|   null|   null|   null|   1981|04302017|     F|  null|     B6|1.2924820485E10| 2850|      B2|\n",
      "|   81| 2016|    11|   687|   687|    MIA|  20759|      1|     FL|  20764|    38|      2|    1|20161101|    null| null|      T|      O|   null|      M|   1978|04302017|     M|  null|     JJ|1.2924821385E10| 8090|      B2|\n",
      "|   83| 2016|    11|   689|   689|    MIA|  20759|      1|     TX|   null|    32|      3|    1|20161101|     BRA| null|      T|   null|   null|   null|   1984|     D/S|     M|  null|     AA|1.2924823185E10|  904|      F1|\n",
      "|   84| 2016|    11|   254|   276|    NYC|  20759|      1|     NY|  20763|    26|      2|    1|20161101|    null| null|      T|      K|   null|      M|   1990|01292017|     F|  null|     AC|1.2924824085E10|  702|      WT|\n",
      "|   85| 2016|    11|   245|   245|    NYC|  20759|      1|     NJ|  20772|    27|      2|    1|20161101|    null| null|      T|      O|   null|      M|   1989|04302017|     F|  null|     CZ|1.2924825085E10|  399|      B2|\n",
      "|   90| 2016|    11|   691|   691|    MIA|  20759|      1|     FL|  20768|    17|      2|    1|20161101|    null| null|      T|      O|   null|      M|   1999|01212017|     F|  null|     RV|1.2924830585E10| 1640|      B2|\n",
      "|   91| 2016|    11|   504|   504|    FTL|  20759|      1|     FL|  20763|    31|      2|    1|20161101|    null| null|      T|      O|   null|      M|   1985|04302017|     M|  null|     NK|1.2924831485E10|  914|      B2|\n",
      "|   93| 2016|    11|   689|   689|    MIA|  20759|      1|     FL|  20763|    41|      2|    1|20161101|    null| null|      T|      O|   null|      M|   1975|04302017|     M|  null|     JJ|1.2924833285E10| 8090|      B2|\n",
      "|   94| 2016|    11|   687|   687|    DAL|  20759|      1|   null|  20764|    34|      2|    1|20161101|     BNS| null|      T|      I|   null|      M|   1982|04302017|     M|  null|     AA|1.2924834185E10|  940|      B2|\n",
      "|   96| 2016|    11|   692|   692|    DAL|  20759|      1|     CA|  20762|    30|      2|    1|20161101|     QTO| null|      T|      O|   null|      M|   1986|04302017|     M|  null|     AA|1.2924836085E10| 1177|      B2|\n",
      "|   97| 2016|    11|   582|   582|    HOU|  20759|      1|     TX|  20809|    24|      2|    1|20161101|    null| null|      T|      R|   null|      M|   1992|04302017|     F|  null|     AM|1.2925445685E10| 2096|      B2|\n",
      "+-----+-----+------+------+------+-------+-------+-------+-------+-------+------+-------+-----+--------+--------+-----+-------+-------+-------+-------+-------+--------+------+------+-------+---------------+-----+--------+\n",
      "only showing top 20 rows\n",
      "\n",
      "i94_dec16_sub.sas7bdat\n",
      "root\n",
      " |-- cicid: integer (nullable = true)\n",
      " |-- i94yr: integer (nullable = true)\n",
      " |-- i94mon: integer (nullable = true)\n",
      " |-- i94cit: integer (nullable = true)\n",
      " |-- i94res: integer (nullable = true)\n",
      " |-- i94port: string (nullable = true)\n",
      " |-- arrdate: integer (nullable = true)\n",
      " |-- i94mode: integer (nullable = true)\n",
      " |-- i94addr: string (nullable = true)\n",
      " |-- depdate: integer (nullable = true)\n",
      " |-- i94bir: integer (nullable = true)\n",
      " |-- i94visa: integer (nullable = true)\n",
      " |-- count: integer (nullable = true)\n",
      " |-- dtadfile: string (nullable = true)\n",
      " |-- visapost: string (nullable = true)\n",
      " |-- occup: string (nullable = true)\n",
      " |-- entdepa: string (nullable = true)\n",
      " |-- entdepd: string (nullable = true)\n",
      " |-- entdepu: string (nullable = true)\n",
      " |-- matflag: string (nullable = true)\n",
      " |-- biryear: integer (nullable = true)\n",
      " |-- dtaddto: string (nullable = true)\n",
      " |-- gender: string (nullable = true)\n",
      " |-- insnum: string (nullable = true)\n",
      " |-- airline: string (nullable = true)\n",
      " |-- admnum: double (nullable = true)\n",
      " |-- fltno: string (nullable = true)\n",
      " |-- visatype: string (nullable = true)\n",
      "\n",
      "+-----+-----+------+------+------+-------+-------+-------+-------+-------+------+-------+-----+--------+--------+-----+-------+-------+-------+-------+-------+--------+------+------+-------+---------------+-----+--------+\n",
      "|cicid|i94yr|i94mon|i94cit|i94res|i94port|arrdate|i94mode|i94addr|depdate|i94bir|i94visa|count|dtadfile|visapost|occup|entdepa|entdepd|entdepu|matflag|biryear| dtaddto|gender|insnum|airline|         admnum|fltno|visatype|\n",
      "+-----+-----+------+------+------+-------+-------+-------+-------+-------+------+-------+-----+--------+--------+-----+-------+-------+-------+-------+-------+--------+------+------+-------+---------------+-----+--------+\n",
      "|   46| 2016|    12|   129|   129|    HOU|  20789|      1|     TX|  20802|    46|      1|    1|20161201|     MDD| null|      H|      O|   null|      M|   1970|05262018|     M|  null|     RS| 9.755413803E10| 7715|      E2|\n",
      "|   56| 2016|    12|   245|   245|    NEW|  20789|      1|     OH|  20835|    28|      3|    1|20161201|     BEJ| null|      U|      O|   null|      M|   1988|     D/S|     F|  null|     CA| 9.062371823E10|  819|      F1|\n",
      "|   67| 2016|    12|   512|   512|    PEV|  20789|      2|     MD|  20794|    48|      2|    1|20161201|     NAS| null|      A|      D|   null|      M|   1968|06012017|     M|  5920|   null|8.0105031527E10| null|      B2|\n",
      "|   68| 2016|    12|   512|   512|    PEV|  20789|      2|     FL|  20792|    46|      2|    1|20161201|     NAS| null|      A|      D|   null|      M|   1970|06012017|     F|  5920|   null|8.0105106727E10| null|      B2|\n",
      "|   69| 2016|    12|   512|   512|    PEV|  20789|      2|     HI|  20792|    48|      2|    1|20161201|     NAS| null|      A|      D|   null|      M|   1968|06012017|     M|  5920|   null|8.0105107627E10| null|      B2|\n",
      "|   70| 2016|    12|   512|   512|    PEV|  20789|      2|     FL|  20792|     9|      2|    1|20161201|     NAS| null|      A|      D|   null|      M|   2007|06012017|     F|  5920|   null|8.0105108527E10| null|      B2|\n",
      "|   71| 2016|    12|   512|   512|    PEV|  20789|      2|     VA|  20792|    34|      2|    1|20161201|     NAS| null|      A|      D|   null|      M|   1982|06012017|     F|  5920|   null|8.0105152527E10| null|      B2|\n",
      "|   72| 2016|    12|   512|   512|    PEV|  20789|      2|     NY|  20792|    69|      2|    1|20161201|     NAS| null|      A|      D|   null|      M|   1947|06012017|     F|  5920|   null|8.0105153427E10| null|      B2|\n",
      "|   73| 2016|    12|   512|   512|    PEV|  20789|      2|     NY|  20794|    66|      2|    1|20161201|     NAS| null|      A|      D|   null|      M|   1950|06012017|     F|  5920|   null|8.0105155227E10| null|      B2|\n",
      "|   74| 2016|    12|   512|   512|    XXX|  20789|      2|     DC|  20794|    56|      2|    1|20161201|     NAS| null|      A|      D|   null|      M|   1960|06012017|     M|  null|   null|8.0105156127E10| null|      B2|\n",
      "|   75| 2016|    12|   512|   512|    PEV|  20789|      2|     VA|  20794|     6|      2|    1|20161201|     NAS| null|      A|      D|   null|      M|   2010|06012017|     M|  5920|   null|8.0105189127E10| null|      B2|\n",
      "|   76| 2016|    12|   512|   512|    PEV|  20789|      2|     VA|  20794|    38|      2|    1|20161201|     NAS| null|      A|      D|   null|      M|   1978|06012017|     U|  5920|   null|8.0105190027E10| null|      B2|\n",
      "|   77| 2016|    12|   512|   512|    PEV|  20789|      9|     NY|  20794|    40|      2|    1|20161201|     NAS| null|      A|      D|   null|      M|   1976|06012017|     M|  5920|   null|8.0105191027E10| null|      B2|\n",
      "|   78| 2016|    12|   512|   512|    PEV|  20789|      9|     FL|  20792|    28|      2|    1|20161201|    null| null|      A|      D|   null|      M|   1988|06012017|     F|  5920|   null|8.0105217627E10| null|      B2|\n",
      "|  106| 2016|    12|   104|   104|    CHM|  20789|      9|     NJ|   null|    26|      2|    1|20161201|    null| null|      A|   null|   null|   null|   1990|02282017|     F|  5319|   null|8.6530066528E10| null|      WT|\n",
      "|  107| 2016|    12|   104|   104|    CHM|  20789|      9|     NJ|   null|    26|      2|    1|20161201|    null| null|      A|   null|   null|   null|   1990|02282017|     M|  5319|   null|8.6530067428E10| null|      WT|\n",
      "|  108| 2016|    12|   148|   112|    CHM|  20789|      9|     FL|   null|    26|      2|    1|20161201|    null| null|      A|      W|   null|      M|   1990|02282017|     F|  5319|   null|8.6530068328E10| null|      WT|\n",
      "|  159| 2016|    12|   135|   135|    HOU|  20789|      2|     TX|  20907|    65|      1|    1|20161201|     LND| null|      U|      O|   null|      M|   1951|03312018|     M|  null|    G1A| 9.247095473E10|7291A|      E2|\n",
      "|  166| 2016|    12|   512|   512|    PEV|  20789|      2|     FL|  20792|    37|      2|    1|20161201|     NAS| null|      A|      D|   null|      M|   1979|06012017|     F|  5920|   null|8.0105219427E10| null|      B2|\n",
      "|  167| 2016|    12|   512|   512|    PEV|  20789|      9|     HI|  20792|    24|      2|    1|20161201|     NAS| null|      A|      D|   null|      M|   1992|06012017|     F|  5742|   null|8.0105284527E10| null|      B2|\n",
      "+-----+-----+------+------+------+-------+-------+-------+-------+-------+------+-------+-----+--------+--------+-----+-------+-------+-------+-------+-------+--------+------+------+-------+---------------+-----+--------+\n",
      "only showing top 20 rows\n",
      "\n"
     ]
    }
   ],
   "source": [
    "# Examine i94 data\n",
    "columns_to_drop = ['validres', 'delete_days', 'delete_mexl', 'delete_dup', 'delete_visa', 'delete_recdup']\n",
    "df_i94s = OrderedDict() \n",
    "for f in i94_fnames:\n",
    "    fname = os.path.basename(f)\n",
    "    print(fname)\n",
    "    if \"jun\" in fname: \n",
    "        d = spark.read.schema(CustomI94JunSchema).format('com.github.saurfang.sas.spark').load(f)\n",
    "        d = d.drop(*columns_to_drop)\n",
    "    else:\n",
    "        d = spark.read.schema(CustomI94Schema).format('com.github.saurfang.sas.spark').load(f)\n",
    "#     d = d.dropna(subset=[\"cicid\", \"arrdate\", \"i94addr\"]).dropDuplicates()\n",
    "    df_i94s[fname] = d\n",
    "    d.printSchema()\n",
    "    d.show()"
   ]
  },
  {
   "cell_type": "code",
   "execution_count": 59,
   "metadata": {
    "editable": true
   },
   "outputs": [
    {
     "name": "stdout",
     "output_type": "stream",
     "text": [
      "12\n",
      "root\n",
      " |-- cicid: integer (nullable = true)\n",
      " |-- i94yr: integer (nullable = true)\n",
      " |-- i94mon: integer (nullable = true)\n",
      " |-- i94cit: integer (nullable = true)\n",
      " |-- i94res: integer (nullable = true)\n",
      " |-- i94port: string (nullable = true)\n",
      " |-- arrdate: integer (nullable = true)\n",
      " |-- i94mode: integer (nullable = true)\n",
      " |-- i94addr: string (nullable = true)\n",
      " |-- depdate: integer (nullable = true)\n",
      " |-- i94bir: integer (nullable = true)\n",
      " |-- i94visa: integer (nullable = true)\n",
      " |-- count: integer (nullable = true)\n",
      " |-- dtadfile: string (nullable = true)\n",
      " |-- visapost: string (nullable = true)\n",
      " |-- occup: string (nullable = true)\n",
      " |-- entdepa: string (nullable = true)\n",
      " |-- entdepd: string (nullable = true)\n",
      " |-- entdepu: string (nullable = true)\n",
      " |-- matflag: string (nullable = true)\n",
      " |-- biryear: integer (nullable = true)\n",
      " |-- dtaddto: string (nullable = true)\n",
      " |-- gender: string (nullable = true)\n",
      " |-- insnum: string (nullable = true)\n",
      " |-- airline: string (nullable = true)\n",
      " |-- admnum: double (nullable = true)\n",
      " |-- fltno: string (nullable = true)\n",
      " |-- visatype: string (nullable = true)\n",
      "\n"
     ]
    }
   ],
   "source": [
    "# sample 1% of each month of i94, since origin size of sas is around 500MB.\n",
    "sample_rate = 0.01\n",
    "df_i94s_sample = {}\n",
    "for k, v in df_i94s.items():\n",
    "    df_i94s_sample[k] = v.sample(sample_rate)\n",
    "    \n",
    "from functools import reduce\n",
    "print(len(df_i94s_sample.values()))\n",
    "df_i94s_sample_unionall = reduce(DataFrame.unionAll, df_i94s_sample.values())\n",
    "\n",
    "df_i94s_sample_unionall.printSchema()"
   ]
  },
  {
   "cell_type": "code",
   "execution_count": 60,
   "metadata": {
    "editable": true
   },
   "outputs": [],
   "source": [
    "# df_i94s_sample_unionall.write.mode('overwrite').parquet(path='i94_sample.parquet')"
   ]
  },
  {
   "cell_type": "code",
   "execution_count": 61,
   "metadata": {},
   "outputs": [
    {
     "name": "stdout",
     "output_type": "stream",
     "text": [
      "CPU times: user 3.32 ms, sys: 0 ns, total: 3.32 ms\n",
      "Wall time: 439 ms\n"
     ]
    },
    {
     "data": {
      "text/plain": [
       "3096313"
      ]
     },
     "execution_count": 61,
     "metadata": {},
     "output_type": "execute_result"
    }
   ],
   "source": [
    "%%time\n",
    "df_sas = spark.read.parquet('sas_data/')\n",
    "df_sas.count()"
   ]
  },
  {
   "cell_type": "code",
   "execution_count": 62,
   "metadata": {},
   "outputs": [
    {
     "name": "stdout",
     "output_type": "stream",
     "text": [
      "root\n",
      " |-- cicid: integer (nullable = true)\n",
      " |-- i94yr: integer (nullable = true)\n",
      " |-- i94mon: integer (nullable = true)\n",
      " |-- i94cit: integer (nullable = true)\n",
      " |-- i94res: integer (nullable = true)\n",
      " |-- i94port: string (nullable = true)\n",
      " |-- arrdate: integer (nullable = true)\n",
      " |-- i94addr: string (nullable = true)\n",
      " |-- depdate: integer (nullable = true)\n",
      " |-- i94visa: integer (nullable = true)\n",
      " |-- biryear: integer (nullable = true)\n",
      " |-- gender: string (nullable = true)\n",
      " |-- airline: string (nullable = true)\n",
      " |-- visatype: string (nullable = true)\n",
      "\n",
      "+-------+-----+------+------+------+-------+-------+-------+-------+-------+-------+------+-------+--------+\n",
      "|  cicid|i94yr|i94mon|i94cit|i94res|i94port|arrdate|i94addr|depdate|i94visa|biryear|gender|airline|visatype|\n",
      "+-------+-----+------+------+------+-------+-------+-------+-------+-------+-------+------+-------+--------+\n",
      "|   5364| 2016|     1|   113|   113|    NEW|  20468|     PA|  20544|      2|   1964|     M|     LH|      WT|\n",
      "|  10569| 2016|     1|   126|   126|    LOS|  20460|     WA|   null|      3|   1995|     M|     CX|      F1|\n",
      "|  52127| 2016|     1|   245|   245|    SFR|  20457|     CO|   null|      3|   2000|     F|     CZ|      F1|\n",
      "|  98895| 2016|     1|   519|   519|    CHR|  20475|     VQ|   null|      2|   1985|     F|     DQ|      B2|\n",
      "| 143163| 2016|     1|   691|   691|    ORL|  20456|     FL|  20470|      2|   1963|     M|     B6|      B2|\n",
      "| 174932| 2016|     1|   135|   135|    TAM|  20454|     FL|  20543|      2|   1943|  null|     BA|      WT|\n",
      "| 177852| 2016|     1|   140|   140|    TAM|  20454|     FL|  20468|      2|   1996|     F|     WK|      WT|\n",
      "| 189113| 2016|     1|   209|   209|    NYC|  20454|     NY|  20456|      2|   1987|     M|     NH|      WT|\n",
      "| 212411| 2016|     1|   266|   266|    DAL|  20454|     MA|  20460|      2|   1972|     F|     JL|      B2|\n",
      "| 392652| 2016|     1|   438|   438|    ORL|  20455|     FL|  20463|      2|   1986|     F|     RV|      WT|\n",
      "| 452701| 2016|     1|   582|   582|    FTL|  20455|     FL|  20464|      2|   1962|     M|     Y4|      B2|\n",
      "| 555061| 2016|     1|   209|   209|    HHW|  20456|     HI|  20461|      2|   2001|     M|     JL|      WT|\n",
      "| 591169| 2016|     1|   438|   438|    NEW|  20456|     NY|  20461|      2|   2013|     M|     AC|      WT|\n",
      "| 714755| 2016|     1|   113|   113|    CHI|  20457|     WI|   null|      1|   1966|     M|     UA|      E1|\n",
      "| 888225| 2016|     1|   687|   687|    MIA|  20457|     FL|  20459|      1|   1972|     M|     AA|      B1|\n",
      "| 892694| 2016|     1|   689|   689|    MIA|  20457|     FL|  20467|      2|   1952|     F|     AA|      B2|\n",
      "| 957357| 2016|     1|   245|   245|    CHI|  20458|     MO|   null|      3|   1997|     M|     UA|      F1|\n",
      "| 970141| 2016|     1|   268|   268|    LOS|  20458|     NV|  20462|      1|   1964|     M|     BR|      WB|\n",
      "|1153305| 2016|     1|   261|   261|    CIN|  20459|     OH|  20475|      2|   2003|     M|     DL|      B2|\n",
      "|1216544| 2016|     1|   582|   582|    NEW|  20459|     NJ|  20462|      1|   1949|     M|     UA|      B1|\n",
      "+-------+-----+------+------+------+-------+-------+-------+-------+-------+-------+------+-------+--------+\n",
      "only showing top 20 rows\n",
      "\n",
      "CPU times: user 207 ms, sys: 51.7 ms, total: 259 ms\n",
      "Wall time: 4min 38s\n"
     ]
    }
   ],
   "source": [
    "%%time\n",
    "# df_imm = spark.read.parquet('i94_sample.parquet/')\n",
    "df_imm = df_i94s_sample_unionall.dropna(subset=[\"cicid\", \"arrdate\", \"i94addr\"]).dropDuplicates()\n",
    "df_imm = df_imm.filter( df_imm.i94cit.isin(list(meta_i94['I94CIT'].keys())) )\n",
    "df_imm = df_imm.filter( df_imm.i94res.isin(list(meta_i94['I94CIT'].keys())) )\n",
    "# extract valid i94 data\n",
    "drop_columns = ['i94mode', 'i94bir', 'count', 'dtadfile', 'visapost', 'occup', 'entdepa', 'entdepd', 'entdepu', 'matflag', 'dtaddto', 'insnum', 'admnum', 'fltno']\n",
    "df_imm = df_imm.drop(*drop_columns)\n",
    "df_imm.printSchema()\n",
    "df_imm.show()\n",
    "# print(df_imm.coun())"
   ]
  },
  {
   "cell_type": "code",
   "execution_count": 63,
   "metadata": {},
   "outputs": [],
   "source": [
    "# write valid i94 into parquet for Spark\n",
    "df_imm.write.partitionBy(\"i94mon\", \"i94addr\").mode('overwrite').parquet(path='i94_valid.parquet')\n",
    "# df_imm.write.mode('overwrite').parquet(path='i94_valid.parquet')"
   ]
  },
  {
   "cell_type": "code",
   "execution_count": 64,
   "metadata": {},
   "outputs": [
    {
     "name": "stdout",
     "output_type": "stream",
     "text": [
      "root\n",
      " |-- i94mon: integer (nullable = true)\n",
      " |-- count(1): long (nullable = false)\n",
      "\n",
      "+------+--------+\n",
      "|i94mon|count(1)|\n",
      "+------+--------+\n",
      "|     1|   22896|\n",
      "|     2|   20691|\n",
      "|     3|   26046|\n",
      "|     4|   25957|\n",
      "|     5|   28551|\n",
      "|     6|   29919|\n",
      "|     7|   36362|\n",
      "|     8|   35194|\n",
      "|     9|   31308|\n",
      "|    10|   30747|\n",
      "|    11|   24475|\n",
      "|    12|   29461|\n",
      "+------+--------+\n",
      "\n"
     ]
    },
    {
     "name": "stderr",
     "output_type": "stream",
     "text": [
      "2020-09-30 23:18:01,289 INFO  [etl] total 1% sample parquet rows: 12\n"
     ]
    }
   ],
   "source": [
    "# examine i94_valid\n",
    "df_imm = spark.read.parquet('i94_valid.parquet/')\n",
    "df_imm.createOrReplaceTempView(\"imm\")\n",
    "imm_table = spark.sql(\"\"\"\n",
    "select distinct i94mon, COUNT(*)\n",
    "FROM imm\n",
    "GROUP BY 1\n",
    "ORDER BY 1 asc\n",
    "\"\"\")\n",
    "imm_table.printSchema()\n",
    "imm_table.show()\n",
    "LOG.info(f\"total 1% sample parquet rows: {imm_table.count()}\")"
   ]
  },
  {
   "cell_type": "code",
   "execution_count": 65,
   "metadata": {},
   "outputs": [
    {
     "name": "stdout",
     "output_type": "stream",
     "text": [
      "root\n",
      " |-- cicid: integer (nullable = true)\n",
      " |-- count(1): long (nullable = false)\n",
      "\n",
      "+-------+--------+\n",
      "|  cicid|count(1)|\n",
      "+-------+--------+\n",
      "| 582510|       2|\n",
      "|1545686|       2|\n",
      "|4489884|       2|\n",
      "|2811218|       2|\n",
      "| 227408|       2|\n",
      "|3536367|       2|\n",
      "|  79361|       2|\n",
      "|5060206|       2|\n",
      "|1833539|       2|\n",
      "|2222510|       2|\n",
      "|3297293|       2|\n",
      "|1415143|       2|\n",
      "|2704853|       2|\n",
      "|2938828|       2|\n",
      "| 469028|       2|\n",
      "|5438141|       2|\n",
      "| 998072|       2|\n",
      "|4962308|       2|\n",
      "|2311725|       2|\n",
      "| 171142|       2|\n",
      "+-------+--------+\n",
      "only showing top 20 rows\n",
      "\n"
     ]
    },
    {
     "data": {
      "text/plain": [
       "7580"
      ]
     },
     "execution_count": 65,
     "metadata": {},
     "output_type": "execute_result"
    }
   ],
   "source": [
    "test = spark.sql(\"\"\"\n",
    "select cicid, count(*)\n",
    "from imm\n",
    "group by 1\n",
    "having count(cicid) > 1\n",
    "order by 2\n",
    "\"\"\")\n",
    "test.printSchema()\n",
    "test.show()\n",
    "test.count()"
   ]
  },
  {
   "cell_type": "markdown",
   "metadata": {
    "editable": true
   },
   "source": [
    "## demographics data"
   ]
  },
  {
   "cell_type": "code",
   "execution_count": 50,
   "metadata": {
    "editable": true
   },
   "outputs": [
    {
     "name": "stdout",
     "output_type": "stream",
     "text": [
      "root\n",
      " |-- City: string (nullable = true)\n",
      " |-- State: string (nullable = true)\n",
      " |-- Median_Age: double (nullable = true)\n",
      " |-- Male_Population: integer (nullable = true)\n",
      " |-- Female_Population: integer (nullable = true)\n",
      " |-- Total_Population: integer (nullable = true)\n",
      " |-- Number_Veterans: integer (nullable = true)\n",
      " |-- Foregin_born: integer (nullable = true)\n",
      " |-- Average_Household: double (nullable = true)\n",
      " |-- State_Code: string (nullable = true)\n",
      " |-- Race: string (nullable = true)\n",
      " |-- Count: integer (nullable = true)\n",
      "\n",
      "+----------------+-------------+----------+---------------+-----------------+----------------+---------------+------------+-----------------+----------+--------------------+-----+\n",
      "|            City|        State|Median_Age|Male_Population|Female_Population|Total_Population|Number_Veterans|Foregin_born|Average_Household|State_Code|                Race|Count|\n",
      "+----------------+-------------+----------+---------------+-----------------+----------------+---------------+------------+-----------------+----------+--------------------+-----+\n",
      "|   Silver Spring|     Maryland|      33.8|          40601|            41862|           82463|           1562|       30908|              2.6|        MD|  Hispanic or Latino|25924|\n",
      "|          Quincy|Massachusetts|      41.0|          44129|            49500|           93629|           4147|       32935|             2.39|        MA|               White|58723|\n",
      "|          Hoover|      Alabama|      38.5|          38040|            46799|           84839|           4819|        8229|             2.58|        AL|               Asian| 4759|\n",
      "|Rancho Cucamonga|   California|      34.5|          88127|            87105|          175232|           5821|       33878|             3.18|        CA|Black or African-...|24437|\n",
      "|          Newark|   New Jersey|      34.6|         138040|           143873|          281913|           5829|       86253|             2.73|        NJ|               White|76402|\n",
      "+----------------+-------------+----------+---------------+-----------------+----------------+---------------+------------+-----------------+----------+--------------------+-----+\n",
      "only showing top 5 rows\n",
      "\n"
     ]
    }
   ],
   "source": [
    "custom_demo_schema = R([\n",
    "    Fld(\"City\", Str()),\n",
    "    Fld(\"State\", Str()),\n",
    "    Fld(\"Median_Age\", Dbl()),  \n",
    "    Fld(\"Male_Population\", Int()),\n",
    "    Fld(\"Female_Population\", Int()),\n",
    "    Fld(\"Total_Population\", Int()),\n",
    "    Fld(\"Number_Veterans\", Int()),\n",
    "    Fld(\"Foregin_born\", Int()),\n",
    "    Fld(\"Average_Household\", Dbl()),\n",
    "    Fld(\"State_Code\", Str()),\n",
    "    Fld(\"Race\", Str()),\n",
    "    Fld(\"Count\", Int()),\n",
    "])\n",
    "\n",
    "df_degh = spark.read.schema(custom_demo_schema).options(header='True',sep=';').csv('./us-cities-demographics.csv')\n",
    "df_degh.printSchema()\n",
    "df_degh.show(5)"
   ]
  },
  {
   "cell_type": "markdown",
   "metadata": {
    "editable": true
   },
   "source": [
    "## Checkout airport data"
   ]
  },
  {
   "cell_type": "code",
   "execution_count": 192,
   "metadata": {
    "editable": true
   },
   "outputs": [
    {
     "name": "stdout",
     "output_type": "stream",
     "text": [
      "root\n",
      " |-- type: string (nullable = true)\n",
      " |-- name: string (nullable = true)\n",
      " |-- iso_region: string (nullable = true)\n",
      " |-- iata_code: string (nullable = true)\n",
      " |-- latitude: string (nullable = true)\n",
      " |-- longitude: string (nullable = true)\n",
      "\n",
      "+-------------+--------------------+----------+---------+------------------+-------------------+\n",
      "|         type|                name|iso_region|iata_code|          latitude|          longitude|\n",
      "+-------------+--------------------+----------+---------+------------------+-------------------+\n",
      "|small_airport|Ocean Reef Club A...|     US-FL|      OCA|  -80.274803161621|    25.325399398804|\n",
      "|small_airport|Pilot Station Air...|     US-AK|      PQS|       -162.899994|          61.934601|\n",
      "|small_airport|Crested Butte Air...|     US-CO|      CSE|       -106.928341|          38.851918|\n",
      "|small_airport|   LBJ Ranch Airport|     US-TX|      JCY|-98.62249755859999| 30.251800537100003|\n",
      "|small_airport|Metropolitan Airport|     US-MA|      PMX|-72.31140136719999| 42.223300933800004|\n",
      "+-------------+--------------------+----------+---------+------------------+-------------------+\n",
      "only showing top 5 rows\n",
      "\n"
     ]
    },
    {
     "data": {
      "text/plain": [
       "1865"
      ]
     },
     "execution_count": 192,
     "metadata": {},
     "output_type": "execute_result"
    }
   ],
   "source": [
    "clean_columns = ['ident', 'continent', 'municipality', 'gps_code', 'local_code', 'coord', 'coordinates', 'elevation_ft', 'iso_country']\n",
    "df_air = spark.read.options(header='True',inferSchema='True').csv('./airport-codes_csv.csv')\n",
    "df_air = df_air.filter(df_air.iso_country == 'US') \\\n",
    "                .filter(df_air.type.isin(list([\"small_airport\", \"medium_airport\", \"large_airport\"])))\n",
    "df_air = df_air.dropna(subset=[\"iata_code\"])\n",
    "df_air = df_air.withColumn(\"coord\", F.split(df_air.coordinates, \",\") ) \\\n",
    "                .withColumn(\"latitude\", F.col('coord')[0]) \\\n",
    "                .withColumn(\"longitude\", F.col('coord')[1]) \n",
    "df_air = df_air.drop(*clean_columns)\n",
    "\n",
    "df_air.printSchema()\n",
    "df_air.show(5)\n",
    "df_air.count()"
   ]
  },
  {
   "cell_type": "code",
   "execution_count": 193,
   "metadata": {},
   "outputs": [],
   "source": [
    "df_air.write.mode('overwrite').parquet(path='df_airport.parquet')"
   ]
  },
  {
   "cell_type": "markdown",
   "metadata": {
    "editable": true
   },
   "source": [
    "## Checkout temperature data"
   ]
  },
  {
   "cell_type": "code",
   "execution_count": 236,
   "metadata": {
    "editable": true
   },
   "outputs": [
    {
     "name": "stdout",
     "output_type": "stream",
     "text": [
      "root\n",
      " |-- dt: string (nullable = true)\n",
      " |-- AverageTemperature: double (nullable = true)\n",
      " |-- AverageTemperatureUncertainty: double (nullable = true)\n",
      " |-- City: string (nullable = true)\n",
      " |-- Country: string (nullable = true)\n",
      " |-- Latitude: string (nullable = true)\n",
      " |-- Longitude: string (nullable = true)\n",
      "\n",
      "+----------+------------------+-----------------------------+-------+-------------+--------+---------+\n",
      "|        dt|AverageTemperature|AverageTemperatureUncertainty|   City|      Country|Latitude|Longitude|\n",
      "+----------+------------------+-----------------------------+-------+-------------+--------+---------+\n",
      "|1820-01-01|2.1010000000000004|                        3.217|Abilene|United States|  32.95N|  100.53W|\n",
      "|1820-02-01|             6.926|                        2.853|Abilene|United States|  32.95N|  100.53W|\n",
      "|1820-03-01|            10.767|                        2.395|Abilene|United States|  32.95N|  100.53W|\n",
      "|1820-04-01|17.988999999999994|                        2.202|Abilene|United States|  32.95N|  100.53W|\n",
      "|1820-05-01|            21.809|                        2.036|Abilene|United States|  32.95N|  100.53W|\n",
      "+----------+------------------+-----------------------------+-------+-------------+--------+---------+\n",
      "only showing top 5 rows\n",
      "\n"
     ]
    }
   ],
   "source": [
    "df_tmpt = spark.read.options(header='True', inferSchema='True').csv('./GlobalLandTemperaturesByCity.csv')\n",
    "df_tmpt = df_tmpt.filter(df_tmpt.Country == \"United States\")\n",
    "df_tmpt.printSchema()\n",
    "df_tmpt.show(5)"
   ]
  },
  {
   "cell_type": "code",
   "execution_count": 237,
   "metadata": {
    "editable": true
   },
   "outputs": [],
   "source": [
    "df_tmpt.write.mode('overwrite').parquet(path='temperature_us.parquet')"
   ]
  },
  {
   "cell_type": "code",
   "execution_count": 258,
   "metadata": {
    "editable": true
   },
   "outputs": [
    {
     "name": "stdout",
     "output_type": "stream",
     "text": [
      "root\n",
      " |-- AverageTemperature: double (nullable = true)\n",
      " |-- AverageTemperatureUncertainty: double (nullable = true)\n",
      " |-- City: string (nullable = true)\n",
      " |-- Country: string (nullable = true)\n",
      " |-- Latitude: string (nullable = true)\n",
      " |-- Longitude: string (nullable = true)\n",
      " |-- datetime: date (nullable = true)\n",
      "\n",
      "+------------------+-----------------------------+----+-------+--------+---------+--------+\n",
      "|AverageTemperature|AverageTemperatureUncertainty|City|Country|Latitude|Longitude|datetime|\n",
      "+------------------+-----------------------------+----+-------+--------+---------+--------+\n",
      "+------------------+-----------------------------+----+-------+--------+---------+--------+\n",
      "\n"
     ]
    }
   ],
   "source": [
    "df_temper = spark.read.parquet('./temperature_us.parquet/')\n",
    "df_temper = df_temper.withColumn(\"datetime\", F.col(\"dt\").cast(\"date\")).drop(\"dt\")\n",
    "df_temper = df_temper.filter( df_temper[\"datetime\"] >= F.lit('2016-01-01') )\n",
    "df_temper.printSchema()\n",
    "df_temper.show()"
   ]
  },
  {
   "cell_type": "code",
   "execution_count": null,
   "metadata": {
    "editable": true
   },
   "outputs": [],
   "source": []
  },
  {
   "cell_type": "markdown",
   "metadata": {
    "editable": true
   },
   "source": [
    "# Step 3: Define the Data Model\n",
    "## 3.1 Conceptual Data Model\n",
    "Map out the conceptual data model and explain why you chose that model\n",
    "### dimension table:\n",
    "1. df_i94visa: visa_id (PK), visa_type.\n",
    "2. df_i94port: port_id (PK), city, state.\n",
    "3. df_air: type, name, iso_region, iata_code (PK), latitude, longitude.\n",
    "4. df_i94cit: citres_id (PK), citres.\n",
    "5. df_i94addr: addr_id (PK), state.\n",
    "6. df_demo: State_Code(PK), Median_Age, Male_Population, Female_Population, Total_Population, Number_Veterans, Foregin_born, Average_Household, American_Indian_Alaska_Native, Asian, Black_African_American, Hispanic_Latino, White\n",
    "\n",
    "#### fact table\n",
    "* df_fact: fact_id (PK), cicid, visatype, i94port (FK), state, name, i94cit (FK), i94addr (FK), total_Population, foregin_born, American_Indian_Alaska_Native, Asian, Black_African_American, Hispanic_Latino, White\n",
    "\n",
    "#### 3.2 Mapping Out Data Pipelines\n",
    "List the steps necessary to pipeline the data into the chosen data model\n",
    "![](star.png)"
   ]
  },
  {
   "cell_type": "markdown",
   "metadata": {},
   "source": [
    "## Extract i94 table from dataframe"
   ]
  },
  {
   "cell_type": "code",
   "execution_count": 67,
   "metadata": {},
   "outputs": [
    {
     "name": "stdout",
     "output_type": "stream",
     "text": [
      "root\n",
      " |-- cicid: integer (nullable = true)\n",
      " |-- i94yr: integer (nullable = true)\n",
      " |-- i94cit: integer (nullable = true)\n",
      " |-- i94res: integer (nullable = true)\n",
      " |-- i94port: string (nullable = true)\n",
      " |-- arrdate: integer (nullable = true)\n",
      " |-- depdate: integer (nullable = true)\n",
      " |-- i94visa: integer (nullable = true)\n",
      " |-- biryear: integer (nullable = true)\n",
      " |-- gender: string (nullable = true)\n",
      " |-- airline: string (nullable = true)\n",
      " |-- visatype: string (nullable = true)\n",
      " |-- i94mon: integer (nullable = true)\n",
      " |-- i94addr: string (nullable = true)\n",
      "\n",
      "+-------+-----+------+------+-------+-------+-------+-------+-------+------+-------+--------+------+-------+\n",
      "|  cicid|i94yr|i94cit|i94res|i94port|arrdate|depdate|i94visa|biryear|gender|airline|visatype|i94mon|i94addr|\n",
      "+-------+-----+------+------+-------+-------+-------+-------+-------+------+-------+--------+------+-------+\n",
      "| 113995| 2016|   691|   691|    MIA|  20789|  20797|      2|   1981|     M|     AV|      B2|    12|     FL|\n",
      "| 133055| 2016|   689|   689|    MIA|  20789|   null|      2|   1975|     M|     AA|      B2|    12|     FL|\n",
      "| 183803| 2016|   687|   687|    MIA|  20789|  20791|      2|   1969|     F|     AA|      B2|    12|     FL|\n",
      "| 261301| 2016|   129|   129|    MIA|  20790|  20798|      2|   1978|     F|     AA|      WT|    12|     FL|\n",
      "| 310182| 2016|   584|   584|    MIA|  20790|  20824|      2|   1948|     F|     AA|      B2|    12|     FL|\n",
      "| 572346| 2016|   104|   104|    MIA|  20791|  20792|      2|   1958|     M|     LH|      WT|    12|     FL|\n",
      "| 950063| 2016|   691|   691|    MIA|  20793|  20806|      2|   1970|     F|     AA|      B2|    12|     FL|\n",
      "|1129870| 2016|   687|   687|    MIA|  20794|  20802|      2|   1962|     M|     AR|      B2|    12|     FL|\n",
      "|1136214| 2016|   687|   687|    MIA|  20794|  20805|      2|   1974|     F|     AA|      B2|    12|     FL|\n",
      "|1549068| 2016|   582|   582|    MIA|  20796|  20800|      2|   1986|     F|     4O|      B2|    12|     FL|\n",
      "|1858354| 2016|   687|   687|    MIA|  20798|  20821|      2|   1979|     F|     4M|      B2|    12|     FL|\n",
      "|1918409| 2016|   245|   245|    ORL|  20798|  20804|      2|   1954|     F|     WS|      B2|    12|     FL|\n",
      "|2032964| 2016|   135|   135|    NEW|  20799|  20821|      2|   2012|     F|     UA|      WT|    12|     FL|\n",
      "|2081410| 2016|   213|   213|    NYC|  20799|  20851|      2|   1955|     M|     EY|      B2|    12|     FL|\n",
      "|2100738| 2016|   528|   528|    MIA|  20799|  20840|      2|   1994|     F|     AA|      B2|    12|     FL|\n",
      "|2126190| 2016|   129|   129|    MIA|  20799|  20803|      1|   1975|     M|     AA|      WB|    12|     FL|\n",
      "|2327678| 2016|   691|   691|    MIA|  20800|  20815|      2|   1996|     M|     AV|      B2|    12|     FL|\n",
      "|2489132| 2016|   131|   131|    MIA|  20801|  20802|      2|   1987|     F|     AA|      WT|    12|     FL|\n",
      "|2616792| 2016|   689|   689|    MIA|  20802|  20817|      2|   1972|     M|     AA|      B2|    12|     FL|\n",
      "|2723261| 2016|   575|   575|    MIA|  20802|  20805|      1|   1969|     M|     AA|      B1|    12|     FL|\n",
      "+-------+-----+------+------+-------+-------+-------+-------+-------+------+-------+--------+------+-------+\n",
      "only showing top 20 rows\n",
      "\n",
      "CPU times: user 6.38 ms, sys: 497 µs, total: 6.87 ms\n",
      "Wall time: 6.52 s\n"
     ]
    }
   ],
   "source": [
    "%%time\n",
    "df_i94 = spark.read.parquet('i94_valid.parquet/')\n",
    "# df_i94 = df_i94.filter( df_i94.i94cit.isin(set(meta_i94['I94CIT'].keys())) )\n",
    "# df_i94 = df_i94.filter( df_i94.i94res.isin(set(meta_i94['I94CIT'].keys())) )\n",
    "df_i94.printSchema()\n",
    "df_i94.show()"
   ]
  },
  {
   "cell_type": "markdown",
   "metadata": {},
   "source": [
    "# Create i94 staging table"
   ]
  },
  {
   "cell_type": "code",
   "execution_count": 68,
   "metadata": {},
   "outputs": [
    {
     "name": "stdout",
     "output_type": "stream",
     "text": [
      "root\n",
      " |-- cid: integer (nullable = true)\n",
      " |-- i94yr: integer (nullable = true)\n",
      " |-- i94mon: integer (nullable = true)\n",
      " |-- i94day: integer (nullable = true)\n",
      " |-- i94cit: integer (nullable = true)\n",
      " |-- i94res: integer (nullable = true)\n",
      " |-- i94port: string (nullable = true)\n",
      " |-- i94addr: string (nullable = true)\n",
      " |-- i94visa: integer (nullable = true)\n",
      " |-- biryear: integer (nullable = true)\n",
      " |-- gender: string (nullable = true)\n",
      " |-- airline: string (nullable = true)\n",
      " |-- visatype: string (nullable = true)\n",
      " |-- arrdate: date (nullable = true)\n",
      " |-- depdate: date (nullable = true)\n",
      "\n",
      "+-------+-----+------+------+------+------+-------+-------+-------+-------+------+-------+--------+----------+----------+\n",
      "|    cid|i94yr|i94mon|i94day|i94cit|i94res|i94port|i94addr|i94visa|biryear|gender|airline|visatype|   arrdate|   depdate|\n",
      "+-------+-----+------+------+------+------+-------+-------+-------+-------+------+-------+--------+----------+----------+\n",
      "|1659514| 2016|     7|     8|   101|   101|    NEW|     NJ|      2|   1931|     F|     UA|      B2|2016-07-08|2016-10-05|\n",
      "| 304799| 2016|    12|     2|   101|   101|    CHI|     IL|      2|   1937|     M|     OS|      B2|2016-12-02|2017-02-02|\n",
      "|2039127| 2016|     6|    11|   101|   101|    NEW|     NJ|      2|   1957|     M|     OS|      B2|2016-06-11|2016-07-25|\n",
      "|1003655| 2016|     5|     6|   101|   101|    NYC|     NY|      2|   1964|  null|     TK|      B2|2016-05-06|2016-05-07|\n",
      "|4356013| 2016|     2|    25|   101|   101|    NYC|     NY|      2|   1954|     M|     TK|      B2|2016-02-25|2016-05-20|\n",
      "|1784547| 2016|    11|    10|   101|   101|    NYC|     NY|      1|   1962|  null|     TK|      B1|2016-11-10|2016-11-11|\n",
      "|4398724| 2016|    11|    23|   101|   101|    NEW|     WA|      2|   2009|     M|     OS|      B2|2016-11-23|2016-12-03|\n",
      "|6755925| 2016|    12|    29|   101|   101|    CHI|     MI|      2|   1979|     M|     TK|      B2|2016-12-29|2017-01-27|\n",
      "|4250371| 2016|     4|    23|   101|   101|    NYC|     CT|      2|   1964|  null|     AZ|      B2|2016-04-23|2016-05-10|\n",
      "|2039105| 2016|     6|    11|   101|   101|    TAM|     FL|      2|   1971|  null|     BA|      B2|2016-06-11|2016-09-13|\n",
      "|1168207| 2016|    10|     6|   101|   101|    NYC|     NY|      2|   1983|  null|     DL|      B2|2016-10-06|2016-10-12|\n",
      "|5405840| 2016|    11|    28|   101|   101|    NYC|     NY|      2|   1961|     F|     AZ|      B2|2016-11-28|2017-02-04|\n",
      "|2667823| 2016|     6|    14|   101|   101|    WAS|     FL|      2|   1968|     M|     OS|      B2|2016-06-14|2016-07-03|\n",
      "|5852487| 2016|     8|    25|   101|   101|    NYC|     NY|      3|   1995|     M|     JU|      F1|2016-08-25|      null|\n",
      "|6273342| 2016|     3|    31|   101|   118|    MIA|     VA|      2|   1948|     M|     AA|      B2|2016-03-31|2016-04-03|\n",
      "|1422655| 2016|     6|     8|   101|   101|    NYC|     CT|      2|   2014|  null|     KL|      B2|2016-06-08|2016-06-22|\n",
      "|3700564| 2016|     6|    19|   101|   101|    NYC|     CT|      2|   1983|     F|     AZ|      B2|2016-06-19|2016-07-03|\n",
      "|4273227| 2016|     1|    23|   101|   101|    BOS|     MA|      3|   1994|     F|     TK|      F1|2016-01-23|2016-03-09|\n",
      "|3747112| 2016|    12|    18|   101|   101|    NEW|     NJ|      2|   1969|     M|     OS|      B2|2016-12-18|2017-01-04|\n",
      "|4273226| 2016|     1|    23|   101|   101|    BOS|     MA|      3|   1996|     M|     TK|      F1|2016-01-23|      null|\n",
      "+-------+-----+------+------+------+------+-------+-------+-------+-------+------+-------+--------+----------+----------+\n",
      "only showing top 20 rows\n",
      "\n"
     ]
    }
   ],
   "source": [
    "df_i94.createOrReplaceTempView(\"i94\")\n",
    "i94_stage = spark.sql(\"\"\"\n",
    "SELECT \n",
    "    distinct cicid as cid,\n",
    "    i94yr,\n",
    "    i94mon,\n",
    "    EXTRACT(DAY FROM date_add('1960-01-01',arrdate) ) as i94day,\n",
    "    i94cit,\n",
    "    i94res,\n",
    "    i94port,\n",
    "    i94addr,\n",
    "    i94visa,\n",
    "    biryear,\n",
    "    gender,\n",
    "    airline,\n",
    "    visatype,\n",
    "    date_add('1960-01-01',arrdate) as arrdate,\n",
    "    date_add('1960-01-01',depdate) as depdate\n",
    "FROM i94\n",
    "order by i94cit asc\n",
    "\"\"\")\n",
    "i94_stage.printSchema()\n",
    "i94_stage.show()"
   ]
  },
  {
   "cell_type": "markdown",
   "metadata": {},
   "source": [
    "# Create airport dim table"
   ]
  },
  {
   "cell_type": "code",
   "execution_count": 21,
   "metadata": {},
   "outputs": [
    {
     "data": {
      "text/plain": [
       "dict_keys(['I94CIT', 'I94PORT', 'I94MODE', 'I94VISA', 'I94ADDR'])"
      ]
     },
     "execution_count": 21,
     "metadata": {},
     "output_type": "execute_result"
    }
   ],
   "source": [
    "meta_i94.keys()"
   ]
  },
  {
   "cell_type": "code",
   "execution_count": 23,
   "metadata": {},
   "outputs": [
    {
     "name": "stdout",
     "output_type": "stream",
     "text": [
      "root\n",
      " |-- id: string (nullable = true)\n",
      " |-- airport: string (nullable = true)\n",
      "\n",
      "+---+--------------------+\n",
      "| id|             airport|\n",
      "+---+--------------------+\n",
      "|ALC|           ALCAN, AK|\n",
      "|ANC|       ANCHORAGE, AK|\n",
      "|BAR|BAKER AAF - BAKER...|\n",
      "|DAC|   DALTONS CACHE, AK|\n",
      "|PIZ|DEW STATION PT LA...|\n",
      "|DTH|    DUTCH HARBOR, AK|\n",
      "|EGL|           EAGLE, AK|\n",
      "|FRB|       FAIRBANKS, AK|\n",
      "|HOM|           HOMER, AK|\n",
      "|HYD|           HYDER, AK|\n",
      "|JUN|          JUNEAU, AK|\n",
      "|5KE|       KETCHIKAN, AK|\n",
      "|KET|       KETCHIKAN, AK|\n",
      "|MOS|MOSES POINT INTER...|\n",
      "|NIK|         NIKISKI, AK|\n",
      "|NOM|             NOM, AK|\n",
      "|PKC|     POKER CREEK, AK|\n",
      "|ORI|  PORT LIONS SPB, AK|\n",
      "|SKA|         SKAGWAY, AK|\n",
      "|SNP| ST. PAUL ISLAND, AK|\n",
      "+---+--------------------+\n",
      "only showing top 20 rows\n",
      "\n"
     ]
    }
   ],
   "source": [
    "i94port = meta_i94['I94PORT']\n",
    "pddf = pd.DataFrame(i94port.items(), columns=[\"id\", \"airport\"])\n",
    "df_i94port = spark.createDataFrame(pddf)\n",
    "df_i94port.printSchema()\n",
    "df_i94port.show()"
   ]
  },
  {
   "cell_type": "code",
   "execution_count": 118,
   "metadata": {},
   "outputs": [
    {
     "data": {
      "text/plain": [
       "dict_keys(['AL', 'AK', 'AZ', 'AR', 'CA', 'CO', 'CT', 'DE', 'DC', 'FL', 'GA', 'GU', 'HI', 'ID', 'IL', 'IN', 'IA', 'KS', 'KY', 'LA', 'ME', 'MD', 'MA', 'MI', 'MN', 'MS', 'MO', 'MT', 'NC', 'ND', 'NE', 'NV', 'NH', 'NJ', 'NM', 'NY', 'OH', 'OK', 'OR', 'PA', 'PR', 'RI', 'SC', 'SD', 'TN', 'TX', 'UT', 'VT', 'VI', 'VA', 'WV', 'WA', 'WI', 'WY', '99'])"
      ]
     },
     "execution_count": 118,
     "metadata": {},
     "output_type": "execute_result"
    }
   ],
   "source": [
    "meta_i94['I94ADDR'].keys()"
   ]
  },
  {
   "cell_type": "code",
   "execution_count": 154,
   "metadata": {},
   "outputs": [
    {
     "name": "stdout",
     "output_type": "stream",
     "text": [
      "588\n",
      "root\n",
      " |-- port_id: string (nullable = true)\n",
      " |-- city: string (nullable = true)\n",
      " |-- state: string (nullable = true)\n",
      "\n",
      "+-------+--------------------+-----+\n",
      "|port_id|                city|state|\n",
      "+-------+--------------------+-----+\n",
      "|    ALC|               ALCAN|   AK|\n",
      "|    ANC|           ANCHORAGE|   AK|\n",
      "|    BAR|BAKER AAF - BAKER...|   AK|\n",
      "|    DAC|       DALTONS CACHE|   AK|\n",
      "|    PIZ|DEW STATION PT LA...|   AK|\n",
      "|    DTH|        DUTCH HARBOR|   AK|\n",
      "|    EGL|               EAGLE|   AK|\n",
      "|    FRB|           FAIRBANKS|   AK|\n",
      "|    HOM|               HOMER|   AK|\n",
      "|    HYD|               HYDER|   AK|\n",
      "|    JUN|              JUNEAU|   AK|\n",
      "|    5KE|           KETCHIKAN|   AK|\n",
      "|    KET|           KETCHIKAN|   AK|\n",
      "|    MOS|MOSES POINT INTER...|   AK|\n",
      "|    NIK|             NIKISKI|   AK|\n",
      "|    NOM|                 NOM|   AK|\n",
      "|    PKC|         POKER CREEK|   AK|\n",
      "|    ORI|      PORT LIONS SPB|   AK|\n",
      "|    SKA|             SKAGWAY|   AK|\n",
      "|    SNP|     ST. PAUL ISLAND|   AK|\n",
      "+-------+--------------------+-----+\n",
      "only showing top 20 rows\n",
      "\n"
     ]
    }
   ],
   "source": [
    "i94port = meta_i94['I94PORT']\n",
    "pddf = pd.DataFrame(i94port.items(), columns=[\"port_id\", \"location\"])\n",
    "df_i94port = spark.createDataFrame(pddf)\n",
    "df_i94port = df_i94port.withColumn(\"loc\", F.split(F.col('location'), \",\") ) \\\n",
    "                .withColumn(\"city\", F.trim( F.col('loc')[0]) ) \\\n",
    "                .withColumn(\"state\", F.trim( F.col('loc')[1]) ) \\\n",
    "                .drop(\"loc\").drop('location')\n",
    "print(df_i94port.count())\n",
    "df_i94port.printSchema()\n",
    "df_i94port.show()"
   ]
  },
  {
   "cell_type": "code",
   "execution_count": 155,
   "metadata": {},
   "outputs": [
    {
     "name": "stdout",
     "output_type": "stream",
     "text": [
      "root\n",
      " |-- port_id: string (nullable = true)\n",
      " |-- city: string (nullable = true)\n",
      " |-- state: string (nullable = true)\n",
      "\n",
      "+-------+--------------------+-----+\n",
      "|port_id|                city|state|\n",
      "+-------+--------------------+-----+\n",
      "|    ALC|               ALCAN|   AK|\n",
      "|    ANC|           ANCHORAGE|   AK|\n",
      "|    BAR|BAKER AAF - BAKER...|   AK|\n",
      "|    DAC|       DALTONS CACHE|   AK|\n",
      "|    PIZ|DEW STATION PT LA...|   AK|\n",
      "|    DTH|        DUTCH HARBOR|   AK|\n",
      "|    EGL|               EAGLE|   AK|\n",
      "|    FRB|           FAIRBANKS|   AK|\n",
      "|    HOM|               HOMER|   AK|\n",
      "|    HYD|               HYDER|   AK|\n",
      "|    JUN|              JUNEAU|   AK|\n",
      "|    5KE|           KETCHIKAN|   AK|\n",
      "|    KET|           KETCHIKAN|   AK|\n",
      "|    MOS|MOSES POINT INTER...|   AK|\n",
      "|    NIK|             NIKISKI|   AK|\n",
      "|    NOM|                 NOM|   AK|\n",
      "|    PKC|         POKER CREEK|   AK|\n",
      "|    ORI|      PORT LIONS SPB|   AK|\n",
      "|    SKA|             SKAGWAY|   AK|\n",
      "|    SNP|     ST. PAUL ISLAND|   AK|\n",
      "+-------+--------------------+-----+\n",
      "only showing top 20 rows\n",
      "\n"
     ]
    }
   ],
   "source": [
    "df_i94port = df_i94port.filter( F.col('state').isin(list(meta_i94['I94ADDR'].keys())) ) #  F.length(F.col('state')) == 2 \n",
    "df_i94port.printSchema()\n",
    "df_i94port.show()"
   ]
  },
  {
   "cell_type": "code",
   "execution_count": 156,
   "metadata": {},
   "outputs": [],
   "source": [
    "df_i94port.write.mode('overwrite').parquet(path='df_i94port.parquet')"
   ]
  },
  {
   "cell_type": "markdown",
   "metadata": {},
   "source": [
    "# Create Visa table for 1,2,3"
   ]
  },
  {
   "cell_type": "code",
   "execution_count": 41,
   "metadata": {},
   "outputs": [
    {
     "name": "stdout",
     "output_type": "stream",
     "text": [
      "{1: 'BUSINESS', 2: 'PLEASURE', 3: 'STUDENT'}\n"
     ]
    }
   ],
   "source": [
    "visa = meta_i94['I94VISA']\n",
    "print(visa)"
   ]
  },
  {
   "cell_type": "code",
   "execution_count": 42,
   "metadata": {},
   "outputs": [
    {
     "name": "stdout",
     "output_type": "stream",
     "text": [
      "root\n",
      " |-- visa_id: long (nullable = true)\n",
      " |-- visa_type: string (nullable = true)\n",
      "\n",
      "+-------+---------+\n",
      "|visa_id|visa_type|\n",
      "+-------+---------+\n",
      "|      1| BUSINESS|\n",
      "|      2| PLEASURE|\n",
      "|      3|  STUDENT|\n",
      "+-------+---------+\n",
      "\n"
     ]
    }
   ],
   "source": [
    "pddf = pd.DataFrame(visa.items(), columns=[\"visa_id\", \"visa_type\"])\n",
    "df_i94visa = spark.createDataFrame(pddf)\n",
    "df_i94visa.printSchema()\n",
    "df_i94visa.show()"
   ]
  },
  {
   "cell_type": "code",
   "execution_count": 43,
   "metadata": {},
   "outputs": [],
   "source": [
    "df_i94visa.write.mode('overwrite').parquet(path='df_i94visa.parquet')"
   ]
  },
  {
   "cell_type": "markdown",
   "metadata": {},
   "source": [
    "# Create cit_res dim table"
   ]
  },
  {
   "cell_type": "code",
   "execution_count": 44,
   "metadata": {},
   "outputs": [
    {
     "name": "stdout",
     "output_type": "stream",
     "text": [
      "root\n",
      " |-- citres_id: long (nullable = true)\n",
      " |-- citres: string (nullable = true)\n",
      "\n",
      "+---------+--------------------+\n",
      "|citres_id|              citres|\n",
      "+---------+--------------------+\n",
      "|      582|MEXICO AIR SEA, A...|\n",
      "|      236|         AFGHANISTAN|\n",
      "|      101|             ALBANIA|\n",
      "|      316|             ALGERIA|\n",
      "|      102|             ANDORRA|\n",
      "|      324|              ANGOLA|\n",
      "|      529|            ANGUILLA|\n",
      "|      518|     ANTIGUA-BARBUDA|\n",
      "|      687|           ARGENTINA|\n",
      "|      151|             ARMENIA|\n",
      "|      532|               ARUBA|\n",
      "|      438|           AUSTRALIA|\n",
      "|      103|             AUSTRIA|\n",
      "|      152|          AZERBAIJAN|\n",
      "|      512|             BAHAMAS|\n",
      "|      298|             BAHRAIN|\n",
      "|      274|          BANGLADESH|\n",
      "|      513|            BARBADOS|\n",
      "|      104|             BELGIUM|\n",
      "|      581|              BELIZE|\n",
      "+---------+--------------------+\n",
      "only showing top 20 rows\n",
      "\n"
     ]
    }
   ],
   "source": [
    "cit = meta_i94['I94CIT']\n",
    "pddf = pd.DataFrame(cit.items(), columns=[\"citres_id\", \"citres\"])\n",
    "df_i94cit = spark.createDataFrame(pddf)\n",
    "df_i94cit.printSchema()\n",
    "df_i94cit.show()"
   ]
  },
  {
   "cell_type": "code",
   "execution_count": 45,
   "metadata": {},
   "outputs": [],
   "source": [
    "df_i94cit.write.mode('overwrite').parquet(path='df_i94cit.parquet')"
   ]
  },
  {
   "cell_type": "markdown",
   "metadata": {},
   "source": [
    "# Create addr dim table"
   ]
  },
  {
   "cell_type": "code",
   "execution_count": 47,
   "metadata": {},
   "outputs": [
    {
     "name": "stdout",
     "output_type": "stream",
     "text": [
      "root\n",
      " |-- addr_id: string (nullable = true)\n",
      " |-- state: string (nullable = true)\n",
      "\n",
      "+-------+-----------------+\n",
      "|addr_id|            state|\n",
      "+-------+-----------------+\n",
      "|     AL|          ALABAMA|\n",
      "|     AK|           ALASKA|\n",
      "|     AZ|          ARIZONA|\n",
      "|     AR|         ARKANSAS|\n",
      "|     CA|       CALIFORNIA|\n",
      "|     CO|         COLORADO|\n",
      "|     CT|      CONNECTICUT|\n",
      "|     DE|         DELAWARE|\n",
      "|     DC|DIST. OF COLUMBIA|\n",
      "|     FL|          FLORIDA|\n",
      "|     GA|          GEORGIA|\n",
      "|     GU|             GUAM|\n",
      "|     HI|           HAWAII|\n",
      "|     ID|            IDAHO|\n",
      "|     IL|         ILLINOIS|\n",
      "|     IN|          INDIANA|\n",
      "|     IA|             IOWA|\n",
      "|     KS|           KANSAS|\n",
      "|     KY|         KENTUCKY|\n",
      "|     LA|        LOUISIANA|\n",
      "+-------+-----------------+\n",
      "only showing top 20 rows\n",
      "\n",
      "+-------+----------+\n",
      "|addr_id|     state|\n",
      "+-------+----------+\n",
      "|     CA|CALIFORNIA|\n",
      "+-------+----------+\n",
      "\n"
     ]
    }
   ],
   "source": [
    "meta_i94.keys()\n",
    "addr = meta_i94['I94ADDR']\n",
    "pddf = pd.DataFrame(addr.items(), columns=[\"addr_id\", \"state\"])\n",
    "df_i94addr = spark.createDataFrame(pddf)\n",
    "df_i94addr.printSchema()\n",
    "df_i94addr.show()\n",
    "\n",
    "da_1 = df_i94addr.filter( df_i94addr.addr_id == 'CA')\n",
    "da_1.show()"
   ]
  },
  {
   "cell_type": "code",
   "execution_count": 48,
   "metadata": {},
   "outputs": [],
   "source": [
    "df_i94addr.write.mode('overwrite').parquet(path='df_i94addr.parquet')"
   ]
  },
  {
   "cell_type": "markdown",
   "metadata": {},
   "source": [
    "# Create demopgrahics dim table"
   ]
  },
  {
   "cell_type": "code",
   "execution_count": 86,
   "metadata": {},
   "outputs": [
    {
     "name": "stdout",
     "output_type": "stream",
     "text": [
      "root\n",
      " |-- City: string (nullable = true)\n",
      " |-- State: string (nullable = true)\n",
      " |-- Median_Age: double (nullable = true)\n",
      " |-- Male_Population: integer (nullable = true)\n",
      " |-- Female_Population: integer (nullable = true)\n",
      " |-- Total_Population: integer (nullable = true)\n",
      " |-- Number_Veterans: integer (nullable = true)\n",
      " |-- Foregin_born: integer (nullable = true)\n",
      " |-- Average_Household: double (nullable = true)\n",
      " |-- State_Code: string (nullable = true)\n",
      " |-- Race: string (nullable = true)\n",
      " |-- Count: integer (nullable = true)\n",
      "\n",
      "+----------------+--------------+----------+---------------+-----------------+----------------+---------------+------------+-----------------+----------+--------------------+------+\n",
      "|            City|         State|Median_Age|Male_Population|Female_Population|Total_Population|Number_Veterans|Foregin_born|Average_Household|State_Code|                Race| Count|\n",
      "+----------------+--------------+----------+---------------+-----------------+----------------+---------------+------------+-----------------+----------+--------------------+------+\n",
      "|   Silver Spring|      Maryland|      33.8|          40601|            41862|           82463|           1562|       30908|              2.6|        MD|  Hispanic or Latino| 25924|\n",
      "|          Quincy| Massachusetts|      41.0|          44129|            49500|           93629|           4147|       32935|             2.39|        MA|               White| 58723|\n",
      "|          Hoover|       Alabama|      38.5|          38040|            46799|           84839|           4819|        8229|             2.58|        AL|               Asian|  4759|\n",
      "|Rancho Cucamonga|    California|      34.5|          88127|            87105|          175232|           5821|       33878|             3.18|        CA|Black or African-...| 24437|\n",
      "|          Newark|    New Jersey|      34.6|         138040|           143873|          281913|           5829|       86253|             2.73|        NJ|               White| 76402|\n",
      "|          Peoria|      Illinois|      33.1|          56229|            62432|          118661|           6634|        7517|              2.4|        IL|American Indian a...|  1343|\n",
      "|        Avondale|       Arizona|      29.1|          38712|            41971|           80683|           4815|        8355|             3.18|        AZ|Black or African-...| 11592|\n",
      "|     West Covina|    California|      39.8|          51629|            56860|          108489|           3800|       37038|             3.56|        CA|               Asian| 32716|\n",
      "|        O'Fallon|      Missouri|      36.0|          41762|            43270|           85032|           5783|        3269|             2.77|        MO|  Hispanic or Latino|  2583|\n",
      "|      High Point|North Carolina|      35.5|          51751|            58077|          109828|           5204|       16315|             2.65|        NC|               Asian| 11060|\n",
      "|          Folsom|    California|      40.9|          41051|            35317|           76368|           4187|       13234|             2.62|        CA|  Hispanic or Latino|  5822|\n",
      "|          Folsom|    California|      40.9|          41051|            35317|           76368|           4187|       13234|             2.62|        CA|American Indian a...|   998|\n",
      "|    Philadelphia|  Pennsylvania|      34.1|         741270|           826172|         1567442|          61995|      205339|             2.61|        PA|               Asian|122721|\n",
      "|         Wichita|        Kansas|      34.6|         192354|           197601|          389955|          23978|       40270|             2.56|        KS|  Hispanic or Latino| 65162|\n",
      "|         Wichita|        Kansas|      34.6|         192354|           197601|          389955|          23978|       40270|             2.56|        KS|American Indian a...|  8791|\n",
      "|      Fort Myers|       Florida|      37.3|          36850|            37165|           74015|           4312|       15365|             2.45|        FL|               White| 50169|\n",
      "|      Pittsburgh|  Pennsylvania|      32.9|         149690|           154695|          304385|          17728|       28187|             2.13|        PA|               White|208863|\n",
      "|          Laredo|         Texas|      28.8|         124305|           131484|          255789|           4921|       68427|             3.66|        TX|American Indian a...|  1253|\n",
      "|        Berkeley|    California|      32.5|          60142|            60829|          120971|           3736|       25000|             2.35|        CA|               Asian| 27089|\n",
      "|     Santa Clara|    California|      35.2|          63278|            62938|          126216|           4426|       52281|             2.75|        CA|               White| 55847|\n",
      "+----------------+--------------+----------+---------------+-----------------+----------------+---------------+------------+-----------------+----------+--------------------+------+\n",
      "only showing top 20 rows\n",
      "\n"
     ]
    }
   ],
   "source": [
    "# df_demo_1 = df_degh.filter(df_degh[\"State_Code\"] == \"ID\")\n",
    "df_demo_1 = df_degh\n",
    "df_demo_1.printSchema()\n",
    "df_demo_1.show()"
   ]
  },
  {
   "cell_type": "code",
   "execution_count": 87,
   "metadata": {},
   "outputs": [
    {
     "name": "stdout",
     "output_type": "stream",
     "text": [
      "root\n",
      " |-- State_Code: string (nullable = true)\n",
      " |-- Median_Age: double (nullable = true)\n",
      " |-- Male_Population: integer (nullable = true)\n",
      " |-- Female_Population: integer (nullable = true)\n",
      " |-- Total_Population: integer (nullable = true)\n",
      " |-- Number_Veterans: integer (nullable = true)\n",
      " |-- Foregin_born: integer (nullable = true)\n",
      " |-- Average_Household: double (nullable = true)\n",
      " |-- American Indian and Alaska Native: long (nullable = true)\n",
      " |-- Asian: long (nullable = true)\n",
      " |-- Black or African-American: long (nullable = true)\n",
      " |-- Hispanic or Latino: long (nullable = true)\n",
      " |-- White: long (nullable = true)\n",
      "\n",
      "+----------+----------+---------------+-----------------+----------------+---------------+------------+-----------------+---------------------------------+-----+-------------------------+------------------+------+\n",
      "|State_Code|Median_Age|Male_Population|Female_Population|Total_Population|Number_Veterans|Foregin_born|Average_Household|American Indian and Alaska Native|Asian|Black or African-American|Hispanic or Latino| White|\n",
      "+----------+----------+---------------+-----------------+----------------+---------------+------------+-----------------+---------------------------------+-----+-------------------------+------------------+------+\n",
      "|        GA|      26.5|          57415|            65148|          122563|           3953|       12868|             2.44|                              593| 6635|                    34583|             13159| 79931|\n",
      "|        NC|      37.9|          42100|            46407|           88507|           4973|        6630|             2.18|                              496| 1939|                     9078|              4146| 77979|\n",
      "|        CA|      39.7|          36226|            40221|           76447|           2898|       16552|             2.77|                             1068| 9182|                     5717|             30787| 46704|\n",
      "|        SD|      39.5|          36122|            37446|           73568|           7429|        2375|             2.31|                             9159| 2170|                     2217|              2971| 63983|\n",
      "|        KS|      38.2|          93355|            93156|          186511|          10461|       21407|             2.41|                             1264|17123|                    10685|             10104|161153|\n",
      "|        CA|      30.2|          34186|            32173|           66359|            416|       28696|             4.57|                             null| null|                     5060|             60895| 30591|\n",
      "|        PR|      41.4|         155408|           186829|          342237|           null|        null|             null|                             4031| 2452|                     null|            335559|  null|\n",
      "|        WA|      30.7|          41286|            43857|           85143|           4703|        8713|             2.44|                             2056| 8010|                     2325|              6966| 74183|\n",
      "|        CA|      37.0|          50405|            54909|          105314|           4048|       32435|             2.52|                             1639|14636|                     4729|             22089| 79582|\n",
      "|        TX|      42.1|          43889|            44240|           88129|           4377|       31169|             2.95|                             null|33469|                     8993|              7835| 44555|\n",
      "|        TX|      32.8|          49669|            50744|          100413|           8412|        7859|              2.5|                              548| 1658|                     6079|             42494| 86655|\n",
      "|        IL|      45.9|          37627|            39369|           76996|           3027|       14630|             2.38|                             null| 9975|                     1222|              2742| 66285|\n",
      "|        CO|      41.0|          54870|            60165|          115035|           8930|        4921|             2.49|                             2370| 2922|                     2985|             16419|107639|\n",
      "|        CT|      31.0|          58042|            65972|          124014|           3130|       28467|             2.59|                             2451| 4105|                    49939|             55959| 46529|\n",
      "|        CA|      39.3|          50966|            52558|          103524|           2730|       34957|             2.64|                              682|30573|                     2880|             23151| 62656|\n",
      "|        CA|      45.2|          34076|            31456|           65532|           3970|        8109|             2.64|                             null| 4296|                      251|             10421| 58849|\n",
      "|        OK|      32.5|          45191|            44899|           90090|           5006|        5585|             2.68|                             8051| 5349|                     4987|              6187| 78979|\n",
      "|        IL|      36.3|          71076|            78270|          149346|           8894|       18323|             2.52|                             2301| 5500|                    33122|             28923|107148|\n",
      "|        NY|      33.1|         124537|           133529|          258066|          11231|       24630|             2.27|                             4406|14518|                   101254|             29656|130078|\n",
      "|        MI|      31.4|          54333|            59777|          114110|           5327|        8371|             2.39|                             5254| 4168|                    34196|             14245| 75688|\n",
      "+----------+----------+---------------+-----------------+----------------+---------------+------------+-----------------+---------------------------------+-----+-------------------------+------------------+------+\n",
      "only showing top 20 rows\n",
      "\n"
     ]
    }
   ],
   "source": [
    "# https://databricks.com/blog/2016/02/09/reshaping-data-with-pivot-in-apache-spark.html\n",
    "df_pi = df_demo_1.groupby(\"State_Code\",\"Median_Age\",\"Male_Population\",\"Female_Population\",\"Total_Population\",\"Number_Veterans\",\"Foregin_born\",\"Average_Household\").pivot(\"Race\").sum(\"Count\")\n",
    "df_pi.printSchema()\n",
    "df_pi.show()"
   ]
  },
  {
   "cell_type": "code",
   "execution_count": 88,
   "metadata": {},
   "outputs": [
    {
     "name": "stdout",
     "output_type": "stream",
     "text": [
      "root\n",
      " |-- State_Code: string (nullable = true)\n",
      " |-- Median_Age: double (nullable = true)\n",
      " |-- Male_Population: long (nullable = true)\n",
      " |-- Female_Population: long (nullable = true)\n",
      " |-- Total_Population: long (nullable = true)\n",
      " |-- Number_Veterans: long (nullable = true)\n",
      " |-- Foregin_born: long (nullable = true)\n",
      " |-- Average_Household: double (nullable = true)\n",
      " |-- American_Indian_Alaska_Native: long (nullable = true)\n",
      " |-- Asian: long (nullable = true)\n",
      " |-- Black_African_American: long (nullable = true)\n",
      " |-- Hispanic_Latino: long (nullable = true)\n",
      " |-- White: long (nullable = true)\n",
      "\n",
      "+----------+------------------+---------------+-----------------+----------------+---------------+------------+------------------+-----------------------------+-------+----------------------+---------------+--------+\n",
      "|State_Code|        Median_Age|Male_Population|Female_Population|Total_Population|Number_Veterans|Foregin_born| Average_Household|American_Indian_Alaska_Native|  Asian|Black_African_American|Hispanic_Latino|   White|\n",
      "+----------+------------------+---------------+-----------------+----------------+---------------+------------+------------------+-----------------------------+-------+----------------------+---------------+--------+\n",
      "|        SC| 34.17999999999999|         260944|           272713|          533657|          33463|       27744|             2.472|                         3705|  13355|                175064|          29863|  343764|\n",
      "|        AZ|           35.0375|        2227455|          2272087|         4499542|         264505|      682313|          2.774375|                       129708| 229183|                296222|        1508157| 3591611|\n",
      "|        LA|            34.625|         626998|           673597|         1300595|          69771|       83419|             2.465|                         8263|  38739|                602377|          87133|  654578|\n",
      "|        MN| 35.61818181818182|         702157|           720246|         1422403|          64894|      215873|2.5009090909090914|                        25242| 151544|                216731|         103229| 1050239|\n",
      "|        NJ| 35.12499999999999|         705736|           723172|         1428908|          30195|      477028| 2.965833333333333|                        11350| 116844|                452202|         600437|  615083|\n",
      "|        DC|              33.8|         319705|           352523|          672228|          25963|       95117|              2.24|                         6130|  35072|                328786|          71129|  285402|\n",
      "|        OR|            36.125|         707443|           729066|         1436509|          78948|      185753|2.5387499999999994|                        38597| 117279|                 72150|         201498| 1235819|\n",
      "|        VA| 34.42857142857143|        1160474|          1203148|         2363622|         229766|      269254| 2.584285714285714|                        26160| 167784|                771569|         216760| 1428158|\n",
      "|        RI|              37.9|         202816|           210746|          413562|          18607|       87365|2.5225000000000004|                         6369|  24245|                 55556|         109226|  287304|\n",
      "|        KY|             35.95|         452483|           477394|          929877|          56025|       66488|             2.395|                         7772|  32667|                202749|          50478|  705790|\n",
      "|        NH|              37.8|          97771|           100427|          198198|          11005|       27199|2.4299999999999997|                         1213|  13989|                 11043|          22473|  174085|\n",
      "|        MI|37.043749999999996|        1056446|          1147014|         2203460|          99481|      249772|2.5075000000000003|                        27962| 125172|                853877|         149932| 1214721|\n",
      "|        NV|36.088888888888896|        1118645|          1122099|         2240744|         152047|      481337|2.8133333333333335|                        35390| 254593|                269791|         689798| 1531724|\n",
      "|        WI| 33.51111111111111|         688803|           724342|         1413145|          61134|      124687| 2.417777777777778|                        24720|  73982|                316896|         202117|  974433|\n",
      "|        ID| 34.76666666666667|         199103|           199780|          398883|          26380|       28126|2.7100000000000004|                         6705|  13985|                  7822|          48142|  370314|\n",
      "|        CA|  36.1824817518248|       12278281|         12544179|        24822460|         928270|     7448257| 3.100948905109489|                       401386|4543730|               2047009|        9856464|14905129|\n",
      "|        CT|           34.9625|         432157|           453424|          885581|          24953|      225866|            2.6625|                        10729|  48311|                231822|         309992|  505674|\n",
      "|        NE|             33.25|         357333|           363900|          721233|          39197|       71221|             2.435|                        10599|  34243|                 80668|          83812|  600094|\n",
      "|        MT|              35.5|          87707|            93587|          181294|          13854|        5977|             2.275|                         9684|   4165|                  3349|          10000|  169026|\n",
      "|        NC|33.785714285714285|        1466105|          1594094|         3060199|         166146|      379327|             2.475|                        35209| 178740|               1029446|         354409| 1790136|\n",
      "+----------+------------------+---------------+-----------------+----------------+---------------+------------+------------------+-----------------------------+-------+----------------------+---------------+--------+\n",
      "only showing top 20 rows\n",
      "\n"
     ]
    }
   ],
   "source": [
    "df_demo = df_pi.groupby('State_Code').agg(F.avg('Median_Age').alias('Median_Age'), \\\n",
    "                                         F.sum('Male_Population').alias('Male_Population'), \\\n",
    "                                         F.sum('Female_Population').alias('Female_Population'), \\\n",
    "                                         F.sum('Total_Population').alias('Total_Population'), \\\n",
    "                                         F.sum('Number_Veterans').alias('Number_Veterans'), \n",
    "                                         F.sum('Foregin_born').alias('Foregin_born'), \\\n",
    "                                         F.avg('Average_Household').alias('Average_Household'), \\\n",
    "                                         F.sum('American Indian and Alaska Native').alias('American_Indian_Alaska_Native'), \\\n",
    "                                         F.sum('Asian').alias('Asian'), \\\n",
    "                                         F.sum('Black or African-American').alias('Black_African_American'), \\\n",
    "                                         F.sum('Hispanic or Latino').alias('Hispanic_Latino'), \\\n",
    "                                         F.sum('White').alias('White') \\\n",
    "                                        )\n",
    "df_demo.printSchema()\n",
    "df_demo.show()"
   ]
  },
  {
   "cell_type": "code",
   "execution_count": 89,
   "metadata": {},
   "outputs": [],
   "source": [
    "df_demo.write.mode('overwrite').parquet(path='df_demo.parquet')"
   ]
  },
  {
   "cell_type": "code",
   "execution_count": null,
   "metadata": {},
   "outputs": [],
   "source": []
  },
  {
   "cell_type": "code",
   "execution_count": null,
   "metadata": {},
   "outputs": [],
   "source": []
  },
  {
   "cell_type": "markdown",
   "metadata": {
    "editable": true
   },
   "source": [
    "# Step 4: Run Pipelines to Model the Data \n",
    "## 4.1 Create the data model\n",
    "Build the data pipelines to create the data model."
   ]
  },
  {
   "cell_type": "markdown",
   "metadata": {
    "editable": true
   },
   "source": [
    "# Build fact table"
   ]
  },
  {
   "cell_type": "code",
   "execution_count": 157,
   "metadata": {},
   "outputs": [],
   "source": [
    "# Read dim parquet\n",
    "df_i94visa = spark.read.parquet('./df_i94visa.parquet/')\n",
    "df_i94port = spark.read.parquet('./df_i94port.parquet/')\n",
    "df_air = spark.read.parquet('./df_airport.parquet/')\n",
    "df_i94cit = spark.read.parquet('./df_i94cit.parquet/')\n",
    "df_i94addr = spark.read.parquet('./df_i94addr.parquet/')\n",
    "df_demo = spark.read.parquet('./df_demo.parquet/')\n",
    "df_imm = spark.read.parquet('./i94_valid.parquet/')"
   ]
  },
  {
   "cell_type": "code",
   "execution_count": 158,
   "metadata": {},
   "outputs": [],
   "source": [
    "df_i94visa.createOrReplaceTempView('i94visa')\n",
    "df_i94port.createOrReplaceTempView('i94port')\n",
    "df_air.createOrReplaceTempView('air')\n",
    "df_i94cit.createOrReplaceTempView('i94cit')\n",
    "df_i94addr.createOrReplaceTempView('i94addr')\n",
    "df_demo.createOrReplaceTempView('demo')\n",
    "df_imm.createOrReplaceTempView('i94')"
   ]
  },
  {
   "cell_type": "code",
   "execution_count": 164,
   "metadata": {},
   "outputs": [
    {
     "name": "stdout",
     "output_type": "stream",
     "text": [
      "root\n",
      " |-- cicid: integer (nullable = true)\n",
      " |-- i94yr: integer (nullable = true)\n",
      " |-- i94cit: integer (nullable = true)\n",
      " |-- i94res: integer (nullable = true)\n",
      " |-- i94port: string (nullable = true)\n",
      " |-- arrdate: integer (nullable = true)\n",
      " |-- depdate: integer (nullable = true)\n",
      " |-- i94visa: integer (nullable = true)\n",
      " |-- biryear: integer (nullable = true)\n",
      " |-- gender: string (nullable = true)\n",
      " |-- airline: string (nullable = true)\n",
      " |-- visatype: string (nullable = true)\n",
      " |-- i94mon: integer (nullable = true)\n",
      " |-- i94addr: string (nullable = true)\n",
      "\n",
      "+------+-----+------+------+-------+-------+-------+-------+-------+------+-------+--------+------+-------+\n",
      "| cicid|i94yr|i94cit|i94res|i94port|arrdate|depdate|i94visa|biryear|gender|airline|visatype|i94mon|i94addr|\n",
      "+------+-----+------+------+-------+-------+-------+-------+-------+------+-------+--------+------+-------+\n",
      "|113995| 2016|   691|   691|    MIA|  20789|  20797|      2|   1981|     M|     AV|      B2|    12|     FL|\n",
      "|133055| 2016|   689|   689|    MIA|  20789|   null|      2|   1975|     M|     AA|      B2|    12|     FL|\n",
      "|183803| 2016|   687|   687|    MIA|  20789|  20791|      2|   1969|     F|     AA|      B2|    12|     FL|\n",
      "+------+-----+------+------+-------+-------+-------+-------+-------+------+-------+--------+------+-------+\n",
      "only showing top 3 rows\n",
      "\n"
     ]
    }
   ],
   "source": [
    "df_imm.printSchema()\n",
    "df_imm.show(3)"
   ]
  },
  {
   "cell_type": "markdown",
   "metadata": {},
   "source": [
    "## create fact immigration table"
   ]
  },
  {
   "cell_type": "code",
   "execution_count": 168,
   "metadata": {},
   "outputs": [
    {
     "name": "stdout",
     "output_type": "stream",
     "text": [
      "root\n",
      " |-- fact_id: long (nullable = false)\n",
      " |-- cicid: integer (nullable = true)\n",
      " |-- visatype: string (nullable = true)\n",
      " |-- i94port: string (nullable = true)\n",
      " |-- state: string (nullable = true)\n",
      " |-- name: string (nullable = true)\n",
      " |-- i94cit: integer (nullable = true)\n",
      " |-- i94addr: string (nullable = true)\n",
      " |-- Total_Population: long (nullable = true)\n",
      " |-- Foregin_born: long (nullable = true)\n",
      " |-- American_Indian_Alaska_Native: long (nullable = true)\n",
      " |-- Asian: long (nullable = true)\n",
      " |-- Black_African_American: long (nullable = true)\n",
      " |-- Hispanic_Latino: long (nullable = true)\n",
      " |-- White: long (nullable = true)\n",
      "\n",
      "+-------+-------+--------+-------+-----+--------------------+------+--------------------+----------------+------------+-----------------------------+------+----------------------+---------------+-------+\n",
      "|fact_id|  cicid|visatype|i94port|state|                name|i94cit|             i94addr|Total_Population|Foregin_born|American_Indian_Alaska_Native| Asian|Black_African_American|Hispanic_Latino|  White|\n",
      "+-------+-------+--------+-------+-----+--------------------+------+--------------------+----------------+------------+-----------------------------+------+----------------------+---------------+-------+\n",
      "|      0| 113995|      B2|    MIA|   FL|Miami Internation...|   691|            COLOMBIA|         6796738|     1688931|                        46759|264933|               1652619|        1942022|4758144|\n",
      "|      1| 133055|      B2|    MIA|   FL|Miami Internation...|   689|              BRAZIL|         6796738|     1688931|                        46759|264933|               1652619|        1942022|4758144|\n",
      "|      2| 183803|      B2|    MIA|   FL|Miami Internation...|   687|           ARGENTINA|         6796738|     1688931|                        46759|264933|               1652619|        1942022|4758144|\n",
      "|      3| 261301|      WT|    MIA|   FL|Miami Internation...|   129|               SPAIN|         6796738|     1688931|                        46759|264933|               1652619|        1942022|4758144|\n",
      "|      4| 310182|      B2|    MIA|   FL|Miami Internation...|   584|                CUBA|         6796738|     1688931|                        46759|264933|               1652619|        1942022|4758144|\n",
      "|      5| 572346|      WT|    MIA|   FL|Miami Internation...|   104|             BELGIUM|         6796738|     1688931|                        46759|264933|               1652619|        1942022|4758144|\n",
      "|      6| 950063|      B2|    MIA|   FL|Miami Internation...|   691|            COLOMBIA|         6796738|     1688931|                        46759|264933|               1652619|        1942022|4758144|\n",
      "|      7|1129870|      B2|    MIA|   FL|Miami Internation...|   687|           ARGENTINA|         6796738|     1688931|                        46759|264933|               1652619|        1942022|4758144|\n",
      "|      8|1136214|      B2|    MIA|   FL|Miami Internation...|   687|           ARGENTINA|         6796738|     1688931|                        46759|264933|               1652619|        1942022|4758144|\n",
      "|      9|1549068|      B2|    MIA|   FL|Miami Internation...|   582|MEXICO AIR SEA, A...|         6796738|     1688931|                        46759|264933|               1652619|        1942022|4758144|\n",
      "|     10|1858354|      B2|    MIA|   FL|Miami Internation...|   687|           ARGENTINA|         6796738|     1688931|                        46759|264933|               1652619|        1942022|4758144|\n",
      "|     11|1918409|      B2|    ORL|   FL|Orlando Executive...|   245|          CHINA, PRC|         6796738|     1688931|                        46759|264933|               1652619|        1942022|4758144|\n",
      "|     12|2032964|      WT|    NEW|   NJ|   Lakefront Airport|   135|      UNITED KINGDOM|         6796738|     1688931|                        46759|264933|               1652619|        1942022|4758144|\n",
      "|     13|2081410|      B2|    NYC|   NY|                null|   213|               INDIA|         6796738|     1688931|                        46759|264933|               1652619|        1942022|4758144|\n",
      "|     14|2100738|      B2|    MIA|   FL|Miami Internation...|   528|            HONDURAS|         6796738|     1688931|                        46759|264933|               1652619|        1942022|4758144|\n",
      "|     15|2126190|      WB|    MIA|   FL|Miami Internation...|   129|               SPAIN|         6796738|     1688931|                        46759|264933|               1652619|        1942022|4758144|\n",
      "|     16|2327678|      B2|    MIA|   FL|Miami Internation...|   691|            COLOMBIA|         6796738|     1688931|                        46759|264933|               1652619|        1942022|4758144|\n",
      "|     17|2489132|      WT|    MIA|   FL|Miami Internation...|   131|         SWITZERLAND|         6796738|     1688931|                        46759|264933|               1652619|        1942022|4758144|\n",
      "|     18|2616792|      B2|    MIA|   FL|Miami Internation...|   689|              BRAZIL|         6796738|     1688931|                        46759|264933|               1652619|        1942022|4758144|\n",
      "|     19|2723261|      B1|    MIA|   FL|Miami Internation...|   575|          COSTA RICA|         6796738|     1688931|                        46759|264933|               1652619|        1942022|4758144|\n",
      "+-------+-------+--------+-------+-----+--------------------+------+--------------------+----------------+------------+-----------------------------+------+----------------------+---------------+-------+\n",
      "only showing top 20 rows\n",
      "\n"
     ]
    }
   ],
   "source": [
    "# extract columns from joined tables to create fact table\n",
    "from pyspark.sql.functions import monotonically_increasing_id\n",
    "df_fact = spark.sql(\"\"\"\n",
    "SELECT\n",
    "    monotonically_increasing_id() as fact_id,\n",
    "    cicid,\n",
    "    visatype,\n",
    "    i94port,\n",
    "    p.state,\n",
    "    air.name,\n",
    "    i94cit,\n",
    "    c.citres\n",
    "    i94addr,\n",
    "    d.Total_Population,\n",
    "    d.Foregin_born,\n",
    "    d.American_Indian_Alaska_Native,\n",
    "    d.Asian,\n",
    "    d.Black_African_American,\n",
    "    d.Hispanic_Latino,\n",
    "    d.White\n",
    "FROM i94\n",
    "LEFT JOIN i94visa as v on i94.i94visa = v.visa_id\n",
    "LEFT JOIN i94port as p on i94.i94port = p.port_id\n",
    "LEFT JOIN air on i94.i94port = air.iata_code\n",
    "LEFT JOIN i94cit as c on i94.i94cit = c.citres_id\n",
    "LEFT JOIN i94addr as a on i94.i94addr = a.addr_id\n",
    "LEFT JOIN demo as d on i94.i94addr = d.State_Code\n",
    "\"\"\")\n",
    "\n",
    "df_fact.printSchema()\n",
    "df_fact.show()"
   ]
  },
  {
   "cell_type": "code",
   "execution_count": 166,
   "metadata": {},
   "outputs": [
    {
     "data": {
      "text/plain": [
       "341607"
      ]
     },
     "execution_count": 166,
     "metadata": {},
     "output_type": "execute_result"
    }
   ],
   "source": [
    "df_fact.count()"
   ]
  },
  {
   "cell_type": "code",
   "execution_count": 169,
   "metadata": {},
   "outputs": [],
   "source": [
    "# write fact table into parquet\n",
    "df_fact.write.partitionBy(\"visatype\", \"state\").mode('overwrite').parquet(path='df_fact.parquet')"
   ]
  },
  {
   "cell_type": "markdown",
   "metadata": {
    "editable": true
   },
   "source": [
    "#### 4.2 Data Quality Checks\n",
    "Explain the data quality checks you'll perform to ensure the pipeline ran as expected. These could include:\n",
    " * Integrity constraints on the relational database (e.g., unique key, data type, etc.)\n",
    " * Unit tests for the scripts to ensure they are doing the right thing\n",
    " * Source/Count checks to ensure completeness\n",
    " \n",
    "Run Quality Checks"
   ]
  },
  {
   "cell_type": "markdown",
   "metadata": {},
   "source": [
    "# Check source/count for completeness of dimention tables and fact table"
   ]
  },
  {
   "cell_type": "code",
   "execution_count": 170,
   "metadata": {
    "editable": true
   },
   "outputs": [
    {
     "name": "stdout",
     "output_type": "stream",
     "text": [
      "checking if df_i94visa quality, not empty.\n",
      "df_i94visa's size: 3\n",
      "df_i94visa's schema, sample rows\n",
      "root\n",
      " |-- visa_id: long (nullable = true)\n",
      " |-- visa_type: string (nullable = true)\n",
      "\n",
      "+-------+---------+\n",
      "|visa_id|visa_type|\n",
      "+-------+---------+\n",
      "|      2| PLEASURE|\n",
      "|      1| BUSINESS|\n",
      "|      3|  STUDENT|\n",
      "+-------+---------+\n",
      "\n",
      "checking if df_i94port quality, not empty.\n",
      "df_i94port's size: 500\n",
      "df_i94port's schema, sample rows\n",
      "root\n",
      " |-- port_id: string (nullable = true)\n",
      " |-- city: string (nullable = true)\n",
      " |-- state: string (nullable = true)\n",
      "\n",
      "+-------+--------------------+-----+\n",
      "|port_id|                city|state|\n",
      "+-------+--------------------+-----+\n",
      "|    PER|         PERTH AMBOY|   NJ|\n",
      "|    ACY|POMONA FIELD - AT...|   NJ|\n",
      "|    ABQ|         ALBUQUERQUE|   NM|\n",
      "|    ANP|      ANTELOPE WELLS|   NM|\n",
      "|    CRL|            CARLSBAD|   NM|\n",
      "|    COL|            COLUMBUS|   NM|\n",
      "|    CDD|CRANE LAKE - ST. ...|   NM|\n",
      "|    LAS|          LAS CRUCES|   NM|\n",
      "|    RUI|             RUIDOSO|   NM|\n",
      "|    STR|        SANTA TERESA|   NM|\n",
      "|    RNO|CANNON INTL - REN...|   NV|\n",
      "|    FLX|FALLON MUNICIPAL ...|   NV|\n",
      "|    LVG|           LAS VEGAS|   NV|\n",
      "|    REN|                RENO|   NV|\n",
      "|    ALB|              ALBANY|   NY|\n",
      "|    AXB|      ALEXANDRIA BAY|   NY|\n",
      "|    BUF|             BUFFALO|   NY|\n",
      "|    CNH|      CANNON CORNERS|   NY|\n",
      "|    CAP|        CAPE VINCENT|   NY|\n",
      "|    CHM|           CHAMPLAIN|   NY|\n",
      "+-------+--------------------+-----+\n",
      "only showing top 20 rows\n",
      "\n",
      "checking if df_i94cit quality, not empty.\n",
      "df_i94cit's size: 236\n",
      "df_i94cit's schema, sample rows\n",
      "root\n",
      " |-- citres_id: long (nullable = true)\n",
      " |-- citres: string (nullable = true)\n",
      "\n",
      "+---------+--------------------+\n",
      "|citres_id|              citres|\n",
      "+---------+--------------------+\n",
      "|      582|MEXICO AIR SEA, A...|\n",
      "|      236|         AFGHANISTAN|\n",
      "|      101|             ALBANIA|\n",
      "|      316|             ALGERIA|\n",
      "|      102|             ANDORRA|\n",
      "|      324|              ANGOLA|\n",
      "|      529|            ANGUILLA|\n",
      "|      518|     ANTIGUA-BARBUDA|\n",
      "|      687|           ARGENTINA|\n",
      "|      151|             ARMENIA|\n",
      "|      532|               ARUBA|\n",
      "|      438|           AUSTRALIA|\n",
      "|      103|             AUSTRIA|\n",
      "|      152|          AZERBAIJAN|\n",
      "|      512|             BAHAMAS|\n",
      "|      298|             BAHRAIN|\n",
      "|      274|          BANGLADESH|\n",
      "|      513|            BARBADOS|\n",
      "|      104|             BELGIUM|\n",
      "|      581|              BELIZE|\n",
      "+---------+--------------------+\n",
      "only showing top 20 rows\n",
      "\n",
      "checking if df_demo quality, not empty.\n",
      "df_demo's size: 49\n",
      "df_demo's schema, sample rows\n",
      "root\n",
      " |-- State_Code: string (nullable = true)\n",
      " |-- Median_Age: double (nullable = true)\n",
      " |-- Male_Population: long (nullable = true)\n",
      " |-- Female_Population: long (nullable = true)\n",
      " |-- Total_Population: long (nullable = true)\n",
      " |-- Number_Veterans: long (nullable = true)\n",
      " |-- Foregin_born: long (nullable = true)\n",
      " |-- Average_Household: double (nullable = true)\n",
      " |-- American_Indian_Alaska_Native: long (nullable = true)\n",
      " |-- Asian: long (nullable = true)\n",
      " |-- Black_African_American: long (nullable = true)\n",
      " |-- Hispanic_Latino: long (nullable = true)\n",
      " |-- White: long (nullable = true)\n",
      "\n",
      "+----------+------------------+---------------+-----------------+----------------+---------------+------------+------------------+-----------------------------+------+----------------------+---------------+--------+\n",
      "|State_Code|        Median_Age|Male_Population|Female_Population|Total_Population|Number_Veterans|Foregin_born| Average_Household|American_Indian_Alaska_Native| Asian|Black_African_American|Hispanic_Latino|   White|\n",
      "+----------+------------------+---------------+-----------------+----------------+---------------+------------+------------------+-----------------------------+------+----------------------+---------------+--------+\n",
      "|        CO|          35.81875|        1454619|          1481050|         2935669|         187896|      337631|2.5599999999999996|                        62613|148790|                208043|         703722| 2463916|\n",
      "|        FL|39.666666666666664|        3236773|          3487375|         6796738|         388228|     1688931|2.7778723404255325|                        46759|264933|               1652619|        1942022| 4758144|\n",
      "|        CT|           34.9625|         432157|           453424|          885581|          24953|      225866|            2.6625|                        10729| 48311|                231822|         309992|  505674|\n",
      "|        NE|             33.25|         357333|           363900|          721233|          39197|       71221|             2.435|                        10599| 34243|                 80668|          83812|  600094|\n",
      "|        WA| 35.28823529411765|        1245605|          1254502|         2500107|         153126|      440962|2.5976470588235294|                        60248|346995|                187584|         324070| 1913484|\n",
      "|        ND|             34.35|          95235|            94255|          189490|          10299|       11492|             2.145|                         7142|  5576|                  8177|           5234|  172068|\n",
      "|        SC| 34.17999999999999|         260944|           272713|          533657|          33463|       27744|             2.472|                         3705| 13355|                175064|          29863|  343764|\n",
      "|        AZ|           35.0375|        2227455|          2272087|         4499542|         264505|      682313|          2.774375|                       129708|229183|                296222|        1508157| 3591611|\n",
      "|        IA|32.271428571428565|         361176|           372635|          733811|          39898|       63687|2.3757142857142854|                         9141| 43230|                 75166|          66424|  610814|\n",
      "|        NM|            37.775|         409010|           430032|          839042|          60474|       89112|             2.585|                        42428| 32658|                 35853|         417026|  651564|\n",
      "|        GA|33.809090909090905|         820321|           890711|         1711032|         104515|      147785|2.5527272727272727|                        15746| 94136|                779361|         114366|  830002|\n",
      "|        NH|              37.8|          97771|           100427|          198198|          11005|       27199|2.4299999999999997|                         1213| 13989|                 11043|          22473|  174085|\n",
      "|        DC|              33.8|         319705|           352523|          672228|          25963|       95117|              2.24|                         6130| 35072|                328786|          71129|  285402|\n",
      "|        NJ| 35.12499999999999|         705736|           723172|         1428908|          30195|      477028| 2.965833333333333|                        11350|116844|                452202|         600437|  615083|\n",
      "|        KY|             35.95|         452483|           477394|          929877|          56025|       66488|             2.395|                         7772| 32667|                202749|          50478|  705790|\n",
      "|        PA|34.114285714285714|        1117708|          1213148|         2330856|         104850|      290860|2.5028571428571427|                        31849|159308|                851200|         387081| 1245618|\n",
      "|        OR|            36.125|         707443|           729066|         1436509|          78948|      185753|2.5387499999999994|                        38597|117279|                 72150|         201498| 1235819|\n",
      "|        TX| 33.34035087719298|        7063571|          7236412|        14299983|         693501|     2942164|              2.86|                       154497|924552|               2130242|        6311431|10508923|\n",
      "|        ID| 34.76666666666667|         199103|           199780|          398883|          26380|       28126|2.7100000000000004|                         6705| 13985|                  7822|          48142|  370314|\n",
      "|        MN| 35.61818181818182|         702157|           720246|         1422403|          64894|      215873|2.5009090909090914|                        25242|151544|                216731|         103229| 1050239|\n",
      "+----------+------------------+---------------+-----------------+----------------+---------------+------------+------------------+-----------------------------+------+----------------------+---------------+--------+\n",
      "only showing top 20 rows\n",
      "\n",
      "checking if df_fact quality, not empty.\n",
      "df_fact's size: 341607\n",
      "df_fact's schema, sample rows\n",
      "root\n",
      " |-- fact_id: long (nullable = false)\n",
      " |-- cicid: integer (nullable = true)\n",
      " |-- visatype: string (nullable = true)\n",
      " |-- i94port: string (nullable = true)\n",
      " |-- state: string (nullable = true)\n",
      " |-- name: string (nullable = true)\n",
      " |-- i94cit: integer (nullable = true)\n",
      " |-- i94addr: string (nullable = true)\n",
      " |-- Total_Population: long (nullable = true)\n",
      " |-- Foregin_born: long (nullable = true)\n",
      " |-- American_Indian_Alaska_Native: long (nullable = true)\n",
      " |-- Asian: long (nullable = true)\n",
      " |-- Black_African_American: long (nullable = true)\n",
      " |-- Hispanic_Latino: long (nullable = true)\n",
      " |-- White: long (nullable = true)\n",
      "\n",
      "+-------+-------+--------+-------+-----+--------------------+------+--------------------+----------------+------------+-----------------------------+------+----------------------+---------------+-------+\n",
      "|fact_id|  cicid|visatype|i94port|state|                name|i94cit|             i94addr|Total_Population|Foregin_born|American_Indian_Alaska_Native| Asian|Black_African_American|Hispanic_Latino|  White|\n",
      "+-------+-------+--------+-------+-----+--------------------+------+--------------------+----------------+------------+-----------------------------+------+----------------------+---------------+-------+\n",
      "|      0| 113995|      B2|    MIA|   FL|Miami Internation...|   691|            COLOMBIA|         6796738|     1688931|                        46759|264933|               1652619|        1942022|4758144|\n",
      "|      1| 133055|      B2|    MIA|   FL|Miami Internation...|   689|              BRAZIL|         6796738|     1688931|                        46759|264933|               1652619|        1942022|4758144|\n",
      "|      2| 183803|      B2|    MIA|   FL|Miami Internation...|   687|           ARGENTINA|         6796738|     1688931|                        46759|264933|               1652619|        1942022|4758144|\n",
      "|      3| 261301|      WT|    MIA|   FL|Miami Internation...|   129|               SPAIN|         6796738|     1688931|                        46759|264933|               1652619|        1942022|4758144|\n",
      "|      4| 310182|      B2|    MIA|   FL|Miami Internation...|   584|                CUBA|         6796738|     1688931|                        46759|264933|               1652619|        1942022|4758144|\n",
      "|      5| 572346|      WT|    MIA|   FL|Miami Internation...|   104|             BELGIUM|         6796738|     1688931|                        46759|264933|               1652619|        1942022|4758144|\n",
      "|      6| 950063|      B2|    MIA|   FL|Miami Internation...|   691|            COLOMBIA|         6796738|     1688931|                        46759|264933|               1652619|        1942022|4758144|\n",
      "|      7|1129870|      B2|    MIA|   FL|Miami Internation...|   687|           ARGENTINA|         6796738|     1688931|                        46759|264933|               1652619|        1942022|4758144|\n",
      "|      8|1136214|      B2|    MIA|   FL|Miami Internation...|   687|           ARGENTINA|         6796738|     1688931|                        46759|264933|               1652619|        1942022|4758144|\n",
      "|      9|1549068|      B2|    MIA|   FL|Miami Internation...|   582|MEXICO AIR SEA, A...|         6796738|     1688931|                        46759|264933|               1652619|        1942022|4758144|\n",
      "|     10|1858354|      B2|    MIA|   FL|Miami Internation...|   687|           ARGENTINA|         6796738|     1688931|                        46759|264933|               1652619|        1942022|4758144|\n",
      "|     11|1918409|      B2|    ORL|   FL|Orlando Executive...|   245|          CHINA, PRC|         6796738|     1688931|                        46759|264933|               1652619|        1942022|4758144|\n",
      "|     12|2032964|      WT|    NEW|   NJ|   Lakefront Airport|   135|      UNITED KINGDOM|         6796738|     1688931|                        46759|264933|               1652619|        1942022|4758144|\n",
      "|     13|2081410|      B2|    NYC|   NY|                null|   213|               INDIA|         6796738|     1688931|                        46759|264933|               1652619|        1942022|4758144|\n",
      "|     14|2100738|      B2|    MIA|   FL|Miami Internation...|   528|            HONDURAS|         6796738|     1688931|                        46759|264933|               1652619|        1942022|4758144|\n",
      "|     15|2126190|      WB|    MIA|   FL|Miami Internation...|   129|               SPAIN|         6796738|     1688931|                        46759|264933|               1652619|        1942022|4758144|\n",
      "|     16|2327678|      B2|    MIA|   FL|Miami Internation...|   691|            COLOMBIA|         6796738|     1688931|                        46759|264933|               1652619|        1942022|4758144|\n",
      "|     17|2489132|      WT|    MIA|   FL|Miami Internation...|   131|         SWITZERLAND|         6796738|     1688931|                        46759|264933|               1652619|        1942022|4758144|\n",
      "|     18|2616792|      B2|    MIA|   FL|Miami Internation...|   689|              BRAZIL|         6796738|     1688931|                        46759|264933|               1652619|        1942022|4758144|\n",
      "|     19|2723261|      B1|    MIA|   FL|Miami Internation...|   575|          COSTA RICA|         6796738|     1688931|                        46759|264933|               1652619|        1942022|4758144|\n",
      "+-------+-------+--------+-------+-----+--------------------+------+--------------------+----------------+------------+-----------------------------+------+----------------------+---------------+-------+\n",
      "only showing top 20 rows\n",
      "\n"
     ]
    }
   ],
   "source": [
    "# Perform quality checks here\n",
    "def not_empty(df, df_name):\n",
    "    print(f\"checking if {df_name} quality, not empty.\")\n",
    "    row_cnt = df.count()\n",
    "    print(f\"{df_name}'s size: {row_cnt}\")\n",
    "    print(f\"{df_name}'s schema, sample rows\")\n",
    "    df.printSchema()\n",
    "    df.show()\n",
    "    \n",
    "## check visa table is not empty \n",
    "not_empty(df_i94visa, \"df_i94visa\")\n",
    "not_empty(df_i94port, \"df_i94port\")\n",
    "not_empty(df_i94cit, \"df_i94cit\")\n",
    "not_empty(df_demo, \"df_demo\")\n",
    "not_empty(df_fact, \"df_fact\")"
   ]
  },
  {
   "cell_type": "markdown",
   "metadata": {},
   "source": [
    "# Check dimension table has valid, range of date"
   ]
  },
  {
   "cell_type": "code",
   "execution_count": 171,
   "metadata": {},
   "outputs": [
    {
     "name": "stdout",
     "output_type": "stream",
     "text": [
      "checking if demo_airport_tbl quality, not empty.\n",
      "demo_airport_tbl's size: 53\n",
      "demo_airport_tbl's schema, sample rows\n",
      "root\n",
      " |-- state: string (nullable = true)\n",
      " |-- count(1): long (nullable = false)\n",
      "\n",
      "+-----+--------+\n",
      "|state|count(1)|\n",
      "+-----+--------+\n",
      "|   TX|      47|\n",
      "|   NY|      34|\n",
      "|   WA|      30|\n",
      "|   FL|      29|\n",
      "|   MT|      26|\n",
      "|   ME|      26|\n",
      "|   CA|      25|\n",
      "|   MN|      22|\n",
      "|   AK|      22|\n",
      "|   ND|      21|\n",
      "|   MI|      16|\n",
      "|   VT|      16|\n",
      "|   PR|      12|\n",
      "|   OH|      11|\n",
      "|   AZ|      11|\n",
      "|   NJ|       9|\n",
      "|   NC|       8|\n",
      "|   NM|       8|\n",
      "|   CT|       7|\n",
      "|   IL|       7|\n",
      "+-----+--------+\n",
      "only showing top 20 rows\n",
      "\n"
     ]
    }
   ],
   "source": [
    "# Check fact table has same state as in demographics, airports\n",
    "# FROM i94\n",
    "# LEFT JOIN i94visa as v on i94.i94visa = v.visa_id\n",
    "# LEFT JOIN i94port as p on i94.i94port = p.port_id\n",
    "# LEFT JOIN air on i94.i94port = air.iata_code\n",
    "# LEFT JOIN i94cit as c on i94.i94cit = c.citres_id\n",
    "# LEFT JOIN i94addr as a on i94.i94addr = a.addr_id\n",
    "# LEFT JOIN demo as d on i94.i94addr = d.State_Code\n",
    "## demo join port\n",
    "demo_airport_tbl = spark.sql(\"\"\"\n",
    "SELECT \n",
    "    state, count(*)\n",
    "FROM i94port \n",
    "GROUP BY 1\n",
    "ORDER BY 2 desc\n",
    "\"\"\")\n",
    "not_empty(demo_airport_tbl, \"demo_airport_tbl\")\n",
    "## demo join addr"
   ]
  },
  {
   "cell_type": "markdown",
   "metadata": {
    "editable": true
   },
   "source": [
    "#### 4.3 Data dictionary \n",
    "Create a data dictionary for your data model. For each field, provide a brief description of what the data is and where it came from. You can include the data dictionary in the notebook or in a separate file."
   ]
  },
  {
   "cell_type": "code",
   "execution_count": 189,
   "metadata": {},
   "outputs": [
    {
     "name": "stdout",
     "output_type": "stream",
     "text": [
      "root\n",
      " |-- visa_id: long (nullable = true)\n",
      " |-- visa_type: string (nullable = true)\n",
      "\n",
      "+-------+---------+\n",
      "|visa_id|visa_type|\n",
      "+-------+---------+\n",
      "|      2| PLEASURE|\n",
      "|      1| BUSINESS|\n",
      "|      3|  STUDENT|\n",
      "+-------+---------+\n",
      "\n"
     ]
    }
   ],
   "source": [
    "df_i94visa.printSchema()\n",
    "df_i94visa.show()"
   ]
  },
  {
   "cell_type": "code",
   "execution_count": 190,
   "metadata": {},
   "outputs": [
    {
     "name": "stdout",
     "output_type": "stream",
     "text": [
      "root\n",
      " |-- port_id: string (nullable = true)\n",
      " |-- city: string (nullable = true)\n",
      " |-- state: string (nullable = true)\n",
      "\n",
      "+-------+--------------------+-----+\n",
      "|port_id|                city|state|\n",
      "+-------+--------------------+-----+\n",
      "|    PER|         PERTH AMBOY|   NJ|\n",
      "|    ACY|POMONA FIELD - AT...|   NJ|\n",
      "|    ABQ|         ALBUQUERQUE|   NM|\n",
      "|    ANP|      ANTELOPE WELLS|   NM|\n",
      "|    CRL|            CARLSBAD|   NM|\n",
      "|    COL|            COLUMBUS|   NM|\n",
      "|    CDD|CRANE LAKE - ST. ...|   NM|\n",
      "|    LAS|          LAS CRUCES|   NM|\n",
      "|    RUI|             RUIDOSO|   NM|\n",
      "|    STR|        SANTA TERESA|   NM|\n",
      "|    RNO|CANNON INTL - REN...|   NV|\n",
      "|    FLX|FALLON MUNICIPAL ...|   NV|\n",
      "|    LVG|           LAS VEGAS|   NV|\n",
      "|    REN|                RENO|   NV|\n",
      "|    ALB|              ALBANY|   NY|\n",
      "|    AXB|      ALEXANDRIA BAY|   NY|\n",
      "|    BUF|             BUFFALO|   NY|\n",
      "|    CNH|      CANNON CORNERS|   NY|\n",
      "|    CAP|        CAPE VINCENT|   NY|\n",
      "|    CHM|           CHAMPLAIN|   NY|\n",
      "+-------+--------------------+-----+\n",
      "only showing top 20 rows\n",
      "\n"
     ]
    }
   ],
   "source": [
    "df_i94port.printSchema()\n",
    "df_i94port.show()"
   ]
  },
  {
   "cell_type": "code",
   "execution_count": 194,
   "metadata": {},
   "outputs": [
    {
     "name": "stdout",
     "output_type": "stream",
     "text": [
      "root\n",
      " |-- type: string (nullable = true)\n",
      " |-- name: string (nullable = true)\n",
      " |-- iso_region: string (nullable = true)\n",
      " |-- iata_code: string (nullable = true)\n",
      " |-- latitude: string (nullable = true)\n",
      " |-- longitude: string (nullable = true)\n",
      "\n",
      "+-------------+--------------------+----------+---------+------------------+-------------------+\n",
      "|         type|                name|iso_region|iata_code|          latitude|          longitude|\n",
      "+-------------+--------------------+----------+---------+------------------+-------------------+\n",
      "|small_airport|Ocean Reef Club A...|     US-FL|      OCA|  -80.274803161621|    25.325399398804|\n",
      "|small_airport|Pilot Station Air...|     US-AK|      PQS|       -162.899994|          61.934601|\n",
      "|small_airport|Crested Butte Air...|     US-CO|      CSE|       -106.928341|          38.851918|\n",
      "|small_airport|   LBJ Ranch Airport|     US-TX|      JCY|-98.62249755859999| 30.251800537100003|\n",
      "|small_airport|Metropolitan Airport|     US-MA|      PMX|-72.31140136719999| 42.223300933800004|\n",
      "|small_airport| Nunapitchuk Airport|     US-AK|      NUP|       -162.440454|          60.905591|\n",
      "|small_airport|     Icy Bay Airport|     US-AK|      ICY|    -141.662002563|        59.96900177|\n",
      "|small_airport|Kalakaket Creek A...|     US-AK|      KKK|    -156.820392609|      64.4166256967|\n",
      "|small_airport|Dunsmuir Muni-Mot...|     US-CA|      MHS|       -122.272003|          41.263199|\n",
      "|small_airport|Grand Canyon Bar ...|     US-AZ|      GCT|       -113.231003|          36.259701|\n",
      "|small_airport|Lime Village Airport|     US-AK|      LVD|    -155.440002441|      61.3591003418|\n",
      "|small_airport|   Hog River Airport|     US-AK|      HGZ|      -155.6690063|         66.2161026|\n",
      "|small_airport|      Ed-Air Airport|     US-IN|      OTN|    -87.4997024536|       38.851398468|\n",
      "|small_airport|      Telida Airport|     US-AK|      TLF|  -153.26899719238|    63.393901824951|\n",
      "|small_airport|      Eagle Air Park|     US-TX|      BZT|  -95.579696655273|    28.982200622559|\n",
      "|small_airport|Blakely Island Ai...|     US-WA|      BYW|    -122.825996399| 48.578998565700005|\n",
      "|small_airport| Drift River Airport|     US-AK|      DRF|    -152.162002563| 60.588901519800004|\n",
      "|small_airport|Rinkenberger Rest...|     US-IL|      BDF|-89.61569976810001| 41.230899810800004|\n",
      "|small_airport|Roy Otten Memoria...|     US-MO|      VRS|  -92.875198364258|    38.427799224854|\n",
      "|small_airport|  Atmautluak Airport|     US-AK|      ATT|       -162.272995|          60.866699|\n",
      "+-------------+--------------------+----------+---------+------------------+-------------------+\n",
      "only showing top 20 rows\n",
      "\n"
     ]
    }
   ],
   "source": [
    "df_air.printSchema()\n",
    "df_air.show()"
   ]
  },
  {
   "cell_type": "code",
   "execution_count": 195,
   "metadata": {},
   "outputs": [
    {
     "name": "stdout",
     "output_type": "stream",
     "text": [
      "root\n",
      " |-- citres_id: long (nullable = true)\n",
      " |-- citres: string (nullable = true)\n",
      "\n",
      "+---------+--------------------+\n",
      "|citres_id|              citres|\n",
      "+---------+--------------------+\n",
      "|      582|MEXICO AIR SEA, A...|\n",
      "|      236|         AFGHANISTAN|\n",
      "|      101|             ALBANIA|\n",
      "|      316|             ALGERIA|\n",
      "|      102|             ANDORRA|\n",
      "|      324|              ANGOLA|\n",
      "|      529|            ANGUILLA|\n",
      "|      518|     ANTIGUA-BARBUDA|\n",
      "|      687|           ARGENTINA|\n",
      "|      151|             ARMENIA|\n",
      "|      532|               ARUBA|\n",
      "|      438|           AUSTRALIA|\n",
      "|      103|             AUSTRIA|\n",
      "|      152|          AZERBAIJAN|\n",
      "|      512|             BAHAMAS|\n",
      "|      298|             BAHRAIN|\n",
      "|      274|          BANGLADESH|\n",
      "|      513|            BARBADOS|\n",
      "|      104|             BELGIUM|\n",
      "|      581|              BELIZE|\n",
      "+---------+--------------------+\n",
      "only showing top 20 rows\n",
      "\n"
     ]
    }
   ],
   "source": [
    "df_i94cit.printSchema()\n",
    "df_i94cit.show()"
   ]
  },
  {
   "cell_type": "code",
   "execution_count": 177,
   "metadata": {},
   "outputs": [
    {
     "name": "stdout",
     "output_type": "stream",
     "text": [
      "root\n",
      " |-- addr_id: string (nullable = true)\n",
      " |-- state: string (nullable = true)\n",
      "\n",
      "+-------+---------------+\n",
      "|addr_id|          state|\n",
      "+-------+---------------+\n",
      "|     PA|   PENNSYLVANIA|\n",
      "|     PR|    PUERTO RICO|\n",
      "|     RI|   RHODE ISLAND|\n",
      "|     SC|    S. CAROLINA|\n",
      "|     SD|      S. DAKOTA|\n",
      "|     TN|      TENNESSEE|\n",
      "|     TX|          TEXAS|\n",
      "|     UT|           UTAH|\n",
      "|     VT|        VERMONT|\n",
      "|     VI| VIRGIN ISLANDS|\n",
      "|     VA|       VIRGINIA|\n",
      "|     WV|    W. VIRGINIA|\n",
      "|     WA|     WASHINGTON|\n",
      "|     WI|      WISCONSON|\n",
      "|     WY|        WYOMING|\n",
      "|     99|ALL OTHER CODES|\n",
      "|     ID|          IDAHO|\n",
      "|     IL|       ILLINOIS|\n",
      "|     IN|        INDIANA|\n",
      "|     IA|           IOWA|\n",
      "+-------+---------------+\n",
      "only showing top 20 rows\n",
      "\n"
     ]
    }
   ],
   "source": [
    "df_i94addr.printSchema()\n",
    "df_i94addr.show()"
   ]
  },
  {
   "cell_type": "code",
   "execution_count": 178,
   "metadata": {},
   "outputs": [
    {
     "name": "stdout",
     "output_type": "stream",
     "text": [
      "root\n",
      " |-- State_Code: string (nullable = true)\n",
      " |-- Median_Age: double (nullable = true)\n",
      " |-- Male_Population: long (nullable = true)\n",
      " |-- Female_Population: long (nullable = true)\n",
      " |-- Total_Population: long (nullable = true)\n",
      " |-- Number_Veterans: long (nullable = true)\n",
      " |-- Foregin_born: long (nullable = true)\n",
      " |-- Average_Household: double (nullable = true)\n",
      " |-- American_Indian_Alaska_Native: long (nullable = true)\n",
      " |-- Asian: long (nullable = true)\n",
      " |-- Black_African_American: long (nullable = true)\n",
      " |-- Hispanic_Latino: long (nullable = true)\n",
      " |-- White: long (nullable = true)\n",
      "\n",
      "+----------+------------------+---------------+-----------------+----------------+---------------+------------+------------------+-----------------------------+------+----------------------+---------------+--------+\n",
      "|State_Code|        Median_Age|Male_Population|Female_Population|Total_Population|Number_Veterans|Foregin_born| Average_Household|American_Indian_Alaska_Native| Asian|Black_African_American|Hispanic_Latino|   White|\n",
      "+----------+------------------+---------------+-----------------+----------------+---------------+------------+------------------+-----------------------------+------+----------------------+---------------+--------+\n",
      "|        CO|          35.81875|        1454619|          1481050|         2935669|         187896|      337631|2.5599999999999996|                        62613|148790|                208043|         703722| 2463916|\n",
      "|        FL|39.666666666666664|        3236773|          3487375|         6796738|         388228|     1688931|2.7778723404255325|                        46759|264933|               1652619|        1942022| 4758144|\n",
      "|        CT|           34.9625|         432157|           453424|          885581|          24953|      225866|            2.6625|                        10729| 48311|                231822|         309992|  505674|\n",
      "|        NE|             33.25|         357333|           363900|          721233|          39197|       71221|             2.435|                        10599| 34243|                 80668|          83812|  600094|\n",
      "|        WA| 35.28823529411765|        1245605|          1254502|         2500107|         153126|      440962|2.5976470588235294|                        60248|346995|                187584|         324070| 1913484|\n",
      "|        ND|             34.35|          95235|            94255|          189490|          10299|       11492|             2.145|                         7142|  5576|                  8177|           5234|  172068|\n",
      "|        SC| 34.17999999999999|         260944|           272713|          533657|          33463|       27744|             2.472|                         3705| 13355|                175064|          29863|  343764|\n",
      "|        AZ|           35.0375|        2227455|          2272087|         4499542|         264505|      682313|          2.774375|                       129708|229183|                296222|        1508157| 3591611|\n",
      "|        IA|32.271428571428565|         361176|           372635|          733811|          39898|       63687|2.3757142857142854|                         9141| 43230|                 75166|          66424|  610814|\n",
      "|        NM|            37.775|         409010|           430032|          839042|          60474|       89112|             2.585|                        42428| 32658|                 35853|         417026|  651564|\n",
      "|        GA|33.809090909090905|         820321|           890711|         1711032|         104515|      147785|2.5527272727272727|                        15746| 94136|                779361|         114366|  830002|\n",
      "|        NH|              37.8|          97771|           100427|          198198|          11005|       27199|2.4299999999999997|                         1213| 13989|                 11043|          22473|  174085|\n",
      "|        DC|              33.8|         319705|           352523|          672228|          25963|       95117|              2.24|                         6130| 35072|                328786|          71129|  285402|\n",
      "|        NJ| 35.12499999999999|         705736|           723172|         1428908|          30195|      477028| 2.965833333333333|                        11350|116844|                452202|         600437|  615083|\n",
      "|        KY|             35.95|         452483|           477394|          929877|          56025|       66488|             2.395|                         7772| 32667|                202749|          50478|  705790|\n",
      "|        PA|34.114285714285714|        1117708|          1213148|         2330856|         104850|      290860|2.5028571428571427|                        31849|159308|                851200|         387081| 1245618|\n",
      "|        OR|            36.125|         707443|           729066|         1436509|          78948|      185753|2.5387499999999994|                        38597|117279|                 72150|         201498| 1235819|\n",
      "|        TX| 33.34035087719298|        7063571|          7236412|        14299983|         693501|     2942164|              2.86|                       154497|924552|               2130242|        6311431|10508923|\n",
      "|        ID| 34.76666666666667|         199103|           199780|          398883|          26380|       28126|2.7100000000000004|                         6705| 13985|                  7822|          48142|  370314|\n",
      "|        MN| 35.61818181818182|         702157|           720246|         1422403|          64894|      215873|2.5009090909090914|                        25242|151544|                216731|         103229| 1050239|\n",
      "+----------+------------------+---------------+-----------------+----------------+---------------+------------+------------------+-----------------------------+------+----------------------+---------------+--------+\n",
      "only showing top 20 rows\n",
      "\n"
     ]
    }
   ],
   "source": [
    "df_demo.printSchema()\n",
    "df_demo.show()"
   ]
  },
  {
   "cell_type": "code",
   "execution_count": 179,
   "metadata": {},
   "outputs": [
    {
     "name": "stdout",
     "output_type": "stream",
     "text": [
      "root\n",
      " |-- fact_id: long (nullable = false)\n",
      " |-- cicid: integer (nullable = true)\n",
      " |-- visatype: string (nullable = true)\n",
      " |-- i94port: string (nullable = true)\n",
      " |-- state: string (nullable = true)\n",
      " |-- name: string (nullable = true)\n",
      " |-- i94cit: integer (nullable = true)\n",
      " |-- i94addr: string (nullable = true)\n",
      " |-- Total_Population: long (nullable = true)\n",
      " |-- Foregin_born: long (nullable = true)\n",
      " |-- American_Indian_Alaska_Native: long (nullable = true)\n",
      " |-- Asian: long (nullable = true)\n",
      " |-- Black_African_American: long (nullable = true)\n",
      " |-- Hispanic_Latino: long (nullable = true)\n",
      " |-- White: long (nullable = true)\n",
      "\n",
      "+-------+-------+--------+-------+-----+--------------------+------+--------------------+----------------+------------+-----------------------------+------+----------------------+---------------+-------+\n",
      "|fact_id|  cicid|visatype|i94port|state|                name|i94cit|             i94addr|Total_Population|Foregin_born|American_Indian_Alaska_Native| Asian|Black_African_American|Hispanic_Latino|  White|\n",
      "+-------+-------+--------+-------+-----+--------------------+------+--------------------+----------------+------------+-----------------------------+------+----------------------+---------------+-------+\n",
      "|      0| 113995|      B2|    MIA|   FL|Miami Internation...|   691|            COLOMBIA|         6796738|     1688931|                        46759|264933|               1652619|        1942022|4758144|\n",
      "|      1| 133055|      B2|    MIA|   FL|Miami Internation...|   689|              BRAZIL|         6796738|     1688931|                        46759|264933|               1652619|        1942022|4758144|\n",
      "|      2| 183803|      B2|    MIA|   FL|Miami Internation...|   687|           ARGENTINA|         6796738|     1688931|                        46759|264933|               1652619|        1942022|4758144|\n",
      "|      3| 261301|      WT|    MIA|   FL|Miami Internation...|   129|               SPAIN|         6796738|     1688931|                        46759|264933|               1652619|        1942022|4758144|\n",
      "|      4| 310182|      B2|    MIA|   FL|Miami Internation...|   584|                CUBA|         6796738|     1688931|                        46759|264933|               1652619|        1942022|4758144|\n",
      "|      5| 572346|      WT|    MIA|   FL|Miami Internation...|   104|             BELGIUM|         6796738|     1688931|                        46759|264933|               1652619|        1942022|4758144|\n",
      "|      6| 950063|      B2|    MIA|   FL|Miami Internation...|   691|            COLOMBIA|         6796738|     1688931|                        46759|264933|               1652619|        1942022|4758144|\n",
      "|      7|1129870|      B2|    MIA|   FL|Miami Internation...|   687|           ARGENTINA|         6796738|     1688931|                        46759|264933|               1652619|        1942022|4758144|\n",
      "|      8|1136214|      B2|    MIA|   FL|Miami Internation...|   687|           ARGENTINA|         6796738|     1688931|                        46759|264933|               1652619|        1942022|4758144|\n",
      "|      9|1549068|      B2|    MIA|   FL|Miami Internation...|   582|MEXICO AIR SEA, A...|         6796738|     1688931|                        46759|264933|               1652619|        1942022|4758144|\n",
      "|     10|1858354|      B2|    MIA|   FL|Miami Internation...|   687|           ARGENTINA|         6796738|     1688931|                        46759|264933|               1652619|        1942022|4758144|\n",
      "|     11|1918409|      B2|    ORL|   FL|Orlando Executive...|   245|          CHINA, PRC|         6796738|     1688931|                        46759|264933|               1652619|        1942022|4758144|\n",
      "|     12|2032964|      WT|    NEW|   NJ|   Lakefront Airport|   135|      UNITED KINGDOM|         6796738|     1688931|                        46759|264933|               1652619|        1942022|4758144|\n",
      "|     13|2081410|      B2|    NYC|   NY|                null|   213|               INDIA|         6796738|     1688931|                        46759|264933|               1652619|        1942022|4758144|\n",
      "|     14|2100738|      B2|    MIA|   FL|Miami Internation...|   528|            HONDURAS|         6796738|     1688931|                        46759|264933|               1652619|        1942022|4758144|\n",
      "|     15|2126190|      WB|    MIA|   FL|Miami Internation...|   129|               SPAIN|         6796738|     1688931|                        46759|264933|               1652619|        1942022|4758144|\n",
      "|     16|2327678|      B2|    MIA|   FL|Miami Internation...|   691|            COLOMBIA|         6796738|     1688931|                        46759|264933|               1652619|        1942022|4758144|\n",
      "|     17|2489132|      WT|    MIA|   FL|Miami Internation...|   131|         SWITZERLAND|         6796738|     1688931|                        46759|264933|               1652619|        1942022|4758144|\n",
      "|     18|2616792|      B2|    MIA|   FL|Miami Internation...|   689|              BRAZIL|         6796738|     1688931|                        46759|264933|               1652619|        1942022|4758144|\n",
      "|     19|2723261|      B1|    MIA|   FL|Miami Internation...|   575|          COSTA RICA|         6796738|     1688931|                        46759|264933|               1652619|        1942022|4758144|\n",
      "+-------+-------+--------+-------+-----+--------------------+------+--------------------+----------------+------------+-----------------------------+------+----------------------+---------------+-------+\n",
      "only showing top 20 rows\n",
      "\n"
     ]
    }
   ],
   "source": [
    "df_fact.printSchema()\n",
    "df_fact.show()"
   ]
  },
  {
   "cell_type": "code",
   "execution_count": 180,
   "metadata": {},
   "outputs": [],
   "source": [
    "# Find top states that most Students/Worker visit"
   ]
  },
  {
   "cell_type": "code",
   "execution_count": 182,
   "metadata": {},
   "outputs": [
    {
     "data": {
      "text/plain": [
       "[Row(visatype='F2'),\n",
       " Row(visatype='GMB'),\n",
       " Row(visatype='B2'),\n",
       " Row(visatype='F1'),\n",
       " Row(visatype='I1'),\n",
       " Row(visatype='WB'),\n",
       " Row(visatype='M1'),\n",
       " Row(visatype='B1'),\n",
       " Row(visatype='WT'),\n",
       " Row(visatype='M2'),\n",
       " Row(visatype='CP'),\n",
       " Row(visatype='GMT'),\n",
       " Row(visatype='E1'),\n",
       " Row(visatype='I'),\n",
       " Row(visatype='E2')]"
      ]
     },
     "execution_count": 182,
     "metadata": {},
     "output_type": "execute_result"
    }
   ],
   "source": [
    "df_fact.select('visatype').distinct().collect()"
   ]
  },
  {
   "cell_type": "code",
   "execution_count": 184,
   "metadata": {},
   "outputs": [
    {
     "name": "stdout",
     "output_type": "stream",
     "text": [
      "root\n",
      " |-- visatype: string (nullable = true)\n",
      " |-- count(visatype): long (nullable = false)\n",
      "\n",
      "+--------+---------------+\n",
      "|visatype|count(visatype)|\n",
      "+--------+---------------+\n",
      "|      B2|         140047|\n",
      "|      WT|         136919|\n",
      "|      WB|          23439|\n",
      "|      B1|          20529|\n",
      "|      F1|          12950|\n",
      "|     GMT|           3061|\n",
      "|      E2|           2013|\n",
      "|      CP|           1299|\n",
      "|      F2|            539|\n",
      "|      E1|            327|\n",
      "|       I|            316|\n",
      "|      M1|            125|\n",
      "|      I1|             29|\n",
      "|     GMB|              8|\n",
      "|      M2|              6|\n",
      "+--------+---------------+\n",
      "\n"
     ]
    }
   ],
   "source": [
    "df_fact.createOrReplaceTempView(\"fact_tbl\")\n",
    "top_states_fo_visa = spark.sql(\"\"\"\n",
    "select \n",
    "    visatype, COUNT(visatype)\n",
    "from fact_tbl\n",
    "group by 1\n",
    "order by 2 desc\n",
    "\"\"\")\n",
    "top_states_fo_visa.printSchema()\n",
    "top_states_fo_visa.show()"
   ]
  },
  {
   "cell_type": "code",
   "execution_count": 188,
   "metadata": {},
   "outputs": [
    {
     "name": "stdout",
     "output_type": "stream",
     "text": [
      "root\n",
      " |-- visatype: string (nullable = true)\n",
      " |-- state: string (nullable = true)\n",
      " |-- count(visatype): long (nullable = false)\n",
      "\n",
      "+--------+-----+---------------+\n",
      "|visatype|state|count(visatype)|\n",
      "+--------+-----+---------------+\n",
      "|      F1|   CA|           2956|\n",
      "|      F1|   NY|           2321|\n",
      "|      F1|   IL|           1494|\n",
      "|      F1|   TX|           1092|\n",
      "|      F1|   FL|            934|\n",
      "|      F1|   MA|            816|\n",
      "|      F1| null|            772|\n",
      "|      F1|   NJ|            632|\n",
      "|      F1|   WA|            538|\n",
      "|      F1|   GA|            386|\n",
      "|      F1|   MI|            339|\n",
      "|      F1|   PA|            170|\n",
      "|      F1|   NC|             95|\n",
      "|      F1|   MN|             81|\n",
      "|      F1|   AZ|             64|\n",
      "|      F1|   HI|             61|\n",
      "|      F1|   CO|             52|\n",
      "|      F1|   OR|             28|\n",
      "|      F1|   MD|             22|\n",
      "|      F1|   PR|             21|\n",
      "+--------+-----+---------------+\n",
      "only showing top 20 rows\n",
      "\n"
     ]
    }
   ],
   "source": [
    "top_states_f1_visa = spark.sql(\"\"\"\n",
    "select \n",
    "    visatype, state, COUNT(visatype)\n",
    "from fact_tbl\n",
    "where visatype == 'F1'\n",
    "group by 1,2\n",
    "order by 3 desc\n",
    "\"\"\")\n",
    "top_states_f1_visa.printSchema()\n",
    "top_states_f1_visa.show()"
   ]
  },
  {
   "cell_type": "markdown",
   "metadata": {
    "editable": true
   },
   "source": [
    "# Step 5: Complete Project Write Up\n",
    "## Clearly state the rationale for the choice of tools and technologies for the project.\n",
    "* In this project, I'm using AWS EMR & Apache Spark to create data lake from i94, airport, us-cities, and demographics datasets by building Star schema with dimension and fact tables.\n",
    "* The reason to pick AWS EMR is that it's super easy to horizontal and vertical scale by selecting better instance type, and scale to more nodes. Given the immigration data is 60GB for 1 year. It requires scalable solution. Given data lake solution, it's easy to meet ad-doc query from different data users to achieve their business decisions.\n",
    "* Since the data is not alwways update, it's easy to store data in S3 to persist with low cost.\n",
    "\n",
    "## Propose how often the data should be updated and why.\n",
    "* Since we got immigration everyday, this dataset will be update per day. It'll be more efficient to have step function or airflow pipeline solution to do data lineage/clean/ELT. \n",
    "* So as to get dimension tables update, and persist in parquet, and cp to S3 for persist, and run ELT with spark to update fact table. Therefore end users can get updated results from new queries.\n",
    "    \n",
    "## Write a description of how you would approach the problem differently under the following scenarios:\n",
    "* The data was increased by 100x.\n",
    " * Since S3 is easy to scale and unlimited space, there's no limit on data persist.\n",
    " * To catup processing speed, we can do stream processing which is supported by Spark.\n",
    " * To handle peek data ingestion, we can scale EMR on-demand to handle.\n",
    "\n",
    "* The data populates a dashboard that must be updated on a daily basis by 7am every day.\n",
    " * Use AWS Step functions or Airflow pipeline to do schedule/cron jobs.\n",
    "\n",
    "* The database needed to be accessed by 100+ people.\n",
    " * Given the fact table is stored in S3, 100x end user should not encounter throughput bottleneck."
   ]
  },
  {
   "cell_type": "code",
   "execution_count": null,
   "metadata": {},
   "outputs": [],
   "source": []
  }
 ],
 "metadata": {
  "kernelspec": {
   "display_name": "Python 3",
   "language": "python",
   "name": "python3"
  },
  "language_info": {
   "codemirror_mode": {
    "name": "ipython",
    "version": 3
   },
   "file_extension": ".py",
   "mimetype": "text/x-python",
   "name": "python",
   "nbconvert_exporter": "python",
   "pygments_lexer": "ipython3",
   "version": "3.8.3"
  }
 },
 "nbformat": 4,
 "nbformat_minor": 4
}